{
 "cells": [
  {
   "cell_type": "markdown",
   "id": "e6eddaf181eacfd3",
   "metadata": {},
   "source": [
    "# Climatology Functions"
   ]
  },
  {
   "cell_type": "markdown",
   "id": "e6be6389ef38b00b",
   "metadata": {},
   "source": [
    "```{warning} This is not meant to be a standalone notebook.\n",
    "This notebook is part of the process we have for adding entries to the NCL Index and is not meant to be used as tutorial or example code.\n",
    "```"
   ]
  },
  {
   "cell_type": "markdown",
   "id": "536ffded4355d9c6",
   "metadata": {},
   "source": [
    "## Functions covered\n",
    "\n",
    "- [calcDayAnomTLL](https://www.ncl.ucar.edu/Document/Functions/Contributed/calcDayAnomTLL.shtml)\n",
    "- [calcMonAnomTLL](https://www.ncl.ucar.edu/Document/Functions/Contributed/calcMonAnomTLL.shtml)\n",
    "- [clmDayTLL](https://www.ncl.ucar.edu/Document/Functions/Contributed/clmDayTLL.shtml)\n",
    "- [clmMonTLL](https://www.ncl.ucar.edu/Document/Functions/Contributed/clmMonTLL.shtml)\n",
    "- [month_to_season](https://www.ncl.ucar.edu/Document/Functions/Contributed/month_to_season.shtml)\n",
    "- [rmMonAnnCycTLL](https://www.ncl.ucar.edu/Document/Functions/Contributed/rmMonAnnCycTLL.shtml)\n",
    "- [stdMonTLL](https://www.ncl.ucar.edu/Document/Functions/Contributed/stdMonTLL.shtml)"
   ]
  },
  {
   "cell_type": "markdown",
   "id": "4a129c971c083695",
   "metadata": {},
   "source": [
    "## NCL code"
   ]
  },
  {
   "cell_type": "markdown",
   "id": "3d70616a8934f0fb",
   "metadata": {},
   "source": [
    "```{literalinclude} ../ncl_raw/climatology.ncl\n",
    "\n",
    "```"
   ]
  },
  {
   "cell_type": "markdown",
   "id": "d918dec004b6456b",
   "metadata": {},
   "source": [
    "## Python Functionality"
   ]
  },
  {
   "cell_type": "code",
   "execution_count": null,
   "id": "47cd64dda7652b64",
   "metadata": {},
   "outputs": [],
   "source": [
    "import math\n",
    "import xarray as xr\n",
    "import geocat.datafiles as gdf\n",
    "from geocat.comp import month_to_season\n",
    "\n",
    "results = {}\n",
    "\n",
    "ds_m = xr.open_dataset(\n",
    "    gdf.get(\"applications_files/inputs/CMIP6_sea_ice_monthly_subset.nc\")\n",
    ")\n",
    "ds_d = xr.open_dataset(\n",
    "    gdf.get(\"applications_files/inputs/CMIP6_sea_ice_daily_subset.nc\")\n",
    ")\n",
    "\n",
    "# calcDayAnomTLL\n",
    "aice = ds_d.aice_d[:, 10, 10]\n",
    "DayTLL = aice.groupby(aice.time.dt.dayofyear)\n",
    "clmDayTLL = DayTLL.mean(dim=\"time\")\n",
    "calcDayAnomTLL = DayTLL - clmDayTLL\n",
    "results[\"calcDayAnomTLL\"] = calcDayAnomTLL.item(0)\n",
    "\n",
    "# calcMonAnomTLL\n",
    "aice = ds_m.aice[:, 10, 10]\n",
    "MonTLL = aice.groupby(aice.time.dt.month)\n",
    "clmMonTLL = MonTLL.mean(dim=\"time\")\n",
    "calcMonAnomTLL = MonTLL - clmMonTLL\n",
    "results[\"calcMonAnomTLL\"] = calcMonAnomTLL.item(0)\n",
    "\n",
    "# clmDayTLL\n",
    "aice = ds_d.aice_d[:, 10, 10]\n",
    "DayTLL = aice.groupby(aice.time.dt.dayofyear)\n",
    "clmDayTLL = DayTLL.mean(dim=\"time\")\n",
    "results[\"clmDayTLL\"] = clmDayTLL.item(0)\n",
    "\n",
    "# clmMonTLL\n",
    "aice = ds_m.aice[:, 10, 10]\n",
    "MonTLL = aice.groupby(aice.time.dt.month)\n",
    "clmMonTLL = MonTLL.mean(dim=\"time\")\n",
    "results[\"clmMonTLL\"] = clmMonTLL.item(0)\n",
    "\n",
    "# month_to_season\n",
    "aice = ds_m.aice[:, 10, 10]\n",
    "mon_to_season = month_to_season(aice, \"ASO\")\n",
    "results[\"month_to_season\"] = mon_to_season.item(0)\n",
    "\n",
    "# rmMonAnnCycTLL\n",
    "aice = ds_m.aice[:, 10, 10]\n",
    "MonTLL = aice.groupby(aice.time.dt.month)\n",
    "clmMonTLL = MonTLL.mean(dim=\"time\")\n",
    "rmMonAnnCycTLL = MonTLL - clmMonTLL\n",
    "results[\"rmMonAnnCycTLL\"] = rmMonAnnCycTLL.item(0)\n",
    "\n",
    "# stdMonTLL\n",
    "aice = ds_m.aice[:, 10, 10]\n",
    "MonTLL = aice.groupby(aice.time.dt.month)\n",
    "stdMonTLL = MonTLL.std(ddof=1)\n",
    "results[\"stdMonTLL\"] = stdMonTLL.item(0)"
   ]
  },
  {
   "cell_type": "markdown",
   "id": "3237a0bffc6827fc",
   "metadata": {},
   "source": [
    "## Comparison"
   ]
  },
  {
   "cell_type": "code",
   "execution_count": null,
   "id": "1fe6a51d83a36148",
   "metadata": {},
   "outputs": [],
   "source": [
    "# dictionary of climatology functions results\n",
    "ncl_results = {\n",
    "    \"calcDayAnomTLL\": -0.02774364,\n",
    "    \"calcMonAnomTLL\": 0.003319263,\n",
    "    \"clmDayTLL\": 0.7408184,\n",
    "    \"clmMonTLL\": 0.8063018,\n",
    "    \"month_to_season\": 0.9931215,\n",
    "    \"rmMonAnnCycTLL\": 0.003319263,\n",
    "    \"stdMonTLL\": 0.07392025,\n",
    "}\n",
    "\n",
    "for c in ncl_results.keys() & results.keys():\n",
    "    print(f\"{c}: \\n\\tpython:\\t\\t{results[c]}\\n\\tncl:\\t\\t{ncl_results[c]}\\n\")\n",
    "    assert math.isclose(ncl_results[c], results[c], rel_tol=1e-06, abs_tol=1e-06)"
   ]
  },
  {
   "cell_type": "markdown",
   "id": "bccc1c62-a8ee-4681-83a5-e89f00f49de3",
   "metadata": {},
   "source": [
    "## Differences"
   ]
  },
  {
   "cell_type": "code",
   "execution_count": null,
   "id": "24ed5d2c-6146-4869-a384-9fc783a0c42e",
   "metadata": {},
   "outputs": [],
   "source": [
    "for c in ncl_results.keys() & results.keys():\n",
    "    print(f\"{c}:\")\n",
    "    print(f\"\\t{results[c] - ncl_results[c]}\")"
   ]
  }
 ],
 "metadata": {
  "kernelspec": {
   "display_name": "Python 3 (ipykernel)",
   "language": "python",
   "name": "python3"
  },
  "language_info": {
   "codemirror_mode": {
    "name": "ipython",
    "version": 3
   },
   "file_extension": ".py",
   "mimetype": "text/x-python",
   "name": "python",
   "nbconvert_exporter": "python",
   "pygments_lexer": "ipython3",
   "version": "3.12.3"
  }
 },
 "nbformat": 4,
 "nbformat_minor": 5
}
