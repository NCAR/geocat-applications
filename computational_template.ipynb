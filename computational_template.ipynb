{
 "cells": [
  {
   "cell_type": "markdown",
   "metadata": {},
   "source": [
    "# Computational example template\n",
    "Replace the above title with the title of your notebook. This should be the only use of the highest level header (`#`) in the notebook."
   ]
  },
  {
   "cell_type": "markdown",
   "metadata": {},
   "source": [
    "---"
   ]
  },
  {
   "cell_type": "markdown",
   "metadata": {},
   "source": [
    "## Overview\n",
    "When possible, lead with a short intro paragraph that covers the content and scope of the materials in the notebook\n",
    "- Include a bulleted list of topics covered\n",
    "- These should roughly correspond to the main sections of content in the notebook\n",
    "- Remember to try to maintain a clear and atomic scope for each notebook\n",
    "\n",
    "To skip to the completed example, see the [summary section](#summary)."
   ]
  },
  {
   "cell_type": "markdown",
   "metadata": {},
   "source": [
    "## Summary\n",
    "Include a quick summary of the content covered. Then, combine all the code cells in the notebook in a markdown block below:\n",
    "```python\n",
    "import numpy as np\n",
    "import matplotlib.pyplot as plt\n",
    "\n",
    "plt.plot(np.random.rand(10))\n",
    "plt.show()\n",
    "```"
   ]
  },
  {
   "cell_type": "markdown",
   "metadata": {},
   "source": [
    "## Further Reading\n",
    "- List sources\n",
    "- Link to other good tutorial content\n",
    "- Include links to documentation\n",
    "- Collect and include any links used in the notebook"
   ]
  },
  {
   "cell_type": "markdown",
   "metadata": {},
   "source": [
    "## NCL Connection (optional)\n",
    "If this notebook is relevant to an NCL routine, link to the corresponding NCL resource notebook(s) here"
   ]
  },
  {
   "cell_type": "markdown",
   "metadata": {},
   "source": []
  }
 ],
 "metadata": {
  "language_info": {
   "name": "python"
  }
 },
 "nbformat": 4,
 "nbformat_minor": 2
}
