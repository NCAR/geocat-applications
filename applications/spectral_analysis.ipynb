{
 "cells": [
  {
   "cell_type": "markdown",
   "metadata": {},
   "source": [
    "# Spectral Analysis\n",
    "\n",
    "This example demonstrates how to perform spectral and cross-spectral analysis. \n",
    "\n",
    "This document shows a concise workflow using the `scipy.signal` module. To learn more about the functions and keyword arguments available in this package, read SciPy's [signal processing documentation](https://docs.scipy.org/doc/scipy/reference/signal.html)."
   ]
  },
  {
   "cell_type": "markdown",
   "metadata": {},
   "source": [
    "This notebook will cover:\n",
    "\n",
    "1. Periodograms\n",
    "1. Smoothing\n",
    "1. Cross Spectral Analysis\n",
    "1. Coherence"
   ]
  },
  {
   "cell_type": "code",
   "execution_count": 1,
   "metadata": {},
   "outputs": [],
   "source": [
    "import xarray as xr\n",
    "import geocat.datafiles as gcd\n",
    "import pandas as pd\n",
    "import scipy\n",
    "import matplotlib.pyplot as plt\n",
    "import numpy as np"
   ]
  },
  {
   "cell_type": "markdown",
   "metadata": {},
   "source": [
    "## Periodogram \n",
    "\n",
    "A periodogram estimate is the square of the coefficients from the Fourier transform of one dimension of spectral data."
   ]
  },
  {
   "cell_type": "markdown",
   "metadata": {},
   "source": [
    "### Read in Data\n",
    "\n",
    "We'll use the [`geocat-datafiles`](https://github.com/NCAR/geocat-datafiles) module to access the relevant datafile for this example: `SOI_Darwin.nc`\n",
    "\n",
    "Then, we use [`xarray.open_dataset()`](http://xarray.pydata.org/en/stable/generated/xarray.open_dataset.html) function to read the data as an xarray dataset.\n",
    "\n",
    "This data represents the Darwin Southern Oscillation Index between 1882 and 1998 using normalized sea level pressure."
   ]
  },
  {
   "cell_type": "code",
   "execution_count": null,
   "metadata": {},
   "outputs": [],
   "source": [
    "soi_darwin = xr.open_dataset(gcd.get('netcdf_files/SOI_Darwin.nc'))\n",
    "\n",
    "soi_darwin"
   ]
  },
  {
   "cell_type": "markdown",
   "metadata": {},
   "source": [
    "### Time Series Correction\n",
    "\n",
    "Currently, our `time` coordinate is in units of months since January 1882, we'll use `pandas` to change this to the conventional `DatetimeIndex`."
   ]
  },
  {
   "cell_type": "code",
   "execution_count": null,
   "metadata": {},
   "outputs": [],
   "source": [
    "start_date = pd.Timestamp('1882-01-01')\n",
    "dates = [\n",
    "    start_date + pd.DateOffset(months=int(month))\n",
    "    for month in soi_darwin.indexes['time']\n",
    "]\n",
    "datetime_index = pd.DatetimeIndex(dates)\n",
    "\n",
    "datetime_index"
   ]
  },
  {
   "cell_type": "code",
   "execution_count": 4,
   "metadata": {},
   "outputs": [],
   "source": [
    "soi = soi_darwin.DSOI\n",
    "soi['time'] = datetime_index"
   ]
  },
  {
   "cell_type": "markdown",
   "metadata": {},
   "source": [
    "### Periodogram\n",
    "\n",
    "Now we can call [`scipy.signal.periodogram()`](https://docs.scipy.org/doc/scipy/reference/generated/scipy.signal.periodogram.html).\n",
    "\n",
    "You can specify a `window` argument for smoothing your spectrum before spectral analysis. Here is a [list of supported Scipy windows](https://docs.scipy.org/doc/scipy/reference/signal.windows.html). The default is `boxcar` which is a unit window equivalent to no tapering.\n",
    "\n",
    "Set the detrending kwarg to `constant` to remove the mean from our data.\n",
    "\n",
    "There is also a `scaling` keyword that defaults to `density` for computing the power spectral density with units of {math}`V^{2}/Hz`, with V being the units of the input array (here dimensionless), and `Hz` representing your frequency units (we'll use per month instead of per second). `spectral` is also supported and produces the squared magnitude spectrum with units of {math}`V^{2}`."
   ]
  },
  {
   "cell_type": "code",
   "execution_count": 5,
   "metadata": {},
   "outputs": [],
   "source": [
    "freq_soi, psd_soi = scipy.signal.periodogram(\n",
    "    soi,\n",
    "    fs=1,  # sample monthly\n",
    "    window='tukey',\n",
    "    detrend='constant',\n",
    ")"
   ]
  },
  {
   "cell_type": "markdown",
   "metadata": {},
   "source": [
    "### Smoothing\n",
    "\n",
    "To provide statistical reliability, the periodogram estimates **must be smoothed**.\n",
    "\n",
    "You can use the same [`scipy.signal.windows`](https://docs.scipy.org/doc/scipy/reference/signal.windows.html) as for the tapering. We'll chose a standard Hann window."
   ]
  },
  {
   "cell_type": "code",
   "execution_count": 6,
   "metadata": {},
   "outputs": [],
   "source": [
    "k = 3  # smoothing constant\n",
    "\n",
    "window = scipy.signal.windows.hann(2 * k + 1)  # Hann Window\n",
    "window = window / window.sum()  # Normalize window\n",
    "\n",
    "# Apply the convolution\n",
    "smoothed_psd = scipy.signal.convolve(psd_soi, window, mode='same')"
   ]
  },
  {
   "cell_type": "markdown",
   "metadata": {},
   "source": [
    "### Plot"
   ]
  },
  {
   "cell_type": "code",
   "execution_count": null,
   "metadata": {},
   "outputs": [],
   "source": [
    "plt.plot(freq_soi, smoothed_psd)\n",
    "plt.xlabel('Frequency (Cycles / Month)')\n",
    "plt.ylabel('Variance (Pressure$^2$ / Frequency)')\n",
    "plt.title('Darwin Southern Oscillation Index (1882 - 1998) - Power Spectral Density')\n",
    "plt.xlim([0, 0.5]);"
   ]
  },
  {
   "cell_type": "markdown",
   "metadata": {},
   "source": [
    "## Cross-Spectral Analysis\n",
    "\n",
    "For cross-spectral analysis, we'll create plots of the following quantities: cospectrum, quadtrature, phase, coherence squared, and the periodogram of each dimensional array."
   ]
  },
  {
   "cell_type": "markdown",
   "metadata": {},
   "source": [
    "### Read in Data\n",
    "\n",
    "For our cross-spectral data we'll look at `SLP_DarwinTahitiAnom` which contains Darwin and Tahiti sea level pressure anomalies between 1935-1998.\n",
    "\n",
    "This data will need the same time series adjustment as in the periodogram example above."
   ]
  },
  {
   "cell_type": "code",
   "execution_count": null,
   "metadata": {},
   "outputs": [],
   "source": [
    "slp_darwin = xr.open_dataset(gcd.get('netcdf_files/SLP_DarwinTahitiAnom.nc'))\n",
    "\n",
    "# Time Series Correction\n",
    "start_date = pd.Timestamp('1935-01-01')  # Months Since January 1935\n",
    "dates = [\n",
    "    start_date + pd.DateOffset(months=int(month))\n",
    "    for month in slp_darwin.indexes['time']\n",
    "]\n",
    "datetime_index = pd.DatetimeIndex(dates)\n",
    "\n",
    "slp_darwin['time'] = datetime_index\n",
    "slp_darwin"
   ]
  },
  {
   "cell_type": "code",
   "execution_count": null,
   "metadata": {},
   "outputs": [],
   "source": [
    "dslp = slp_darwin.DSLP  # Darwin\n",
    "dslp"
   ]
  },
  {
   "cell_type": "code",
   "execution_count": null,
   "metadata": {},
   "outputs": [],
   "source": [
    "tslp = slp_darwin.TSLP  # Tahiti\n",
    "tslp"
   ]
  },
  {
   "cell_type": "code",
   "execution_count": null,
   "metadata": {},
   "outputs": [],
   "source": [
    "dslp.plot(label='Darwin')\n",
    "tslp.plot(label='Tahiti')\n",
    "plt.legend()\n",
    "plt.ylabel('Sea Level Pressure Anomalies [hPa]');"
   ]
  },
  {
   "cell_type": "markdown",
   "metadata": {},
   "source": [
    "### Cross-Power Spectral Density\n",
    "\n",
    "We will calculate cospectrum, quadtrature, and phase by leveraging [`scipy.signal.csd()`](https://docs.scipy.org/doc/scipy/reference/generated/scipy.signal.csd.html) and computing its real (cospectrum) and imaginary (quadtrature) components, and calculating the angle between them (phase)."
   ]
  },
  {
   "cell_type": "code",
   "execution_count": 12,
   "metadata": {},
   "outputs": [],
   "source": [
    "f, pxy = scipy.signal.csd(\n",
    "    dslp,\n",
    "    tslp,\n",
    "    fs=1,  # monthly\n",
    "    detrend='constant',\n",
    ")  # remove mean\n",
    "\n",
    "cospectrum = np.real(pxy)\n",
    "quadrature = np.imag(pxy)\n",
    "\n",
    "phase = np.angle(pxy, deg=True)"
   ]
  },
  {
   "cell_type": "code",
   "execution_count": null,
   "metadata": {},
   "outputs": [],
   "source": [
    "fig, axs = plt.subplots(1, 3, figsize=(10, 5))\n",
    "\n",
    "axs[0].plot(f, cospectrum)\n",
    "axs[0].set_xlim([0, 0.5])\n",
    "axs[0].set_xlabel('Frequency (Cycles / Month)')\n",
    "axs[0].set_ylabel('Cospectrum')\n",
    "\n",
    "axs[1].plot(f, quadrature)\n",
    "axs[1].set_xlim([0, 0.5])\n",
    "axs[1].set_ylim([-3, 3])\n",
    "axs[1].set_xlabel('Frequency (Cycles / Month)')\n",
    "axs[1].set_ylabel('Quadrature')\n",
    "\n",
    "axs[2].plot(f, phase)\n",
    "axs[2].set_xlim([0, 0.5])\n",
    "axs[2].set_ylim([-200, 200])\n",
    "axs[2].set_xlabel('Frequency (Cycles / Month)')\n",
    "axs[2].set_ylabel('Phase')\n",
    "\n",
    "fig.suptitle(\n",
    "    'Darwin and Tahiti Sea Level Pressure Anomalies (1935-1998) - Cross-Spectral Analysis'\n",
    ")\n",
    "plt.tight_layout();"
   ]
  },
  {
   "cell_type": "markdown",
   "metadata": {},
   "source": [
    "### Coherence Squared\n",
    "\n",
    "Coherence is a measure of how similar two specta are, with regards to their frequency and phase offset relative to one another. \n",
    "\n",
    "For coherence squared, simply square the output from [`scipy.signal.coherence()`](https://docs.scipy.org/doc/scipy/reference/generated/scipy.signal.coherence.html)."
   ]
  },
  {
   "cell_type": "code",
   "execution_count": 14,
   "metadata": {},
   "outputs": [],
   "source": [
    "f, cxy = scipy.signal.coherence(\n",
    "    dslp,\n",
    "    tslp,\n",
    "    fs=1,  # monthly\n",
    "    detrend='constant',\n",
    ")  # remove mean\n",
    "\n",
    "co_sq = cxy**2"
   ]
  },
  {
   "cell_type": "code",
   "execution_count": null,
   "metadata": {},
   "outputs": [],
   "source": [
    "plt.plot(f, co_sq)\n",
    "plt.xlim([0, 0.5])\n",
    "plt.ylim([0, 1])\n",
    "plt.xlabel('Frequency (Cycles / Month)')\n",
    "plt.ylabel('Coherence SQ')\n",
    "\n",
    "plt.title('Darwin and Tahiti Sea Level Pressure Anomalies (1935-1998)')\n",
    "plt.tight_layout();"
   ]
  },
  {
   "cell_type": "markdown",
   "metadata": {},
   "source": [
    "### Peridogram and Smoothing"
   ]
  },
  {
   "cell_type": "code",
   "execution_count": 16,
   "metadata": {},
   "outputs": [],
   "source": [
    "# Calculate Periodogram\n",
    "freq_dslp, dslp_psd = scipy.signal.periodogram(\n",
    "    dslp,\n",
    "    fs=1,  # monthly\n",
    "    detrend='constant',\n",
    ")  # remove mean\n",
    "freq_tslp, tslp_psd = scipy.signal.periodogram(tslp, fs=1, detrend='constant')\n",
    "\n",
    "# Perform modified Daniel Smoothing\n",
    "dslp_smoothed = scipy.signal.convolve(dslp_psd, window, mode='same')\n",
    "tslp_smoothed = scipy.signal.convolve(tslp_psd, window, mode='same')"
   ]
  },
  {
   "cell_type": "code",
   "execution_count": null,
   "metadata": {},
   "outputs": [],
   "source": [
    "fig, axs = plt.subplots(1, 2, figsize=(10, 5))\n",
    "\n",
    "axs[0].plot(freq_dslp, dslp_smoothed)\n",
    "axs[0].set_xlim([0, 0.5])\n",
    "axs[0].set_ylim([0, 30])\n",
    "axs[0].set_xlabel('Frequency (cycles/month)')\n",
    "axs[0].set_ylabel('Variance of Darwin SLP')\n",
    "\n",
    "axs[1].plot(freq_tslp, tslp_smoothed)\n",
    "axs[1].set_xlim([0, 0.5])\n",
    "axs[1].set_ylim([0, 30])\n",
    "axs[1].set_xlabel('Frequency (cycles/month)')\n",
    "axs[1].set_ylabel('Variance of Tahiti SLP')\n",
    "\n",
    "fig.suptitle(\n",
    "    'Darwin and Tahiti Sea Level Pressure (SLP) Anomalies (1935-1998) - Power Spectral Density'\n",
    ")\n",
    "plt.tight_layout();"
   ]
  }
 ],
 "metadata": {
  "kernelspec": {
   "display_name": "Python 3",
   "language": "python",
   "name": "python3"
  },
  "language_info": {
   "codemirror_mode": {
    "name": "ipython",
    "version": 3
   },
   "file_extension": ".py",
   "mimetype": "text/x-python",
   "name": "python",
   "nbconvert_exporter": "python",
   "pygments_lexer": "ipython3",
   "version": "3.12.2"
  },
  "widgets": {
   "application/vnd.jupyter.widget-state+json": {
    "state": {},
    "version_major": 2,
    "version_minor": 0
   }
  }
 },
 "nbformat": 4,
 "nbformat_minor": 4
}
