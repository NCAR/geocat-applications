{
 "cells": [
  {
   "cell_type": "markdown",
   "metadata": {},
   "source": [
    "# Human Heat Metrics"
   ]
  },
  {
   "cell_type": "markdown",
   "metadata": {},
   "source": [
    "Wet Bulb Glove Temperature ($WBGT$) is a measure of heat stress outdoors ($WBGT_{OD}$) or indoors/in the shade ($WBGT_{ID}$).\n",
    "\n",
    "Dry Bulb  Ambient Temperatue ($T_a$) - what you’d think of as “just temperature”, or ambient temperature. Does not account for radiation or humidity.\n",
    "\n",
    "Thermodynamic Wet Bulb Temperature ($T_{pwb}$) wet bulb temperature in the shade and fanned or rotated. This is the wet bulb typically used for dew point calculations.\n",
    "\n",
    "Natural Wet Bulb Temperature ($T_{nwb}$) wet bulb temperature with exposure to wind and sun. This is not a readily accessible measurement.\n",
    "\n",
    "Globe Temperature ($T_g$) temperature taken from inside a copper globe painted black and exposed to the sun. Also not a readily accessible measurement.\n",
    "\n",
    "\n",
    "$WBGT_{od} = 0.7*T_{nwb} + 0.2*T_g + 0.1*T_a$\n",
    "\n",
    "$WBGT_{id} = 0.7*T_{nwb} + 0.3*T_g$"
   ]
  },
  {
   "cell_type": "code",
   "execution_count": 2,
   "metadata": {},
   "outputs": [],
   "source": [
    "import math\n",
    "import scipy"
   ]
  },
  {
   "cell_type": "markdown",
   "metadata": {},
   "source": [
    "## Liljergen (Argonne Model)\n",
    "\n",
    "This is a method of approximating Globe Temperature ($T-g$).\n",
    "\n",
    "This model:\n",
    "\n",
    "- assumes that when there is no solar radiation, \n",
    "- assumes $T_`{pwb}$ = $T_{nwb}$\n",
    "- and tends to underestimate indoor $T_{nwb}$"
   ]
  },
  {
   "cell_type": "code",
   "execution_count": null,
   "metadata": {},
   "outputs": [],
   "source": [
    "\n",
    "f_dir = ' ' # fraction due to diffuse solar irradiance\n",
    "S = ' ' # total horizontal solar irradiance\n",
    "\n",
    "\n",
    "def _get_e_sat(T): # Magnus-Tetens Approximation\n",
    "    e_sat = 0.61094 * math.exp((17.625 * T) / (T + 243.04)) # Saturation Vapor Pressure in kPa\n",
    "    return e_sat\n",
    "\n",
    "\n",
    "def _get_theta(latitude, longitude, datetime):\n",
    "    phi = latitude\n",
    "\n",
    "    time = ' ' # from datetime\n",
    "    day_of_year = ' ' # Day of Year from datetime\n",
    "    \n",
    "    delta = 23.45  * math.sin(math.radians(360/365 * (284 + day_of_year))) # solar declination\n",
    "\n",
    "    time_correction = ' ' # from longitude and day_of_year\n",
    "    solar_time = ' ' # from time and time_correction\n",
    "    hour_angle = 15 * (12 - solar_time) # degrees\n",
    "\n",
    "    cos_theta = (\n",
    "        (math.sin(phi) * math.sin(delta))\n",
    "        + (math.cos(phi) * math.cos(delta) * math.cos(math.radians(hour_angle)))\n",
    "        )\n",
    "    theta = math.acos(cos_theta)\n",
    "    return theta\n",
    "\n",
    "\n",
    "def calc_liljergen_wet_bulb(T_a, # Ambient Temperature)\n",
    "                            rh, # Relative Humidity\n",
    "                            h, # Convective Heat Transfer Coefficient\n",
    "                            datetime, # Time of Day\n",
    "                        ):\n",
    "    epsilon_g = 0.95 # Globe emissivity\n",
    "    alpha_sfc = 0.45 # Surface albedo\n",
    "    sigma = scipy.constants.Stefan_Boltzmann # Stefan-Boltzmann Constant\n",
    "\n",
    "    e_sat = _get_e_sat(T_a) # Saturation Vapor Pressure\n",
    "    epsilon_a = 0.575 * (rh * e_sat(T_a)) ** 0.143 # Atmosphere Emissivity\n",
    "\n",
    "    theta = _get_theta(datetime) # Solar Zenith Angle\n",
    "\n",
    "    # Convergence parameters\n",
    "    tolerance = 1e-6\n",
    "    max_iterations = 100\n",
    "\n",
    "    # Iterative relaxation solve\n",
    "    T_g = T_a\n",
    "    for i in range(max_iterations):\n",
    "\n",
    "        T_g_new = (\n",
    "            0.5 * (1 + epsilon_a) * T_a ** 4\n",
    "            - h / (epsilon_g * sigma) * (T_g - T_a)\n",
    "            + S / (2 * epsilon_g * sigma) * (1 + f_dir * (1 / (2 * math.cos(theta)) - 1) + alpha_sfc)\n",
    "        ) ** 0.25\n",
    "        \n",
    "        # Check for convergence\n",
    "        if abs(T_g_new - T_g) < tolerance:\n",
    "            T_g = T_g_new\n",
    "            break\n",
    "        \n",
    "        T_g = T_g_new\n",
    "    return T_g\n",
    "\n",
    "\n",
    "def calc_liljergen_wbgt(T_a, T_nwb, *kwargs):\n",
    "    T_g = calc_liljergen_wet_bulb(*kwargs)\n",
    "    WBGT = 0.7*T_nwb + 0.2*T_g + 0.1*T_a\n",
    "    return WBGT"
   ]
  },
  {
   "cell_type": "markdown",
   "metadata": {},
   "source": [
    "## Bernard\n",
    "\n",
    "This is a method of estimating indoor Wet Bulb Globe Temperature ($WBGT_{id}$) that does not consider sunny conditions."
   ]
  },
  {
   "cell_type": "code",
   "execution_count": null,
   "metadata": {},
   "outputs": [],
   "source": [
    "def calc_bernard_wbgt(t_a, t_pwb, v):\n",
    "    if v < 0.3: #m/s\n",
    "        return\n",
    "    elif 0.3 <= v <= 3:\n",
    "        wbgt = (0.67 * t_pwb) + (0.33 * t_a) - (0.48 * math.log10(v) * (t_a - t_pwb))\n",
    "    else:\n",
    "        wbgt = (0.7 * t_pwb) + (0.3 * t_a)\n",
    "    return wbgt"
   ]
  },
  {
   "cell_type": "markdown",
   "metadata": {},
   "source": [
    "## Australian Bureau of Meteorology (ABM)\n",
    "\n",
    "Meethod of estimating Wet Bulb Global Temperature\n",
    "\n",
    "- tends to overpredict WBGT\n",
    "- assumes full sunlight and light breeze"
   ]
  },
  {
   "cell_type": "code",
   "execution_count": null,
   "metadata": {},
   "outputs": [],
   "source": [
    "def calc_abm_wbgt(t_a, rh):\n",
    "    e = (rh / 100)**17.27 * (t_a/(337.7 * t_a)) # water vapor pressure [hPa]\n",
    "    wbgt = (0.567 * t_a) + (0.393 * e) + 3.94\n",
    "    return wbgt"
   ]
  },
  {
   "cell_type": "markdown",
   "metadata": {},
   "source": [
    "## Li\n",
    "\n",
    "Not much information here"
   ]
  }
 ],
 "metadata": {
  "kernelspec": {
   "display_name": "geocat_comp_build",
   "language": "python",
   "name": "python3"
  },
  "language_info": {
   "codemirror_mode": {
    "name": "ipython",
    "version": 3
   },
   "file_extension": ".py",
   "mimetype": "text/x-python",
   "name": "python",
   "nbconvert_exporter": "python",
   "pygments_lexer": "ipython3",
   "version": "3.12.2"
  }
 },
 "nbformat": 4,
 "nbformat_minor": 2
}
