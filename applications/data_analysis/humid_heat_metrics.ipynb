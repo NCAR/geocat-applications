{
 "cells": [
  {
   "cell_type": "markdown",
   "metadata": {},
   "source": [
    "# Humid Heat Metrics"
   ]
  },
  {
   "cell_type": "markdown",
   "metadata": {},
   "source": [
    "## Overview\n",
    "\n",
    "Humid heat metrics index temperature and humidity, which is often more useful than comparing either variable alone when considering perceived temperature as they together affect the human body's ability to cool itself down. Humid heat metrics are especially important for the safety of outside workers, the elderly, or otherwise high-risk high-exposure individuals. \n",
    "\n",
    "Wet Bulb Globe Temperature (WBGT) is a measure of heat stress. The equation for outdoor ($WBGT_{OD}$) and indoor/shaded ($WBGT_{ID}$) WBGTs are:\n",
    "\n",
    "$WBGT_{od} = 0.7*T_{nwb} + 0.2*T_g + 0.1*T_a$\n",
    "\n",
    "$WBGT_{id} = 0.7*T_{nwb} + 0.3*T_g$\n",
    "\n",
    "where $T_a$ refers to Dry Bulb Ambient Temperatue, $T_{nwb}$ is the Natural Wet Bulb Temperature wet bulb temperature with exposure to wind and sun, and $T_g$ is the Globe Temperature temperature taken from inside a copper globe painted black and exposed to the sun.\n",
    "\n",
    "However this formula is complicated by the reality that Natural Wet Bulb Temperature and Globe Temperature are not always readily available variables from weather stations or atmospheric models.\n",
    "\n",
    "In this notebook we will demonstrate the Australian Bureau of Meteorology (ABM) and Bernard methods of predicting wet bulb global temperature with a focus on the July 1995 Chicago heatwave.\n",
    "\n",
    "For our analysis, we have ERA5 renanalysis data for the lower contiguous United States (50N, 24S, -66E, -125W) from July 1995 with the variables: 2-meter temperature, 2-meter dew point temperature, surface pressure, and *u*/*v* wind components."
   ]
  },
  {
   "cell_type": "markdown",
   "metadata": {},
   "source": [
    "---"
   ]
  },
  {
   "cell_type": "code",
   "execution_count": null,
   "metadata": {},
   "outputs": [],
   "source": [
    "import geocat.datafiles as gdf\n",
    "import xarray as xr\n",
    "import numpy as np\n",
    "import matplotlib.pyplot as plt\n",
    "import cartopy.crs as ccrs"
   ]
  },
  {
   "cell_type": "code",
   "execution_count": null,
   "metadata": {},
   "outputs": [],
   "source": [
    "era5 = xr.open_dataset(gdf.get(\"netcdf_files/era5_1995-07-14T12\"))\n",
    "era5.u10"
   ]
  },
  {
   "cell_type": "code",
   "execution_count": null,
   "metadata": {},
   "outputs": [],
   "source": [
    "# Convert from Kelvin to Celsius\n",
    "\n",
    "era5['t2m_C'] = era5['t2m'] - 273.15\n",
    "era5['d2m_C'] = era5['d2m'] - 273.15"
   ]
  },
  {
   "cell_type": "code",
   "execution_count": null,
   "metadata": {},
   "outputs": [],
   "source": [
    "# Chicago coordinates\n",
    "lat_chicago = 41.8781\n",
    "lon_chicago = -87.6298"
   ]
  },
  {
   "cell_type": "markdown",
   "metadata": {},
   "source": [
    "## Australian Bureau of Meteorology (ABM)\n",
    "\n",
    "The Australian Bureau of Meteorology's method of estimating Wet Bulb Global Temperature is attractive due to its simplicity. It only requires temperature and water pressure (or relative humidity). Here we use the Clausius-Clapeyron equation to calculate relative humidity from temperature and dewpoint. \n",
    "\n",
    "This method tends to overpredict WBGT compared to other models and assumes full sunlight and light breeze."
   ]
  },
  {
   "cell_type": "code",
   "execution_count": null,
   "metadata": {},
   "outputs": [],
   "source": [
    "def calc_abm_wbgt(t_a, rh):\n",
    "    p = (\n",
    "        (rh / 100) * 6.105 * np.exp(17.27 * t_a / (237.7 + t_a))\n",
    "    )  # water vapor pressure [hPa]\n",
    "    wbgt = (0.567 * t_a) + (0.393 * p) + 3.94\n",
    "    return wbgt"
   ]
  },
  {
   "cell_type": "markdown",
   "metadata": {},
   "source": [
    "To use our ERA5 data in this equation, we need to first approximate relative humidity using the Clausius-Clapeyron Equation:"
   ]
  },
  {
   "cell_type": "code",
   "execution_count": null,
   "metadata": {},
   "outputs": [],
   "source": [
    "def _calc_saturation_vapor_pressure(t_a):  # Magnus-Tetens Approximation\\\n",
    "    e_sat = 6.11 * np.exp(\n",
    "        (17.625 * t_a) / (t_a + 243.04)\n",
    "    )  # Saturation Vapor Pressure in hPa\n",
    "    return e_sat\n",
    "\n",
    "\n",
    "def calc_relative_humidity_era5(t_a, t_d):\n",
    "    e_sat = _calc_saturation_vapor_pressure(t_a)  # saturation vapor pressure\n",
    "    e = 6.11 * np.exp(\n",
    "        17.625 * t_d / (243.04 + t_d)\n",
    "    )  # vapor pressure from dew point temp\n",
    "    rh = 100 * e / e_sat  # Clausius-Clapeyron equation\n",
    "    return rh\n",
    "\n",
    "\n",
    "rh = calc_relative_humidity_era5(era5.t2m_C, era5.d2m_C)"
   ]
  },
  {
   "cell_type": "code",
   "execution_count": null,
   "metadata": {},
   "outputs": [],
   "source": [
    "wbgt_abm = calc_abm_wbgt(era5.t2m_C, rh)\n",
    "wbgt_abm"
   ]
  },
  {
   "cell_type": "code",
   "execution_count": null,
   "metadata": {},
   "outputs": [],
   "source": [
    "fig = plt.figure(figsize=(10, 5))\n",
    "ax = plt.axes(projection=ccrs.PlateCarree())\n",
    "\n",
    "c = plt.contourf(era5.longitude, era5.latitude, wbgt_abm, cmap='inferno')\n",
    "\n",
    "ax.coastlines()\n",
    "ax.gridlines(draw_labels=True)\n",
    "\n",
    "cbar = plt.colorbar(c, ax=ax, orientation='horizontal', pad=0.1, shrink=0.8)\n",
    "cbar.set_label('Wet Bulb Global Temperature' + '\\N{DEGREE SIGN}' + 'C')\n",
    "\n",
    "ax.set_title('July 14, 1995 noon - ABM WBGT')\n",
    "\n",
    "ax.annotate(\n",
    "    'Chicago',\n",
    "    xy=(lon_chicago, lat_chicago),\n",
    "    xytext=(lon_chicago + 3, lat_chicago - 3),\n",
    "    arrowprops=dict(facecolor='black', arrowstyle='->'),\n",
    "    transform=ccrs.PlateCarree(),\n",
    ")"
   ]
  },
  {
   "cell_type": "markdown",
   "metadata": {},
   "source": [
    "# Bernard\n",
    "\n",
    "Bernard's semi-empirical formula approximates Natural Wet Bulb temperature based on heat exchange of a wetted wick exposed to sun and wind based on measurements of common United States summertime environmental conditions.\n",
    "\n",
    "This is considered an indoor WBGT temperature because it does not include any strong radiative sources in the calculation.\n",
    "\n",
    "In Bernard's analysis wind speeds less than 0.3 m/s are not included since the field of humid heat metrics is primarily concenered with workers and an outdoor worker is unlikely to be stationary. Apparent wind speeds are assumed to be at least 1 m/s.\n",
    "\n",
    "This formula utilizes thermodynamic Wet Bulb Temperature ($T_{pwb}$), which is a wet bulb temperature in the shade and fanned or rotated. This is the wet bulb typically used for dew point calculations, and can be iteratively derived from temeperature ($T_a$) and dewpoint ($T_d$)."
   ]
  },
  {
   "cell_type": "code",
   "execution_count": null,
   "metadata": {},
   "outputs": [],
   "source": [
    "# Newton-Raphson iterative method for t_pwb\n",
    "def _calc_tpwb_scalar(t_a, t_d):\n",
    "    def f(t_pwb):\n",
    "        e_d = 6.106 * np.exp(17.27 * t_d / (237.3 + t_d))  # hPa\n",
    "        e_w = 6.106 * np.exp(17.27 * t_pwb / (237.3 + t_pwb))  # hPa\n",
    "        return (\n",
    "            1556 * e_d\n",
    "            - 1.484 * e_d * t_pwb\n",
    "            - 1556 * e_w\n",
    "            + 1.484 * e_w * t_pwb\n",
    "            + 1010 * (t_a - t_pwb)\n",
    "        )\n",
    "\n",
    "    def f_prime(t_pwb, h=1e-5):  # numerical derivative\n",
    "        return (f(t_pwb + h) - f(t_pwb - h)) / (2 * h)\n",
    "\n",
    "    t_pwb = t_d  # initial guess\n",
    "    for i in range(100):\n",
    "        f_value = f(t_pwb)\n",
    "        f_prime_value = f_prime(t_pwb)\n",
    "\n",
    "        if f_prime_value == 0:\n",
    "            raise ValueError(\n",
    "                \"Zero derivative encountered; no solution for t_pwb found.\"\n",
    "            )\n",
    "\n",
    "        t_pwb_new = t_pwb - f_value / f_prime_value\n",
    "\n",
    "        if abs(t_pwb_new - t_pwb) < 1e-6:  # tolerance\n",
    "            return t_pwb_new\n",
    "\n",
    "        t_pwb = t_pwb_new\n",
    "\n",
    "    raise ValueError(\"Maximum iterations reached; no solution found for t_pwb.\")\n",
    "\n",
    "\n",
    "# Apply function over grid\n",
    "def _calc_tpwb(t_a, t_d):\n",
    "    return xr.apply_ufunc(\n",
    "        _calc_tpwb_scalar,\n",
    "        t_a,\n",
    "        t_d,\n",
    "        vectorize=True,\n",
    "        dask=\"parallelized\",\n",
    "        output_dtypes=[float],\n",
    "    )\n",
    "\n",
    "\n",
    "# Bernard formula for WBGT\n",
    "def calc_bernard_wbgt(t_a, t_pwb, v):\n",
    "    if np.all(v < 0.3):  # m/s\n",
    "        return np.nan  # Return NaN where velocity is below the threshold\n",
    "    elif np.all((0.3 <= v) & (v <= 3)):\n",
    "        wbgt = (0.67 * t_pwb) + (0.33 * t_a) - (0.48 * np.log10(v) * (t_a - t_pwb))\n",
    "    else:\n",
    "        wbgt = (0.7 * t_pwb) + (0.3 * t_a)\n",
    "\n",
    "    return wbgt"
   ]
  },
  {
   "cell_type": "code",
   "execution_count": null,
   "metadata": {},
   "outputs": [],
   "source": [
    "v = np.sqrt(era5.u10**2 + era5.v10**2)  # combine u and v wind components\n",
    "t_pwb = _calc_tpwb(era5.t2m_C, era5.d2m_C)\n",
    "\n",
    "wbgt_bernard = calc_bernard_wbgt(era5.t2m_C, t_pwb, v)\n",
    "wbgt_bernard"
   ]
  },
  {
   "cell_type": "code",
   "execution_count": null,
   "metadata": {},
   "outputs": [],
   "source": [
    "fig = plt.figure(figsize=(10, 5))\n",
    "ax = plt.axes(projection=ccrs.PlateCarree())\n",
    "\n",
    "c = plt.contourf(era5.longitude, era5.latitude, wbgt_bernard, cmap='inferno')\n",
    "\n",
    "ax.coastlines()\n",
    "ax.gridlines(draw_labels=True)\n",
    "\n",
    "cbar = plt.colorbar(c, ax=ax, orientation='horizontal', pad=0.1, shrink=0.8)\n",
    "cbar.set_label('Wet Bulb Global Temperature' + '\\N{DEGREE SIGN}' + 'C')\n",
    "\n",
    "ax.set_title('July 14, 1995 noon - Bernard WBGT method')\n",
    "\n",
    "ax.annotate(\n",
    "    'Chicago',\n",
    "    xy=(lon_chicago, lat_chicago),\n",
    "    xytext=(lon_chicago + 3, lat_chicago - 3),\n",
    "    arrowprops=dict(facecolor='black', arrowstyle='->'),\n",
    "    transform=ccrs.PlateCarree(),\n",
    ")"
   ]
  },
  {
   "cell_type": "markdown",
   "metadata": {},
   "source": [
    "## Comparing methods\n",
    "\n",
    "The ABM model tends to overpredict WBGT compared to other models. When comparing our output from both ABM and Bernard, ABM is indeen higher by 4 - 7 degrees Celsius."
   ]
  },
  {
   "cell_type": "code",
   "execution_count": null,
   "metadata": {},
   "outputs": [],
   "source": [
    "fig = plt.figure(figsize=(10, 5))\n",
    "ax = plt.axes(projection=ccrs.PlateCarree())\n",
    "\n",
    "diff = wbgt_abm - wbgt_bernard\n",
    "\n",
    "c = plt.contourf(era5.longitude, era5.latitude, diff, cmap='Reds')\n",
    "\n",
    "ax.coastlines()\n",
    "ax.gridlines(draw_labels=True)\n",
    "\n",
    "cbar = plt.colorbar(c, ax=ax, orientation='horizontal', pad=0.1, shrink=0.8)\n",
    "cbar.set_label(\n",
    "    '\\N{GREEK CAPITAL LETTER DELTA} Wet Bulb Global Temperature'\n",
    "    + '\\N{DEGREE SIGN}'\n",
    "    + 'C'\n",
    ")\n",
    "ax.set_title('July 14, 1995 noon - WBGT Difference(ABM - Bernard)')\n",
    "\n",
    "ax.annotate(\n",
    "    'Chicago',\n",
    "    xy=(lon_chicago, lat_chicago),\n",
    "    xytext=(lon_chicago + 3, lat_chicago - 3),\n",
    "    arrowprops=dict(facecolor='black', arrowstyle='->'),\n",
    "    transform=ccrs.PlateCarree(),\n",
    ");"
   ]
  },
  {
   "cell_type": "markdown",
   "metadata": {},
   "source": [
    "Since the main difference between the ABM and Bernard methods is that Bernard includes wind speed, let's do a visual inspection with the wind quivers overlaid on our previous plot."
   ]
  },
  {
   "cell_type": "code",
   "execution_count": null,
   "metadata": {},
   "outputs": [],
   "source": [
    "fig = plt.figure(figsize=(10, 5))\n",
    "ax = plt.axes(projection=ccrs.PlateCarree())\n",
    "\n",
    "c = plt.contourf(era5.longitude, era5.latitude, diff, cmap='Reds')\n",
    "\n",
    "ax.coastlines()\n",
    "ax.gridlines(draw_labels=True)\n",
    "\n",
    "cbar = plt.colorbar(c, ax=ax, orientation='horizontal', pad=0.1, shrink=0.8)\n",
    "cbar.set_label(\n",
    "    '\\N{GREEK CAPITAL LETTER DELTA} Wet Bulb Global Temperature'\n",
    "    + '\\N{DEGREE SIGN}'\n",
    "    + 'C'\n",
    ")\n",
    "ax.set_title('July 14, 1995 noon - WBGT Difference(ABM - Bernard)')\n",
    "\n",
    "\n",
    "# Add the u and v wind components as quiver vectors\n",
    "u = era5['u10'].values[::5, ::5]\n",
    "v = era5['v10'].values[::5, ::5]\n",
    "lon = era5.longitude.values[::5]\n",
    "lat = era5.latitude.values[::5]\n",
    "q = ax.quiver(lon, lat, u, v, transform=ccrs.PlateCarree(), scale=200);"
   ]
  },
  {
   "cell_type": "markdown",
   "metadata": {},
   "source": [
    "Additional methods that may be considered and investigated in the future are: Hunter, Tonouchi, Liljegren, Li."
   ]
  },
  {
   "cell_type": "markdown",
   "metadata": {},
   "source": [
    "## References:\n",
    "\n",
    "- Thomas E. Bernard (1999) Prediction of Workplace Wet Bulb Global Temperature, *Applied Occupational and Environmental Hygiene*, 14:2, 126-134, DOI:10.1080/104732299303296\n",
    "- Lemke and Kjellstrom (2012) Calculating Workplace WBGT from Meteorological Data: A Tool for Climate Change Assessment, *Industrial Health* , 50, 267–278"
   ]
  }
 ],
 "metadata": {
  "kernelspec": {
   "display_name": "geocat_comp_build",
   "language": "python",
   "name": "python3"
  },
  "language_info": {
   "codemirror_mode": {
    "name": "ipython",
    "version": 3
   },
   "file_extension": ".py",
   "mimetype": "text/x-python",
   "name": "python",
   "nbconvert_exporter": "python",
   "pygments_lexer": "ipython3",
   "version": "3.12.2"
  }
 },
 "nbformat": 4,
 "nbformat_minor": 2
}
