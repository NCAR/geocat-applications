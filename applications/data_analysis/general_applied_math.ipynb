{
 "cells": [
  {
   "cell_type": "markdown",
   "metadata": {},
   "source": [
    "# General Applied Math"
   ]
  },
  {
   "cell_type": "markdown",
   "metadata": {},
   "source": [
    "## Overview\n",
    "Working with math is perhaps the most common task in any kind of geoscience workflow in Python. This notebook will cover:\n",
    "\n",
    "- Python `math` vs. `numpy`\n",
    "- Mathematical Constants\n",
    "- Trigonmetric and Hyperbolic Functions\n",
    "- Algebraic Functions\n",
    "- Degrees and Radians\n",
    "- Rounding\n",
    "- Exponents and Logarithms"
   ]
  },
  {
   "cell_type": "markdown",
   "metadata": {},
   "source": [
    "## `math` vs. `numpy`\n",
    "\n",
    "`math` is a built-in part of the standard Python library. This is a useful module for common and simple computations when working with single input values. To work with arrays or large datasets, `numpy` is a good alternative to the `math` module. `numpy` is a powerful external Python package for working with arrays and mathematical functions. `numpy` is package developed to work with scientific computing and math functions and is tailored to run much faster with large datasets and arrays."
   ]
  },
  {
   "cell_type": "markdown",
   "metadata": {},
   "source": [
    "<div class=\"admonition alert alert-info\">\n",
    "    <p class=\"admonition-title\" style=\"font-weight:bold\">Important Note</p>\n",
    "    The <code>math</code> library cannot be used with complex numbers. Instead, equivalent functions can be found within the <a href=\"https://docs.python.org/3/library/cmath.html\">standard Python <code>cmath</code> library</a>\n",
    "\n",
    "</div>"
   ]
  },
  {
   "cell_type": "markdown",
   "metadata": {},
   "source": [
    "## Mathematical Constants\n",
    "\n",
    "Fixed mathematical constants are built into the standard Python libraries as well as external packages like `numpy`"
   ]
  },
  {
   "cell_type": "markdown",
   "metadata": {},
   "source": [
    "### `pi`\n",
    "\n",
    "`pi` represents the ratio of a cicle's circumferences to its diameter"
   ]
  },
  {
   "cell_type": "code",
   "execution_count": 18,
   "metadata": {},
   "outputs": [
    {
     "name": "stdout",
     "output_type": "stream",
     "text": [
      "(numpy)            pi = 3.141592653589793\n",
      "(standard library) pi = 3.141592653589793\n"
     ]
    }
   ],
   "source": [
    "import math\n",
    "import numpy as np\n",
    "\n",
    "print(f\"(numpy)            pi = {np.pi}\")\n",
    "print(f\"(standard library) pi = {math.pi}\")"
   ]
  },
  {
   "cell_type": "markdown",
   "metadata": {},
   "source": [
    "### `e`\n",
    "`e` is the base of the natural logarithm"
   ]
  },
  {
   "cell_type": "code",
   "execution_count": 19,
   "metadata": {},
   "outputs": [
    {
     "name": "stdout",
     "output_type": "stream",
     "text": [
      "(numpy)            e = 2.718281828459045\n",
      "(standard library) e = 2.718281828459045\n"
     ]
    }
   ],
   "source": [
    "import math\n",
    "import numpy as np\n",
    "\n",
    "print(f\"(numpy)            e = {np.e}\")\n",
    "print(f\"(standard library) e = {math.e}\")"
   ]
  },
  {
   "cell_type": "markdown",
   "metadata": {},
   "source": [
    "## Trigonmetric and Hyperbolic Functions"
   ]
  },
  {
   "cell_type": "markdown",
   "metadata": {},
   "source": [
    "### `sin`, `cos`, and `tan`\n",
    "\n",
    "The functions `sin`, `cos`, and `tan` are part of the standard Python `math` library when working with single value inputs. When working with lists and arrays, these functions can be evaluated with the external package `numpy`. By default, the input and output values are in radians."
   ]
  },
  {
   "cell_type": "code",
   "execution_count": 20,
   "metadata": {},
   "outputs": [
    {
     "name": "stdout",
     "output_type": "stream",
     "text": [
      "Single Value input\n",
      "\tsin (math)  = 0.0015926529164868282\n",
      "\tsin (numpy) = 0.0015926529164868282\n",
      "\tcos (math)  = -0.9999987317275395\n",
      "\tcos (numpy) = -0.9999987317275395\n",
      "\ttan (math)  = -0.001592654936407223\n",
      "\ttan (numpy) = -0.001592654936407223\n",
      "\n",
      "Multiple Value Input (array/list)\n",
      "\tsin (numpy) = [0.93203909 0.74570521 0.00159265]\n",
      "\tcos (numpy) = [ 0.36235775 -0.66627602 -0.99999873]\n",
      "\ttan (numpy) = [ 2.57215162e+00 -1.11921364e+00 -1.59265494e-03]\n"
     ]
    }
   ],
   "source": [
    "import math\n",
    "import numpy as np\n",
    "\n",
    "input = 3.14\n",
    "print(\"Single Value input\")\n",
    "print(f\"\\tsin (math)  = {math.sin(input)}\")\n",
    "print(f\"\\tsin (numpy) = {np.sin(input)}\")\n",
    "print(f\"\\tcos (math)  = {math.cos(input)}\")\n",
    "print(f\"\\tcos (numpy) = {np.cos(input)}\")\n",
    "print(f\"\\ttan (math)  = {math.tan(input)}\")\n",
    "print(f\"\\ttan (numpy) = {np.tan(input)}\")\n",
    "\n",
    "inputs = [1.2, 2.3, 3.14]\n",
    "print(\"\\nMultiple Value Input (array/list)\")\n",
    "print(f\"\\tsin (numpy) = {np.sin(inputs)}\")\n",
    "print(f\"\\tcos (numpy) = {np.cos(inputs)}\")\n",
    "print(f\"\\ttan (numpy) = {np.tan(inputs)}\")"
   ]
  },
  {
   "cell_type": "markdown",
   "metadata": {},
   "source": [
    "### `cosecant`, `secant`, and `cotangent`\n",
    "The functions `csc`, `sec`, and `cot` are **not** part of the standard Python `math` library or `numpy`. Instead, these values can be found as the reciprocal of the values `sin`, `cos`, and `tan`\n",
    "\n",
    "```\n",
    "csc = 1 / sin\n",
    "\n",
    "sec = 1 / cos\n",
    "\n",
    "cot = 1 / tan\n",
    "```"
   ]
  },
  {
   "cell_type": "code",
   "execution_count": 21,
   "metadata": {},
   "outputs": [
    {
     "name": "stdout",
     "output_type": "stream",
     "text": [
      "Single Value input\n",
      "\tcsc (math)  = 627.8831939138764\n",
      "\tcsc (numpy) = 627.8831939138764\n",
      "\tsec (math)  = -1.000001268274069\n",
      "\tsec (numpy) = -1.000001268274069\n",
      "\tcot (math)  = -627.8823975869133\n",
      "\tcot (numpy) = -627.8823975869133\n",
      "\\Multiple Value Input (array/list)\n",
      "\tcsc (numpy) = [  1.07291638   1.34101249 627.88319391]\n",
      "\tsec (numpy) = [ 2.7597036  -1.50087947 -1.00000127]\n",
      "\tcot (numpy) = [ 3.88779569e-01 -8.93484463e-01 -6.27882398e+02]\n"
     ]
    }
   ],
   "source": [
    "import math\n",
    "import numpy as np\n",
    "\n",
    "input = 3.14\n",
    "print(\"Single Value input\")\n",
    "print(f\"\\tcsc (math)  = {1 / math.sin(input)}\")\n",
    "print(f\"\\tcsc (numpy) = {1 / np.sin(input)}\")\n",
    "print(f\"\\tsec (math)  = {1 / math.cos(input)}\")\n",
    "print(f\"\\tsec (numpy) = {1 / np.cos(input)}\")\n",
    "print(f\"\\tcot (math)  = {1 / math.tan(input)}\")\n",
    "print(f\"\\tcot (numpy) = {1 / np.tan(input)}\")\n",
    "\n",
    "inputs = [1.2, 2.3, 3.14]\n",
    "print(\"\\Multiple Value Input (array/list)\")\n",
    "print(f\"\\tcsc (numpy) = {1 / np.sin(inputs)}\")\n",
    "print(f\"\\tsec (numpy) = {1 / np.cos(inputs)}\")\n",
    "print(f\"\\tcot (numpy) = {1 / np.tan(inputs)}\")"
   ]
  },
  {
   "cell_type": "markdown",
   "metadata": {},
   "source": [
    "### `asin`, `acos`, `atan`, and `atan2`\n",
    "\n",
    "The inverse trigonometric functions `asin`, `acos`, `atan`, and `atan2` are part of the standard Python `math` library when working with single value inputs. When working with lists and arrays, these functions can be evaluated with the external package `numpy`. By default, the input and output values are in radians."
   ]
  },
  {
   "cell_type": "code",
   "execution_count": 22,
   "metadata": {},
   "outputs": [
    {
     "name": "stdout",
     "output_type": "stream",
     "text": [
      "Single Value input\n",
      "\tasin (math)  = 0.5235987755982989\n",
      "\tasin (numpy) = 0.5235987755982989\n",
      "\tacos (math)  = 1.0471975511965979\n",
      "\tacos (numpy) = 1.0471975511965979\n",
      "\tatan (math)  = 0.4636476090008061\n",
      "\tatan (numpy) = 0.4636476090008061\n",
      "\n",
      "Multiple Value Input (array/list)\n",
      "\tasin (numpy) = [0.52359878 0.84806208 0.14046141]\n",
      "\tacos (numpy) = [1.04719755 0.72273425 1.43033491]\n",
      "\tatan (numpy) = [0.46364761 0.64350111 0.13909594]\n"
     ]
    }
   ],
   "source": [
    "import math\n",
    "import numpy as np\n",
    "\n",
    "input = 0.5\n",
    "print(\"Single Value input\")\n",
    "print(f\"\\tasin (math)  = {math.asin(input)}\")\n",
    "print(f\"\\tasin (numpy) = {np.arcsin(input)}\")\n",
    "print(f\"\\tacos (math)  = {math.acos(input)}\")\n",
    "print(f\"\\tacos (numpy) = {np.arccos(input)}\")\n",
    "print(f\"\\tatan (math)  = {math.atan(input)}\")\n",
    "print(f\"\\tatan (numpy) = {np.arctan(input)}\")\n",
    "\n",
    "inputs = [0.5, 0.75, 0.14]\n",
    "print(\"\\nMultiple Value Input (array/list)\")\n",
    "print(f\"\\tasin (numpy) = {np.arcsin(inputs)}\")\n",
    "print(f\"\\tacos (numpy) = {np.arccos(inputs)}\")\n",
    "print(f\"\\tatan (numpy) = {np.arctan(inputs)}\")"
   ]
  },
  {
   "cell_type": "markdown",
   "metadata": {},
   "source": [
    "### `sinh`, `cosh`, and `tanh`\n",
    "\n",
    "The hyperbolic trigonometric functions are analogous functions that make use of the hyperbola instead of the circle. The trigonometric functions `sinh`, `cosh`, and `tanh` are part of the standard Python `math` library when working with single value inputs. When working with lists and arrays, these functions can be evaluated with the external package `numpy`. By default, the input and output values are in radians."
   ]
  },
  {
   "cell_type": "code",
   "execution_count": 23,
   "metadata": {},
   "outputs": [
    {
     "name": "stdout",
     "output_type": "stream",
     "text": [
      "Single Value input\n",
      "\tsinh (math)  = 11.53029203041011\n",
      "\tsinh (numpy) = 11.53029203041011\n",
      "\tcosh (math)  = 11.573574828312076\n",
      "\tcosh (numpy) = 11.573574828312076\n",
      "\ttanh (math)  = 0.9962602049458319\n",
      "\ttanh (numpy) = 0.9962602049458319\n",
      "\n",
      "Multiple Value Input (array/list)\n",
      "\tsinh (numpy) = [ 1.50946136  4.93696181 11.53029203]\n",
      "\tcosh (numpy) = [ 1.81065557  5.03722065 11.57357483]\n",
      "\ttanh (numpy) = [0.83365461 0.9800964  0.9962602 ]\n"
     ]
    }
   ],
   "source": [
    "import math\n",
    "import numpy as np\n",
    "\n",
    "input = 3.14\n",
    "print(\"Single Value input\")\n",
    "print(f\"\\tsinh (math)  = {math.sinh(input)}\")\n",
    "print(f\"\\tsinh (numpy) = {np.sinh(input)}\")\n",
    "print(f\"\\tcosh (math)  = {math.cosh(input)}\")\n",
    "print(f\"\\tcosh (numpy) = {np.cosh(input)}\")\n",
    "print(f\"\\ttanh (math)  = {math.tanh(input)}\")\n",
    "print(f\"\\ttanh (numpy) = {np.tanh(input)}\")\n",
    "\n",
    "inputs = [1.2, 2.3, 3.14]\n",
    "print(\"\\nMultiple Value Input (array/list)\")\n",
    "print(f\"\\tsinh (numpy) = {np.sinh(inputs)}\")\n",
    "print(f\"\\tcosh (numpy) = {np.cosh(inputs)}\")\n",
    "print(f\"\\ttanh (numpy) = {np.tanh(inputs)}\")"
   ]
  },
  {
   "cell_type": "markdown",
   "metadata": {},
   "source": [
    "### `asinh`, `acosh`, and `atanh`\n",
    "\n",
    "The inverse hyperbolic trigonmetric functions `asinh`, `acosh`, and `atanh` are part of the standard Python `math` library when working with single value inputs. When working with lists and arrays, these functions can be evaluated with the external package `numpy`. By default, the input and output values are in radians."
   ]
  },
  {
   "cell_type": "code",
   "execution_count": 24,
   "metadata": {},
   "outputs": [
    {
     "name": "stdout",
     "output_type": "stream",
     "text": [
      "Single Value input\n",
      "\tasinh (math)  = 1.8618125572133835\n",
      "\tasinh (numpy) = 1.8618125572133835\n",
      "\tacosh (math)  = 1.810991348900196\n",
      "\tacosh (numpy) = 1.810991348900196\n",
      "\tatanh (math)  = 0.5493061443340548\n",
      "\tatanh (numpy) = 0.5493061443340548\n",
      "\n",
      "Multiple Value Input (array/list)\n",
      "\tasinh (numpy) = [1.19476322 1.32589777 1.86181256]\n",
      "\tacosh (numpy) = [0.96242365 1.15881036 1.81099135]\n",
      "\tatanh (numpy) = [0.54930614 0.97295507 0.14092558]\n"
     ]
    }
   ],
   "source": [
    "import math\n",
    "import numpy as np\n",
    "\n",
    "input = 3.14\n",
    "print(\"Single Value input\")\n",
    "print(f\"\\tasinh (math)  = {math.asinh(input)}\")\n",
    "print(f\"\\tasinh (numpy) = {np.arcsinh(input)}\")\n",
    "print(f\"\\tacosh (math)  = {math.acosh(input)}\")\n",
    "print(f\"\\tacosh (numpy) = {np.arccosh(input)}\")\n",
    "input = 0.5\n",
    "print(f\"\\tatanh (math)  = {math.atanh(input)}\")\n",
    "print(f\"\\tatanh (numpy) = {np.arctanh(input)}\")\n",
    "\n",
    "inputs = [1.5, 1.75, 3.14]\n",
    "print(\"\\nMultiple Value Input (array/list)\")\n",
    "print(f\"\\tasinh (numpy) = {np.arcsinh(inputs)}\")\n",
    "print(f\"\\tacosh (numpy) = {np.arccosh(inputs)}\")\n",
    "inputs = [0.5, 0.75, 0.14]\n",
    "print(f\"\\tatanh (numpy) = {np.arctanh(inputs)}\")"
   ]
  },
  {
   "cell_type": "markdown",
   "metadata": {},
   "source": [
    "## Algebraic Functions"
   ]
  },
  {
   "cell_type": "markdown",
   "metadata": {},
   "source": [
    "### `sum` and `prod`\n",
    "\n",
    "To find the sum or product of a list of values, Python include `sum` and `prod` as part of the standard Python library and are also available as well as part of the `numpy` library"
   ]
  },
  {
   "cell_type": "code",
   "execution_count": 25,
   "metadata": {},
   "outputs": [
    {
     "name": "stdout",
     "output_type": "stream",
     "text": [
      "sum of input\n",
      "\tsum (standard library) = 11.4\n",
      "\tsum (numpy)            = 11.4\n",
      "\n",
      "product of input\n",
      "\tprod (math)  = 42.227999999999994\n",
      "\tprod (numpy) = 42.227999999999994\n"
     ]
    }
   ],
   "source": [
    "import math\n",
    "import numpy as np\n",
    "\n",
    "input = [1.2, 2.3, 3.4, 4.5]\n",
    "print(\"sum of input\")\n",
    "print(f\"\\tsum (standard library) = {sum(input)}\")\n",
    "print(f\"\\tsum (numpy)            = {np.sum(input)}\")\n",
    "\n",
    "print(\"\\nproduct of input\")\n",
    "print(f\"\\tprod (math)  = {math.prod(input)}\")\n",
    "print(f\"\\tprod (numpy) = {np.prod(input)}\")"
   ]
  },
  {
   "cell_type": "markdown",
   "metadata": {},
   "source": [
    "### `cumsum` and `cumprod`\n",
    "\n",
    "The `numpy` package can be used to find the cumulative sum or product of a list of values."
   ]
  },
  {
   "cell_type": "code",
   "execution_count": 26,
   "metadata": {},
   "outputs": [
    {
     "name": "stdout",
     "output_type": "stream",
     "text": [
      "cumulative sum\n",
      "\tcumsum (numpy) = [ 1  3  6 10 15 21]\n",
      "\n",
      "cumulative product\n",
      "\tcumprod (numpy) = [  1   2   6  24 120 720]\n"
     ]
    }
   ],
   "source": [
    "import numpy as np\n",
    "\n",
    "input = [[1, 2, 3], [4, 5, 6]]\n",
    "print(\"cumulative sum\")\n",
    "print(f\"\\tcumsum (numpy) = {np.cumsum(input)}\")\n",
    "\n",
    "print(\"\\ncumulative product\")\n",
    "print(f\"\\tcumprod (numpy) = {np.cumprod(input)}\")"
   ]
  },
  {
   "cell_type": "markdown",
   "metadata": {},
   "source": [
    "### `abs`\n",
    "\n",
    "The standard Python `math` module includes the function to find the absolute value of a single value. When working with lists and arrays, the values can be evaluated with the external package `numpy`."
   ]
  },
  {
   "cell_type": "code",
   "execution_count": 2,
   "metadata": {},
   "outputs": [
    {
     "name": "stdout",
     "output_type": "stream",
     "text": [
      "Single Value input\n",
      "\t(numpy)            -3.14 = 3.14\n",
      "\t(standard library) -3.14 = 3.14\n",
      "\n",
      "Multiple Value Input (array/list)\n",
      "\t(numpy) [-1.5, -1.75, -3.14] = [1.5  1.75 3.14]\n"
     ]
    }
   ],
   "source": [
    "import numpy as np\n",
    "\n",
    "input = -3.14\n",
    "print(\"Single Value input\")\n",
    "print(f\"\\t(numpy)            {input} = {np.abs(input)}\")\n",
    "print(f\"\\t(standard library) {input} = {abs(input)}\")\n",
    "\n",
    "inputs = [-1.5, -1.75, -3.14]\n",
    "print(\"\\nMultiple Value Input (array/list)\")\n",
    "print(f\"\\t(numpy) {inputs} = {np.abs(inputs)}\")"
   ]
  },
  {
   "cell_type": "markdown",
   "metadata": {},
   "source": [
    "### `avg`\n",
    "\n",
    "When working with multiple values, the external `numpy` package can be used to evaluated the average value across the list of values."
   ]
  },
  {
   "cell_type": "code",
   "execution_count": 28,
   "metadata": {},
   "outputs": [
    {
     "name": "stdout",
     "output_type": "stream",
     "text": [
      "Single List\n",
      "\t[1, 2, 3] = 2.0\n",
      "List of Lists - Flattened to a Single List\n",
      "\t[[1, 2, 3], [4, 5, 6]] = 3.5\n",
      "List of Lists\n",
      "\t[[1, 2, 3], [4, 5, 6]] = [2. 5.]\n"
     ]
    }
   ],
   "source": [
    "import numpy as np\n",
    "\n",
    "input_value = [1, 2, 3]\n",
    "print(\"Single List\")\n",
    "print(f\"\\t{input_value} = {np.average(input_value)}\")\n",
    "\n",
    "print(\"List of Lists - Flattened to a Single List\")\n",
    "input_values = [[1, 2, 3], [4, 5, 6]]\n",
    "print(f\"\\t{input_values} = {np.mean(input_values)}\")\n",
    "\n",
    "print(\"List of Lists\")\n",
    "input_values = [[1, 2, 3], [4, 5, 6]]\n",
    "print(f\"\\t{input_values} = {np.mean(input_values, axis=1)}\")"
   ]
  },
  {
   "cell_type": "markdown",
   "metadata": {},
   "source": [
    "### `mod`\n",
    "\n",
    "The modulo operator (`%`) can be used to return the remainder from dividing values.\n",
    "\n",
    "```\n",
    "x1 mod x2 = x1 % x2\n",
    "```"
   ]
  },
  {
   "cell_type": "code",
   "execution_count": 29,
   "metadata": {},
   "outputs": [
    {
     "name": "stdout",
     "output_type": "stream",
     "text": [
      "Single Value input\n",
      "\t(standard library) 17 % 3   = 2\n",
      "\t(numpy)            17 mod 3 = 2\n",
      "\n",
      "Multiple Value Input (array/list)\n",
      "\t(numpy) [17, 4] mod [3, 2] = [2 0]\n"
     ]
    }
   ],
   "source": [
    "import numpy as np\n",
    "\n",
    "x1 = 17\n",
    "x2 = 3\n",
    "print(\"Single Value input\")\n",
    "print(f\"\\t(standard library) {x1} % {x2}   = {x1 % x2}\")\n",
    "print(f\"\\t(numpy)            {x1} mod {x2} = {np.mod(x1, x2)}\")\n",
    "\n",
    "x1_values = [17, 4]\n",
    "x2_values = [3, 2]\n",
    "print(\"\\nMultiple Value Input (array/list)\")\n",
    "print(f\"\\t(numpy) {x1_values} mod {x2_values} = {np.mod(x1_values, x2_values)}\")"
   ]
  },
  {
   "cell_type": "markdown",
   "metadata": {},
   "source": [
    "## Degrees and Radians\n",
    "\n",
    "The input and output values of trigonometric functions like `sin` and `cos` expect radians. Python allows for various functions to convert between radian and degree values, both has part of the standard Python `math` library and the external `numpy` package when working with arrays."
   ]
  },
  {
   "cell_type": "code",
   "execution_count": 30,
   "metadata": {},
   "outputs": [
    {
     "name": "stdout",
     "output_type": "stream",
     "text": [
      "Convert from Degrees to Radians\n",
      "\t(math)  32 degrees = 0.5585053606381855 radians\n",
      "\t(numpy) 32 degrees = 0.5585053606381855 radians\n",
      "\t(numpy) 32 degrees = 0.5585053606381855 raidans\n",
      "\n",
      "Convert from Radians to Degrees\n",
      "\t(math)  0.5585 radians = 31.999692858056477 degrees\n",
      "\t(numpy) 0.5585 radians = 31.999692858056477 degrees\n",
      "\t(numpy) 0.5585 radians = 31.999692858056477 degrees\n"
     ]
    }
   ],
   "source": [
    "import math\n",
    "import numpy as np\n",
    "\n",
    "input = 32  # degrees\n",
    "print(\"Convert from Degrees to Radians\")\n",
    "print(f\"\\t(math)  {input} degrees = {math.radians(input)} radians\")\n",
    "print(f\"\\t(numpy) {input} degrees = {np.deg2rad(input)} radians\")\n",
    "print(f\"\\t(numpy) {input} degrees = {np.radians(input)} raidans\")\n",
    "\n",
    "input = 0.5585  # radians\n",
    "print(\"\\nConvert from Radians to Degrees\")\n",
    "print(f\"\\t(math)  {input} radians = {math.degrees(input)} degrees\")\n",
    "print(f\"\\t(numpy) {input} radians = {np.rad2deg(input)} degrees\")\n",
    "print(f\"\\t(numpy) {input} radians = {np.degrees(input)} degrees\")"
   ]
  },
  {
   "cell_type": "markdown",
   "metadata": {},
   "source": [
    "## Rounding\n",
    "\n",
    "Python includes functions to round off a decimal point value to a desired accuracy, either by rounding up, rounding down, or by manually truncating the decimal value."
   ]
  },
  {
   "cell_type": "markdown",
   "metadata": {},
   "source": [
    "### `round`, `around`, `floor`, `ceil`"
   ]
  },
  {
   "cell_type": "code",
   "execution_count": 31,
   "metadata": {},
   "outputs": [
    {
     "name": "stdout",
     "output_type": "stream",
     "text": [
      "Rounding Up\n",
      "\t(math) 3.1415926535 to next nearest integer  = 4\n",
      "\t(numpy) 3.1415926535 to 3 decimal points     = 3.142\n",
      "\n",
      "Rounding Down\n",
      "\t(math) 3.1415926535 to nearest integer = 3\n",
      "\n",
      "Round to Closest Integer\n",
      "\t(standard library) 3.1415926535 to closest integer = 3\n",
      "\t(standard library) 3.1415926535 to closest integer = 3\n"
     ]
    }
   ],
   "source": [
    "import math\n",
    "import numpy as np\n",
    "\n",
    "input = 3.1415926535\n",
    "\n",
    "print(\"Rounding Up\")\n",
    "print(f\"\\t(math) {input} to next nearest integer  = {math.ceil(input)}\")\n",
    "print(f\"\\t(numpy) {input} to 3 decimal points     = {np.around(input, 3)}\")\n",
    "\n",
    "print(\"\\nRounding Down\")\n",
    "print(f\"\\t(math) {input} to nearest integer = {math.floor(input)}\")\n",
    "\n",
    "print(\"\\nRound to Closest Integer\")\n",
    "print(f\"\\t(standard library) {input} to closest integer = {round(input)}\")\n",
    "print(f\"\\t(standard library) {input} to closest integer = {int(input)}\")"
   ]
  },
  {
   "cell_type": "markdown",
   "metadata": {},
   "source": [
    "### `truncate`\n",
    "\n",
    "Truncate will cut off the decimal points after a certain value, without rounding up or down"
   ]
  },
  {
   "cell_type": "code",
   "execution_count": 32,
   "metadata": {},
   "outputs": [
    {
     "name": "stdout",
     "output_type": "stream",
     "text": [
      "3.141\n"
     ]
    }
   ],
   "source": [
    "input = 3.1415926535\n",
    "\n",
    "# Truncate decimal points after 3 points\n",
    "decimal_values = str(input).split(\".\")\n",
    "truncate_decimal = decimal_values[1][:3]\n",
    "truncate_output = float(decimal_values[0] + \".\" + truncate_decimal)\n",
    "print(truncate_output)"
   ]
  },
  {
   "cell_type": "markdown",
   "metadata": {},
   "source": [
    "## Exponents and Logarithms"
   ]
  },
  {
   "cell_type": "markdown",
   "metadata": {},
   "source": [
    "### `exp`\n",
    "\n",
    "Raise e (e approximately = 2.71828) to a given power x\n",
    "\n",
    "```\n",
    "exp(x) = e^x\n",
    "```\n",
    "\n",
    "The exponential is both part of the standard Python `math` library for single values and can be calculated for multiple values in a list with `numpy`"
   ]
  },
  {
   "cell_type": "code",
   "execution_count": 33,
   "metadata": {},
   "outputs": [
    {
     "name": "stdout",
     "output_type": "stream",
     "text": [
      "Single Value input\n",
      "\t(math)  e^3.2 = 24.532530197109352\n",
      "\t(numpy) e^3.2 = 24.532530197109352\n",
      "\n",
      "Multiple Value Input (array/list)\n",
      "\t(numpy) e^[1.2, 2.2, 3.2] = [ 3.32011692  9.0250135  24.5325302 ]\n"
     ]
    }
   ],
   "source": [
    "import math\n",
    "import numpy as np\n",
    "\n",
    "power = 3.2\n",
    "print(\"Single Value input\")\n",
    "print(f\"\\t(math)  e^{power} = {math.exp(power)}\")\n",
    "print(f\"\\t(numpy) e^{power} = {np.exp(power)}\")\n",
    "\n",
    "power_list = [1.2, 2.2, 3.2]\n",
    "print(\"\\nMultiple Value Input (array/list)\")\n",
    "print(f\"\\t(numpy) e^{power_list} = {np.exp(power_list)}\")"
   ]
  },
  {
   "cell_type": "markdown",
   "metadata": {},
   "source": [
    "### `log`, `log10`, and `log2`\n",
    "\n",
    "Python includes many different functions to calculate the logarithm with various bases of a given value, with the standard Python `math` library for single values and the arrays/lists with `numpy`"
   ]
  },
  {
   "cell_type": "code",
   "execution_count": 34,
   "metadata": {},
   "outputs": [
    {
     "name": "stdout",
     "output_type": "stream",
     "text": [
      "Single Value input (Base 10)\n",
      "\tlog base 10 of 3.2 (math.log10) = 0.505149978319906\n",
      "\tlog base 10 of 3.2 (math.log)   = 0.5051499783199059\n",
      "\tlog base 10 of 3.2 (np.log10)   = 0.505149978319906\n",
      "\n",
      "Single Value input (Base 2)\n",
      "\tlog base 2 of 3.2 (math.log2) = 1.6780719051126378\n",
      "\tlog base 2 of 3.2 (math.log)  = 1.6780719051126378\n",
      "\tlog base 2 of 3.2 (np.log2)   = 1.6780719051126378\n",
      "\n",
      "Single Value input (Base e)\n",
      "\tlog base e of 3.2 (math.log) = 1.1631508098056809\n",
      "\tlog base e of 3.2 (math.log) = 1.1631508098056809\n",
      "\tlog base e of 3.2 (np.log)   = 1.1631508098056809\n",
      "\n",
      "Multiple Value Input (array/list)\n",
      "\tBase 10\n",
      "\t\tlog10 (np.log10) = [0.07918125 0.34242268 0.50514998]\n",
      "\tBase 2\n",
      "\t\tlog2 (np.log2)   = [0.26303441 1.13750352 1.67807191]\n",
      "\tBase e\n",
      "\t\tlog (np.log)     = [0.18232156 0.78845736 1.16315081]\n"
     ]
    }
   ],
   "source": [
    "import math\n",
    "import numpy as np\n",
    "\n",
    "print(\"Single Value input (Base 10)\")\n",
    "input = 3.2\n",
    "base = 10\n",
    "print(f\"\\tlog base 10 of {input} (math.log10) = {math.log10(input)}\")\n",
    "print(f\"\\tlog base {base} of {input} (math.log)   = {math.log(input, base)}\")\n",
    "print(f\"\\tlog base 10 of {input} (np.log10)   = {np.log10(input)}\")\n",
    "\n",
    "print(\"\\nSingle Value input (Base 2)\")\n",
    "input = 3.2\n",
    "base = 2\n",
    "print(f\"\\tlog base 2 of {input} (math.log2) = {math.log2(input)}\")\n",
    "print(f\"\\tlog base {base} of {input} (math.log)  = {math.log(input, base)}\")\n",
    "print(f\"\\tlog base 2 of {input} (np.log2)   = {np.log2(input)}\")\n",
    "\n",
    "print(\"\\nSingle Value input (Base e)\")\n",
    "input = 3.2\n",
    "base = math.e\n",
    "print(f\"\\tlog base e of {input} (math.log) = {math.log(input)}\")\n",
    "print(f\"\\tlog base e of {input} (math.log) = {math.log(input, base)}\")\n",
    "print(f\"\\tlog base e of {input} (np.log)   = {np.log(input)}\")\n",
    "\n",
    "input_list = [1.2, 2.2, 3.2]\n",
    "print(\"\\nMultiple Value Input (array/list)\")\n",
    "print(\"\\tBase 10\")\n",
    "print(f\"\\t\\tlog10 (np.log10) = {np.log10(input_list)}\")\n",
    "print(\"\\tBase 2\")\n",
    "print(f\"\\t\\tlog2 (np.log2)   = {np.log2(input_list)}\")\n",
    "print(\"\\tBase e\")\n",
    "print(f\"\\t\\tlog (np.log)     = {np.log(input_list)}\")"
   ]
  },
  {
   "cell_type": "markdown",
   "metadata": {},
   "source": [
    "## Curated Resources\n",
    "\n",
    "To learn more about working with math in Python, we suggest:\n",
    "\n",
    "- [Built-in Python Functions](https://docs.python.org/3/library/functions.html)\n",
    "- [Standard Built-In Python `math` module](https://docs.python.org/3/library/math.html)\n",
    "- [Python `cmath` when working with complex mathematics](https://docs.python.org/3/library/cmath.html)\n",
    "- Additional [mathematical `numpy` functions](https://numpy.org/doc/stable/reference/routines.math.html)"
   ]
  }
 ],
 "metadata": {
  "kernelspec": {
   "display_name": "Python 3 (ipykernel)",
   "language": "python",
   "name": "python3"
  },
  "language_info": {
   "codemirror_mode": {
    "name": "ipython",
    "version": 3
   },
   "file_extension": ".py",
   "mimetype": "text/x-python",
   "name": "python",
   "nbconvert_exporter": "python",
   "pygments_lexer": "ipython3",
   "version": "3.11.8"
  }
 },
 "nbformat": 4,
 "nbformat_minor": 4
}
