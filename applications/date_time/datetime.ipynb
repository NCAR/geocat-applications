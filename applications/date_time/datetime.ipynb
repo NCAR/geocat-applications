{
 "cells": [
  {
   "metadata": {},
   "cell_type": "markdown",
   "source": "# Working with Date and Time",
   "id": "b53cacffa29d30a6"
  },
  {
   "metadata": {},
   "cell_type": "markdown",
   "source": "## The datetime module",
   "id": "13edacb9510e559e"
  },
  {
   "metadata": {},
   "cell_type": "code",
   "outputs": [],
   "execution_count": null,
   "source": "",
   "id": "bc54610955d8ef71"
  }
 ],
 "metadata": {
  "kernelspec": {
   "display_name": "Python 3",
   "language": "python",
   "name": "python3"
  },
  "language_info": {
   "codemirror_mode": {
    "name": "ipython",
    "version": 2
   },
   "file_extension": ".py",
   "mimetype": "text/x-python",
   "name": "python",
   "nbconvert_exporter": "python",
   "pygments_lexer": "ipython2",
   "version": "2.7.6"
  }
 },
 "nbformat": 4,
 "nbformat_minor": 5
}
