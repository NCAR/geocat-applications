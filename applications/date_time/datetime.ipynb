{
 "cells": [
  {
   "cell_type": "markdown",
   "id": "b53cacffa29d30a6",
   "metadata": {},
   "source": [
    "# Working with Dates and Times"
   ]
  },
  {
   "cell_type": "markdown",
   "id": "783a656d272204c2",
   "metadata": {},
   "source": [
    "## Overview\n",
    "Working with dates and times in Python is a common task in geoscience workflows. This notebook will cover:\n",
    "- Working with the [`datetime`](docs.python.org/3/library/datetime.html) module from the Python Standard Library\n",
    "- [`cftime`](unidata.github.io/cftime/index.html), [CF Conventions](cfconventions.org), and how they are related to working with geoscience data\n",
    "- A resource guide to point you to more detailed information depending on your use case"
   ]
  },
  {
   "cell_type": "markdown",
   "id": "13edacb9510e559e",
   "metadata": {},
   "source": [
    "## The `datetime` module\n",
    "From the [module's documentation](https://docs.python.org/3/library/datetime.html):\n",
    "\n",
    "> The `datetime` module supplies classes for manipulating dates and times.\n",
    ">\n",
    "> While date and time arithmetic is supported, the focus of the implementation is on efficient attribute extraction for output formatting and manipulation."
   ]
  },
  {
   "cell_type": "code",
   "execution_count": 1,
   "id": "2092ca5d86a3a24b",
   "metadata": {
    "ExecuteTime": {
     "end_time": "2024-06-03T04:44:37.784336Z",
     "start_time": "2024-06-03T04:44:37.781266Z"
    }
   },
   "outputs": [
    {
     "name": "stdout",
     "output_type": "stream",
     "text": [
      "datetime.date.today() -> \t 2024-06-02\n",
      "datetime.datetime.now() -> \t 2024-06-02 22:44:37.783255\n"
     ]
    }
   ],
   "source": [
    "import datetime\n",
    "\n",
    "today = datetime.date.today()\n",
    "print(f\"datetime.date.today() -> \\t {today}\")\n",
    "now = datetime.datetime.now()\n",
    "print(f\"datetime.datetime.now() -> \\t {now}\")"
   ]
  },
  {
   "cell_type": "markdown",
   "id": "6368d2ab290b3d1",
   "metadata": {},
   "source": [
    "### `strftime()`\n",
    "\n",
    "You can use [`strftime()`](https://docs.python.org/3/library/datetime.html#datetime.datetime.strftime) to parse and format these date objects.To see all formatting options, see the [full list of format codes](https://docs.python.org/3/library/datetime.html#format-codes)."
   ]
  },
  {
   "cell_type": "code",
   "execution_count": 2,
   "id": "1d18147498a434eb",
   "metadata": {
    "ExecuteTime": {
     "end_time": "2024-06-03T04:44:37.787843Z",
     "start_time": "2024-06-03T04:44:37.785520Z"
    }
   },
   "outputs": [
    {
     "name": "stdout",
     "output_type": "stream",
     "text": [
      "now.strftime('%Y')\n",
      "2024\n",
      "\n",
      "now.strftime('%A, %B %d %Y %I:%M:%S %p')\n",
      "Sunday, June 02 2024 10:44:37 PM\n",
      "\n",
      "now.strftime('%c')\n",
      "Sun Jun  2 22:44:37 2024\n"
     ]
    }
   ],
   "source": [
    "# print just the year\n",
    "print(\"now.strftime('%Y')\")\n",
    "print(now.strftime(\"%Y\"))\n",
    "print()\n",
    "\n",
    "# print weekday, month, day, year, 12h time, and AM/PM\n",
    "print(\"now.strftime('%A, %B %d %Y %I:%M:%S %p')\")\n",
    "print(now.strftime(\"%A, %B %d %Y %I:%M:%S %p\"))\n",
    "print()\n",
    "\n",
    "# use a shorter version to produce \"locale appropriate\" date and time\n",
    "print(\"now.strftime('%c')\")\n",
    "print(now.strftime(\"%c\"))"
   ]
  },
  {
   "cell_type": "markdown",
   "id": "d176a3090c4730eb",
   "metadata": {},
   "source": [
    "These functions use a [propeleptic Gregorian](https://en.wikipedia.org/wiki/Proleptic_Gregorian_calendar) calendar, though, which is not always sufficient for working with geoscience data."
   ]
  },
  {
   "cell_type": "markdown",
   "id": "c8a19ab9f50212c5",
   "metadata": {},
   "source": [
    "## cftime\n",
    "\n",
    "[`cftime`](https://unidata.github.io/cftime/) is another library for working with dates and times in Python that conforms to the [Climate and Forecasting (CF) metadata conventions](https://cfconventions.org/cf-conventions/cf-conventions#time-coordinate).\n",
    "\n",
    "Importantly, `cftime` supports all the calendars defined in the CF conventions, including `gregorian` or `standard`, which is the mixed Gregorian/Julian calendar defined by [Udunits](https://www.unidata.ucar.edu/software/udunits/), `proleptic_gregorian`, `noleap` or `365_day`, `all_leap` or `366_day`, `360_day`, and `julian`.\n",
    "\n",
    "`cftime` is often useful for working with geoscience data and can be used with [`xarray`](https://docs.xarray.dev/en/stable/generated/xarray.CFTimeIndex.html)."
   ]
  },
  {
   "cell_type": "markdown",
   "id": "a710537046d5a159",
   "metadata": {},
   "source": [
    "## Specific Use Cases"
   ]
  },
  {
   "cell_type": "markdown",
   "id": "de2a66ba6d34497d",
   "metadata": {},
   "source": [
    "### Calculating the number of days in a month\n",
    "To calculate the number of days in a month, use [`cftime.datetime().daysinmonth`](https://unidata.github.io/cftime/api.html#cftime.datetime)."
   ]
  },
  {
   "cell_type": "code",
   "execution_count": 3,
   "id": "f0390a82422e4913",
   "metadata": {
    "ExecuteTime": {
     "end_time": "2024-06-03T04:44:37.861353Z",
     "start_time": "2024-06-03T04:44:37.788458Z"
    }
   },
   "outputs": [
    {
     "data": {
      "text/plain": [
       "30"
      ]
     },
     "execution_count": 3,
     "metadata": {},
     "output_type": "execute_result"
    }
   ],
   "source": [
    "import cftime\n",
    "\n",
    "day = 1\n",
    "month = 6\n",
    "year = 2024\n",
    "\n",
    "date = cftime.datetime(year, month, day, calendar=\"standard\").daysinmonth\n",
    "date"
   ]
  },
  {
   "cell_type": "markdown",
   "id": "e47737aa",
   "metadata": {},
   "source": [
    "### Calculating the day of the week\n",
    "To calculate the day of the week, use `cftime.datetime().strftime(\"%A\")`."
   ]
  },
  {
   "cell_type": "code",
   "execution_count": 2,
   "id": "a7e20432",
   "metadata": {},
   "outputs": [
    {
     "name": "stdout",
     "output_type": "stream",
     "text": [
      "2024-6-4 is a Tuesday\n"
     ]
    }
   ],
   "source": [
    "import cftime\n",
    "\n",
    "day = 4\n",
    "month = 6\n",
    "year = 2024\n",
    "\n",
    "dow = cftime.datetime(\n",
    "    year, month, day, calendar='proleptic_gregorian', has_year_zero=True\n",
    ").strftime(\"%A\")\n",
    "print(f\"{year}-{month}-{day} is a {dow}\")"
   ]
  },
  {
   "cell_type": "markdown",
   "id": "1d434857c1cd81d1",
   "metadata": {},
   "source": [
    "## Curated Resources\n",
    "\n",
    "To learn more about working with dates and times in Python, we suggest:\n",
    "- the Project Pythia Foundations chapter titled [Times and Dates in Python](https://foundations.projectpythia.org/core/datetime/datetime.html)\n",
    "- this Xarray [documentation page on timeseries data](https://docs.xarray.dev/en/latest/user-guide/time-series.html)\n",
    "- the [\"How to handle time series data with ease\"](https://pandas.pydata.org/docs/getting_started/intro_tutorials/09_timeseries.html) tutorial if you're working with `pandas`"
   ]
  }
 ],
 "metadata": {
  "kernelspec": {
   "display_name": "Python 3",
   "language": "python",
   "name": "python3"
  },
  "language_info": {
   "codemirror_mode": {
    "name": "ipython",
    "version": 3
   },
   "file_extension": ".py",
   "mimetype": "text/x-python",
   "name": "python",
   "nbconvert_exporter": "python",
   "pygments_lexer": "ipython3",
   "version": "3.12.3"
  }
 },
 "nbformat": 4,
 "nbformat_minor": 5
}
