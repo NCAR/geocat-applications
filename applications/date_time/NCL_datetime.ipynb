{
 "cells": [
  {
   "cell_type": "markdown",
   "id": "85f94cfa6f4fae8e",
   "metadata": {},
   "source": [
    "# Datetime functions in NCL"
   ]
  },
  {
   "cell_type": "markdown",
   "id": "5df936372159018b",
   "metadata": {},
   "source": [
    "## Overview"
   ]
  },
  {
   "cell_type": "markdown",
   "id": "774124772c1ca8d4",
   "metadata": {},
   "source": [
    "## Grab and Go"
   ]
  },
  {
   "cell_type": "markdown",
   "id": "471ffe2f336259de",
   "metadata": {},
   "source": [
    "---"
   ]
  },
  {
   "cell_type": "markdown",
   "id": "6b288584e85b49b9",
   "metadata": {},
   "source": [
    "## Using datetime in NCL"
   ]
  },
  {
   "cell_type": "code",
   "execution_count": null,
   "id": "d54840a911c73610",
   "metadata": {},
   "outputs": [],
   "source": []
  }
 ],
 "metadata": {
  "kernelspec": {
   "display_name": "Python 3",
   "language": "python",
   "name": "python3"
  },
  "language_info": {
   "codemirror_mode": {
    "name": "ipython",
    "version": 3
   },
   "file_extension": ".py",
   "mimetype": "text/x-python",
   "name": "python",
   "nbconvert_exporter": "python",
   "pygments_lexer": "ipython3",
   "version": "3.12.3"
  }
 },
 "nbformat": 4,
 "nbformat_minor": 5
}
