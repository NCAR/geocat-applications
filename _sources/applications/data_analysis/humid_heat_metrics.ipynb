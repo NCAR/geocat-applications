{
 "cells": [
  {
   "cell_type": "markdown",
   "metadata": {},
   "source": [
    "# Humid Heat Metrics"
   ]
  },
  {
   "cell_type": "markdown",
   "metadata": {},
   "source": [
    "## Overview\n",
    "\n",
    "Humid heat metrics index temperature and humidity, which is often more useful than comparing either variable alone when considering perceived temperature, as they together affect the human body's ability to cool itself down. Humid heat metrics are especially important for the safety of outside workers, the elderly, or otherwise high-risk, high-exposure individuals{footcite}`li_2020`.\n",
    "\n",
    "Wet Bulb Globe Temperature ({math}`WBGT`) is a measure of heat stress. The equations for outdoor ({math}`WBGT_{od}`) and indoor/shaded ({math}`WBGT_{id}`) WBGTs are{footcite}`li_2020`:\n",
    "\n",
    "{math}`WBGT_{od} = 0.7*T_{nwb} + 0.2*T_g + 0.1*T_a`\n",
    "\n",
    "{math}`WBGT_{id} = 0.7*T_{nwb} + 0.3*T_g`\n",
    "\n",
    "where {math}`T_a` refers to Dry Bulb Ambient Temperatue, {math}`T_{nwb}` is the Natural Wet Bulb Temperature with exposure to wind and sun, and {math}`T_g` is the Globe Temperature taken from inside a copper globe painted black and exposed to the sun{footcite}`li_2020`.\n",
    "\n",
    "However, this formula is complicated by the reality that Natural Wet Bulb Temperature and Globe Temperature are not always readily available variables from weather stations or atmospheric models.\n",
    "\n",
    "In this notebook, we will demonstrate the Australian Bureau of Meteorology (ABM) and Bernard methods of predicting wet bulb global temperature with a focus on the July 1995 Chicago heatwave.\n",
    "\n",
    "For our analysis, we have ERA5 reanalysis data for the lower contiguous United States (50&deg;N, 24&deg;S, -66&deg;E, -125&deg;W) from July 1995 with the variables: 2-meter temperature, 2-meter dew point temperature, surface pressure, and *u*/*v* wind components.\n",
    "\n",
    "ERA5 is a reanalysis, a global weather/climate dataset that combines model output and observations with physical understanding to create a spatially and temporally consistent historic dataset, spanning from 1940 to today (updated every 5 days){footcite}`era5`."
   ]
  },
  {
   "cell_type": "markdown",
   "metadata": {},
   "source": [
    "---"
   ]
  },
  {
   "cell_type": "code",
   "execution_count": null,
   "metadata": {},
   "outputs": [],
   "source": [
    "import geocat.datafiles as gdf\n",
    "import xarray as xr\n",
    "import numpy as np\n",
    "import matplotlib.pyplot as plt\n",
    "import cartopy.crs as ccrs\n",
    "from scipy import optimize"
   ]
  },
  {
   "cell_type": "code",
   "execution_count": null,
   "metadata": {},
   "outputs": [],
   "source": [
    "era5 = xr.open_dataset(gdf.get(\"netcdf_files/era5_1995-07-14T12.nc\"))\n",
    "era5.u10"
   ]
  },
  {
   "cell_type": "code",
   "execution_count": 3,
   "metadata": {},
   "outputs": [],
   "source": [
    "# Convert from Kelvin to Celsius\n",
    "\n",
    "era5['t2m_C'] = era5['t2m'] - 273.15\n",
    "era5['d2m_C'] = era5['d2m'] - 273.15"
   ]
  },
  {
   "cell_type": "code",
   "execution_count": 4,
   "metadata": {},
   "outputs": [],
   "source": [
    "# Chicago coordinates\n",
    "lat_chicago = 41.8781\n",
    "lon_chicago = -87.6298"
   ]
  },
  {
   "cell_type": "markdown",
   "metadata": {},
   "source": [
    "## Australian Bureau of Meteorology (ABM)\n",
    "\n",
    "The [Australian Bureau of Meteorology](http://www.bom.gov.au/)'s method of estimating Wet Bulb Global Temperature is attractive due to its simplicity. It only requires temperature and relative humidity{footcite}`abm_2010`.\n",
    "\n",
    "Below is a chart of WBGT from relative humidity and temperature{footcite}`abm_2010`:\n",
    "\n",
    "<img src=\"../../_static/images/wbgt_approximation.png\">\n",
    "\n",
    "This method tends to overpredict WBGT compared to other models and assumes full sunlight and light breeze."
   ]
  },
  {
   "cell_type": "code",
   "execution_count": 5,
   "metadata": {},
   "outputs": [],
   "source": [
    "def calc_abm_wbgt(t_a, rh):\n",
    "    p = (\n",
    "        (rh / 100) * 6.105 * np.exp(17.27 * t_a / (237.7 + t_a))\n",
    "    )  # water vapor pressure [hPa]\n",
    "    wbgt = (0.567 * t_a) + (0.393 * p) + 3.94\n",
    "    return wbgt"
   ]
  },
  {
   "cell_type": "markdown",
   "metadata": {},
   "source": [
    "To use our ERA5 data in this equation, we need to first calculate relative humidity (the ratio of vapor pressure to saturation pressure) from temperature and dewpoint. To do this we use the Magnus-Tetens Approximation for vapor pressure{footcite}`monteith_2008`:\n",
    "\n",
    "{math}`e = 6.11 \\exp {\\left( \\frac{17.625 \\times t}{t + 243.04} \\right)}`\n",
    "\n",
    "where {math}`e` is vapor pressure and {math}`t` is temperature in Kelvin."
   ]
  },
  {
   "cell_type": "code",
   "execution_count": 6,
   "metadata": {},
   "outputs": [],
   "source": [
    "def _calc_vapor_pressure(t):  # Magnus-Tetens Approximation\n",
    "    e = 6.11 * np.exp((17.27 * t) / (t + 237.3))  # Vapor Pressure in hPa\n",
    "    return e\n",
    "\n",
    "\n",
    "def calc_relative_humidity_era5(t_a, t_d):\n",
    "    e = _calc_vapor_pressure(t_d)  # vapor pressure from dew point temp\n",
    "    e_sat = _calc_vapor_pressure(t_a)  # saturation vapor pressure\n",
    "    rh = 100 * e / e_sat  # Clausius-Clapeyron equation\n",
    "    return rh\n",
    "\n",
    "\n",
    "rh = calc_relative_humidity_era5(era5.t2m_C, era5.d2m_C)"
   ]
  },
  {
   "cell_type": "code",
   "execution_count": null,
   "metadata": {},
   "outputs": [],
   "source": [
    "wbgt_abm = calc_abm_wbgt(era5.t2m_C, rh)\n",
    "wbgt_abm"
   ]
  },
  {
   "cell_type": "markdown",
   "metadata": {},
   "source": [
    "### Plotting Chicago ABM WBGT"
   ]
  },
  {
   "cell_type": "code",
   "execution_count": null,
   "metadata": {},
   "outputs": [],
   "source": [
    "fig = plt.figure()\n",
    "ax = plt.axes(projection=ccrs.PlateCarree())\n",
    "\n",
    "c = plt.contourf(era5.longitude, era5.latitude, wbgt_abm, cmap='inferno')\n",
    "\n",
    "ax.coastlines()\n",
    "\n",
    "cbar = plt.colorbar(c, ax=ax, orientation='horizontal')\n",
    "cbar.set_label('Wet Bulb Global Temperature' + '\\N{DEGREE SIGN}' + 'C')\n",
    "\n",
    "ax.set_title('July 14, 1995 noon - ABM WBGT')\n",
    "\n",
    "# Annotate location of Chicago\n",
    "ax.plot(lon_chicago, lat_chicago, 'k*');"
   ]
  },
  {
   "cell_type": "markdown",
   "metadata": {},
   "source": [
    "## Bernard\n",
    "\n",
    "Bernard's semi-empirical formula approximates Natural Wet Bulb temperature based on heat exchange of a wetted wick exposed to sun and wind based on measurements of common United States summertime environmental conditions{footcite}`bernard_1999`.\n",
    "\n",
    "This is considered an indoor WBGT temperature because it does not include any strong radiative sources in the calculation.\n",
    "\n",
    "{math}`\n",
    "WBGT_{id} = \\begin{cases} \n",
    "      0.7T_{pwb} + 0.3T_a & \\text{if } v > 3 m/s\\\\\n",
    "      0.67T_{pwb} + 0.33T_a − 0.048 log_10v (T_a − T_{pwb}) & \\text{if } 0.3 \\geq v \\leq 3 m/s \n",
    "   \\end{cases}\n",
    "`\n",
    "\n",
    "In Bernard's analysis, wind speeds less than 0.3 m/s are not included since the field of humid heat metrics is primarily concerned with workers, and an outdoor worker is unlikely to be stationary. Apparent wind speeds are assumed to be at least 1 m/s{footcite}`bernard_1999`.\n",
    "\n",
    "This formula utilizes thermodynamic Wet Bulb Temperature ({math}`T_{pwb}`), which is a wet bulb temperature in the shade and fanned or rotated. This is the wet bulb typically used for dew point calculations, and can be iteratively derived from temperature ({math}`T_a`) and dewpoint ({math}`T_d`)."
   ]
  },
  {
   "cell_type": "code",
   "execution_count": 9,
   "metadata": {},
   "outputs": [],
   "source": [
    "# Bernard formula for WBGT\n",
    "def calc_bernard_wbgt(t_a, t_pwb, v):\n",
    "    if np.all(v < 0.3):  # m/s\n",
    "        return np.nan  # Return NaN where velocity is below the threshold\n",
    "    elif np.all((0.3 <= v) & (v <= 3)):\n",
    "        wbgt = (0.67 * t_pwb) + (0.33 * t_a) - (0.48 * np.log10(v) * (t_a - t_pwb))\n",
    "    else:\n",
    "        wbgt = (0.7 * t_pwb) + (0.3 * t_a)\n",
    "\n",
    "    return wbgt"
   ]
  },
  {
   "cell_type": "markdown",
   "metadata": {},
   "source": [
    "$T_{pwb}$ is iteratively solved from McPherson's formula{footcite}`lemke_kjellstrom_2012`:\n",
    "\n",
    "{math}`1556 e_d - 1.484 e_d * T_{pwb} - 1556 e_w + 1.484 * e_w * T_{pwb} + 1010 * (t_a - t_pwb) = 0`\n",
    "\n",
    "where {math}`e_d = 6.106 * exp(17.27 * T_d / (237.3 + T_d))` \\\n",
    "and {math}`e_w = 6.106 * exp(17.27 * T_{pwb} / (237.3 + T_{pwb}))`\n",
    "\n",
    "Here we use a Newton-Raphson iterative method for the iterative solve for {math}`t_{pwb}`. \n",
    "\n",
    "{math}`x_{n+1} = x_n - \\frac{f(x_n)}{f'(x_n)}`\n",
    "\n",
    "Essentially, Newton-Raphson is a root finding method that plugs your initial guess into the equation in question and the derivative of that equation in order to get a more accurate guess {footcite}`atkinson_1989`. This is repeated until your new guess is sufficiently close. Thankfully we have [`scipy.optimize.newton()`](https://docs.scipy.org/doc/scipy/reference/generated/scipy.optimize.newton.html) to handle this solve for us."
   ]
  },
  {
   "cell_type": "code",
   "execution_count": 10,
   "metadata": {},
   "outputs": [],
   "source": [
    "# Scalar function to compute t_pwb\n",
    "def _calc_tpwb_scalar(t_a, t_d):\n",
    "    def f(t_pwb):\n",
    "        e_d = 6.106 * np.exp(17.27 * t_d / (237.3 + t_d))  # hPa\n",
    "        # e_w = 6.106 * np.exp(17.27 * t_pwb / (237.3 + t_pwb))\n",
    "        func = (\n",
    "            1556 * e_d\n",
    "            - 1.484 * e_d * t_pwb\n",
    "            - 1556 * (6.106 * np.exp(17.27 * t_pwb / (237.3 + t_pwb)))\n",
    "            + 1.484 * (6.106 * np.exp(17.27 * t_pwb / (237.3 + t_pwb))) * t_pwb\n",
    "            + 1010 * (t_a - t_pwb)\n",
    "        )\n",
    "        return func\n",
    "\n",
    "    def f_prime(t_pwb, h=1e-5):  # numerical derivative\n",
    "        return (f(t_pwb + h) - f(t_pwb - h)) / (2 * h)\n",
    "\n",
    "    # Use the Newton-Raphson method with scipy's newton function\n",
    "    t_pwb_0 = t_d  # initial guess\n",
    "    t_pwb = optimize.newton(f, t_pwb_0, fprime=f_prime, tol=1e-6, maxiter=100)\n",
    "    return t_pwb\n",
    "\n",
    "\n",
    "# Apply function over grid\n",
    "def _calc_tpwb(t_a, t_d):\n",
    "    return xr.apply_ufunc(\n",
    "        _calc_tpwb_scalar,\n",
    "        t_a,\n",
    "        t_d,\n",
    "        vectorize=True,\n",
    "        dask=\"parallelized\",\n",
    "        output_dtypes=[float],\n",
    "    )"
   ]
  },
  {
   "cell_type": "code",
   "execution_count": null,
   "metadata": {},
   "outputs": [],
   "source": [
    "v = np.sqrt(era5.u10**2 + era5.v10**2)  # combine u and v wind components\n",
    "t_pwb = _calc_tpwb(era5.t2m_C, era5.d2m_C)\n",
    "\n",
    "wbgt_bernard = calc_bernard_wbgt(era5.t2m_C, t_pwb, v)\n",
    "wbgt_bernard"
   ]
  },
  {
   "cell_type": "markdown",
   "metadata": {},
   "source": [
    "### Plotting Chicago Bernard WBGT"
   ]
  },
  {
   "cell_type": "code",
   "execution_count": null,
   "metadata": {},
   "outputs": [],
   "source": [
    "fig = plt.figure()\n",
    "ax = plt.axes(projection=ccrs.PlateCarree())\n",
    "\n",
    "c = plt.contourf(era5.longitude, era5.latitude, wbgt_bernard, cmap='inferno')\n",
    "\n",
    "ax.coastlines()\n",
    "\n",
    "cbar = plt.colorbar(c, ax=ax, orientation='horizontal')\n",
    "cbar.set_label('Wet Bulb Global Temperature' + '\\N{DEGREE SIGN}' + 'C')\n",
    "\n",
    "ax.set_title('July 14, 1995 noon - Bernard WBGT method')\n",
    "\n",
    "# Annotate location of Chicago\n",
    "ax.plot(lon_chicago, lat_chicago, 'k*');"
   ]
  },
  {
   "cell_type": "markdown",
   "metadata": {},
   "source": [
    "## Comparing methods\n",
    "\n",
    "When comparing our output from both ABM and Bernard, ABM tends to estimate at higher WBGT by 4 - 7 degrees Celsius."
   ]
  },
  {
   "cell_type": "code",
   "execution_count": null,
   "metadata": {},
   "outputs": [],
   "source": [
    "fig = plt.figure()\n",
    "ax = plt.axes(projection=ccrs.PlateCarree())\n",
    "ax.coastlines()\n",
    "\n",
    "diff = wbgt_abm - wbgt_bernard\n",
    "\n",
    "c = plt.contourf(era5.longitude, era5.latitude, diff, cmap='Reds')\n",
    "\n",
    "cbar = plt.colorbar(c, ax=ax, orientation='horizontal')\n",
    "cbar.set_label(\n",
    "    '\\N{GREEK CAPITAL LETTER DELTA} Wet Bulb Global Temperature'\n",
    "    + '\\N{DEGREE SIGN}'\n",
    "    + 'C'\n",
    ")\n",
    "ax.set_title('July 14, 1995 noon - WBGT Difference (ABM - Bernard)')\n",
    "\n",
    "# Annotate location of Chicago\n",
    "ax.plot(lon_chicago, lat_chicago, 'k*');"
   ]
  },
  {
   "cell_type": "markdown",
   "metadata": {},
   "source": [
    "## References:\n",
    "\n",
    "```{footbibliography}\n",
    "```"
   ]
  }
 ],
 "metadata": {
  "kernelspec": {
   "display_name": "geocat_comp_build",
   "language": "python",
   "name": "python3"
  },
  "language_info": {
   "codemirror_mode": {
    "name": "ipython",
    "version": 3
   },
   "file_extension": ".py",
   "mimetype": "text/x-python",
   "name": "python",
   "nbconvert_exporter": "python",
   "pygments_lexer": "ipython3",
   "version": "3.12.2"
  }
 },
 "nbformat": 4,
 "nbformat_minor": 2
}
