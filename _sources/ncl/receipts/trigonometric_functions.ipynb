{
 "cells": [
  {
   "cell_type": "markdown",
   "id": "e6eddaf181eacfd3",
   "metadata": {},
   "source": [
    "# Trigonometric Functions"
   ]
  },
  {
   "cell_type": "markdown",
   "id": "e6be6389ef38b00b",
   "metadata": {},
   "source": [
    "```{warning} This is not meant to be a standalone notebook.\n",
    "This notebook is part of the process we have for adding entries to the NCL Index and is not meant to be used as tutorial or example code.\n",
    "```"
   ]
  },
  {
   "cell_type": "markdown",
   "id": "536ffded4355d9c6",
   "metadata": {},
   "source": [
    "## Functions covered\n",
    "\n",
    "- [sin](https://www.ncl.ucar.edu/Document/Functions/Built-in/sin.shtml)\n",
    "- [cos](https://www.ncl.ucar.edu/Document/Functions/Built-in/cos.shtml)\n",
    "- [tan](https://www.ncl.ucar.edu/Document/Functions/Built-in/tan.shtml)\n",
    "- [asin](https://www.ncl.ucar.edu/Document/Functions/Built-in/asin.shtml)\n",
    "- [acos](https://www.ncl.ucar.edu/Document/Functions/Built-in/acos.shtml)\n",
    "- [atan](https://www.ncl.ucar.edu/Document/Functions/Built-in/atan.shtml)\n",
    "- [atan2](https://www.ncl.ucar.edu/Document/Functions/Built-in/atan2.shtml)\n",
    "- [cosh](https://www.ncl.ucar.edu/Document/Functions/Built-in/cosh.shtml)\n",
    "- [sinh](https://www.ncl.ucar.edu/Document/Functions/Built-in/sinh.shtml)\n",
    "- [tanh](https://www.ncl.ucar.edu/Document/Functions/Built-in/tanh.shtml)"
   ]
  },
  {
   "cell_type": "markdown",
   "id": "4a129c971c083695",
   "metadata": {},
   "source": [
    "## NCL code"
   ]
  },
  {
   "cell_type": "markdown",
   "id": "3d70616a8934f0fb",
   "metadata": {},
   "source": [
    "```{literalinclude} ../ncl_raw/trigonometric_functions.ncl\n",
    "\n",
    "```"
   ]
  },
  {
   "cell_type": "markdown",
   "id": "d918dec004b6456b",
   "metadata": {},
   "source": [
    "## Python Functionality"
   ]
  },
  {
   "cell_type": "code",
   "execution_count": 26,
   "id": "47cd64dda7652b64",
   "metadata": {},
   "outputs": [],
   "source": [
    "import math\n",
    "import numpy as np\n",
    "\n",
    "results_math = {}\n",
    "results_np = {}\n",
    "\n",
    "# sin\n",
    "f = 0.5\n",
    "sin_math_f = math.sin(f)\n",
    "sin_np_f = np.sin(f)\n",
    "results_math[\"sin\"] = sin_math_f\n",
    "results_np[\"sin\"] = sin_np_f\n",
    "\n",
    "# cos\n",
    "f = -1.0\n",
    "cos_math_f = math.cos(f)\n",
    "cos_np_f = np.cos(f)\n",
    "results_math[\"cos\"] = cos_math_f\n",
    "results_np[\"cos\"] = cos_np_f\n",
    "\n",
    "# tan\n",
    "f = 5.6\n",
    "tan_math_f = math.tan(f)\n",
    "tan_np_f = np.tan(f)\n",
    "results_math[\"tan\"] = tan_math_f\n",
    "results_np[\"tan\"] = tan_np_f\n",
    "\n",
    "# asin\n",
    "f = 0.5\n",
    "asin_math_f = math.asin(f)\n",
    "asin_np_f = np.arcsin(f)\n",
    "results_math[\"asin\"] = asin_math_f\n",
    "results_np[\"asin\"] = asin_np_f\n",
    "\n",
    "# acos\n",
    "f = -1.0\n",
    "acos_math_f = math.acos(f)\n",
    "acos_np_f = np.arccos(f)\n",
    "results_math[\"acos\"] = acos_math_f\n",
    "results_np[\"acos\"] = acos_np_f\n",
    "\n",
    "# atan\n",
    "f = 2.7\n",
    "atan_math_f = math.atan(f)\n",
    "atan_np_f = np.arctan(f)\n",
    "results_math[\"atan\"] = atan_math_f\n",
    "results_np[\"atan\"] = atan_np_f\n",
    "\n",
    "# atan2\n",
    "x = 10.0\n",
    "y = 5.0\n",
    "atan2_math_f = math.atan2(y, x)\n",
    "atan2_np_f = np.arctan2(y, x)\n",
    "results_math[\"atan2\"] = atan2_math_f\n",
    "results_np[\"atan2\"] = atan2_np_f\n",
    "\n",
    "# cosh\n",
    "f = -3.2\n",
    "cosh_math_f = math.cosh(f)\n",
    "cosh_np_f = np.cosh(f)\n",
    "results_math[\"cosh\"] = cosh_math_f\n",
    "results_np[\"cosh\"] = cosh_np_f\n",
    "\n",
    "# sinh\n",
    "f = 1.4\n",
    "sinh_math_f = math.sinh(f)\n",
    "sinh_np_f = np.sinh(f)\n",
    "results_math[\"sinh\"] = sinh_math_f\n",
    "results_np[\"sinh\"] = sinh_np_f\n",
    "\n",
    "# tanh\n",
    "f = 0.67\n",
    "tanh_math_f = math.tanh(f)\n",
    "tanh_np_f = np.tanh(f)\n",
    "results_math[\"tanh\"] = tanh_math_f\n",
    "results_np[\"tanh\"] = tanh_np_f"
   ]
  },
  {
   "cell_type": "markdown",
   "id": "3237a0bffc6827fc",
   "metadata": {},
   "source": [
    "## Comparison"
   ]
  },
  {
   "cell_type": "code",
   "execution_count": 27,
   "id": "1fe6a51d83a36148",
   "metadata": {},
   "outputs": [
    {
     "name": "stdout",
     "output_type": "stream",
     "text": [
      "atan: \n",
      "\tpython (math):\t1.2160906747839564\n",
      "\tpython (numpy):\t1.2160906747839564\n",
      "\tncl:\t\t1.216091\n",
      "\n",
      "tan: \n",
      "\tpython (math):\t-0.8139432836897027\n",
      "\tpython (numpy):\t-0.8139432836897027\n",
      "\tncl:\t\t-0.8139434\n",
      "\n",
      "sin: \n",
      "\tpython (math):\t0.479425538604203\n",
      "\tpython (numpy):\t0.479425538604203\n",
      "\tncl:\t\t0.4794255\n",
      "\n",
      "asin: \n",
      "\tpython (math):\t0.5235987755982989\n",
      "\tpython (numpy):\t0.5235987755982989\n",
      "\tncl:\t\t0.5235988\n",
      "\n",
      "tanh: \n",
      "\tpython (math):\t0.5849798828807289\n",
      "\tpython (numpy):\t0.5849798828807288\n",
      "\tncl:\t\t0.5849799\n",
      "\n",
      "acos: \n",
      "\tpython (math):\t3.141592653589793\n",
      "\tpython (numpy):\t3.141592653589793\n",
      "\tncl:\t\t3.141593\n",
      "\n",
      "atan2: \n",
      "\tpython (math):\t0.4636476090008061\n",
      "\tpython (numpy):\t0.4636476090008061\n",
      "\tncl:\t\t0.4636476\n",
      "\n",
      "sinh: \n",
      "\tpython (math):\t1.9043015014515339\n",
      "\tpython (numpy):\t1.9043015014515339\n",
      "\tncl:\t\t1.904301\n",
      "\n",
      "cosh: \n",
      "\tpython (math):\t12.28664620054386\n",
      "\tpython (numpy):\t12.28664620054386\n",
      "\tncl:\t\t12.28665\n",
      "\n",
      "cos: \n",
      "\tpython (math):\t0.5403023058681398\n",
      "\tpython (numpy):\t0.5403023058681398\n",
      "\tncl:\t\t0.5403023\n",
      "\n"
     ]
    }
   ],
   "source": [
    "# dictionary of trig functions results\n",
    "ncl_results = {\n",
    "    \"sin\": 0.4794255,\n",
    "    \"cos\": 0.5403023,\n",
    "    \"tan\": -0.8139434,\n",
    "    \"asin\": 0.5235988,\n",
    "    \"acos\": 3.141593,\n",
    "    \"atan\": 1.216091,\n",
    "    \"atan2\": 0.4636476,\n",
    "    \"cosh\": 12.28665,\n",
    "    \"sinh\": 1.904301,\n",
    "    \"tanh\": 0.5849799,\n",
    "}\n",
    "\n",
    "for c in ncl_results.keys() & results_math.keys() & results_np.keys():\n",
    "    print(\n",
    "        f\"{c}: \\n\\tpython (math):\\t{results_math[c]}\\n\\tpython (numpy):\\t{results_np[c]}\\n\\tncl:\\t\\t{ncl_results[c]}\\n\"\n",
    "    )\n",
    "    assert math.isclose(\n",
    "        results_np[c], results_math[c], rel_tol=1e-15\n",
    "    )  # within 15 decimal points\n",
    "    assert math.isclose(\n",
    "        ncl_results[c], results_math[c], rel_tol=1e-06\n",
    "    )  # within 6 decimal points\n",
    "    assert math.isclose(\n",
    "        ncl_results[c], results_np[c], rel_tol=1e-06\n",
    "    )  # within 6 decimal points"
   ]
  },
  {
   "cell_type": "markdown",
   "id": "bccc1c62-a8ee-4681-83a5-e89f00f49de3",
   "metadata": {},
   "source": [
    "## Differences"
   ]
  },
  {
   "cell_type": "code",
   "execution_count": 28,
   "id": "24ed5d2c-6146-4869-a384-9fc783a0c42e",
   "metadata": {},
   "outputs": [
    {
     "name": "stdout",
     "output_type": "stream",
     "text": [
      "atan:\n",
      "\t-3.252160436506557e-07\n",
      "\t-3.252160436506557e-07\n",
      "tan:\n",
      "\t1.1631029728231823e-07\n",
      "\t1.1631029728231823e-07\n",
      "sin:\n",
      "\t3.8604203000947024e-08\n",
      "\t3.8604203000947024e-08\n",
      "asin:\n",
      "\t-2.440170110418194e-08\n",
      "\t-2.440170110418194e-08\n",
      "tanh:\n",
      "\t-1.7119271111809553e-08\n",
      "\t-1.7119271222831856e-08\n",
      "acos:\n",
      "\t-3.4641020674186507e-07\n",
      "\t-3.4641020674186507e-07\n",
      "atan2:\n",
      "\t9.000806100445402e-09\n",
      "\t9.000806100445402e-09\n",
      "sinh:\n",
      "\t5.014515338519487e-07\n",
      "\t5.014515338519487e-07\n",
      "cosh:\n",
      "\t-3.7994561399301574e-06\n",
      "\t-3.7994561399301574e-06\n",
      "cos:\n",
      "\t5.868139751896706e-09\n",
      "\t5.868139751896706e-09\n"
     ]
    }
   ],
   "source": [
    "for c in ncl_results.keys() & results_math.keys() & results_np.keys():\n",
    "    print(f\"{c}:\")\n",
    "    print(f\"\\t{results_math[c] - ncl_results[c]}\")\n",
    "    print(f\"\\t{results_np[c] - ncl_results[c]}\")"
   ]
  }
 ],
 "metadata": {
  "kernelspec": {
   "display_name": "Python 3 (ipykernel)",
   "language": "python",
   "name": "python3"
  },
  "language_info": {
   "codemirror_mode": {
    "name": "ipython",
    "version": 3
   },
   "file_extension": ".py",
   "mimetype": "text/x-python",
   "name": "python",
   "nbconvert_exporter": "python",
   "pygments_lexer": "ipython3",
   "version": "3.11.8"
  }
 },
 "nbformat": 4,
 "nbformat_minor": 5
}
