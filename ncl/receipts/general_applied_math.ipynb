{
 "cells": [
  {
   "cell_type": "markdown",
   "id": "e6eddaf181eacfd3",
   "metadata": {},
   "source": [
    "# General Applied Math"
   ]
  },
  {
   "cell_type": "markdown",
   "id": "e6be6389ef38b00b",
   "metadata": {},
   "source": [
    "```{warning} This is not meant to be a standalone notebook.\n",
    "This notebook is part of the process we have for adding entries to the NCL Index and is not meant to be used as tutorial or example code.\n",
    "```"
   ]
  },
  {
   "cell_type": "markdown",
   "id": "536ffded4355d9c6",
   "metadata": {},
   "source": [
    "## Functions covered\n",
    "List and link to the NCL documentation for each function that is covered in this notebook."
   ]
  },
  {
   "cell_type": "markdown",
   "id": "4a129c971c083695",
   "metadata": {},
   "source": [
    "## NCL code\n",
    "<!---\n",
    "Edit the below cell to link to the ncl code included for comparison in this notebook. \n",
    "\n",
    "It may not be visible in your IDE or local editor, but it will be visible in generated documentation (locally, on PR previews, and the live webpage).\n",
    "-->"
   ]
  },
  {
   "cell_type": "markdown",
   "id": "3d70616a8934f0fb",
   "metadata": {},
   "source": [
    "```{literalinclude} ../ncl_raw/general_applied_math.ncl\n",
    "```"
   ]
  },
  {
   "cell_type": "markdown",
   "id": "d918dec004b6456b",
   "metadata": {},
   "source": [
    "## Python Functionality\n",
    "<!---\n",
    "Show the python code that replicates the NCL functionality. Don't worry about providing narrative, just provide enough explanation that somebody with the knowledge level of another developer could follow along.\n",
    "-->"
   ]
  },
  {
   "cell_type": "code",
   "execution_count": 74,
   "id": "09c30857-d2d2-48fd-a0f1-25662e8b1f88",
   "metadata": {},
   "outputs": [],
   "source": [
    "import math\n",
    "import numpy as np\n",
    "\n",
    "results = {}\n",
    "\n",
    "# abs\n",
    "f = -5\n",
    "abs_f = abs(f)\n",
    "results[\"abs\"] = abs_f\n",
    "\n",
    "# avg\n",
    "f = [[1, 2, 3], [4, 5, 6]]\n",
    "avg_f = np.mean(f)\n",
    "results[\"avg\"] = avg_f\n",
    "\n",
    "# cumsum\n",
    "f = [1, 2, 3, 4, 5]\n",
    "cumsum_f = np.cumsum(f, axis=0)\n",
    "results[\"cumsum\"] = cumsum_f\n",
    "\n",
    "# decimalPlaces\n",
    "f = 12.345678\n",
    "decimalPlaces_f = round(f, 2)\n",
    "results[\"decimalPlaces\"] = decimalPlaces_f\n",
    "\n",
    "# get_d2r\n",
    "d2r = round(math.pi / 180, 16)\n",
    "results[\"get_d2r\"] = d2r\n",
    "\n",
    "# get_r2d\n",
    "r2d = 180 / math.pi\n",
    "results[\"get_r2d\"] = r2d\n",
    "\n",
    "# get_pi\n",
    "pi = math.pi\n",
    "results[\"get_pi\"] = pi\n",
    "\n",
    "# log\n",
    "f = 3.6\n",
    "log_f = round(math.log(f), 6)\n",
    "results[\"log\"] = log_f\n",
    "\n",
    "# log10\n",
    "f = 3.4\n",
    "log10_f = round(math.log10(f), 7)\n",
    "results[\"log10\"] = log10_f"
   ]
  },
  {
   "cell_type": "markdown",
   "id": "3237a0bffc6827fc",
   "metadata": {},
   "source": [
    "## Comparison"
   ]
  },
  {
   "cell_type": "code",
   "execution_count": 75,
   "id": "1fe6a51d83a36148",
   "metadata": {},
   "outputs": [
    {
     "name": "stdout",
     "output_type": "stream",
     "text": [
      "get_pi: \n",
      "\tpython:\t3.141592653589793\n",
      "\tncl:\t3.141592653589793\n",
      "\n",
      "log: \n",
      "\tpython:\t1.280934\n",
      "\tncl:\t1.280934\n",
      "\n",
      "log10: \n",
      "\tpython:\t0.5314789\n",
      "\tncl:\t0.5314789\n",
      "\n",
      "get_d2r: \n",
      "\tpython:\t0.0174532925199433\n",
      "\tncl:\t0.0174532925199433\n",
      "\n",
      "abs: \n",
      "\tpython:\t5\n",
      "\tncl:\t5\n",
      "\n",
      "get_r2d: \n",
      "\tpython:\t57.29577951308232\n",
      "\tncl:\t57.29577951308232\n",
      "\n",
      "decimalPlaces: \n",
      "\tpython:\t12.35\n",
      "\tncl:\t12.35\n",
      "\n",
      "cumsum: \n",
      "\tpython:\t[ 1  3  6 10 15]\n",
      "\tncl:\t[ 1  3  6 10 15]\n",
      "\n",
      "avg: \n",
      "\tpython:\t3.5\n",
      "\tncl:\t3.5\n",
      "\n"
     ]
    }
   ],
   "source": [
    "ncl_results = {\n",
    "    \"abs\": 5,\n",
    "    \"avg\": 3.5,\n",
    "    \"cumsum\": np.array([1, 3, 6, 10, 15]),\n",
    "    \"decimalPlaces\": 12.35,\n",
    "    \"get_d2r\": 0.0174532925199433,\n",
    "    \"get_r2d\": 57.29577951308232,\n",
    "    \"get_pi\": 3.141592653589793,\n",
    "    \"log\": 1.280934,\n",
    "    \"log10\": 0.5314789,\n",
    "}\n",
    "\n",
    "for c in ncl_results.keys() & results.keys():\n",
    "    print(f\"{c}: \\n\\tpython:\\t{results[c]}\\n\\tncl:\\t{ncl_results[c]}\\n\")\n",
    "    if isinstance(ncl_results[c], np.ndarray):\n",
    "        assert (results[c] == ncl_results[c]).any()\n",
    "    else:\n",
    "        assert results[c] == ncl_results[c]"
   ]
  },
  {
   "cell_type": "markdown",
   "id": "65dcdceb-bf9b-4805-b614-b9c504928d1c",
   "metadata": {},
   "source": [
    "## Differences"
   ]
  },
  {
   "cell_type": "code",
   "execution_count": 76,
   "id": "0a11f72b-dc97-4b73-985e-e76844ea9422",
   "metadata": {},
   "outputs": [
    {
     "name": "stdout",
     "output_type": "stream",
     "text": [
      "get_pi:\n",
      "\t0.0\n",
      "log:\n",
      "\t0.0\n",
      "log10:\n",
      "\t0.0\n",
      "get_d2r:\n",
      "\t0.0\n",
      "abs:\n",
      "\t0\n",
      "get_r2d:\n",
      "\t0.0\n",
      "decimalPlaces:\n",
      "\t0.0\n",
      "cumsum:\n",
      "\t[0 0 0 0 0]\n",
      "avg:\n",
      "\t0.0\n"
     ]
    }
   ],
   "source": [
    "for c in ncl_results.keys() & results.keys():\n",
    "    print(f\"{c}:\")\n",
    "    print(f\"\\t{results[c] - ncl_results[c]}\")"
   ]
  }
 ],
 "metadata": {
  "kernelspec": {
   "display_name": "Python 3 (ipykernel)",
   "language": "python",
   "name": "python3"
  },
  "language_info": {
   "codemirror_mode": {
    "name": "ipython",
    "version": 3
   },
   "file_extension": ".py",
   "mimetype": "text/x-python",
   "name": "python",
   "nbconvert_exporter": "python",
   "pygments_lexer": "ipython3",
   "version": "3.11.8"
  }
 },
 "nbformat": 4,
 "nbformat_minor": 5
}
