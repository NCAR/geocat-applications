{
 "cells": [
  {
   "cell_type": "markdown",
   "id": "e6eddaf181eacfd3",
   "metadata": {},
   "source": [
    "# General Applied Math"
   ]
  },
  {
   "cell_type": "markdown",
   "id": "e6be6389ef38b00b",
   "metadata": {},
   "source": [
    "```{warning} This is not meant to be a standalone notebook.\n",
    "This notebook is part of the process we have for adding entries to the NCL Index and is not meant to be used as tutorial or example code.\n",
    "```"
   ]
  },
  {
   "cell_type": "markdown",
   "id": "536ffded4355d9c6",
   "metadata": {},
   "source": [
    "## Functions covered\n",
    "List and link to the NCL documentation for each function that is covered in this notebook."
   ]
  },
  {
   "cell_type": "markdown",
   "id": "4a129c971c083695",
   "metadata": {},
   "source": [
    "## NCL code\n",
    "<!---\n",
    "Edit the below cell to link to the ncl code included for comparison in this notebook. \n",
    "\n",
    "It may not be visible in your IDE or local editor, but it will be visible in generated documentation (locally, on PR previews, and the live webpage).\n",
    "-->"
   ]
  },
  {
   "cell_type": "markdown",
   "id": "3d70616a8934f0fb",
   "metadata": {},
   "source": [
    "```{literalinclude} ../ncl_raw/general_applied_math.ncl\n",
    "```"
   ]
  },
  {
   "cell_type": "markdown",
   "id": "d918dec004b6456b",
   "metadata": {},
   "source": [
    "## Python Functionality\n",
    "<!---\n",
    "Show the python code that replicates the NCL functionality. Don't worry about providing narrative, just provide enough explanation that somebody with the knowledge level of another developer could follow along.\n",
    "-->"
   ]
  },
  {
   "cell_type": "code",
   "execution_count": 6,
   "id": "09c30857-d2d2-48fd-a0f1-25662e8b1f88",
   "metadata": {},
   "outputs": [],
   "source": [
    "results = {}\n",
    "\n",
    "# abs\n",
    "f = -5\n",
    "abs_f = abs(f)\n",
    "results[\"abs\"] = abs_f"
   ]
  },
  {
   "cell_type": "markdown",
   "id": "3237a0bffc6827fc",
   "metadata": {},
   "source": [
    "## Comparison\n",
    "<!---\n",
    "Directly compare the outputs, numerically, visually, or however is most appropriate.\n",
    "\n",
    "If possible and reasonable, include assert statements to validate the output.\n",
    "-->"
   ]
  },
  {
   "cell_type": "code",
   "execution_count": 10,
   "id": "1fe6a51d83a36148",
   "metadata": {},
   "outputs": [
    {
     "name": "stdout",
     "output_type": "stream",
     "text": [
      "abs: \n",
      "\tpython:\t5\n",
      "\tncl:\t5\n",
      "\n"
     ]
    }
   ],
   "source": [
    "import math\n",
    "\n",
    "ncl_results = {\n",
    "    \"abs\": 5,\n",
    "}\n",
    "\n",
    "for c in ncl_results.keys() & results.keys():\n",
    "    print(f\"{c}: \\n\\tpython:\\t{results[c]}\\n\\tncl:\\t{ncl_results[c]}\\n\")\n",
    "    assert math.isclose(\n",
    "        results[c], ncl_results[c], rel_tol=1e-15\n",
    "    )  # within 15 decimal points"
   ]
  },
  {
   "cell_type": "markdown",
   "id": "65dcdceb-bf9b-4805-b614-b9c504928d1c",
   "metadata": {},
   "source": [
    "## Differences"
   ]
  },
  {
   "cell_type": "code",
   "execution_count": 11,
   "id": "0a11f72b-dc97-4b73-985e-e76844ea9422",
   "metadata": {},
   "outputs": [
    {
     "name": "stdout",
     "output_type": "stream",
     "text": [
      "abs:\n",
      "\t0\n"
     ]
    }
   ],
   "source": [
    "for c in ncl_results.keys() & results.keys():\n",
    "    print(f\"{c}:\")\n",
    "    print(f\"\\t{results[c] - ncl_results[c]}\")"
   ]
  }
 ],
 "metadata": {
  "kernelspec": {
   "display_name": "Python 3 (ipykernel)",
   "language": "python",
   "name": "python3"
  },
  "language_info": {
   "codemirror_mode": {
    "name": "ipython",
    "version": 3
   },
   "file_extension": ".py",
   "mimetype": "text/x-python",
   "name": "python",
   "nbconvert_exporter": "python",
   "pygments_lexer": "ipython3",
   "version": "3.11.8"
  }
 },
 "nbformat": 4,
 "nbformat_minor": 5
}
