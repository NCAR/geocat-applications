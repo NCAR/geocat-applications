{
 "cells": [
  {
   "cell_type": "markdown",
   "id": "e6eddaf181eacfd3",
   "metadata": {},
   "source": [
    "# Meteorology"
   ]
  },
  {
   "cell_type": "markdown",
   "id": "e6be6389ef38b00b",
   "metadata": {},
   "source": [
    "```{warning} This is not meant to be a standalone notebook.\n",
    "This notebook is part of the process we have for adding entries to the NCL Index and is not meant to be used as tutorial or example code.\n",
    "```"
   ]
  },
  {
   "cell_type": "markdown",
   "id": "536ffded4355d9c6",
   "metadata": {},
   "source": [
    "## Functions covered\n",
    "- [dewtemp_trh](https://www.ncl.ucar.edu/Document/Functions/Built-in/dewtemp_trh.shtml)\n",
    "- [daylight_fao56](https://www.ncl.ucar.edu/Document/Functions/Crop/daylight_fao56.shtml)\n",
    "- [satvpr_temp_fao56](https://www.ncl.ucar.edu/Document/Functions/Crop/satvpr_temp_fao56.shtml)\n",
    "- [satvpr_tdew_fao56](https://www.ncl.ucar.edu/Document/Functions/Crop/satvpr_tdew_fao56.shtml)\n",
    "- [satvpr_slope_fao56](https://www.ncl.ucar.edu/Document/Functions/Crop/satvpr_slope_fao56.shtml)\n",
    "- [coriolis_param](https://www.ncl.ucar.edu/Document/Functions/Contributed/coriolis_param.shtml)\n",
    "- [relhum](https://www.ncl.ucar.edu/Document/Functions/Built-in/relhum.shtml)\n",
    "- [relhum_ice](https://www.ncl.ucar.edu/Document/Functions/Built-in/relhum_ice.shtml)\n",
    "- [relhum_water](https://www.ncl.ucar.edu/Document/Functions/Built-in/relhum_water.shtml)\n",
    "- [dpres_plevel](https://www.ncl.ucar.edu/Document/Functions/Built-in/dpres_plevel.shtml)"
   ]
  },
  {
   "cell_type": "markdown",
   "id": "4a129c971c083695",
   "metadata": {},
   "source": [
    "## NCL code"
   ]
  },
  {
   "cell_type": "markdown",
   "id": "3d70616a8934f0fb",
   "metadata": {},
   "source": [
    "```{literalinclude} ../ncl_raw/meteorology.ncl\n",
    "\n",
    "```"
   ]
  },
  {
   "cell_type": "markdown",
   "id": "d918dec004b6456b",
   "metadata": {},
   "source": [
    "## Python Functionality"
   ]
  },
  {
   "cell_type": "markdown",
   "id": "6dc1d6c4-ac26-4346-9aa3-2c73182a7511",
   "metadata": {},
   "source": [
    "### dewtemp_trh"
   ]
  },
  {
   "cell_type": "code",
   "execution_count": 1,
   "id": "7af6f81c-2498-4aea-b250-579ec3fd31c8",
   "metadata": {},
   "outputs": [],
   "source": [
    "#### Collect NCL values for dewtemp_trh from geocat-datafiles\n",
    "import geocat.datafiles as gdf\n",
    "import numpy as np\n",
    "\n",
    "dewtemp_data = gdf.get('applications_files/ncl_outputs/dewtemp_trh_output.txt')\n",
    "dewtemp_data = np.loadtxt(dewtemp_data, delimiter=',', skiprows=6)"
   ]
  },
  {
   "cell_type": "code",
   "execution_count": 2,
   "id": "3166c583-1290-4300-b96b-beab81cd033d",
   "metadata": {},
   "outputs": [],
   "source": [
    "### Collect NCL `dewtemp` value and associated (temperature_kelvin, relative humidity) values\n",
    "ncl_dewtemp = {}\n",
    "tk_rh = tuple(map(tuple, dewtemp_data[::, 0:2]))\n",
    "dewtemp_values = dewtemp_data[::, 2]\n",
    "ncl_dewtemp = dict(zip(tk_rh, dewtemp_values))"
   ]
  },
  {
   "cell_type": "code",
   "execution_count": 3,
   "id": "39fd494c-609b-4dd0-83fd-b08d0daf6aaa",
   "metadata": {},
   "outputs": [],
   "source": [
    "### Collect Temperature (Kelvin) and Relative Humidity Pairs\n",
    "tk_rh = []\n",
    "for tk in range(273, 374 + 1):\n",
    "    for rh in range(1, 100 + 1):\n",
    "        tk_rh.append((tk, rh))\n",
    "\n",
    "### Calculate GeoCAT-Comp `dewtemp` value and tk/rh\n",
    "from geocat.comp import dewtemp\n",
    "\n",
    "geocat_dewtemp = {}\n",
    "\n",
    "for i, pair in enumerate(tk_rh):\n",
    "    tk, rh = pair\n",
    "    geocat_dewtemp[pair] = dewtemp(tk, rh) - 273.15"
   ]
  },
  {
   "cell_type": "markdown",
   "id": "dba9a9a6-864e-48b0-9f0c-ac0f74aed670",
   "metadata": {},
   "source": [
    "### daylight_fao56"
   ]
  },
  {
   "cell_type": "code",
   "execution_count": 4,
   "id": "69028bd0-ae29-43d6-9824-e80b4d6d8f44",
   "metadata": {},
   "outputs": [],
   "source": [
    "#### Collect NCL values for daylight_fao56 from geocat-datafiles\n",
    "import geocat.datafiles as gdf\n",
    "import numpy as np\n",
    "\n",
    "daylight_data = gdf.get('applications_files/ncl_outputs/daylight_fao56_output.txt')\n",
    "daylight_data = np.loadtxt(daylight_data, delimiter=',', skiprows=6)"
   ]
  },
  {
   "cell_type": "code",
   "execution_count": 5,
   "id": "128f13cb-b22f-4b4e-b144-268db532aa78",
   "metadata": {},
   "outputs": [],
   "source": [
    "### Collect NCL `daylight_fao56` value and associated (doy, latitude) values\n",
    "ncl_daylight = {}\n",
    "doy_lat = tuple(map(tuple, daylight_data[::, 0:2]))\n",
    "daylight_values = daylight_data[::, 2]\n",
    "ncl_daylight = dict(zip(doy_lat, daylight_values))"
   ]
  },
  {
   "cell_type": "code",
   "execution_count": 6,
   "id": "ed9351f8-4ff7-4585-b957-d491ace5bdb3",
   "metadata": {},
   "outputs": [
    {
     "name": "stderr",
     "output_type": "stream",
     "text": [
      "/home/cs/miniconda3/envs/geocat-applications/lib/python3.12/site-packages/geocat/comp/meteorology.py:1058: UserWarning: WARNING: max_daylight has limited validity for abs(lat) > 55 \n",
      "  warnings.warn(\n"
     ]
    }
   ],
   "source": [
    "### Collect DOY and Latitude Pairs\n",
    "doy_lat = []\n",
    "for doy in range(0, 365 + 1):\n",
    "    for lat in range(-66, 66 + 1):\n",
    "        doy_lat.append((doy, lat))\n",
    "\n",
    "### Calculate GeoCAT-Comp `daylight_fao56` value and doy/lat\n",
    "from geocat.comp import max_daylight\n",
    "\n",
    "geocat_daylight = {}\n",
    "\n",
    "for i, pair in enumerate(doy_lat):\n",
    "    doy, lat = pair\n",
    "    geocat_daylight[pair] = max_daylight(doy, lat)"
   ]
  },
  {
   "cell_type": "markdown",
   "id": "a1401358-81a8-4477-9bc9-bbdaf4224c76",
   "metadata": {},
   "source": [
    "### satvpr_temp_fao56"
   ]
  },
  {
   "cell_type": "code",
   "execution_count": 7,
   "id": "39c75093-80bc-44c8-880e-ad7f3cfc605c",
   "metadata": {},
   "outputs": [],
   "source": [
    "#### Collect NCL values for satvpr_temp_fao56 from geocat-datafiles\n",
    "import geocat.datafiles as gdf\n",
    "import numpy as np\n",
    "\n",
    "satvpr_temp_fao56_data = gdf.get(\n",
    "    'applications_files/ncl_outputs/satvpr_temp_fao56_output.txt'\n",
    ")\n",
    "satvpr_temp_fao56_data = np.loadtxt(satvpr_temp_fao56_data, delimiter=',', skiprows=6)"
   ]
  },
  {
   "cell_type": "code",
   "execution_count": 8,
   "id": "00f0ba20-176f-4139-bc65-a14e01695494",
   "metadata": {},
   "outputs": [],
   "source": [
    "### Collect NCL `satvpr_temp_fao56` value and associated (temp, satvpr_temp) values\n",
    "ncl_satvpr_temp_fao56 = dict(\n",
    "    zip(satvpr_temp_fao56_data[::, 0], satvpr_temp_fao56_data[::, 1])\n",
    ")"
   ]
  },
  {
   "cell_type": "code",
   "execution_count": 9,
   "id": "128843eb-c4ad-425a-a1ec-de89545bcb15",
   "metadata": {},
   "outputs": [],
   "source": [
    "### Calculate GeoCAT-Comp `saturation_vapor_pressure`\n",
    "from geocat.comp import saturation_vapor_pressure\n",
    "\n",
    "geocat_satvpr_temp_fao56 = {}\n",
    "\n",
    "for temp in range(33, 212 + 1):\n",
    "    geocat_satvpr_temp_fao56[temp] = saturation_vapor_pressure(temp)"
   ]
  },
  {
   "cell_type": "markdown",
   "id": "c4bdc314-ba26-4c76-8e5e-3fe6804aad40",
   "metadata": {},
   "source": [
    "### satvpr_tdew_fao56"
   ]
  },
  {
   "cell_type": "code",
   "execution_count": 10,
   "id": "ffff46d9-f229-4f02-97eb-b3cd346e9dcf",
   "metadata": {},
   "outputs": [],
   "source": [
    "#### Collect NCL values for satvpr_tdew_fao56 from geocat-datafiles\n",
    "import geocat.datafiles as gdf\n",
    "import numpy as np\n",
    "\n",
    "satvpr_tdew_fao56_data = gdf.get(\n",
    "    'applications_files/ncl_outputs/satvpr_tdew_fao56_output.txt'\n",
    ")\n",
    "satvpr_tdew_fao56_data = np.loadtxt(satvpr_tdew_fao56_data, delimiter=',', skiprows=6)"
   ]
  },
  {
   "cell_type": "code",
   "execution_count": 11,
   "id": "d6fce921-4897-40a2-9c59-c407834f4294",
   "metadata": {},
   "outputs": [],
   "source": [
    "### Collect NCL `satvpr_tdew_fao56` value and associated (temp, act_sat_vapr_pressure) values\n",
    "ncl_satvpr_tdew_fao56 = dict(\n",
    "    zip(satvpr_tdew_fao56_data[::, 0], satvpr_tdew_fao56_data[::, 1])\n",
    ")"
   ]
  },
  {
   "cell_type": "code",
   "execution_count": 12,
   "id": "c0220698-cdec-4de9-bcf6-ffa20bdd78c2",
   "metadata": {},
   "outputs": [],
   "source": [
    "### Calculate GeoCAT-Comp `actual_saturation_vapor_pressure`\n",
    "from geocat.comp import actual_saturation_vapor_pressure\n",
    "\n",
    "geocat_satvpr_tdew_fao56 = {}\n",
    "\n",
    "for temp in range(33, 212 + 1):\n",
    "    geocat_satvpr_tdew_fao56[temp] = actual_saturation_vapor_pressure(temp)"
   ]
  },
  {
   "cell_type": "markdown",
   "id": "a933c4b2-3b1c-46ac-b1a0-47643e302c02",
   "metadata": {},
   "source": [
    "### satvpr_slope_fao56"
   ]
  },
  {
   "cell_type": "code",
   "execution_count": 13,
   "id": "fc1aa525-542a-4be3-8ed3-7eb998280890",
   "metadata": {},
   "outputs": [],
   "source": [
    "#### Collect NCL values for satvpr_slope_fao56 from geocat-datafiles\n",
    "import geocat.datafiles as gdf\n",
    "import numpy as np\n",
    "\n",
    "satvpr_slope_fao56_data = gdf.get(\n",
    "    'applications_files/ncl_outputs/satvpr_slope_fao56_output.txt'\n",
    ")\n",
    "satvpr_slope_fao56_data = np.loadtxt(satvpr_slope_fao56_data, delimiter=',', skiprows=6)"
   ]
  },
  {
   "cell_type": "code",
   "execution_count": 14,
   "id": "33edf359-c26d-4eff-b845-d4df8d91f0ae",
   "metadata": {},
   "outputs": [],
   "source": [
    "### Collect NCL `satvpr_slope_fao56` value and associated (temp, slope_satvpr) values\n",
    "ncl_satvpr_slope_fao56 = dict(\n",
    "    zip(satvpr_slope_fao56_data[::, 0], satvpr_slope_fao56_data[::, 1])\n",
    ")"
   ]
  },
  {
   "cell_type": "code",
   "execution_count": 15,
   "id": "da65e261-19f5-4a1c-973d-1e7e13053621",
   "metadata": {},
   "outputs": [],
   "source": [
    "### Calculate GeoCAT-Comp `saturation_vapor_pressure_slope`\n",
    "from geocat.comp import saturation_vapor_pressure_slope\n",
    "\n",
    "geocat_satvpr_slope_fao56 = {}\n",
    "\n",
    "for temp in range(33, 212 + 1):\n",
    "    geocat_satvpr_slope_fao56[temp] = saturation_vapor_pressure_slope(temp)"
   ]
  },
  {
   "cell_type": "markdown",
   "id": "3b9ce2e3-833a-4dbc-8d6a-35eb86397b19",
   "metadata": {},
   "source": [
    "### coriolis_param"
   ]
  },
  {
   "cell_type": "code",
   "execution_count": 16,
   "id": "c2646150-8327-4faa-8979-b70e98be9631",
   "metadata": {},
   "outputs": [],
   "source": [
    "#### Collect NCL values for coriolis_param from geocat-datafiles\n",
    "import geocat.datafiles as gdf\n",
    "import numpy as np\n",
    "\n",
    "coriolis_param_data = gdf.get(\n",
    "    'applications_files/ncl_outputs/coriolis_param_output.txt'\n",
    ")\n",
    "coriolis_param_data = np.loadtxt(coriolis_param_data, delimiter=',', skiprows=6)"
   ]
  },
  {
   "cell_type": "code",
   "execution_count": 17,
   "id": "9a699cc2-5a21-4a49-92f9-353635036d06",
   "metadata": {},
   "outputs": [],
   "source": [
    "### Collect NCL `coriolis_param_data` value and associated coriolis parameter values\n",
    "ncl_coriolis_param = dict(zip(coriolis_param_data[::, 0], coriolis_param_data[::, 1]))"
   ]
  },
  {
   "cell_type": "code",
   "execution_count": 18,
   "id": "04410fd1-3033-4c6b-812f-e6b12b3e884e",
   "metadata": {},
   "outputs": [],
   "source": [
    "### Calculate MetPy \"coriolis_parameter\"\n",
    "from metpy.calc import coriolis_parameter\n",
    "from metpy.units import units\n",
    "\n",
    "metpy_coriolis_para = {}\n",
    "\n",
    "for lat in range(-90, 90 + 1):\n",
    "    metpy_coriolis_para[lat] = coriolis_parameter(lat * units.degree).magnitude"
   ]
  },
  {
   "cell_type": "markdown",
   "id": "1d298c3c-e45c-4212-9f85-a36c5c397395",
   "metadata": {},
   "source": [
    "### relhum"
   ]
  },
  {
   "cell_type": "code",
   "execution_count": 19,
   "id": "df404c9f-06a3-4549-b9f6-c43ba262222d",
   "metadata": {},
   "outputs": [],
   "source": [
    "#### Collect NCL values for relhum from geocat-datafiles\n",
    "import geocat.datafiles as gdf\n",
    "import numpy as np\n",
    "\n",
    "relhum_data = gdf.get('applications_files/ncl_outputs/relhum_output.txt')\n",
    "relhum_data = np.loadtxt(relhum_data, delimiter=',', skiprows=6)"
   ]
  },
  {
   "cell_type": "code",
   "execution_count": 20,
   "id": "41661512-4201-45c2-9435-815045bb8673",
   "metadata": {},
   "outputs": [],
   "source": [
    "### Collect NCL `relhum` value and associated (temp, mixing ratio) values\n",
    "ncl_relhum = {}\n",
    "temp_mr_press = tuple(map(tuple, relhum_data[::, 0:3]))\n",
    "relhum_values = relhum_data[::, 3]\n",
    "ncl_relhum = dict(zip(temp_mr_press, relhum_values))"
   ]
  },
  {
   "cell_type": "code",
   "execution_count": 21,
   "id": "3ace8c0f-ac4f-4602-b99c-56e03e51c2db",
   "metadata": {},
   "outputs": [],
   "source": [
    "### Collect Temperature, Mixing Ratio, Pressure\n",
    "temp_mr_press = []\n",
    "for temp in range(273, 374 + 1):\n",
    "    for mr in np.arange(0.01, 0.05 + 0.01, 0.01):\n",
    "        for press in range(10000, 15000 + 1, 500):\n",
    "            temp_mr_press.append((temp, mr, press))\n",
    "\n",
    "### Calculate GeoCAT-Comp `relhum` value and temp/mixing ratio/pressure\n",
    "from geocat.comp import relhum\n",
    "\n",
    "geocat_relhum = {}\n",
    "\n",
    "for i, variables in enumerate(temp_mr_press):\n",
    "    temp, mr, press = variables\n",
    "    geocat_relhum[variables] = relhum(temp, mr, press)"
   ]
  },
  {
   "cell_type": "markdown",
   "id": "f70fad2e-b170-4d31-bbe8-18ce5a48ed56",
   "metadata": {},
   "source": [
    "### relhum_ice"
   ]
  },
  {
   "cell_type": "code",
   "execution_count": 22,
   "id": "8a78b9d2-e576-43d9-aaa2-3f28b4a38567",
   "metadata": {},
   "outputs": [],
   "source": [
    "#### Collect NCL values for relhum_ice from geocat-datafiles\n",
    "import geocat.datafiles as gdf\n",
    "import numpy as np\n",
    "\n",
    "relhum_ice_data = gdf.get('applications_files/ncl_outputs/relhum_ice_output.txt')\n",
    "relhum_ice_data = np.loadtxt(relhum_ice_data, delimiter=',', skiprows=6)"
   ]
  },
  {
   "cell_type": "code",
   "execution_count": 23,
   "id": "d9e2fa67-616c-4d04-9120-3f0e78363d25",
   "metadata": {},
   "outputs": [],
   "source": [
    "### Collect NCL `relhum_ice` value and associated (temp, mixing ratio) values\n",
    "ncl_relhum_ice = {}\n",
    "temp_mr_press = tuple(map(tuple, relhum_ice_data[::, 0:3]))\n",
    "relhum_ice_values = relhum_ice_data[::, 3]\n",
    "ncl_relhum_ice = dict(zip(temp_mr_press, relhum_ice_values))"
   ]
  },
  {
   "cell_type": "code",
   "execution_count": 24,
   "id": "9bfcd54a-f2d7-4af7-8242-d268f4278fbe",
   "metadata": {},
   "outputs": [],
   "source": [
    "### Collect Temperature, Mixing Ratio, Pressure\n",
    "temp_mr_press = []\n",
    "for temp in range(173, 273 + 1):\n",
    "    for mr in np.arange(0.01, 0.05 + 0.01, 0.01):\n",
    "        for press in range(10000, 15000 + 1, 500):\n",
    "            temp_mr_press.append((temp, mr, press))\n",
    "\n",
    "### Calculate GeoCAT-Comp `relhum_ice` value and temp/mixing ratio/pressure\n",
    "from geocat.comp import relhum_ice\n",
    "\n",
    "geocat_relhum_ice = {}\n",
    "\n",
    "for i, variables in enumerate(temp_mr_press):\n",
    "    temp, mr, press = variables\n",
    "    geocat_relhum_ice[variables] = relhum_ice(temp, mr, press)"
   ]
  },
  {
   "cell_type": "markdown",
   "id": "8b38449c-7916-4f5b-bf49-ba066ac31f0e",
   "metadata": {},
   "source": [
    "### relhum_water"
   ]
  },
  {
   "cell_type": "code",
   "execution_count": 25,
   "id": "39ebd9a3-e8f7-4148-8788-77d660ef77d8",
   "metadata": {},
   "outputs": [],
   "source": [
    "#### Collect NCL values for relhum_water from geocat-datafiles\n",
    "import geocat.datafiles as gdf\n",
    "import numpy as np\n",
    "\n",
    "relhum_water_data = gdf.get('applications_files/ncl_outputs/relhum_water_output.txt')\n",
    "relhum_water_data = np.loadtxt(relhum_water_data, delimiter=',', skiprows=6)"
   ]
  },
  {
   "cell_type": "code",
   "execution_count": 26,
   "id": "f5ddebe1-008a-4327-951c-87a38f242699",
   "metadata": {},
   "outputs": [],
   "source": [
    "### Collect NCL `relhum_ice` value and associated (temp, mixing ratio) values\n",
    "ncl_relhum_water = {}\n",
    "temp_mr_press = tuple(map(tuple, relhum_water_data[::, 0:3]))\n",
    "relhum_water_values = relhum_water_data[::, 3]\n",
    "ncl_relhum_water = dict(zip(temp_mr_press, relhum_water_values))"
   ]
  },
  {
   "cell_type": "code",
   "execution_count": 27,
   "id": "1c97b419-824e-4ff6-b507-581f7028d430",
   "metadata": {},
   "outputs": [],
   "source": [
    "### Collect Temperature, Mixing Ratio, Pressure\n",
    "temp_mr_press = []\n",
    "for temp in range(273, 373 + 1):\n",
    "    for mr in np.arange(0.01, 0.05 + 0.01, 0.01):\n",
    "        for press in range(10000, 15000 + 1, 500):\n",
    "            temp_mr_press.append((temp, mr, press))\n",
    "\n",
    "### Calculate GeoCAT-Comp `relhum_water` value and temp/mixing ratio/pressure\n",
    "from geocat.comp import relhum_water\n",
    "\n",
    "geocat_relhum_water = {}\n",
    "\n",
    "for i, variables in enumerate(temp_mr_press):\n",
    "    temp, mr, press = variables\n",
    "    geocat_relhum_water[variables] = relhum_water(temp, mr, press)"
   ]
  },
  {
   "cell_type": "markdown",
   "id": "be064f90-8b9a-49e2-bd54-98b670c4f29f",
   "metadata": {},
   "source": [
    "### dpres_plevel"
   ]
  },
  {
   "cell_type": "code",
   "execution_count": 28,
   "id": "95e48693-ee55-4632-8281-fde55bda6e7b",
   "metadata": {},
   "outputs": [],
   "source": [
    "#### Collect NCL values for relhum from geocat-datafiles\n",
    "import geocat.datafiles as gdf\n",
    "import numpy as np\n",
    "\n",
    "# dpres_plevel_data = gdf.get('applications_files/ncl_outputs/dpres_plevel_output.txt')\n",
    "dpres_plevel_data = np.loadtxt(\n",
    "    \"../ncl_raw/dpres_plevel_output.txt\", delimiter=',', skiprows=6\n",
    ")"
   ]
  },
  {
   "cell_type": "code",
   "execution_count": 29,
   "id": "f57aeef0-4a1b-4e88-bc77-f268e0174981",
   "metadata": {},
   "outputs": [],
   "source": [
    "### Collect NCL `dpres_plevel` value and associated (pressure_lev, surface_pressure) values\n",
    "ncl_dpres_plevel = {}\n",
    "for plevel, surface_pres, dp in dpres_plevel_data:\n",
    "    if (plevel, surface_pres) not in ncl_dpres_plevel.keys():\n",
    "        ncl_dpres_plevel[(plevel, surface_pres)] = [dp]\n",
    "    else:\n",
    "        ncl_dpres_plevel[(plevel, surface_pres)].append(dp)"
   ]
  },
  {
   "cell_type": "code",
   "execution_count": 30,
   "id": "b8b2ea4c-1543-48bd-a810-be5d32996e38",
   "metadata": {},
   "outputs": [
    {
     "name": "stderr",
     "output_type": "stream",
     "text": [
      "/home/cs/miniconda3/envs/geocat-applications/lib/python3.12/site-packages/numpy/_core/numeric.py:457: RuntimeWarning: invalid value encountered in cast\n",
      "  multiarray.copyto(res, fill_value, casting='unsafe')\n"
     ]
    }
   ],
   "source": [
    "press_level_surface = [\n",
    "    1000,\n",
    "    950,\n",
    "    900,\n",
    "    850,\n",
    "    800,\n",
    "    750,\n",
    "    700,\n",
    "    650,\n",
    "    600,\n",
    "    550,\n",
    "    500,\n",
    "    450,\n",
    "    400,\n",
    "    350,\n",
    "    300,\n",
    "    250,\n",
    "    200,\n",
    "    175,\n",
    "    150,\n",
    "    125,\n",
    "    100,\n",
    "    80,\n",
    "    70,\n",
    "    60,\n",
    "    50,\n",
    "    40,\n",
    "    30,\n",
    "    25,\n",
    "    20,\n",
    "]\n",
    "\n",
    "### Calculate GeoCAT-Comp `dpres_plevel` value\n",
    "from geocat.comp import delta_pressure\n",
    "\n",
    "geocat_delta_pressure = {}\n",
    "\n",
    "for level in press_level_surface:\n",
    "    for dpres in range(1000, 1050):\n",
    "        geocat_delta_pressure[(level, dpres)] = delta_pressure(\n",
    "            press_level_surface, level\n",
    "        )"
   ]
  },
  {
   "cell_type": "markdown",
   "id": "3237a0bffc6827fc",
   "metadata": {},
   "source": [
    "## Comparison"
   ]
  },
  {
   "cell_type": "markdown",
   "id": "38089ce5-395d-4956-8297-cde6ef5aa99e",
   "metadata": {},
   "source": [
    "### dewtemp_trh"
   ]
  },
  {
   "cell_type": "code",
   "execution_count": 31,
   "id": "74362fd9-0e9f-4cf9-91da-08cd81be625c",
   "metadata": {},
   "outputs": [
    {
     "name": "stdout",
     "output_type": "stream",
     "text": [
      "(np.float64(274.0), np.float64(94.0)):\n",
      "\t-0.0055542, -0.005570036309563875\n",
      "\tDifference: 1.5836309563875377e-05\n",
      "(np.float64(275.0), np.float64(87.0)):\n",
      "\t-0.0839233, -0.08393959272956408\n",
      "\tDifference: 1.6292729564076902e-05\n",
      "(np.float64(275.0), np.float64(88.0)):\n",
      "\t0.073761, 0.07374617196580857\n",
      "\tDifference: 1.482803419142198e-05\n",
      "(np.float64(277.0), np.float64(76.0)):\n",
      "\t0.00259399, 0.0025903565796738803\n",
      "\tDifference: 3.633420326119678e-06\n",
      "(np.float64(278.0), np.float64(71.0)):\n",
      "\t0.0261536, 0.026158530424595483\n",
      "\tDifference: -4.930424595483984e-06\n",
      "(np.float64(279.0), np.float64(66.0)):\n",
      "\t-0.0278931, -0.027897415813697535\n",
      "\tDifference: 4.3158136975342265e-06\n",
      "(np.float64(281.0), np.float64(58.0)):\n",
      "\t0.0712891, 0.07128017477202775\n",
      "\tDifference: 8.925227972245153e-06\n",
      "(np.float64(282.0), np.float64(54.0)):\n",
      "\t0.0129395, 0.01291856405322278\n",
      "\tDifference: 2.0935946777218828e-05\n",
      "(np.float64(283.0), np.float64(50.0)):\n",
      "\t-0.130432, -0.13044636060385528\n",
      "\tDifference: 1.4360603855290144e-05\n",
      "(np.float64(283.0), np.float64(51.0)):\n",
      "\t0.144928, 0.14490829422311435\n",
      "\tDifference: 1.9705776885647897e-05\n",
      "(np.float64(284.0), np.float64(47.0)):\n",
      "\t-0.0726318, -0.07262340593854333\n",
      "\tDifference: -8.39406145666799e-06\n",
      "(np.float64(285.0), np.float64(44.0)):\n",
      "\t-0.0798035, -0.07982300528288988\n",
      "\tDifference: 1.950528288988118e-05\n",
      "(np.float64(286.0), np.float64(41.0)):\n",
      "\t-0.160156, -0.1601734585760255\n",
      "\tDifference: 1.7458576025503048e-05\n",
      "(np.float64(287.0), np.float64(39.0)):\n",
      "\t0.0386658, 0.0386467450997543\n",
      "\tDifference: 1.905490024570189e-05\n",
      "(np.float64(290.0), np.float64(32.0)):\n",
      "\t-0.0795288, -0.07954541765832346\n",
      "\tDifference: 1.6617658323461737e-05\n",
      "(np.float64(291.0), np.float64(30.0)):\n",
      "\t-0.115204, -0.11521555297190389\n",
      "\tDifference: 1.1552971903888709e-05\n",
      "(np.float64(294.0), np.float64(25.0)):\n",
      "\t-0.110413, -0.11042499197856159\n",
      "\tDifference: 1.1991978561595729e-05\n",
      "(np.float64(295.0), np.float64(24.0)):\n",
      "\t0.156677, 0.15665929836796977\n",
      "\tDifference: 1.7701632030242553e-05\n",
      "(np.float64(297.0), np.float64(21.0)):\n",
      "\t-0.0614929, -0.06151243710161225\n",
      "\tDifference: 1.953710161224642e-05\n",
      "(np.float64(299.0), np.float64(19.0)):\n",
      "\t0.162537, 0.16251872398265732\n",
      "\tDifference: 1.8276017342666595e-05\n",
      "(np.float64(302.0), np.float64(16.0)):\n",
      "\t0.138275, 0.1382598702660971\n",
      "\tDifference: 1.5129733902913278e-05\n",
      "(np.float64(303.0), np.float64(15.0)):\n",
      "\t0.0130615, 0.013067891707237322\n",
      "\tDifference: -6.391707237322214e-06\n"
     ]
    }
   ],
   "source": [
    "import math\n",
    "\n",
    "for pair in ncl_dewtemp.keys():\n",
    "    try:\n",
    "        assert math.isclose(\n",
    "            ncl_dewtemp[pair], geocat_dewtemp[pair], rel_tol=1e-04\n",
    "        )  # within 4 decimal points\n",
    "    except Exception:\n",
    "        assert math.isclose(\n",
    "            ncl_dewtemp[pair], geocat_dewtemp[pair], rel_tol=1e-02\n",
    "        )  # within 2 decimal points\n",
    "        print(f\"{pair}:\")\n",
    "        print(f\"\\t{ncl_dewtemp[pair]}, {geocat_dewtemp[pair]}\")\n",
    "        print(f\"\\tDifference: {ncl_dewtemp[pair] - geocat_dewtemp[pair]}\")"
   ]
  },
  {
   "cell_type": "markdown",
   "id": "b9cd9ad4-f898-460c-b79b-eef6f7a8e89d",
   "metadata": {},
   "source": [
    "### daylight_fao56"
   ]
  },
  {
   "cell_type": "code",
   "execution_count": 32,
   "id": "840d88ab-7ecc-485a-9aaf-d8de846196a9",
   "metadata": {},
   "outputs": [],
   "source": [
    "import math\n",
    "\n",
    "for pair in ncl_daylight.keys():\n",
    "    assert math.isclose(\n",
    "        ncl_daylight[pair], geocat_daylight[pair].flatten()[0], rel_tol=1e-05\n",
    "    )  # within 5 decimal points"
   ]
  },
  {
   "cell_type": "markdown",
   "id": "db0d8bbd-4899-4932-a28d-107c08e12a15",
   "metadata": {},
   "source": [
    "### satvpr_temp_fao56"
   ]
  },
  {
   "cell_type": "code",
   "execution_count": 33,
   "id": "134f8583-0e96-43fe-8b0b-94a5e58566be",
   "metadata": {},
   "outputs": [],
   "source": [
    "import math\n",
    "\n",
    "for key in ncl_satvpr_temp_fao56.keys():\n",
    "    assert math.isclose(\n",
    "        ncl_satvpr_temp_fao56[key], geocat_satvpr_temp_fao56[key], rel_tol=1e-05\n",
    "    )  # within 5 decimal points"
   ]
  },
  {
   "cell_type": "markdown",
   "id": "b0a67250-3136-4b0c-b808-21a15427060a",
   "metadata": {},
   "source": [
    "### satvpr_tdew_fao56"
   ]
  },
  {
   "cell_type": "code",
   "execution_count": 34,
   "id": "2c037826-8d87-4bf2-9f3a-f98701ba11a7",
   "metadata": {},
   "outputs": [],
   "source": [
    "import math\n",
    "\n",
    "for key in ncl_satvpr_tdew_fao56.keys():\n",
    "    assert math.isclose(\n",
    "        ncl_satvpr_tdew_fao56[key], geocat_satvpr_tdew_fao56[key], rel_tol=1e-05\n",
    "    )  # within 5 decimal points"
   ]
  },
  {
   "cell_type": "markdown",
   "id": "a8b4bee3-7f78-42ba-a9ae-2d13e4b3db59",
   "metadata": {},
   "source": [
    "### satvpr_slope_fao56"
   ]
  },
  {
   "cell_type": "code",
   "execution_count": 35,
   "id": "35bbca06-937e-4459-89ab-6c82280790c7",
   "metadata": {},
   "outputs": [],
   "source": [
    "import math\n",
    "\n",
    "for key in ncl_satvpr_slope_fao56.keys():\n",
    "    assert math.isclose(\n",
    "        ncl_satvpr_slope_fao56[key], geocat_satvpr_slope_fao56[key], rel_tol=1e-05\n",
    "    )  # within 5 decimal points"
   ]
  },
  {
   "cell_type": "markdown",
   "id": "980c82cf-3860-4f46-bb98-65e4bea9f3cf",
   "metadata": {},
   "source": [
    "### coriolis_param"
   ]
  },
  {
   "cell_type": "code",
   "execution_count": 36,
   "id": "1229100a-0e88-46ef-afad-d557b043a713",
   "metadata": {},
   "outputs": [],
   "source": [
    "import math\n",
    "\n",
    "for key in ncl_coriolis_param.keys():\n",
    "    assert math.isclose(\n",
    "        ncl_coriolis_param[key], metpy_coriolis_para[key], rel_tol=1e-04\n",
    "    )  # within 4 decimal points"
   ]
  },
  {
   "cell_type": "markdown",
   "id": "3fc797b8-91fe-460b-bd08-c235d7203d59",
   "metadata": {},
   "source": [
    "### relhum"
   ]
  },
  {
   "cell_type": "code",
   "execution_count": 37,
   "id": "14ed6d36-4768-4390-87ba-b56684935c62",
   "metadata": {},
   "outputs": [],
   "source": [
    "import math\n",
    "\n",
    "for key in ncl_relhum.keys():\n",
    "    assert math.isclose(\n",
    "        ncl_relhum[key], geocat_relhum[key], rel_tol=1e-05\n",
    "    )  # within 5 decimal points"
   ]
  },
  {
   "cell_type": "markdown",
   "id": "6582f9d2-6764-4b03-97d3-07892e5dfd24",
   "metadata": {},
   "source": [
    "### relhum_ice"
   ]
  },
  {
   "cell_type": "code",
   "execution_count": 38,
   "id": "968a1991-2678-4b9d-a1b2-a017a1b403cc",
   "metadata": {},
   "outputs": [],
   "source": [
    "import math\n",
    "\n",
    "for key in ncl_relhum_ice.keys():\n",
    "    assert math.isclose(\n",
    "        ncl_relhum_ice[key], geocat_relhum_ice[key], rel_tol=1e-05\n",
    "    )  # within 5 decimal points"
   ]
  },
  {
   "cell_type": "markdown",
   "id": "e9afcb5d-13bf-4347-b134-51403a3381ae",
   "metadata": {},
   "source": [
    "### relhum_water\n",
    "\n",
    "Differences the result of the vapor pressure constant of water at 0 degrees C in Pa\n",
    "- `NCL`: es0 = 6.11\n",
    "- `geocat-comp`: es0 = 6.1128 "
   ]
  },
  {
   "cell_type": "code",
   "execution_count": 39,
   "id": "2824d8a1-dc59-4a69-b6d6-3c025d39d12c",
   "metadata": {},
   "outputs": [],
   "source": [
    "import math\n",
    "\n",
    "for key in ncl_relhum_water.keys():\n",
    "    assert math.isclose(ncl_relhum_water[key], geocat_relhum_water[key], rel_tol=1e-00)"
   ]
  },
  {
   "cell_type": "markdown",
   "id": "550a87e1-6a70-4dba-9b6e-6225b39b0e08",
   "metadata": {},
   "source": [
    "### dpres_plevel"
   ]
  },
  {
   "cell_type": "code",
   "execution_count": 40,
   "id": "a4d57ad8-5326-4c7d-b9f7-fd6784f8c469",
   "metadata": {},
   "outputs": [],
   "source": [
    "import math\n",
    "\n",
    "for key in ncl_dpres_plevel.keys():\n",
    "    if key in geocat_delta_pressure.keys():\n",
    "        ncl_dp_values = ncl_dpres_plevel[key]\n",
    "        geocat_dp_values = geocat_delta_pressure[key]\n",
    "        for i, ncl_value in enumerate(ncl_dpres_plevel[key]):\n",
    "            assert math.isclose(ncl_dp_values[i], geocat_dp_values[i], rel_tol=1e-00)"
   ]
  }
 ],
 "metadata": {
  "kernelspec": {
   "display_name": "Python 3 (ipykernel)",
   "language": "python",
   "name": "python3"
  },
  "language_info": {
   "codemirror_mode": {
    "name": "ipython",
    "version": 3
   },
   "file_extension": ".py",
   "mimetype": "text/x-python",
   "name": "python",
   "nbconvert_exporter": "python",
   "pygments_lexer": "ipython3",
   "version": "3.12.9"
  }
 },
 "nbformat": 4,
 "nbformat_minor": 5
}
