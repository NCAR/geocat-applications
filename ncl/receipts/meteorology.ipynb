{
 "cells": [
  {
   "cell_type": "markdown",
   "id": "e6eddaf181eacfd3",
   "metadata": {},
   "source": [
    "# Meteorology"
   ]
  },
  {
   "cell_type": "markdown",
   "id": "e6be6389ef38b00b",
   "metadata": {},
   "source": [
    "```{warning} This is not meant to be a standalone notebook.\n",
    "This notebook is part of the process we have for adding entries to the NCL Index and is not meant to be used as tutorial or example code.\n",
    "```"
   ]
  },
  {
   "cell_type": "markdown",
   "id": "536ffded4355d9c6",
   "metadata": {},
   "source": [
    "## Functions covered\n",
    "- [dewtemp_trh](https://www.ncl.ucar.edu/Document/Functions/Built-in/dewtemp_trh.shtml)\n",
    "- [daylight_fao56](https://www.ncl.ucar.edu/Document/Functions/Crop/daylight_fao56.shtml)\n",
    "- [heat_index_nws](https://www.ncl.ucar.edu/Document/Functions/Contributed/heat_index_nws.shtml)"
    "- [satvpr_temp_fao56](https://www.ncl.ucar.edu/Document/Functions/Crop/satvpr_temp_fao56.shtml)\n",
    "- [satvpr_tdew_fao56](https://www.ncl.ucar.edu/Document/Functions/Crop/satvpr_tdew_fao56.shtml)\n",
    "- [satvpr_slope_fao56](https://www.ncl.ucar.edu/Document/Functions/Crop/satvpr_slope_fao56.shtml)"
   ]
  },
  {
   "cell_type": "markdown",
   "id": "4a129c971c083695",
   "metadata": {},
   "source": [
    "## NCL code"
   ]
  },
  {
   "cell_type": "markdown",
   "id": "3d70616a8934f0fb",
   "metadata": {},
   "source": [
    "```{literalinclude} ../ncl_raw/meteorology.ncl\n",
    "\n",
    "```"
   ]
  },
  {
   "cell_type": "markdown",
   "id": "d918dec004b6456b",
   "metadata": {},
   "source": [
    "## Python Functionality"
   ]
  },
  {
   "cell_type": "markdown",
   "id": "6dc1d6c4-ac26-4346-9aa3-2c73182a7511",
   "metadata": {},
   "source": [
    "### dewtemp_trh"
   ]
  },
  {
   "cell_type": "code",
   "execution_count": 27,
   "id": "7af6f81c-2498-4aea-b250-579ec3fd31c8",
   "metadata": {},
   "outputs": [],
   "source": [
    "#### Collect NCL values for dewtemp_trh from geocat-datafiles\n",
    "import geocat.datafiles as gdf\n",
    "import numpy as np\n",
    "\n",
    "dewtemp_data = gdf.get('applications_files/ncl_outputs/dewtemp_trh_output.txt')\n",
    "dewtemp_data = np.loadtxt(dewtemp_data, delimiter=',', skiprows=6)"
   ]
  },
  {
   "cell_type": "code",
   "execution_count": 28,
   "id": "3166c583-1290-4300-b96b-beab81cd033d",
   "metadata": {},
   "outputs": [],
   "source": [
    "### Collect NCL `dewtemp` value and associated (temperature_kelvin, relative humidity) values\n",
    "ncl_dewtemp = {}\n",
    "tk_rh = tuple(map(tuple, dewtemp_data[::, 0:2]))\n",
    "dewtemp_values = dewtemp_data[::, 2]\n",
    "ncl_dewtemp = dict(zip(tk_rh, dewtemp_values))"
   ]
  },
  {
   "cell_type": "code",
   "execution_count": 29,
   "id": "39fd494c-609b-4dd0-83fd-b08d0daf6aaa",
   "metadata": {},
   "outputs": [],
   "source": [
    "### Collect Temperature (Kelvin) and Relative Humidity Pairs\n",
    "tk_rh = []\n",
    "for tk in range(273, 374 + 1):\n",
    "    for rh in range(1, 100 + 1):\n",
    "        tk_rh.append((tk, rh))\n",
    "\n",
    "### Calculate GeoCAT-Comp `dewtemp` value and tk/rh\n",
    "from geocat.comp import dewtemp\n",
    "\n",
    "geocat_dewtemp = {}\n",
    "\n",
    "for i, pair in enumerate(tk_rh):\n",
    "    tk, rh = pair\n",
    "    geocat_dewtemp[pair] = dewtemp(tk, rh) - 273.15"
   ]
  },
  {
   "cell_type": "markdown",
   "id": "dba9a9a6-864e-48b0-9f0c-ac0f74aed670",
   "metadata": {},
   "source": [
    "### daylight_fao56"
   ]
  },
  {
   "cell_type": "code",
   "execution_count": 30,
   "id": "69028bd0-ae29-43d6-9824-e80b4d6d8f44",
   "metadata": {},
   "outputs": [],
   "source": [
    "#### Collect NCL values for daylight_fao56 from geocat-datafiles\n",
    "import geocat.datafiles as gdf\n",
    "import numpy as np\n",
    "\n",
    "daylight_data = gdf.get('applications_files/ncl_outputs/daylight_fao56_output.txt')\n",
    "daylight_data = np.loadtxt(daylight_data, delimiter=',', skiprows=6)"
   ]
  },
  {
   "cell_type": "code",
   "execution_count": 31,
   "id": "128f13cb-b22f-4b4e-b144-268db532aa78",
   "metadata": {},
   "outputs": [],
   "source": [
    "### Collect NCL `daylight_fao56` value and associated (doy, latitude) values\n",
    "ncl_daylight = {}\n",
    "doy_lat = tuple(map(tuple, daylight_data[::, 0:2]))\n",
    "daylight_values = daylight_data[::, 2]\n",
    "ncl_daylight = dict(zip(doy_lat, daylight_values))"
   ]
  },
  {
   "cell_type": "code",
   "execution_count": 32,
   "id": "ed9351f8-4ff7-4585-b957-d491ace5bdb3",
   "metadata": {},
   "outputs": [
    {
     "name": "stderr",
     "output_type": "stream",
     "text": [
      "/home/cs/miniconda3/envs/geocat-applications/lib/python3.12/site-packages/geocat/comp/meteorology.py:1058: UserWarning: WARNING: max_daylight has limited validity for abs(lat) > 55 \n",
      "  warnings.warn(\n"
     ]
    }
   ],
   "source": [
    "### Collect DOY and Latitude Pairs\n",
    "doy_lat = []\n",
    "for doy in range(0, 365 + 1):\n",
    "    for lat in range(-66, 66 + 1):\n",
    "        doy_lat.append((doy, lat))\n",
    "\n",
    "### Calculate GeoCAT-Comp `daylight_fao56` value and doy/lat\n",
    "from geocat.comp import max_daylight\n",
    "\n",
    "geocat_daylight = {}\n",
    "\n",
    "for i, pair in enumerate(doy_lat):\n",
    "    doy, lat = pair\n",
    "    geocat_daylight[pair] = max_daylight(doy, lat).flatten()[0]"
   ]
  },
  {
   "cell_type": "markdown",
   "id": "47685e2b-9584-46d8-9613-bde0ab6efe20",
   "metadata": {},
   "source": [
    "### heat_index_nws "
   ]
  },
  {
   "cell_type": "code",
   "execution_count": 33,
   "id": "c5011a50-2837-494e-8e46-4d682e33f7aa",
   "metadata": {},
   "outputs": [],
   "source": [
    "#### Collect NCL values for heat_index_nws from geocat-datafiles\n",
    "import geocat.datafiles as gdf\n",
    "import numpy as np\n",
    "\n",
    "# heat_index_data = gdf.get('applications_files/ncl_outputs/heat_index_nws_output.txt')\n",
    "heat_index_data = np.loadtxt(\"heat_index_nws_output.txt\", delimiter=',', skiprows=6)"
   ]
  },
  {
   "cell_type": "code",
   "execution_count": 34,
   "id": "23f1e229-c1c5-4336-b33a-61d35b423e4c",
   "metadata": {},
   "outputs": [],
   "source": [
    "### Collect NCL `heat_index_nws` value and associated (temperature, relative humidity, alternate_coeffs) values\n",
    "ncl_heat_index = {}\n",
    "temp_rh_coefs = tuple(map(tuple, heat_index_data[::, 0:3]))\n",
    "heat_index_values = heat_index_data[::, 3]\n",
    "ncl_heat_index = dict(zip(temp_rh_coefs, heat_index_values))"
   ]
  },
  {
   "cell_type": "code",
   "execution_count": 35,
   "id": "cb5cf657-2b96-4a76-8d85-c6bcface8f76",
   "metadata": {},
   "outputs": [],
   "source": [
    "### Calculate GeoCAT-Comp `heat_index_nws` value and temp/rh\n",
    "from geocat.comp import heat_index\n",
    "\n",
    "geocat_heat_index = {}\n",
    "\n",
    "for key in ncl_heat_index.keys():\n",
    "    temp, rh, alt_coeffs = key\n",
    "    geocat_heat_index[key] = heat_index(temp, rh, alt_coeffs).flatten()[0]"
   ]
  },
  {
   "cell_type": "markdown",
   "id": "a1401358-81a8-4477-9bc9-bbdaf4224c76",
   "metadata": {},
   "source": [
    "### satvpr_temp_fao56"
   ]
  },
  {
   "cell_type": "code",
   "execution_count": null,
   "id": "39c75093-80bc-44c8-880e-ad7f3cfc605c",
   "metadata": {},
   "outputs": [],
   "source": [
    "#### Collect NCL values for satvpr_temp_fao56 from geocat-datafiles\n",
    "import geocat.datafiles as gdf\n",
    "import numpy as np\n",
    "\n",
    "satvpr_temp_fao56_data = gdf.get(\n",
    "    'applications_files/ncl_outputs/satvpr_temp_fao56_output.txt'\n",
    ")\n",
    "satvpr_temp_fao56_data = np.loadtxt(satvpr_temp_fao56_data, delimiter=',', skiprows=6)"
   ]
  },
  {
   "cell_type": "code",
   "execution_count": null,
   "id": "00f0ba20-176f-4139-bc65-a14e01695494",
   "metadata": {},
   "outputs": [],
   "source": [
    "### Collect NCL `satvpr_temp_fao56` value and associated (temp, satvpr_temp) values\n",
    "ncl_satvpr_temp_fao56 = dict(\n",
    "    zip(satvpr_temp_fao56_data[::, 0], satvpr_temp_fao56_data[::, 1])\n",
    ")"
   ]
  },
  {
   "cell_type": "code",
   "execution_count": null,
   "id": "128843eb-c4ad-425a-a1ec-de89545bcb15",
   "metadata": {},
   "outputs": [],
   "source": [
    "### Calculate GeoCAT-Comp `saturation_vapor_pressure`\n",
    "from geocat.comp import saturation_vapor_pressure\n",
    "\n",
    "geocat_satvpr_temp_fao56 = {}\n",
    "\n",
    "for temp in range(33, 212 + 1):\n",
    "    geocat_satvpr_temp_fao56[temp] = saturation_vapor_pressure(temp)"
   ]
  },
  {
   "cell_type": "markdown",
   "id": "c4bdc314-ba26-4c76-8e5e-3fe6804aad40",
   "metadata": {},
   "source": [
    "### satvpr_tdew_fao56"
   ]
  },
  {
   "cell_type": "code",
   "execution_count": null,
   "id": "ffff46d9-f229-4f02-97eb-b3cd346e9dcf",
   "metadata": {},
   "outputs": [],
   "source": [
    "#### Collect NCL values for satvpr_tdew_fao56 from geocat-datafiles\n",
    "import geocat.datafiles as gdf\n",
    "import numpy as np\n",
    "\n",
    "satvpr_tdew_fao56_data = gdf.get(\n",
    "    'applications_files/ncl_outputs/satvpr_tdew_fao56_output.txt'\n",
    ")\n",
    "satvpr_tdew_fao56_data = np.loadtxt(satvpr_tdew_fao56_data, delimiter=',', skiprows=6)"
   ]
  },
  {
   "cell_type": "code",
   "execution_count": null,
   "id": "d6fce921-4897-40a2-9c59-c407834f4294",
   "metadata": {},
   "outputs": [],
   "source": [
    "### Collect NCL `satvpr_tdew_fao56` value and associated (temp, act_sat_vapr_pressure) values\n",
    "ncl_satvpr_tdew_fao56 = dict(\n",
    "    zip(satvpr_tdew_fao56_data[::, 0], satvpr_tdew_fao56_data[::, 1])\n",
    ")"
   ]
  },
  {
   "cell_type": "code",
   "execution_count": null,
   "id": "c0220698-cdec-4de9-bcf6-ffa20bdd78c2",
   "metadata": {},
   "outputs": [],
   "source": [
    "### Calculate GeoCAT-Comp `actual_saturation_vapor_pressure`\n",
    "from geocat.comp import actual_saturation_vapor_pressure\n",
    "\n",
    "geocat_satvpr_tdew_fao56 = {}\n",
    "\n",
    "for temp in range(33, 212 + 1):\n",
    "    geocat_satvpr_tdew_fao56[temp] = actual_saturation_vapor_pressure(temp)"
   ]
  },
  {
   "cell_type": "markdown",
   "id": "a933c4b2-3b1c-46ac-b1a0-47643e302c02",
   "metadata": {},
   "source": [
    "### satvpr_slope_fao56"
   ]
  },
  {
   "cell_type": "code",
   "execution_count": null,
   "id": "fc1aa525-542a-4be3-8ed3-7eb998280890",
   "metadata": {},
   "outputs": [],
   "source": [
    "#### Collect NCL values for satvpr_slope_fao56 from geocat-datafiles\n",
    "import geocat.datafiles as gdf\n",
    "import numpy as np\n",
    "\n",
    "satvpr_slope_fao56_data = gdf.get(\n",
    "    'applications_files/ncl_outputs/satvpr_slope_fao56_output.txt'\n",
    ")\n",
    "satvpr_slope_fao56_data = np.loadtxt(satvpr_slope_fao56_data, delimiter=',', skiprows=6)"
   ]
  },
  {
   "cell_type": "code",
   "execution_count": null,
   "id": "33edf359-c26d-4eff-b845-d4df8d91f0ae",
   "metadata": {},
   "outputs": [],
   "source": [
    "### Collect NCL `satvpr_slope_fao56` value and associated (temp, slope_satvpr) values\n",
    "ncl_satvpr_slope_fao56 = dict(\n",
    "    zip(satvpr_slope_fao56_data[::, 0], satvpr_slope_fao56_data[::, 1])\n",
    ")"
   ]
  },
  {
   "cell_type": "code",
   "execution_count": null,
   "id": "da65e261-19f5-4a1c-973d-1e7e13053621",
   "metadata": {},
   "outputs": [],
   "source": [
    "### Calculate GeoCAT-Comp `saturation_vapor_pressure_slope`\n",
    "from geocat.comp import saturation_vapor_pressure_slope\n",
    "\n",
    "geocat_satvpr_slope_fao56 = {}\n",
    "\n",
    "for temp in range(33, 212 + 1):\n",
    "    geocat_satvpr_slope_fao56[temp] = saturation_vapor_pressure_slope(temp)"
   ]
  },
  {
   "cell_type": "markdown",
   "id": "3237a0bffc6827fc",
   "metadata": {},
   "source": [
    "## Comparison"
   ]
  },
  {
   "cell_type": "markdown",
   "id": "38089ce5-395d-4956-8297-cde6ef5aa99e",
   "metadata": {},
   "source": [
    "### dewtemp_trh"
   ]
  },
  {
   "cell_type": "code",
   "execution_count": 36,
   "id": "74362fd9-0e9f-4cf9-91da-08cd81be625c",
   "metadata": {},
   "outputs": [
    {
     "name": "stdout",
     "output_type": "stream",
     "text": [
      "(np.float64(274.0), np.float64(94.0)):\n",
      "\t-0.0055542, -0.005570036309563875\n",
      "\tDifference: 1.5836309563875377e-05\n",
      "(np.float64(275.0), np.float64(87.0)):\n",
      "\t-0.0839233, -0.08393959272956408\n",
      "\tDifference: 1.6292729564076902e-05\n",
      "(np.float64(275.0), np.float64(88.0)):\n",
      "\t0.073761, 0.07374617196580857\n",
      "\tDifference: 1.482803419142198e-05\n",
      "(np.float64(277.0), np.float64(76.0)):\n",
      "\t0.00259399, 0.0025903565796738803\n",
      "\tDifference: 3.633420326119678e-06\n",
      "(np.float64(278.0), np.float64(71.0)):\n",
      "\t0.0261536, 0.026158530424595483\n",
      "\tDifference: -4.930424595483984e-06\n",
      "(np.float64(279.0), np.float64(66.0)):\n",
      "\t-0.0278931, -0.027897415813697535\n",
      "\tDifference: 4.3158136975342265e-06\n",
      "(np.float64(281.0), np.float64(58.0)):\n",
      "\t0.0712891, 0.07128017477202775\n",
      "\tDifference: 8.925227972245153e-06\n",
      "(np.float64(282.0), np.float64(54.0)):\n",
      "\t0.0129395, 0.01291856405322278\n",
      "\tDifference: 2.0935946777218828e-05\n",
      "(np.float64(283.0), np.float64(50.0)):\n",
      "\t-0.130432, -0.13044636060385528\n",
      "\tDifference: 1.4360603855290144e-05\n",
      "(np.float64(283.0), np.float64(51.0)):\n",
      "\t0.144928, 0.14490829422311435\n",
      "\tDifference: 1.9705776885647897e-05\n",
      "(np.float64(284.0), np.float64(47.0)):\n",
      "\t-0.0726318, -0.07262340593854333\n",
      "\tDifference: -8.39406145666799e-06\n",
      "(np.float64(285.0), np.float64(44.0)):\n",
      "\t-0.0798035, -0.07982300528288988\n",
      "\tDifference: 1.950528288988118e-05\n",
      "(np.float64(286.0), np.float64(41.0)):\n",
      "\t-0.160156, -0.1601734585760255\n",
      "\tDifference: 1.7458576025503048e-05\n",
      "(np.float64(287.0), np.float64(39.0)):\n",
      "\t0.0386658, 0.0386467450997543\n",
      "\tDifference: 1.905490024570189e-05\n",
      "(np.float64(290.0), np.float64(32.0)):\n",
      "\t-0.0795288, -0.07954541765832346\n",
      "\tDifference: 1.6617658323461737e-05\n",
      "(np.float64(291.0), np.float64(30.0)):\n",
      "\t-0.115204, -0.11521555297190389\n",
      "\tDifference: 1.1552971903888709e-05\n",
      "(np.float64(294.0), np.float64(25.0)):\n",
      "\t-0.110413, -0.11042499197856159\n",
      "\tDifference: 1.1991978561595729e-05\n",
      "(np.float64(295.0), np.float64(24.0)):\n",
      "\t0.156677, 0.15665929836796977\n",
      "\tDifference: 1.7701632030242553e-05\n",
      "(np.float64(297.0), np.float64(21.0)):\n",
      "\t-0.0614929, -0.06151243710161225\n",
      "\tDifference: 1.953710161224642e-05\n",
      "(np.float64(299.0), np.float64(19.0)):\n",
      "\t0.162537, 0.16251872398265732\n",
      "\tDifference: 1.8276017342666595e-05\n",
      "(np.float64(302.0), np.float64(16.0)):\n",
      "\t0.138275, 0.1382598702660971\n",
      "\tDifference: 1.5129733902913278e-05\n",
      "(np.float64(303.0), np.float64(15.0)):\n",
      "\t0.0130615, 0.013067891707237322\n",
      "\tDifference: -6.391707237322214e-06\n"
     ]
    }
   ],
   "source": [
    "import math\n",
    "\n",
    "for pair in ncl_dewtemp.keys():\n",
    "    try:\n",
    "        assert math.isclose(\n",
    "            ncl_dewtemp[pair], geocat_dewtemp[pair], rel_tol=1e-04\n",
    "        )  # within 4 decimal points\n",
    "    except Exception:\n",
    "        assert math.isclose(\n",
    "            ncl_dewtemp[pair], geocat_dewtemp[pair], rel_tol=1e-02\n",
    "        )  # within 2 decimal points\n",
    "        print(f\"{pair}:\")\n",
    "        print(f\"\\t{ncl_dewtemp[pair]}, {geocat_dewtemp[pair]}\")\n",
    "        print(f\"\\tDifference: {ncl_dewtemp[pair] - geocat_dewtemp[pair]}\")"
   ]
  },
  {
   "cell_type": "markdown",
   "id": "b9cd9ad4-f898-460c-b79b-eef6f7a8e89d",
   "metadata": {},
   "source": [
    "### daylight_fao56"
   ]
  },
  {
   "cell_type": "code",
   "execution_count": 37,
   "id": "840d88ab-7ecc-485a-9aaf-d8de846196a9",
   "metadata": {},
   "outputs": [],
   "source": [
    "import math\n",
    "\n",
    "for pair in ncl_daylight.keys():\n",
    "    assert math.isclose(\n",
    "        ncl_daylight[pair], geocat_daylight[pair], rel_tol=1e-05\n",
    "    )  # within 5 decimal points"
   ]
  },
  {
   "cell_type": "markdown",
   "id": "021edbb4-68ee-4e79-8054-77b0a9d3aa38",
   "metadata": {},
   "source": [
    "### heat_index_nws"
   ]
  },
  {
   "cell_type": "code",
   "execution_count": 38,
   "id": "df9425e3-0c44-46b6-97ab-ce01a4d97dc1",
   "metadata": {},
   "outputs": [
    {
     "name": "stdout",
     "output_type": "stream",
     "text": [
      "Greater than 2° Difference between NCL and GeoCAT = 6.349137931034483% (1473/23200)\n"
     ]
    }
   ],
   "source": [
    "difference_from_ncl = 0\n",
    "diff_0 = []\n",
    "diff_1 = []\n",
    "coeff_type = []\n",
    "for key in ncl_heat_index.keys():\n",
    "    temp, rh, alt_coeffs = key\n",
    "    try:\n",
    "        assert ncl_heat_index[key] == geocat_heat_index[key]\n",
    "    except Exception:\n",
    "        try:\n",
    "            assert ncl_heat_index[key] - geocat_heat_index[key] <= 2\n",
    "        except Exception:\n",
    "            difference_from_ncl += 1\n",
    "            if alt_coeffs == 0:\n",
    "                diff_0.append(ncl_heat_index[key] - geocat_heat_index[key])\n",
    "            if alt_coeffs == 1:\n",
    "                diff_1.append(ncl_heat_index[key] - geocat_heat_index[key])\n",
    "            coeff_type.append(alt_coeffs)\n",
    "print(\n",
    "    f\"Greater than 2° Difference between NCL and GeoCAT = {difference_from_ncl/len(ncl_heat_index)*100}% ({difference_from_ncl}/{len(ncl_heat_index)})\"\n",
    ")"
   ]
  },
  {
   "cell_type": "code",
   "execution_count": 39,
   "id": "46dd5eee-6bd5-4e2d-94af-2613b6045bc4",
   "metadata": {},
   "outputs": [
    {
     "data": {
      "image/png": "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",
      "text/plain": [
       "<Figure size 640x480 with 1 Axes>"
      ]
     },
     "metadata": {},
     "output_type": "display_data"
    }
   ],
   "source": [
    "import matplotlib.pyplot as plt\n",
    "\n",
    "fig, ax = plt.subplots()\n",
    "counts, edges, bars = plt.hist(coeff_type, range=[0, 1], bins=2)\n",
    "plt.title(\"Greater than 2° (0/1 - True/False Alternate Coeffs)\")\n",
    "plt.bar_label(bars)\n",
    "plt.show()"
   ]
  },
  {
   "cell_type": "code",
   "execution_count": 40,
   "id": "ee425065-9371-4544-ae37-de7a303c61fb",
   "metadata": {},
   "outputs": [
    {
     "data": {
      "image/png": "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",
      "text/plain": [
       "<Figure size 640x480 with 1 Axes>"
      ]
     },
     "metadata": {},
     "output_type": "display_data"
    }
   ],
   "source": [
    "fig, ax = plt.subplots()\n",
    "counts, edges, bars = plt.hist(diff_0)\n",
    "plt.title(\"Degree Difference from NCL for Default Coefficients\")\n",
    "plt.bar_label(bars)\n",
    "plt.show()"
   ]
  },
  {
   "cell_type": "code",
   "execution_count": 41,
   "id": "f3d65e9c-0f01-48be-9871-d8aa8eec6337",
   "metadata": {},
   "outputs": [
    {
     "data": {
      "image/png": "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",
      "text/plain": [
       "<Figure size 640x480 with 1 Axes>"
      ]
     },
     "metadata": {},
     "output_type": "display_data"
    }
   ],
   "source": [
    "fig, ax = plt.subplots()\n",
    "counts, edges, bars = plt.hist(diff_1)\n",
    "plt.title(\"Degree Difference from NCL for Alternate Coefficients\")\n",
    "plt.bar_label(bars)\n",
    "plt.show()"   ]
  },
  {
   "cell_type": "code",
   "execution_count": null,
   "id": "2bcc1d0e-d14f-40f5-a9f6-ce3e7053c5f0",
   "metadata": {},
   "outputs": [],
   "source": []
  },
  {
   "cell_type": "code",
   "execution_count": null,
   "id": "4d2cf8ec-8743-45e2-870d-ae2d81b0518c",
   "metadata": {},
   "outputs": [],
   "source": []
  },
  {
   "cell_type": "code",
   "execution_count": null,
   "id": "c8cf5065-8554-4379-8378-f9f460eb0248",
   "metadata": {},
   "outputs": [],
   "source": []
  }
 ],
 "metadata": {
  "kernelspec": {
   "display_name": "Python 3 (ipykernel)",
   "language": "python",
   "name": "python3"
  },
  "language_info": {
   "codemirror_mode": {
    "name": "ipython",
    "version": 3
   },
   "file_extension": ".py",
   "mimetype": "text/x-python",
   "name": "python",
   "nbconvert_exporter": "python",
   "pygments_lexer": "ipython3",
   "version": "3.12.7"
  }
 },
 "nbformat": 4,
 "nbformat_minor": 5
}
