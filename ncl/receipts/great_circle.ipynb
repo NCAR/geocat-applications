{
 "cells": [
  {
   "cell_type": "markdown",
   "id": "e6eddaf181eacfd3",
   "metadata": {},
   "source": [
    "# Great Circle"
   ]
  },
  {
   "cell_type": "markdown",
   "id": "e6be6389ef38b00b",
   "metadata": {},
   "source": [
    "```{warning} This is not meant to be a standalone notebook.\n",
    "This notebook is part of the process we have for adding entries to the NCL Index and is not meant to be used as tutorial or example code.\n",
    "```"
   ]
  },
  {
   "cell_type": "markdown",
   "id": "536ffded4355d9c6",
   "metadata": {},
   "source": [
    "## Functions covered\n",
    "- [area_poly_sphere](https://www.ncl.ucar.edu/Document/Functions/Built-in/area_poly_sphere.shtml)\n",
    "- [css2c](https://www.ncl.ucar.edu/Document/Functions/Built-in/css2c.shtml)\n",
    "- [csc2s](https://www.ncl.ucar.edu/Document/Functions/Built-in/csc2s.shtml)"
   ]
  },
  {
   "cell_type": "markdown",
   "id": "4a129c971c083695",
   "metadata": {},
   "source": [
    "## NCL code"
   ]
  },
  {
   "cell_type": "markdown",
   "id": "3d70616a8934f0fb",
   "metadata": {},
   "source": [
    "```{literalinclude} ../ncl_raw/great_circle.ncl\n",
    "\n",
    "```"
   ]
  },
  {
   "cell_type": "markdown",
   "id": "d918dec004b6456b",
   "metadata": {},
   "source": [
    "## Python Functionality"
   ]
  },
  {
   "cell_type": "markdown",
   "id": "6dc1d6c4-ac26-4346-9aa3-2c73182a7511",
   "metadata": {},
   "source": [
    "### area_poly_sphere"
   ]
  },
  {
   "cell_type": "code",
   "execution_count": 1,
   "id": "2ba99b37-a743-4776-bc7b-d5a08b977642",
   "metadata": {},
   "outputs": [],
   "source": [
    "import math\n",
    "\n",
    "ncl_results = {}\n",
    "\n",
    "poly_name = [\n",
    "    \"Boulder, Boston, Houston\",\n",
    "    \"Four Corners of Colorado\",\n",
    "    \"Caltech, Alberta, Greenwich, Paris, Madrid\",\n",
    "    \"Crossing the Equator\",\n",
    "    \"Crossing the Prime Meridian\",\n",
    "    \"Half of the World\",\n",
    "    \"Single Point -> Invalid NCL\",\n",
    "    \"Single Degree\",\n",
    "]\n",
    "\n",
    "ncl_lat = [\n",
    "    [40.0150, 42.3601, 29.5518],\n",
    "    [41.00488, 41.00203, 37.00540, 37.00051],\n",
    "    [34.1377, 53.9333, 51.4934, 48.8575, 40.4167],\n",
    "    [0.4078, -5.9230, 0.1864],\n",
    "    [53.3498, 52.3676, 51.9939],\n",
    "    [90.0, 0.0, -90.0, 0.0],\n",
    "    [40, 40, 40, 40],\n",
    "    [40, 40, 41, 41],\n",
    "]\n",
    "ncl_lon = [\n",
    "    [-105.2705, -71.0589, -95.0982],\n",
    "    [-109.05001, -102.05348, -103.04633, -109.04720],\n",
    "    [-118.1253, -116.5765, 0.0098, 2.3514, -3.7033],\n",
    "    [9.4403, 12.3636, 6.6131],\n",
    "    [-6.2603, 4.9041, -4.9760],\n",
    "    [0.0, -90.0, 0.0, 90.0],\n",
    "    [-105, -105, -105, -105],\n",
    "    [-105, -106, -106, -105],\n",
    "]\n",
    "ncl_results[poly_name[0]] = 1940856\n",
    "ncl_results[poly_name[1]] = 250007.6\n",
    "ncl_results[poly_name[2]] = 11634800\n",
    "ncl_results[poly_name[3]] = 114894.8\n",
    "ncl_results[poly_name[4]] = 54450.39\n",
    "ncl_results[poly_name[5]] = 255032000\n",
    "ncl_results[poly_name[6]] = -127516000\n",
    "ncl_results[poly_name[7]] = 9401.705\n",
    "\n",
    "from pyproj import Geod\n",
    "\n",
    "python_results = {}\n",
    "geod = Geod(ellps=\"sphere\")  # radius = 6370997 m\n",
    "for i in range(len(poly_name)):\n",
    "    poly_area_m, _ = geod.polygon_area_perimeter(ncl_lon[i], ncl_lat[i])\n",
    "    poly_area_km2 = abs(poly_area_m) * 1e-6\n",
    "    python_results[poly_name[i]] = poly_area_km2"
   ]
  },
  {
   "cell_type": "markdown",
   "id": "c0e65c3e-2377-47ec-b94c-e7eb753966d9",
   "metadata": {},
   "source": [
    "### css2c"
   ]
  },
  {
   "cell_type": "code",
   "execution_count": 2,
   "id": "35abde81-5843-4504-8e32-a137ee1aa094",
   "metadata": {},
   "outputs": [],
   "source": [
    "import geocat.datafiles as gdf\n",
    "import numpy as np\n",
    "from astropy.coordinates.representation import UnitSphericalRepresentation\n",
    "from astropy import units\n",
    "\n",
    "css2c_data = gdf.get('applications_files/ncl_outputs/css2c_output.txt')\n",
    "css2c_data = np.loadtxt(css2c_data, delimiter=',', skiprows=6)\n",
    "\n",
    "lat_lon = tuple(map(tuple, (css2c_data[::, 0:2])))\n",
    "cart_values = tuple(css2c_data[::, 2:])\n",
    "ncl_css2c = dict(zip(lat_lon, cart_values))"
   ]
  },
  {
   "cell_type": "code",
   "execution_count": 3,
   "id": "ee104ea1-e287-4635-b404-5b06ccfb6949",
   "metadata": {},
   "outputs": [],
   "source": [
    "## Collect Latitude and Longtiude Pairs\n",
    "lat_lon = []\n",
    "for lat in range(-90, 90 + 1):\n",
    "    for lon in range(-180, 180 + 1):\n",
    "        lat_lon.append((lat, lon))\n",
    "\n",
    "## Calculate Cartesian coordinates\n",
    "astropy_css2c = {}\n",
    "for i, pair in enumerate(lat_lon):\n",
    "    lat, lon = pair\n",
    "    spherical_coords = UnitSphericalRepresentation(\n",
    "        lat=lat * units.deg, lon=lon * units.deg\n",
    "    )\n",
    "    cart_coords = spherical_coords.to_cartesian()\n",
    "    astropy_css2c[pair] = cart_coords.xyz.value"
   ]
  },
  {
   "cell_type": "markdown",
   "id": "399d047d-f22c-41cf-996d-d84e1f5b096c",
   "metadata": {},
   "source": [
    "### csc2s"
   ]
  },
  {
   "cell_type": "code",
   "execution_count": 4,
   "id": "5ae18411-506d-455c-867e-50273bfff7e2",
   "metadata": {},
   "outputs": [],
   "source": [
    "import geocat.datafiles as gdf\n",
    "from astropy.coordinates.representation import CartesianRepresentation, SphericalRepresentation\n",
    "import numpy as np\n",
    "\n",
    "#csc2s_data = gdf.get('applications_files/ncl_outputs/csc2s_output.txt')\n",
    "csc2s_data = np.loadtxt(\"../ncl_raw/csc2s_output.txt\", delimiter=',', skiprows=6)\n",
    "\n",
    "cart_values = csc2s_data[::, 0:3]\n",
    "lat_lon = tuple(map(tuple, (csc2s_data[::, 3:])))\n",
    "ncl_csc2s = dict(zip(lat_lon, cart_values))"
   ]
  },
  {
   "cell_type": "code",
   "execution_count": 5,
   "id": "043a0ec3-e0a2-4c6e-952d-1d459237a1f4",
   "metadata": {},
   "outputs": [],
   "source": [
    "## Calculate Spherical coordinates\n",
    "def spherical_cart(x, y, z):\n",
    "    cart_coords = CartesianRepresentation(x=x, y=y, z=z)\n",
    "    spherical_coords = cart_coords.represent_as(SphericalRepresentation)\n",
    "    # convert latitude/longitude from radians to degrees\n",
    "    lat_deg = np.rad2deg(spherical_coords.lat.value)\n",
    "    lon_deg = (np.rad2deg(spherical_coords.lon.value) + 180) % 360 - 180 # keep longitude between -180 to 180\n",
    "    return (lat_deg, lon_deg)\n",
    "\n",
    "astropy_csc2s = {}\n",
    "for xyz in cart_values:\n",
    "    x, y, z = xyz\n",
    "    lat_lon = spherical_cart(x, y, z)\n",
    "    astropy_csc2s[tuple(xyz)] = lat_lon"
   ]
  },
  {
   "cell_type": "markdown",
   "id": "3237a0bffc6827fc",
   "metadata": {},
   "source": [
    "## Comparison"
   ]
  },
  {
   "cell_type": "markdown",
   "id": "384790de-53f9-45d7-8bc1-fef86df21b57",
   "metadata": {},
   "source": [
    "### area_poly_sphere"
   ]
  },
  {
   "cell_type": "markdown",
   "id": "cb61d4f0-bd10-4034-bfe8-b0c6e9137ec3",
   "metadata": {},
   "source": [
    "<div class=\"admonition alert alert-info\">\n",
    "    <p class=\"admonition-title\" style=\"font-weight:bold\">Important Note</p>\n",
    "    NCL does not return a valid value for a single point (\"Single Point -> Invalid NCL\") where Python does, so this error is ignored below\n",
    "</div>"
   ]
  },
  {
   "cell_type": "code",
   "execution_count": 6,
   "id": "74362fd9-0e9f-4cf9-91da-08cd81be625c",
   "metadata": {},
   "outputs": [
    {
     "name": "stdout",
     "output_type": "stream",
     "text": [
      "VALID:\n",
      "\tBoulder, Boston, Houston: \n",
      "\tncl:\t\t1940856\n",
      "\tpython:\t\t1940855.984630871\n",
      "\n",
      "VALID:\n",
      "\tFour Corners of Colorado: \n",
      "\tncl:\t\t250007.6\n",
      "\tpython:\t\t250007.81588628562\n",
      "\n",
      "VALID:\n",
      "\tCaltech, Alberta, Greenwich, Paris, Madrid: \n",
      "\tncl:\t\t11634800\n",
      "\tpython:\t\t11634798.025760762\n",
      "\n",
      "VALID:\n",
      "\tCrossing the Equator: \n",
      "\tncl:\t\t114894.8\n",
      "\tpython:\t\t114894.73868013734\n",
      "\n",
      "VALID:\n",
      "\tCrossing the Prime Meridian: \n",
      "\tncl:\t\t54450.39\n",
      "\tpython:\t\t54450.41832867822\n",
      "\n",
      "VALID:\n",
      "\tHalf of the World: \n",
      "\tncl:\t\t255032000\n",
      "\tpython:\t\t255031995.77390912\n",
      "\n",
      "INVALID:\n",
      "\tSingle Point -> Invalid NCL: \n",
      "\t\tncl:\t\t-127516000\n",
      "\t\tpython:\t\t0.0\n",
      "\n",
      "VALID:\n",
      "\tSingle Degree: \n",
      "\tncl:\t\t9401.705\n",
      "\tpython:\t\t9401.704877506347\n",
      "\n"
     ]
    }
   ],
   "source": [
    "for key in ncl_results.keys():\n",
    "    if key in python_results.keys() and key in python_results.keys():\n",
    "        try:\n",
    "            assert math.isclose(\n",
    "                ncl_results[key], python_results[key], rel_tol=1e-5\n",
    "            )  # within 4 decimal points\n",
    "            print(\n",
    "                f\"VALID:\\n\\t{key}: \\n\\tncl:\\t\\t{ncl_results[key]}\\n\\tpython:\\t\\t{python_results[key]}\\n\"\n",
    "            )\n",
    "        except Exception:\n",
    "            print(\n",
    "                f\"INVALID:\\n\\t{key}: \\n\\t\\tncl:\\t\\t{ncl_results[key]}\\n\\t\\tpython:\\t\\t{python_results[key]}\\n\"\n",
    "            )\n",
    "            if key != \"Single Point -> Invalid NCL\":\n",
    "                assert False"
   ]
  },
  {
   "cell_type": "markdown",
   "id": "57251c09-ef8c-438f-b3cf-cf798e7f4028",
   "metadata": {},
   "source": [
    "### css2c"
   ]
  },
  {
   "cell_type": "code",
   "execution_count": 7,
   "id": "d5738d2d-5abe-4ed4-8e90-c42881c2bfb0",
   "metadata": {},
   "outputs": [],
   "source": [
    "for key in ncl_css2c.keys():\n",
    "    if key in astropy_css2c.keys():\n",
    "        assert abs(ncl_css2c[key][0] - astropy_css2c[key][0]) < 0.000005\n",
    "        assert abs(ncl_css2c[key][1] - astropy_css2c[key][1]) < 0.000005\n",
    "        assert abs(ncl_css2c[key][2] - astropy_css2c[key][2]) < 0.000005"
   ]
  },
  {
   "cell_type": "markdown",
   "id": "90d7474d-60fb-4c22-8191-a120560174af",
   "metadata": {},
   "source": [
    "### csc2s"
   ]
  },
  {
   "cell_type": "code",
   "execution_count": 8,
   "id": "53360a09-f1f3-4b0f-b7b4-9501aa5c92e1",
   "metadata": {},
   "outputs": [],
   "source": [
    "for i, key in enumerate(ncl_csc2s.keys()):\n",
    "    assert abs(key[0] - astropy_csc2s[list(astropy_csc2s.keys())[i]][0]) < 0.0005\n",
    "    assert abs(key[1] - astropy_csc2s[list(astropy_csc2s.keys())[i]][1]) < 0.0005"
   ]
  }
 ],
 "metadata": {
  "kernelspec": {
   "display_name": "Python 3 (ipykernel)",
   "language": "python",
   "name": "python3"
  },
  "language_info": {
   "codemirror_mode": {
    "name": "ipython",
    "version": 3
   },
   "file_extension": ".py",
   "mimetype": "text/x-python",
   "name": "python",
   "nbconvert_exporter": "python",
   "pygments_lexer": "ipython3",
   "version": "3.12.7"
  }
 },
 "nbformat": 4,
 "nbformat_minor": 5
}
