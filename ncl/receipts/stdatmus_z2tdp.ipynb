{
 "cells": [
  {
   "cell_type": "markdown",
   "id": "e6eddaf181eacfd3",
   "metadata": {},
   "source": [
    "# stdatmus_z2tdp"
   ]
  },
  {
   "cell_type": "markdown",
   "id": "e6be6389ef38b00b",
   "metadata": {},
   "source": [
    "```{warning} This is not meant to be a standalone notebook.\n",
    "This notebook is part of the process we have for adding entries to the NCL Index and is not meant to be used as tutorial or example code.\n",
    "```"
   ]
  },
  {
   "cell_type": "markdown",
   "id": "536ffded4355d9c6",
   "metadata": {},
   "source": [
    "## Functions covered\n",
    "- [stdatmus_z2tdp](https://www.ncl.ucar.edu/Document/Functions/Built-in/stdatmus_z2tdp.shtml)"
   ]
  },
  {
   "cell_type": "markdown",
   "id": "4a129c971c083695",
   "metadata": {},
   "source": [
    "## NCL code"
   ]
  },
  {
   "cell_type": "markdown",
   "id": "3d70616a8934f0fb",
   "metadata": {},
   "source": [
    "```{literalinclude} ../ncl_raw/stdatmus_z2tdp.ncl\n",
    "```"
   ]
  },
  {
   "cell_type": "markdown",
   "id": "d918dec004b6456b",
   "metadata": {},
   "source": [
    "## Python Functionality"
   ]
  },
  {
   "cell_type": "code",
   "execution_count": 22,
   "id": "47cd64dda7652b64",
   "metadata": {},
   "outputs": [],
   "source": [
    "from ambiance import Atmosphere\n",
    "\n",
    "results = {}\n",
    "\n",
    "height = 100  # meters\n",
    "stdatmus_100 = Atmosphere(height)\n",
    "\n",
    "results[\"temperature\"] = stdatmus_100.temperature_in_celsius[0]\n",
    "results[\"density\"] = stdatmus_100.density[0]\n",
    "results[\"pressure\"] = stdatmus_100.pressure[0] / 100"
   ]
  },
  {
   "cell_type": "markdown",
   "id": "3237a0bffc6827fc",
   "metadata": {},
   "source": [
    "## Comparison"
   ]
  },
  {
   "cell_type": "code",
   "execution_count": 23,
   "id": "1fe6a51d83a36148",
   "metadata": {},
   "outputs": [
    {
     "name": "stdout",
     "output_type": "stream",
     "text": [
      "density: \n",
      "\tpython:\t1.213282967332296\n",
      "\tncl:\t1.213282\n",
      "\n",
      "temperature: \n",
      "\tpython:\t14.350010225164397\n",
      "\tncl:\t14.35\n",
      "\n",
      "pressure: \n",
      "\tpython:\t1001.2945645595289\n",
      "\tncl:\t1001.294\n",
      "\n"
     ]
    }
   ],
   "source": [
    "import math\n",
    "import numpy as np\n",
    "\n",
    "ncl_results = {\"temperature\": 14.35, \"density\": 1.213282, \"pressure\": 1001.294}\n",
    "\n",
    "for c in ncl_results.keys() & results.keys():\n",
    "    print(f\"{c}: \\n\\tpython:\\t{results[c]}\\n\\tncl:\\t{ncl_results[c]}\\n\")\n",
    "    if isinstance(ncl_results[c], np.ndarray):\n",
    "        assert (results[c] == ncl_results[c]).any()\n",
    "    else:\n",
    "        assert math.isclose(\n",
    "            results[c], results[c], rel_tol=1e-3\n",
    "        )  # within 3 decimal points"
   ]
  },
  {
   "cell_type": "markdown",
   "id": "f90f73fc-7d4f-4323-b1b4-84ab92315d7e",
   "metadata": {},
   "source": [
    "# Differences"
   ]
  },
  {
   "cell_type": "code",
   "execution_count": 24,
   "id": "f5e6b318-4a17-46bc-b1dc-93707a79a4d4",
   "metadata": {},
   "outputs": [
    {
     "name": "stdout",
     "output_type": "stream",
     "text": [
      "density:\n",
      "\t9.673322960424002e-07\n",
      "temperature:\n",
      "\t1.0225164396970854e-05\n",
      "pressure:\n",
      "\t0.0005645595289252014\n"
     ]
    }
   ],
   "source": [
    "for c in ncl_results.keys() & results.keys():\n",
    "    print(f\"{c}:\")\n",
    "    print(f\"\\t{results[c] - ncl_results[c]}\")"
   ]
  }
 ],
 "metadata": {
  "kernelspec": {
   "display_name": "Python 3 (ipykernel)",
   "language": "python",
   "name": "python3"
  },
  "language_info": {
   "codemirror_mode": {
    "name": "ipython",
    "version": 3
   },
   "file_extension": ".py",
   "mimetype": "text/x-python",
   "name": "python",
   "nbconvert_exporter": "python",
   "pygments_lexer": "ipython3",
   "version": "3.11.8"
  }
 },
 "nbformat": 4,
 "nbformat_minor": 5
}
