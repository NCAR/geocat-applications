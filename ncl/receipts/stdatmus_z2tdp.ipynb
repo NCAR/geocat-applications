{
 "cells": [
  {
   "cell_type": "markdown",
   "id": "e6eddaf181eacfd3",
   "metadata": {},
   "source": [
    "# stdatmus_z2tdp"
   ]
  },
  {
   "cell_type": "markdown",
   "id": "e6be6389ef38b00b",
   "metadata": {},
   "source": [
    "```{warning} This is not meant to be a standalone notebook.\n",
    "This notebook is part of the process we have for adding entries to the NCL Index and is not meant to be used as tutorial or example code.\n",
    "```"
   ]
  },
  {
   "cell_type": "markdown",
   "id": "536ffded4355d9c6",
   "metadata": {},
   "source": [
    "## Functions covered\n",
    "- [stdatmus_z2tdp](https://www.ncl.ucar.edu/Document/Functions/Built-in/stdatmus_z2tdp.shtml)"
   ]
  },
  {
   "cell_type": "markdown",
   "id": "4a129c971c083695",
   "metadata": {},
   "source": [
    "## NCL code"
   ]
  },
  {
   "cell_type": "markdown",
   "id": "3d70616a8934f0fb",
   "metadata": {},
   "source": [
    "```{literalinclude} ../ncl_raw/stdatmus_z2tdp.ncl\n",
    "```"
   ]
  },
  {
   "cell_type": "markdown",
   "id": "d918dec004b6456b",
   "metadata": {},
   "source": [
    "## Python Functionality"
   ]
  },
  {
   "cell_type": "code",
   "execution_count": 13,
   "id": "47cd64dda7652b64",
   "metadata": {},
   "outputs": [],
   "source": [
    "from ambiance import Atmosphere\n",
    "\n",
    "results = {}\n",
    "\n",
    "heights = [0, 100, 1000, 11000]  # meters\n",
    "for height in heights:\n",
    "    stdatmus = Atmosphere(height)\n",
    "    results[f\"{height}_temperature\"] = stdatmus.temperature_in_celsius[0]\n",
    "    results[f\"{height}_density\"] = stdatmus.density[0]\n",
    "    results[f\"{height}_pressure\"] = stdatmus.pressure[0] / 100"
   ]
  },
  {
   "cell_type": "markdown",
   "id": "3237a0bffc6827fc",
   "metadata": {},
   "source": [
    "## Comparison"
   ]
  },
  {
   "cell_type": "code",
   "execution_count": 14,
   "id": "1fe6a51d83a36148",
   "metadata": {},
   "outputs": [
    {
     "name": "stdout",
     "output_type": "stream",
     "text": [
      "100_pressure: \n",
      "\tpython:\t1001.2945645595289\n",
      "\tncl:\t1001.294\n",
      "\n",
      "0_pressure: \n",
      "\tpython:\t1013.25\n",
      "\tncl:\t1013.25\n",
      "\n",
      "0_density: \n",
      "\tpython:\t1.225000018124288\n",
      "\tncl:\t1.224999\n",
      "\n",
      "100_temperature: \n",
      "\tpython:\t14.350010225164397\n",
      "\tncl:\t14.35\n",
      "\n",
      "100_density: \n",
      "\tpython:\t1.213282967332296\n",
      "\tncl:\t1.213282\n",
      "\n",
      "1000_pressure: \n",
      "\tpython:\t898.7627760234232\n",
      "\tncl:\t898.7457\n",
      "\n",
      "1000_density: \n",
      "\tpython:\t1.1116596736996904\n",
      "\tncl:\t1.111642\n",
      "\n",
      "11000_pressure: \n",
      "\tpython:\t226.9993683700412\n",
      "\tncl:\t226.3206\n",
      "\n",
      "1000_temperature: \n",
      "\tpython:\t8.501022371694717\n",
      "\tncl:\t8.5\n",
      "\n",
      "11000_density: \n",
      "\tpython:\t0.36480143683538285\n",
      "\tncl:\t0.3639178\n",
      "\n",
      "11000_temperature: \n",
      "\tpython:\t-56.37648729554445\n",
      "\tncl:\t-56.5\n",
      "\n",
      "0_temperature: \n",
      "\tpython:\t15.0\n",
      "\tncl:\t15\n",
      "\n"
     ]
    }
   ],
   "source": [
    "import math\n",
    "import numpy as np\n",
    "\n",
    "ncl_results = {\n",
    "    \"0_temperature\": 15,\n",
    "    \"0_density\": 1.224999,\n",
    "    \"0_pressure\": 1013.25,\n",
    "    \"100_temperature\": 14.35,\n",
    "    \"100_density\": 1.213282,\n",
    "    \"100_pressure\": 1001.294,\n",
    "    \"1000_temperature\": 8.5,\n",
    "    \"1000_density\": 1.111642,\n",
    "    \"1000_pressure\": 898.7457,\n",
    "    \"11000_temperature\": -56.5,\n",
    "    \"11000_density\": 0.3639178,\n",
    "    \"11000_pressure\": 226.3206,\n",
    "}\n",
    "\n",
    "for c in ncl_results.keys() & results.keys():\n",
    "    print(f\"{c}: \\n\\tpython:\\t{results[c]}\\n\\tncl:\\t{ncl_results[c]}\\n\")\n",
    "    if isinstance(ncl_results[c], np.ndarray):\n",
    "        assert (results[c] == ncl_results[c]).any()\n",
    "    else:\n",
    "        assert math.isclose(\n",
    "            results[c], results[c], rel_tol=1e-3\n",
    "        )  # within 3 decimal points"
   ]
  },
  {
   "cell_type": "markdown",
   "id": "f90f73fc-7d4f-4323-b1b4-84ab92315d7e",
   "metadata": {},
   "source": [
    "# Differences"
   ]
  },
  {
   "cell_type": "code",
   "execution_count": 15,
   "id": "f5e6b318-4a17-46bc-b1dc-93707a79a4d4",
   "metadata": {},
   "outputs": [
    {
     "name": "stdout",
     "output_type": "stream",
     "text": [
      "100_pressure:\n",
      "\t0.0005645595289252014\n",
      "0_pressure:\n",
      "\t0.0\n",
      "0_density:\n",
      "\t1.018124287988087e-06\n",
      "100_temperature:\n",
      "\t1.0225164396970854e-05\n",
      "100_density:\n",
      "\t9.673322960424002e-07\n",
      "1000_pressure:\n",
      "\t0.017076023423101105\n",
      "1000_density:\n",
      "\t1.7673699690412548e-05\n",
      "11000_pressure:\n",
      "\t0.6787683700411833\n",
      "1000_temperature:\n",
      "\t0.0010223716947166395\n",
      "11000_density:\n",
      "\t0.0008836368353828394\n",
      "11000_temperature:\n",
      "\t0.12351270445554974\n",
      "0_temperature:\n",
      "\t0.0\n"
     ]
    }
   ],
   "source": [
    "for c in ncl_results.keys() & results.keys():\n",
    "    print(f\"{c}:\")\n",
    "    print(f\"\\t{results[c] - ncl_results[c]}\")"
   ]
  }
 ],
 "metadata": {
  "kernelspec": {
   "display_name": "Python 3 (ipykernel)",
   "language": "python",
   "name": "python3"
  },
  "language_info": {
   "codemirror_mode": {
    "name": "ipython",
    "version": 3
   },
   "file_extension": ".py",
   "mimetype": "text/x-python",
   "name": "python",
   "nbconvert_exporter": "python",
   "pygments_lexer": "ipython3",
   "version": "3.11.8"
  }
 },
 "nbformat": 4,
 "nbformat_minor": 5
}
