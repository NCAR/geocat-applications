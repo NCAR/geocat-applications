{
 "cells": [
  {
   "cell_type": "markdown",
   "metadata": {},
   "source": [
    "# day_of_week"
   ]
  },
  {
   "cell_type": "markdown",
   "metadata": {},
   "source": [
    "## Overview\n",
    "NCL's [`day_of_week`](https://www.ncl.ucar.edu/Document/Functions/Built-in/day_of_week.shtml) calculates the day of the week given month, day, and year."
   ]
  },
  {
   "cell_type": "markdown",
   "metadata": {},
   "source": [
    "## Grab and Go"
   ]
  },
  {
   "cell_type": "code",
   "execution_count": null,
   "metadata": {},
   "outputs": [],
   "source": [
    "import cftime\n",
    "\n",
    "day = 4\n",
    "month = 6\n",
    "year = 2024\n",
    "\n",
    "dow = cftime.datetime(\n",
    "    year, month, day, calendar='proleptic_gregorian', has_year_zero=True\n",
    ").strftime(\"%w\")\n",
    "print(dow)"
   ]
  },
  {
   "cell_type": "markdown",
   "metadata": {},
   "source": [
    "---"
   ]
  },
  {
   "cell_type": "markdown",
   "metadata": {},
   "source": [
    "## Using the `datetime` module\n",
    "The [`datetime`](https://docs.python.org/3/library/datetime.html) module is part of the Python Standard Library and could be sufficient to calculate the day of the week. "
   ]
  },
  {
   "cell_type": "code",
   "execution_count": null,
   "metadata": {},
   "outputs": [],
   "source": [
    "import datetime\n",
    "\n",
    "day = 4\n",
    "month = 6\n",
    "year = 2024\n",
    "\n",
    "dow = datetime.date(year, month, day).strftime('%A')\n",
    "print(f\"{year}-{month}-{day} is a {dow}\")"
   ]
  },
  {
   "cell_type": "markdown",
   "metadata": {},
   "source": [
    "However, the `datetime` module does not support year 0. If you need to work with year 0, we suggest using `cftime`.\n",
    "\n",
    "The `datetime` module also only uses the proleptic Gregorian calendar. If you need to work with other calendars, we suggest using `cftime`."
   ]
  },
  {
   "cell_type": "markdown",
   "metadata": {},
   "source": [
    "## Using `cftime`\n",
    "[`cftime`](https://unidata.github.io/cftime/index.html) offers a solution to these potential issues by supporting year 0 and all of the [CF Convention calendars](https://cfconventions.org/cf-conventions/cf-conventions#calendar). Here is how you can use `cftime` to calculate the day of the week."
   ]
  },
  {
   "cell_type": "code",
   "execution_count": null,
   "metadata": {},
   "outputs": [],
   "source": [
    "import cftime\n",
    "\n",
    "day = 4\n",
    "month = 6\n",
    "year = 2024\n",
    "\n",
    "dow = cftime.datetime(\n",
    "    year, month, day, calendar='proleptic_gregorian', has_year_zero=True\n",
    ").strftime('%A')\n",
    "print(f\"Proleptic Gregorian calendar: \\t\\t{year}-{month}-{day} is a {dow}\")\n",
    "\n",
    "dow = cftime.datetime(\n",
    "    year, month, day, calendar='standard', has_year_zero=True\n",
    ").strftime('%A')\n",
    "print(f\"Standard calendar: \\t\\t\\t{year}-{month}-{day} is a {dow}\")\n",
    "\n",
    "dow = cftime.datetime(year, month, day, calendar='julian', has_year_zero=True).strftime(\n",
    "    '%A'\n",
    ")\n",
    "print(f\"Julian calendar: \\t\\t\\t{year}-{month}-{day} is a {dow}\")\n",
    "\n",
    "dow = cftime.datetime(\n",
    "    year, month, day, calendar='360_day', has_year_zero=True\n",
    ").strftime('%A')\n",
    "print(f\"360 day calendar: \\t\\t\\t{year}-{month}-{day} is a {dow}\")"
   ]
  },
  {
   "cell_type": "markdown",
   "metadata": {},
   "source": [
    "Using the [`strftime()`](https://docs.python.org/3/library/datetime.html#strftime-and-strptime-behavior) method allows you to format the output of `cftime.datetime`. If you desire an output equivalent to that of NCL's `day_of_week`, we suggest using `.strftime('%w')`.\n"
   ]
  },
  {
   "cell_type": "markdown",
   "metadata": {},
   "source": [
    "## Differences between `cftime` and NCL's `day_of_week`"
   ]
  },
  {
   "cell_type": "markdown",
   "metadata": {},
   "source": [
    "### Calendars\n",
    "NCL's `day_of_week` only supports the proleptic Gregorian calendar, while the `cftime` module supports all CF conventions calendars, including the `proleptic_gregorian` calendar."
   ]
  },
  {
   "cell_type": "markdown",
   "metadata": {},
   "source": [
    "### Input Type\n",
    "Notably, using `cftime` to calculate the day of the week works by getting a `strftime()` value from a `cftime.datetime` object, which means that the calculations for the day of the week have to be collected through each date individually, while NCL's `days_in_month` can take in multidimensional integer arrays, given that the `year` and `month` arrays have the same dimensions."
   ]
  },
  {
   "cell_type": "markdown",
   "metadata": {},
   "source": [
    "### Year 0\n",
    "There is a slight difference in the way that NCL's `day_of_week` and the `cftime` module handle the year 0.\n",
    "- NCL's `day_of_week` supports all positive years and year 0 by default.\n",
    "- The `cftime` module supports all years, but handling for year 0 is dependent upon the calendar and/or the `has_year_zero` keyword argument."
   ]
  },
  {
   "cell_type": "markdown",
   "metadata": {},
   "source": [
    "## Python Resources\n",
    "- The `datetime` module [documentation](https://docs.python.org/3/library/datetime.html).\n",
    "- The `cftime.datetime` [documentation](https://unidata.github.io/cftime/api.html#cftime.datetime).\n",
    "- [Working with Dates and Times](https://ncar.github.io/geocat-applications/applications/date_time/datetime.html) GeoCAT Applications notebook."
   ]
  },
  {
   "cell_type": "markdown",
   "metadata": {},
   "source": []
  }
 ],
 "metadata": {
  "kernelspec": {
   "display_name": "geocat-applications",
   "language": "python",
   "name": "python3"
  },
  "language_info": {
   "codemirror_mode": {
    "name": "ipython",
    "version": 3
   },
   "file_extension": ".py",
   "mimetype": "text/x-python",
   "name": "python",
   "nbconvert_exporter": "python",
   "pygments_lexer": "ipython3",
   "version": "3.12.3"
  }
 },
 "nbformat": 4,
 "nbformat_minor": 2
}
