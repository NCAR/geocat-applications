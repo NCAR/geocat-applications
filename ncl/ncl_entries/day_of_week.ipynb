{
 "cells": [
  {
   "cell_type": "markdown",
   "metadata": {},
   "source": [
    "# day_of_week"
   ]
  },
  {
   "cell_type": "markdown",
   "metadata": {},
   "source": [
    "## Overview\n",
    "NCL's [`day_of_week`](https://www.ncl.ucar.edu/Document/Functions/Built-in/day_of_week.shtml) calculates the day of the week given month, day, and year."
   ]
  },
  {
   "cell_type": "markdown",
   "metadata": {},
   "source": [
    "## Grab and Go"
   ]
  },
  {
   "cell_type": "code",
   "execution_count": 5,
   "metadata": {},
   "outputs": [],
   "source": [
    "import cftime\n",
    "\n",
    "day = 6\n",
    "month = 4\n",
    "year = 2024\n",
    "\n",
    "dow = cftime.datetime(\n",
    "    year, month, day, calendar='proleptic_gregorian', has_year_zero=True\n",
    ").dayofwk"
   ]
  },
  {
   "cell_type": "markdown",
   "metadata": {},
   "source": [
    "---"
   ]
  },
  {
   "cell_type": "markdown",
   "metadata": {},
   "source": [
    "## Using the `datetime` module\n",
    "The [`datetime`](https://docs.python.org/3/library/datetime.html) module is part of the Python Standard Library and could be sufficient to calculate the day of the week. "
   ]
  },
  {
   "cell_type": "code",
   "execution_count": 2,
   "metadata": {},
   "outputs": [
    {
     "name": "stdout",
     "output_type": "stream",
     "text": [
      "2024-6-4 is a Tuesday\n"
     ]
    }
   ],
   "source": [
    "import datetime\n",
    "\n",
    "days = [\"Monday\", \"Tuesday\", \"Wednesday\", \"Thursday\", \"Friday\", \"Saturday\", \"Sunday\"]\n",
    "day = 4\n",
    "month = 6\n",
    "year = 2024\n",
    "\n",
    "dow = datetime.date(year, month, day).weekday()\n",
    "print(f\"{year}-{month}-{day} is a {days[dow]}\")"
   ]
  },
  {
   "cell_type": "markdown",
   "metadata": {},
   "source": [
    "However, the `datetime` module does not support year zero. If you need to work with year zero, `datetime` will not be sufficient.\n",
    "\n",
    "The `datetime` module also only uses the proleptic Gregorian calendar. If you need to work with other calendars, the `datetime` module will not be sufficient"
   ]
  },
  {
   "cell_type": "markdown",
   "metadata": {},
   "source": [
    "## Using `cftime`\n",
    "[`cftime`](https://unidata.github.io/cftime/index.html) supports all of the [CF convention calendars](https://cfconventions.org/cf-conventions/cf-conventions#calendar). Here is how you can use `cftime` to calculate the day of the week."
   ]
  },
  {
   "cell_type": "code",
   "execution_count": 3,
   "metadata": {},
   "outputs": [
    {
     "name": "stdout",
     "output_type": "stream",
     "text": [
      "Proleptic Gregorian calendar: \t\t2024-4-6 is a Saturday\n",
      "Standard calendar: \t\t\t2024-4-6 is a Saturday\n",
      "Julian calendar: \t\t\t2024-4-6 is a Friday\n",
      "360 day calendar: \t\t\t2024-4-6 is a Monday\n"
     ]
    }
   ],
   "source": [
    "import cftime\n",
    "\n",
    "days = [\"Monday\", \"Tuesday\", \"Wednesday\", \"Thursday\", \"Friday\", \"Saturday\", \"Sunday\"]\n",
    "day = 6\n",
    "month = 4\n",
    "year = 2024\n",
    "\n",
    "dow = cftime.datetime(\n",
    "    year, month, day, calendar='proleptic_gregorian', has_year_zero=True\n",
    ").dayofwk\n",
    "print(f\"Proleptic Gregorian calendar: \\t\\t{year}-{month}-{day} is a {days[dow]}\")\n",
    "\n",
    "dow = cftime.datetime(year, month, day, calendar='standard', has_year_zero=True).dayofwk\n",
    "print(f\"Standard calendar: \\t\\t\\t{year}-{month}-{day} is a {days[dow]}\")\n",
    "\n",
    "dow = cftime.datetime(year, month, day, calendar='julian', has_year_zero=True).dayofwk\n",
    "print(f\"Julian calendar: \\t\\t\\t{year}-{month}-{day} is a {days[dow]}\")\n",
    "\n",
    "dow = cftime.datetime(year, month, day, calendar='360_day', has_year_zero=True).dayofwk\n",
    "print(f\"360 day calendar: \\t\\t\\t{year}-{month}-{day} is a {days[dow]}\")"
   ]
  },
  {
   "cell_type": "markdown",
   "metadata": {},
   "source": [
    "## Differences between `cftime` and NCL's `day_of_week`"
   ]
  },
  {
   "cell_type": "markdown",
   "metadata": {},
   "source": [
    "### Calendars\n",
    "The `cftime` module supports all CF conventions calendars, including the `proleptic_gregorian` calendar, while NCL's `day_of_week` only supports the proleptic Gregorian calendar."
   ]
  },
  {
   "cell_type": "markdown",
   "metadata": {},
   "source": [
    "### Return Value\n",
    "There is a slight difference in the resulting value between NCL's `day_of_week` and `cftime`/`datetime`. \n",
    "- NCL's `day_of_week` returns an integer between 0 and 6 where 0=Sunday, 1=Monday, ...\n",
    "- `cftime` and `datetime` also return an integer between 0 and 6, however 0=Monday, 1=Tuesday, ..."
   ]
  },
  {
   "cell_type": "markdown",
   "metadata": {},
   "source": [
    "### Year Zero\n",
    "There is a slight difference in the way that NCL's `day_of_week` and the `cftime` module handle the year zero.\n",
    "- NCL's `day_of_week` supports all positive years by default, including year zero.\n",
    "- The `cftime` module supports all positive years, but does not accept year zero by default. However this can be adjusted for by adding `has_year_zero=True`."
   ]
  },
  {
   "cell_type": "markdown",
   "metadata": {},
   "source": [
    "### Input Type\n",
    "Notably, `cftime.datetime().dayofwk` only takes integer values for `year`, `month`, and `day`, while NCL's `day_of_week` can take in multi-dimentional arrays, given that the `year`, `month`, and `day` arrays all have the same dimensions. "
   ]
  },
  {
   "cell_type": "markdown",
   "metadata": {},
   "source": [
    "## Python Resources\n",
    "- The `datetime` module [documentation](https://docs.python.org/3/library/datetime.html).\n",
    "- The `cftime.datetime` [documentation](https://unidata.github.io/cftime/api.html#cftime.datetime).\n",
    "- [Working with Date and Time](https://ncar.github.io/geocat-applications/applications/date_time/datetime.html) GeoCAT Applications notebook."
   ]
  },
  {
   "cell_type": "markdown",
   "metadata": {},
   "source": []
  }
 ],
 "metadata": {
  "kernelspec": {
   "display_name": "geocat-applications",
   "language": "python",
   "name": "python3"
  },
  "language_info": {
   "codemirror_mode": {
    "name": "ipython",
    "version": 3
   },
   "file_extension": ".py",
   "mimetype": "text/x-python",
   "name": "python",
   "nbconvert_exporter": "python",
   "pygments_lexer": "ipython3",
   "version": "3.12.3"
  }
 },
 "nbformat": 4,
 "nbformat_minor": 2
}
