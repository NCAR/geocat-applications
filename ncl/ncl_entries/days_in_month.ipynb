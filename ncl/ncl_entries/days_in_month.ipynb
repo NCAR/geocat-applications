{
 "cells": [
  {
   "cell_type": "markdown",
   "id": "85f94cfa6f4fae8e",
   "metadata": {},
   "source": [
    "# days_in_month"
   ]
  },
  {
   "cell_type": "markdown",
   "id": "5df936372159018b",
   "metadata": {},
   "source": [
    "## Overview\n",
    "NCL's [`days_in_month`](https://www.ncl.ucar.edu/Document/Functions/Built-in/days_in_month.shtml) calculates the number of days in a month given a month and year."
   ]
  },
  {
   "cell_type": "markdown",
   "id": "774124772c1ca8d4",
   "metadata": {},
   "source": "## Grab and Go"
  },
  {
   "cell_type": "code",
   "id": "71b6e5623fb2f661",
   "metadata": {
    "ExecuteTime": {
     "end_time": "2024-06-06T20:18:11.395749Z",
     "start_time": "2024-06-06T20:18:11.262729Z"
    }
   },
   "source": [
    "import cftime\n",
    "\n",
    "day = 1\n",
    "month = 2\n",
    "year = 2024\n",
    "\n",
    "days = cftime.datetime(year, month, day, calendar='standard').daysinmonth\n",
    "\n",
    "days"
   ],
   "outputs": [
    {
     "data": {
      "text/plain": [
       "29"
      ]
     },
     "execution_count": 1,
     "metadata": {},
     "output_type": "execute_result"
    }
   ],
   "execution_count": 1
  },
  {
   "cell_type": "markdown",
   "id": "471ffe2f336259de",
   "metadata": {},
   "source": [
    "---"
   ]
  },
  {
   "cell_type": "markdown",
   "id": "6b288584e85b49b9",
   "metadata": {},
   "source": [
    "## Using the `calendar` module\n",
    "The [`calendar`](https://docs.python.org/3/library/calendar.html) module is part of the Python Standard Library and could be sufficient to calculate the number of days in a month."
   ]
  },
  {
   "cell_type": "code",
   "id": "d54840a911c73610",
   "metadata": {
    "ExecuteTime": {
     "end_time": "2024-06-06T20:18:11.399650Z",
     "start_time": "2024-06-06T20:18:11.396804Z"
    }
   },
   "source": [
    "from calendar import monthrange\n",
    "\n",
    "month = 2\n",
    "year = 1500\n",
    "first_day, num_days = monthrange(year, month)\n",
    "print(f\"Month {month} in {year} has {num_days} days\")"
   ],
   "outputs": [
    {
     "name": "stdout",
     "output_type": "stream",
     "text": [
      "Month 2 in 1500 has 28 days\n"
     ]
    }
   ],
   "execution_count": 2
  },
  {
   "cell_type": "markdown",
   "id": "82c5bb43f75c474e",
   "metadata": {},
   "source": [
    "However, the `calendar` only uses a proleptic Gregorian calendar. If you need to work with other calendars, the `calendar` module will not be sufficient."
   ]
  },
  {
   "cell_type": "markdown",
   "id": "7bfc78baeee6cef4",
   "metadata": {},
   "source": [
    "## Using `cftime`\n",
    "[`cftime`](https://unidata.github.io/cftime/index.html) supports all of the [CF Convention calendars](https://cfconventions.org/cf-conventions/cf-conventions#calendar). Here's how you can use `cftime` to calculate the number of days in a month."
   ]
  },
  {
   "cell_type": "code",
   "id": "f762cbca2cf59dfa",
   "metadata": {
    "ExecuteTime": {
     "end_time": "2024-06-06T20:18:11.403172Z",
     "start_time": "2024-06-06T20:18:11.400471Z"
    }
   },
   "source": [
    "import cftime\n",
    "\n",
    "day = 1\n",
    "month = 2\n",
    "year = 1500\n",
    "\n",
    "days = cftime.datetime(year, month, day, calendar='standard').daysinmonth\n",
    "print(f\"standard calendar: \\t\\t\\t\\t month {month} in {year} has {days} days\")\n",
    "\n",
    "days = cftime.datetime(year, month, day, calendar='proleptic_gregorian').daysinmonth\n",
    "print(f\"proleptic Gregorian calendar: \\t month {month} in {year} has {days} days\")\n",
    "\n",
    "days = cftime.datetime(year, month, day, calendar='julian').daysinmonth\n",
    "print(f\"Julian calendar: \\t\\t\\t\\t month {month} in {year} has {days} days\")\n",
    "\n",
    "days = cftime.datetime(year, month, day, calendar='360_day').daysinmonth\n",
    "print(f\"360 day calendar: \\t\\t\\t\\t month {month} in {year} has {days} days\")"
   ],
   "outputs": [
    {
     "name": "stdout",
     "output_type": "stream",
     "text": [
      "standard calendar: \t\t\t\t month 2 in 1500 has 29 days\n",
      "proleptic Gregorian calendar: \t month 2 in 1500 has 28 days\n",
      "Julian calendar: \t\t\t\t month 2 in 1500 has 29 days\n",
      "360 day calendar: \t\t\t\t month 2 in 1500 has 30 days\n"
     ]
    }
   ],
   "execution_count": 3
  },
  {
   "cell_type": "markdown",
   "id": "a8b079a3a3eb9f00",
   "metadata": {},
   "source": [
    "## Differences between `cftime` and NCL's `days_in_month`\n",
    "\n",
    "### Calendars\n",
    "The calendars available in `cftime` and NCL's `days_in_month`, while both based on the CF Conventions calendars, are slightly different.\n",
    "\n",
    "- `cftime` does support using `\"none\"` as a calendar type, but not for this particular function. \n",
    "- NCL's `days_in_month` does not support the `proleptic_gregorian` calendar.\n",
    "\n",
    "### Numerical Differences\n",
    "Additionally, the `\"standard\"` and `\"gregorian\"` calendars seem to disagree for some historical dates.\n",
    "\n",
    "### Input type\n",
    "Notably, using `cftime` to calculate the number of days in a month works by getting a `daysinmonth` value from a `cftime.datetime` object, which means that the calculations for days in a month have to be collected through each date individually, while NCL's `days_in_month` can take in multidimensional integer arrays, given that the `year` and `month` arrays have the same dimensions."
   ]
  },
  {
   "cell_type": "markdown",
   "id": "8eda876fd519891",
   "metadata": {},
   "source": [
    "## Python Resources\n",
    "- The `calendar` module [documentation](https://docs.python.org/3/library/calendar.html).\n",
    "- The [`cftime.datetime` documentation](https://unidata.github.io/cftime/api.html#cftime.datetime).\n",
    "- [\"Time series data\"](https://docs.xarray.dev/en/stable/user-guide/time-series.html) for working with time series data in xarray"
   ]
  }
 ],
 "metadata": {
  "kernelspec": {
   "display_name": "Python 3 (ipykernel)",
   "language": "python",
   "name": "python3"
  },
  "language_info": {
   "codemirror_mode": {
    "name": "ipython",
    "version": 3
   },
   "file_extension": ".py",
   "mimetype": "text/x-python",
   "name": "python",
   "nbconvert_exporter": "python",
   "pygments_lexer": "ipython3",
   "version": "3.12.3"
  }
 },
 "nbformat": 4,
 "nbformat_minor": 5
}
