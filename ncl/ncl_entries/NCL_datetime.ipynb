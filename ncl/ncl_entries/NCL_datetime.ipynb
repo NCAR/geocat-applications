{
 "cells": [
  {
   "metadata": {},
   "cell_type": "markdown",
   "source": "# Datetime functions in NCL",
   "id": "85f94cfa6f4fae8e"
  },
  {
   "metadata": {},
   "cell_type": "markdown",
   "source": "## Overview",
   "id": "5df936372159018b"
  },
  {
   "metadata": {},
   "cell_type": "markdown",
   "source": "## Grab and Go",
   "id": "774124772c1ca8d4"
  },
  {
   "metadata": {},
   "cell_type": "markdown",
   "source": "---",
   "id": "471ffe2f336259de"
  },
  {
   "metadata": {},
   "cell_type": "markdown",
   "source": "## Using datetime in NCL",
   "id": "6b288584e85b49b9"
  },
  {
   "metadata": {},
   "cell_type": "code",
   "outputs": [],
   "execution_count": null,
   "source": "",
   "id": "d54840a911c73610"
  }
 ],
 "metadata": {
  "kernelspec": {
   "display_name": "Python 3",
   "language": "python",
   "name": "python3"
  },
  "language_info": {
   "codemirror_mode": {
    "name": "ipython",
    "version": 2
   },
   "file_extension": ".py",
   "mimetype": "text/x-python",
   "name": "python",
   "nbconvert_exporter": "python",
   "pygments_lexer": "ipython2",
   "version": "2.7.6"
  }
 },
 "nbformat": 4,
 "nbformat_minor": 5
}
