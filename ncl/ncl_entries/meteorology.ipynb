{
 "cells": [
  {
   "cell_type": "markdown",
   "metadata": {},
   "source": [
    "# Meteorology"
   ]
  },
  {
   "cell_type": "markdown",
   "metadata": {},
   "source": [
    "## Overview\n",
    "\n",
    "This section covers meteorology functions from NCL:\n",
    "\n",
    "- [dewtemp_trh](https://www.ncl.ucar.edu/Document/Functions/Built-in/dewtemp_trh.shtml)\n",
    "- [daylight_fao56](https://www.ncl.ucar.edu/Document/Functions/Crop/daylight_fao56.shtml)\n",
    "- [satvpr_temp_fao56](https://www.ncl.ucar.edu/Document/Functions/Crop/satvpr_temp_fao56.shtml)\n",
    "- [satvpr_tdew_fao56](https://www.ncl.ucar.edu/Document/Functions/Crop/satvpr_tdew_fao56.shtml)\n",
    "- [satvpr_slope_fao56](https://www.ncl.ucar.edu/Document/Functions/Crop/satvpr_slope_fao56.shtml)\n",
    "- [coriolis_param](https://www.ncl.ucar.edu/Document/Functions/Contributed/coriolis_param.shtml)"
   ]
  },
  {
   "cell_type": "markdown",
   "metadata": {},
   "source": [
    "## dewtemp_trh\n",
    "NCL's `dewtemp_trh` calculates the dew point temperature given temperature and relative humidity using the equations from John Dutton's _\"Ceaseless Wind\"_ (pg. 273-274){footcite}`dutton_1986` and returns a temperature in Kelvin.\n",
    "\n",
    "Where, for the gas constant of water vapor ({math}`R_{v}`)of 461.5 {math}`\\frac{J}{K*kg}` ({math}`\\frac{461.5}{1000 * 4.186} \\frac{cal}{g*k}`), the empirical value of the latent heat (pg. 273, Problem 8.3.1) is:\n",
    "\n",
    "{math}`L_{lv} = 597.3 - 0.57(T - 273)`\n",
    "\n",
    "So, when {math}`h` is the relative humidity, the dew point temperature (pg. 273, Equation 6, solved for as {math}`T_D`) is:\n",
    "\n",
    "{math}`T_D = \\frac{T * L_{lv}}{L_{lv} - R_{v}Tlog(h)}`\n",
    "\n",
    "<div class=\"admonition alert alert-info\">\n",
    "    <p class=\"admonition-title\" style=\"font-weight:bold\">Important Note</p>\n",
    "    To convert from Kelvin to Celsius <code>-273.15</code> and to convert from Celsius to Kelvin <code>+273.15</code>\n",
    "</div>"
   ]
  },
  {
   "cell_type": "markdown",
   "metadata": {},
   "source": [
    "### Grab and Go"
   ]
  },
  {
   "cell_type": "code",
   "execution_count": null,
   "metadata": {},
   "outputs": [],
   "source": [
    "# Input: Single Value\n",
    "from geocat.comp import dewtemp\n",
    "\n",
    "temp_c = 18  # Celsius\n",
    "relative_humidity = 46.5  # %\n",
    "\n",
    "dewtemp(temp_c + 273.15, relative_humidity) - 273.15  # Returns in Celsius"
   ]
  },
  {
   "cell_type": "code",
   "execution_count": null,
   "metadata": {},
   "outputs": [],
   "source": [
    "# Input: List/Array\n",
    "from geocat.comp import dewtemp\n",
    "\n",
    "temp_kelvin = [291.15, 274.14, 360.3, 314]  # Kelvin\n",
    "relative_humidity = [46.5, 5, 96.5, 1]  # %\n",
    "\n",
    "dewtemp(temp_kelvin, relative_humidity) - 273.15  # Returns in Celsius"
   ]
  },
  {
   "cell_type": "markdown",
   "metadata": {},
   "source": [
    "## daylight_fao56\n",
    "\n",
    "NCL's `daylight_fao56` calculates the maximum number of daylight hours as described in the Food and Agriculture Organization (FAO) Irrigation and Drainage Paper 56 [(Chapter 3, Equation 34)](https://www.fao.org/4/X0490E/x0490e07.htm#chapter%203%20%20%20meteorological%20data) {footcite}`allan_fao_1998`.\n",
    "\n",
    "Where the maximum number of daylight hours, {math}`N`, is:\n",
    "\n",
    "{math}`N = \\frac{24}{{\\pi}} {\\omega}_{s}`\n",
    "\n",
    "And {math}`{\\omega}_{s}` is the sunset hour angle in radians [(Chapter 3, Equation 25)](https://www.fao.org/4/X0490E/x0490e07.htm#chapter%203%20%20%20meteorological%20data) {footcite}`allan_fao_1998` which is calculated from the latitude of the observer on Earth ({math}`\\varphi`) and the sun's declination ({math}`\\delta`):\n",
    "\n",
    "{math}`{\\omega}_{s} = arccos[-tan({\\varphi})tan({\\delta})]`"
   ]
  },
  {
   "cell_type": "markdown",
   "metadata": {},
   "source": [
    "### Grab and Go"
   ]
  },
  {
   "cell_type": "code",
   "execution_count": null,
   "metadata": {},
   "outputs": [],
   "source": [
    "# Input: Single Value\n",
    "from geocat.comp import max_daylight\n",
    "\n",
    "day_of_year = 246  # Sept. 3\n",
    "latitude = -20  # 20 Degrees South\n",
    "\n",
    "max_daylight(day_of_year, latitude)"
   ]
  },
  {
   "cell_type": "code",
   "execution_count": null,
   "metadata": {},
   "outputs": [],
   "source": [
    "# Input: List/Array\n",
    "from geocat.comp import max_daylight\n",
    "\n",
    "# Spring Equinox (March 20), Summer Solstice (June 20), Autumn Equinox (Sept. 22), Winter Solstice (Dec. 21)\n",
    "days_of_year = [79, 171, 265, 355]\n",
    "latitudes = 40  # Boulder\n",
    "\n",
    "max_daylight(days_of_year, latitudes)"
   ]
  },
  {
   "cell_type": "markdown",
   "metadata": {},
   "source": [
    "## satvpr_temp_fao56\n",
    "\n",
    "NCL's `satvpr_temp_fao56` calculates saturation vapor pressure using temperature as described in the Food and Agriculture Organization (FAO) Irrigation and Drainage Paper 56 [(Chapter 3, Equation 11)](https://www.fao.org/4/x0490e/x0490e07.htm) {footcite}`allan_fao_1998`.\n",
    "\n",
    "Where the saturation vapor pressure, {math}`e^°` (kPa), at air temperature {math}`T` (°C) is calculated as:\n",
    "\n",
    "{math}`e^°(T) = 0.6108 {\\exp}[\\frac{17.27T}{T + 237.3}]`"
   ]
  },
  {
   "cell_type": "markdown",
   "metadata": {},
   "source": [
    "### Grab and Go"
   ]
  },
  {
   "cell_type": "code",
   "execution_count": null,
   "metadata": {},
   "outputs": [],
   "source": [
    "# Input: Single Value\n",
    "from geocat.comp import saturation_vapor_pressure\n",
    "\n",
    "temp = 50  # Fahrenheit\n",
    "\n",
    "saturation_vapor_pressure(temp)"
   ]
  },
  {
   "cell_type": "code",
   "execution_count": null,
   "metadata": {},
   "outputs": [],
   "source": [
    "# Input: List/Array\n",
    "from geocat.comp import saturation_vapor_pressure\n",
    "\n",
    "temp = [33, 50, 100, 212]  # Fahrenheit\n",
    "\n",
    "saturation_vapor_pressure(temp)"
   ]
  },
  {
   "cell_type": "markdown",
   "metadata": {},
   "source": [
    "## satvpr_tdew_fao56\n",
    "\n",
    "NCL's `satvpr_tdew_fao56` calculates the actual saturation vapor pressure using dewpoint temperature as described in the Food and Agriculture Organization (FAO) Irrigation and Drainage Paper 56 [(Chapter 3, Equation 14)](https://www.fao.org/4/x0490e/x0490e07.htm) {footcite}`allan_fao_1998`.\n",
    "\n",
    "Where the actual vapor pressure, {math}`e_{a}` (kPa), is saturation vapor pressure at a specific dewpoint temperature, {math}`T_{dew}` (°C), which is calculated as:\n",
    "\n",
    "{math}`e_{a} = e^°(T_{dew}) = 0.6108 {\\exp}[\\frac{17.27 T_{dew}}{T_{dew} + 237.3}]`"
   ]
  },
  {
   "cell_type": "code",
   "execution_count": null,
   "metadata": {},
   "outputs": [],
   "source": [
    "# Input: Single Value\n",
    "from geocat.comp import actual_saturation_vapor_pressure\n",
    "\n",
    "temp = 35  # Fahrenheit\n",
    "\n",
    "actual_saturation_vapor_pressure(temp)"
   ]
  },
  {
   "cell_type": "code",
   "execution_count": null,
   "metadata": {},
   "outputs": [],
   "source": [
    "# Input: List/Array\n",
    "from geocat.comp import actual_saturation_vapor_pressure\n",
    "\n",
    "temp = [35, 60, 80, 200]  # Fahrenheit\n",
    "\n",
    "actual_saturation_vapor_pressure(temp)"
   ]
  },
  {
   "cell_type": "markdown",
   "metadata": {},
   "source": [
    "## satvpr_slope_fao56\n",
    "\n",
    "NCL's `satvpr_slope_fao56` calculates the slope of the saturation vapor pressure curve as described in the Food and Agriculture Organization (FAO) Irrigation and Drainage Paper 56 [(Chapter 3, Equation 13)](https://www.fao.org/4/x0490e/x0490e07.htm) {footcite}`allan_fao_1998`.\n",
    "\n",
    "Where the slope of saturation vapor pressure curve, {math}`{\\Delta}` (kPa), at air temperature {math}`T` (°C) is calculated as:\n",
    "\n",
    "{math}`{\\Delta} = \\frac{4098 (0.6108 {\\exp}[\\frac{17.27T}{T + 237.3}])}{(T + 237.3)^2}`"
   ]
  },
  {
   "cell_type": "code",
   "execution_count": null,
   "metadata": {},
   "outputs": [],
   "source": [
    "# Input: Single Value\n",
    "from geocat.comp import saturation_vapor_pressure_slope\n",
    "\n",
    "temp = 60  # Fahrenheit\n",
    "\n",
    "saturation_vapor_pressure_slope(temp)"
   ]
  },
  {
   "cell_type": "code",
   "execution_count": null,
   "metadata": {},
   "outputs": [],
   "source": [
    "# Input: List/Array\n",
    "from geocat.comp import saturation_vapor_pressure_slope\n",
    "\n",
    "temp = [35, 60, 80, 200]  # Fahrenheit\n",
    "\n",
    "saturation_vapor_pressure_slope(temp)"
   ]
  },
  {
   "cell_type": "markdown",
   "metadata": {},
   "source": [
    "## coriolis_param\n",
    "\n",
    "NCL's `coriolis_param` calculates the Coriolis parameter at a given latitude\n",
    "\n",
    "The Coriolis parameter (also known as the Coriolis frequency or the Coriolis coefficient) is calculated as twice the rotation rate ({math}`{\\Omega}`) of the Earth times the sine of the latitude ({math}`{\\varphi}`){footcite}`hobbs_wallace_1997`\n",
    "\n",
    "{math}`f = 2{\\Omega}sin({\\varphi})`\n",
    "\n",
    "Where, the rotation rate depends on the length of the rotation period of the Earth (T) which is defined as one sidereal day (23 hours and 56 minutes):\n",
    "\n",
    "{math}`{\\Omega} = \\frac{2 * {\\pi}}{T}  = 7.292 x 10^{-5} \\frac{rad}{s}`"
   ]
  },
  {
   "cell_type": "code",
   "execution_count": 3,
   "metadata": {},
   "outputs": [
    {
     "data": {
      "text/plain": [
       "np.float64(9.374562340818716e-05)"
      ]
     },
     "execution_count": 3,
     "metadata": {},
     "output_type": "execute_result"
    }
   ],
   "source": [
    "# Input: Single Value\n",
    "from metpy.calc import coriolis_parameter\n",
    "from metpy.units import units\n",
    "\n",
    "latitude = 40  # degrees\n",
    "\n",
    "coriolis_parameter(latitude * units.degree).magnitude"
   ]
  },
  {
   "cell_type": "code",
   "execution_count": 5,
   "metadata": {},
   "outputs": [
    {
     "data": {
      "text/plain": [
       "array([-4.98810043e-05,  9.37456234e-05,  1.32178012e-04])"
      ]
     },
     "execution_count": 5,
     "metadata": {},
     "output_type": "execute_result"
    }
   ],
   "source": [
    "# Input: List/Array\n",
    "from metpy.calc import coriolis_parameter\n",
    "from metpy.units import units\n",
    "\n",
    "latitude = [-20, 40, 65]  # degrees\n",
    "\n",
    "coriolis_parameter(latitude * units.degree).magnitude"
   ]
  },
  {
   "cell_type": "markdown",
   "metadata": {},
   "source": [
    "---"
   ]
  },
  {
   "cell_type": "markdown",
   "metadata": {},
   "source": [
    "## Python Resources\n",
    "- [GeoCAT-comp `dewtemp` documentation](https://geocat-comp.readthedocs.io/en/latest/user_api/generated/geocat.comp.meteorology.dewtemp.html)\n",
    "- [Convert between different temperature scales in SciPy](https://docs.scipy.org/doc/scipy/reference/generated/scipy.constants.convert_temperature.html)\n",
    "- [GeoCAT-comp `max_daylight` Documentation](https://geocat-comp.readthedocs.io/en/latest/user_api/generated/geocat.comp.meteorology.max_daylight.html)\n",
    "- [GeoCAT-comp `saturation_vapor_pressure` Documentation](https://geocat-comp.readthedocs.io/en/latest/user_api/generated/geocat.comp.meteorology.saturation_vapor_pressure.html)\n",
    "- [GeoCAT-comp `actual_saturation_vapor_pressure` Documentation](https://geocat-comp.readthedocs.io/en/latest/user_api/generated/geocat.comp.meteorology.actual_saturation_vapor_pressure.html)\n",
    "- [GeoCAT-comp `saturation_vapor_pressure_slope` Documentation](https://geocat-comp.readthedocs.io/en/latest/user_api/generated/geocat.comp.meteorology.saturation_vapor_pressure_slope.html)\n",
    "- [MetPy `coriolis_parameter` Documentation](https://unidata.github.io/MetPy/latest/api/generated/metpy.calc.coriolis_parameter.html)\n",
    "\n",
    "## Additional Reading\n",
    "- [NOAA: Dew Point vs. Humidity](https://www.weather.gov/arx/why_dewpoint_vs_humidity)"
   ]
  },
  {
   "cell_type": "markdown",
   "metadata": {},
   "source": [
    "## References:\n",
    "\n",
    "```{footbibliography}\n",
    "```"
   ]
  }
 ],
 "metadata": {
  "kernelspec": {
   "display_name": "Python 3 (ipykernel)",
   "language": "python",
   "name": "python3"
  },
  "language_info": {
   "codemirror_mode": {
    "name": "ipython",
    "version": 3
   },
   "file_extension": ".py",
   "mimetype": "text/x-python",
   "name": "python",
   "nbconvert_exporter": "python",
   "pygments_lexer": "ipython3",
   "version": "3.12.7"
  }
 },
 "nbformat": 4,
 "nbformat_minor": 4
}
