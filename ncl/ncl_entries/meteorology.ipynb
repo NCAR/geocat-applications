{
 "cells": [
  {
   "cell_type": "markdown",
   "metadata": {},
   "source": [
    "# Meteorology"
   ]
  },
  {
   "cell_type": "markdown",
   "metadata": {},
   "source": [
    "## Overview\n",
    "\n",
    "This section covers meteorology functions from NCL:\n",
    "\n",
    "- [dewtemp_trh](https://www.ncl.ucar.edu/Document/Functions/Built-in/dewtemp_trh.shtml)\n",
    "- [daylight_fao56](https://www.ncl.ucar.edu/Document/Functions/Crop/daylight_fao56.shtml)\n",
    "- [satvpr_temp_fao56](https://www.ncl.ucar.edu/Document/Functions/Crop/satvpr_temp_fao56.shtml)\n",
    "- [satvpr_tdew_fao56](https://www.ncl.ucar.edu/Document/Functions/Crop/satvpr_tdew_fao56.shtml)\n",
    "- [satvpr_slope_fao56](https://www.ncl.ucar.edu/Document/Functions/Crop/satvpr_slope_fao56.shtml)\n",
    "- [coriolis_param](https://www.ncl.ucar.edu/Document/Functions/Contributed/coriolis_param.shtml)\n",
    "- [relhum](https://www.ncl.ucar.edu/Document/Functions/Built-in/relhum.shtml)\n",
    "- [relhum_ice](https://www.ncl.ucar.edu/Document/Functions/Built-in/relhum_ice.shtml)\n",
    "- [relhum_water](https://www.ncl.ucar.edu/Document/Functions/Built-in/relhum_water.shtml)\n",
    "- [dpres_plevel](https://www.ncl.ucar.edu/Document/Functions/Built-in/dpres_plevel.shtml)"
   ]
  },
  {
   "cell_type": "markdown",
   "metadata": {},
   "source": [
    "## dewtemp_trh\n",
    "NCL's `dewtemp_trh` calculates the dew point temperature given temperature and relative humidity using the equations from John Dutton's _\"Ceaseless Wind\"_ (pg. 273-274){footcite}`dutton_1986` and returns a temperature in Kelvin.\n",
    "\n",
    "Where, for the gas constant of water vapor ({math}`R_{v}`)of 461.5 {math}`\\frac{J}{K*kg}` ({math}`\\frac{461.5}{1000 * 4.186} \\frac{cal}{g*k}`), the empirical value of the latent heat (pg. 273, Problem 8.3.1) is:\n",
    "\n",
    "{math}`L_{lv} = 597.3 - 0.57(T - 273)`\n",
    "\n",
    "So, when {math}`h` is the relative humidity, the dew point temperature (pg. 273, Equation 6, solved for as {math}`T_D`) is:\n",
    "\n",
    "{math}`T_D = \\frac{T * L_{lv}}{L_{lv} - R_{v}Tlog(h)}`\n",
    "\n",
    "<div class=\"admonition alert alert-info\">\n",
    "    <p class=\"admonition-title\" style=\"font-weight:bold\">Important Note</p>\n",
    "    To convert from Kelvin to Celsius <code>-273.15</code> and to convert from Celsius to Kelvin <code>+273.15</code>\n",
    "</div>"
   ]
  },
  {
   "cell_type": "markdown",
   "metadata": {},
   "source": [
    "### Grab and Go"
   ]
  },
  {
   "cell_type": "code",
   "execution_count": null,
   "metadata": {},
   "outputs": [],
   "source": [
    "# Input: Single Value\n",
    "from geocat.comp import dewtemp\n",
    "\n",
    "temp_c = 18  # Celsius\n",
    "relative_humidity = 46.5  # %\n",
    "\n",
    "dewtemp(temp_c + 273.15, relative_humidity) - 273.15  # Returns in Celsius"
   ]
  },
  {
   "cell_type": "code",
   "execution_count": null,
   "metadata": {},
   "outputs": [],
   "source": [
    "# Input: List/Array\n",
    "from geocat.comp import dewtemp\n",
    "\n",
    "temp_kelvin = [291.15, 274.14, 360.3, 314]  # Kelvin\n",
    "relative_humidity = [46.5, 5, 96.5, 1]  # %\n",
    "\n",
    "dewtemp(temp_kelvin, relative_humidity) - 273.15  # Returns in Celsius"
   ]
  },
  {
   "cell_type": "markdown",
   "metadata": {},
   "source": [
    "## daylight_fao56\n",
    "\n",
    "NCL's `daylight_fao56` calculates the maximum number of daylight hours as described in the Food and Agriculture Organization (FAO) Irrigation and Drainage Paper 56 [(Chapter 3, Equation 34)](https://www.fao.org/4/X0490E/x0490e07.htm#chapter%203%20%20%20meteorological%20data) {footcite}`allan_fao_1998`.\n",
    "\n",
    "Where the maximum number of daylight hours, {math}`N`, is:\n",
    "\n",
    "{math}`N = \\frac{24}{{\\pi}} {\\omega}_{s}`\n",
    "\n",
    "And {math}`{\\omega}_{s}` is the sunset hour angle in radians [(Chapter 3, Equation 25)](https://www.fao.org/4/X0490E/x0490e07.htm#chapter%203%20%20%20meteorological%20data) {footcite}`allan_fao_1998` which is calculated from the latitude of the observer on Earth ({math}`\\varphi`) and the sun's declination ({math}`\\delta`):\n",
    "\n",
    "{math}`{\\omega}_{s} = arccos[-tan({\\varphi})tan({\\delta})]`"
   ]
  },
  {
   "cell_type": "markdown",
   "metadata": {},
   "source": [
    "### Grab and Go"
   ]
  },
  {
   "cell_type": "code",
   "execution_count": null,
   "metadata": {},
   "outputs": [],
   "source": [
    "# Input: Single Value\n",
    "from geocat.comp import max_daylight\n",
    "\n",
    "day_of_year = 246  # Sept. 3\n",
    "latitude = -20  # 20 Degrees South\n",
    "\n",
    "max_daylight(day_of_year, latitude)"
   ]
  },
  {
   "cell_type": "code",
   "execution_count": null,
   "metadata": {},
   "outputs": [],
   "source": [
    "# Input: List/Array\n",
    "from geocat.comp import max_daylight\n",
    "\n",
    "# Spring Equinox (March 20), Summer Solstice (June 20), Autumn Equinox (Sept. 22), Winter Solstice (Dec. 21)\n",
    "days_of_year = [79, 171, 265, 355]\n",
    "latitudes = 40  # Boulder\n",
    "\n",
    "max_daylight(days_of_year, latitudes)"
   ]
  },
  {
   "cell_type": "markdown",
   "metadata": {},
   "source": [
    "## satvpr_temp_fao56\n",
    "\n",
    "NCL's `satvpr_temp_fao56` calculates saturation vapor pressure using temperature as described in the Food and Agriculture Organization (FAO) Irrigation and Drainage Paper 56 [(Chapter 3, Equation 11)](https://www.fao.org/4/x0490e/x0490e07.htm) {footcite}`allan_fao_1998`.\n",
    "\n",
    "Where the saturation vapor pressure, {math}`e^°` (kPa), at air temperature {math}`T` (°C) is calculated as:\n",
    "\n",
    "{math}`e^°(T) = 0.6108 {\\exp}[\\frac{17.27T}{T + 237.3}]`"
   ]
  },
  {
   "cell_type": "markdown",
   "metadata": {},
   "source": [
    "### Grab and Go"
   ]
  },
  {
   "cell_type": "code",
   "execution_count": null,
   "metadata": {},
   "outputs": [],
   "source": [
    "# Input: Single Value\n",
    "from geocat.comp import saturation_vapor_pressure\n",
    "\n",
    "temp = 50  # Fahrenheit\n",
    "\n",
    "saturation_vapor_pressure(temp)"
   ]
  },
  {
   "cell_type": "code",
   "execution_count": null,
   "metadata": {},
   "outputs": [],
   "source": [
    "# Input: List/Array\n",
    "from geocat.comp import saturation_vapor_pressure\n",
    "\n",
    "temp = [33, 50, 100, 212]  # Fahrenheit\n",
    "\n",
    "saturation_vapor_pressure(temp)"
   ]
  },
  {
   "cell_type": "markdown",
   "metadata": {},
   "source": [
    "## satvpr_tdew_fao56\n",
    "\n",
    "NCL's `satvpr_tdew_fao56` calculates the actual saturation vapor pressure using dewpoint temperature as described in the Food and Agriculture Organization (FAO) Irrigation and Drainage Paper 56 [(Chapter 3, Equation 14)](https://www.fao.org/4/x0490e/x0490e07.htm) {footcite}`allan_fao_1998`.\n",
    "\n",
    "Where the actual vapor pressure, {math}`e_{a}` (kPa), is saturation vapor pressure at a specific dewpoint temperature, {math}`T_{dew}` (°C), which is calculated as:\n",
    "\n",
    "{math}`e_{a} = e^°(T_{dew}) = 0.6108 {\\exp}[\\frac{17.27 T_{dew}}{T_{dew} + 237.3}]`"
   ]
  },
  {
   "cell_type": "code",
   "execution_count": null,
   "metadata": {},
   "outputs": [],
   "source": [
    "# Input: Single Value\n",
    "from geocat.comp import actual_saturation_vapor_pressure\n",
    "\n",
    "temp = 35  # Fahrenheit\n",
    "\n",
    "actual_saturation_vapor_pressure(temp)"
   ]
  },
  {
   "cell_type": "code",
   "execution_count": null,
   "metadata": {},
   "outputs": [],
   "source": [
    "# Input: List/Array\n",
    "from geocat.comp import actual_saturation_vapor_pressure\n",
    "\n",
    "temp = [35, 60, 80, 200]  # Fahrenheit\n",
    "\n",
    "actual_saturation_vapor_pressure(temp)"
   ]
  },
  {
   "cell_type": "markdown",
   "metadata": {},
   "source": [
    "## satvpr_slope_fao56\n",
    "\n",
    "NCL's `satvpr_slope_fao56` calculates the slope of the saturation vapor pressure curve as described in the Food and Agriculture Organization (FAO) Irrigation and Drainage Paper 56 [(Chapter 3, Equation 13)](https://www.fao.org/4/x0490e/x0490e07.htm) {footcite}`allan_fao_1998`.\n",
    "\n",
    "Where the slope of saturation vapor pressure curve, {math}`{\\Delta}` (kPa), at air temperature {math}`T` (°C) is calculated as:\n",
    "\n",
    "{math}`{\\Delta} = \\frac{4098 (0.6108 {\\exp}[\\frac{17.27T}{T + 237.3}])}{(T + 237.3)^2}`"
   ]
  },
  {
   "cell_type": "code",
   "execution_count": null,
   "metadata": {},
   "outputs": [],
   "source": [
    "# Input: Single Value\n",
    "from geocat.comp import saturation_vapor_pressure_slope\n",
    "\n",
    "temp = 60  # Fahrenheit\n",
    "\n",
    "saturation_vapor_pressure_slope(temp)"
   ]
  },
  {
   "cell_type": "code",
   "execution_count": null,
   "metadata": {},
   "outputs": [],
   "source": [
    "# Input: List/Array\n",
    "from geocat.comp import saturation_vapor_pressure_slope\n",
    "\n",
    "temp = [35, 60, 80, 200]  # Fahrenheit\n",
    "\n",
    "saturation_vapor_pressure_slope(temp)"
   ]
  },
  {
   "cell_type": "markdown",
   "metadata": {},
   "source": [
    "## coriolis_param\n",
    "\n",
    "NCL's `coriolis_param` calculates the Coriolis parameter at a given latitude\n",
    "\n",
    "The Coriolis parameter (also known as the Coriolis frequency or the Coriolis coefficient) is calculated as twice the rotation rate ({math}`{\\Omega}`) of the Earth times the sine of the latitude ({math}`{\\varphi}`){footcite}`hobbs_wallace_1997`\n",
    "\n",
    "{math}`f = 2{\\Omega}sin({\\varphi})`\n",
    "\n",
    "The rotation rate depends on the length of the rotation period of the Earth (T) which is defined as one sidereal day (23 hours and 56 minutes):\n",
    "\n",
    "{math}`{\\Omega} = \\frac{2 * {\\pi}}{T}  = 7.292\\text{e-5} \\frac{rad}{s}`"
   ]
  },
  {
   "cell_type": "code",
   "execution_count": null,
   "metadata": {},
   "outputs": [],
   "source": [
    "# Input: Single Value\n",
    "from metpy.calc import coriolis_parameter\n",
    "from metpy.units import units\n",
    "\n",
    "latitude = 40  # degrees\n",
    "\n",
    "coriolis_parameter(latitude * units.degree).magnitude"
   ]
  },
  {
   "cell_type": "code",
   "execution_count": null,
   "metadata": {},
   "outputs": [],
   "source": [
    "# Input: List/Array\n",
    "from metpy.calc import coriolis_parameter\n",
    "from metpy.units import units\n",
    "\n",
    "latitude = [-20, 40, 65]  # degrees\n",
    "\n",
    "coriolis_parameter(latitude * units.degree).magnitude"
   ]
  },
  {
   "cell_type": "markdown",
   "metadata": {},
   "source": [
    "## relhum\n",
    "\n",
    "NCL's `relhum` calculates relative humidity given temperature, mixing ratio, and pressure.\n",
    "The percent of relative humidity ({math}`{\\Psi}`) is based on the original [NCL `relhum` code](https://www.ncl.ucar.edu/Document/Functions/Built-in/relhum.shtml):\n",
    "\n",
    "{math}`{\\Psi} = w (\\frac{p - 0.378 * e_s}{0.622 * e_s}) * 100`\n",
    "\n",
    "Where {math}`w` is the mass mixing ratio of water vapor and dry air, {math}`p` is pressure, and {math}`e_s` is the saturation vapor pressure for a given temperature. \n",
    "\n",
    "The constant `0.622` represents the ratio of the molar mass of water vapor ({math}`M_w`) in g/mol and the molar mass of dry air ({math}`M_d`) in g/mol:\n",
    "\n",
    "{math}`\\frac{M_w}{M_d} = \\frac{18.02}{28.9634} = 0.622`"
   ]
  },
  {
   "cell_type": "code",
   "execution_count": null,
   "metadata": {},
   "outputs": [],
   "source": [
    "# Input: Single Value\n",
    "from geocat.comp import relhum\n",
    "\n",
    "temp = 303.15  # Kelvin\n",
    "mixing_ratio = 0.018\n",
    "pressure = 101325  # Pa\n",
    "\n",
    "relhum(temp, mixing_ratio, pressure)"
   ]
  },
  {
   "cell_type": "code",
   "execution_count": null,
   "metadata": {},
   "outputs": [],
   "source": [
    "# Input: List/Array\n",
    "from geocat.comp import relhum\n",
    "\n",
    "temp = [375.15, 303.15, 315.15]  # Kelvin\n",
    "mixing_ratio = [0.5, 0.018, 0.001]\n",
    "pressure = [100325, 101325, 101400]  # Pa\n",
    "\n",
    "relhum(temp, mixing_ratio, pressure)"
   ]
  },
  {
   "cell_type": "markdown",
   "metadata": {},
   "source": [
    "## relhum_ice\n",
    "\n",
    "NCL's `relhum_ice` calculates relative humidity with respect to ice, given temperature, mixing ratio, and pressure.\n",
    "\n",
    "First,the approximation of vapor pressure is calculated from the Magnus Form.{footcite}`magnus_form`\n",
    "\n",
    "{math}`{P_v} = c \\exp^{\\frac{a * T}{b + T}}`\n",
    "\n",
    "Where {math}`c` is vapor pressure of water at 0 degrees Celsius (Pa), and {math}`a` and {math}`b` are saturation vapor pressure coefficient approximations over ice, as defined by the AEDki model.{footcite}`notes_magnus_form`\n",
    "\n",
    "{math}`a = 22.571`, {math}`b = 273.71`, {math}`c = 6.1128`\n",
    "\n",
    "Then, the specific humidity ({math}`q_{st}`) is calculated with {math}`p` as pressure:\n",
    "\n",
    "{math}`q_{st} = \\frac{0.622 * P_v}{(p * 0.1) - 0.378 * P_v}`\n",
    "\n",
    "The constant `0.622` represents the ratio of the molar mass of vapor ({math}`M_w`) and dry air ({math}`M_d`) in g/mol:\n",
    "\n",
    "{math}`\\frac{M_w}{M_d} = \\frac{18.02}{28.9634} = 0.622`\n",
    "\n",
    "And the `0.378` represents a correction constant where:\n",
    "\n",
    "{math}`1 - \\frac{M_w}{M_d} = 1 - 0.622 = 0.378`\n",
    "\n",
    "The percent of relative humidity ({math}`{\\Psi}`) is calculated with {math}`w` as the mixing ratio:\n",
    "\n",
    "{math}`{\\Psi} = 100 * \\frac{w}{q_{st}}`"
   ]
  },
  {
   "cell_type": "code",
   "execution_count": null,
   "metadata": {},
   "outputs": [],
   "source": [
    "# Input: Single Value\n",
    "from geocat.comp import relhum_ice\n",
    "\n",
    "temp = 268.15  # Kelvin\n",
    "mixing_ratio = 0.0037\n",
    "pressure = 100000  # Pa\n",
    "\n",
    "relhum_ice(temp, mixing_ratio, pressure)"
   ]
  },
  {
   "cell_type": "code",
   "execution_count": null,
   "metadata": {},
   "outputs": [],
   "source": [
    "# Input: List/Array\n",
    "from geocat.comp import relhum_ice\n",
    "\n",
    "temp = [268.15, 258.15, 250.15]  # Kelvin\n",
    "mixing_ratio = [0.0037, 0.018, 0.001]\n",
    "pressure = [100000, 100325, 101325]  # Pa\n",
    "\n",
    "relhum_ice(temp, mixing_ratio, pressure)"
   ]
  },
  {
   "cell_type": "markdown",
   "metadata": {},
   "source": [
    "## relhum_water\n",
    "\n",
    "NCL's `relhum_water` calculates relative humidity with respect to water, given temperature, mixing ratio, and pressure.\n",
    "\n",
    "First,the approximation of vapor pressure is calculated from the Magnus Tetens form.{footcite}`murray_1967`\n",
    "\n",
    "{math}`{P_v} = c \\exp^{\\frac{a (T- 273.16)}{T - b}}`\n",
    "\n",
    "Where {math}`c` is vapor pressure of water at 0 degrees Celsius (Pa) as defined by the AEDki model{footcite}`notes_magnus_form`, and {math}`a` and {math}`b` are saturation vapor pressure coefficient approximations, as defined by the Magnus Tetens model (Equation 6){footcite}`murray_1967`\n",
    "\n",
    "{math}`a = 17.269`, {math}`b = 35.86`, {math}`c = 6.1128`\n",
    "\n",
    "Then, the specific humidity ({math}`q_{st}`) is calculated with {math}`p` as pressure:\n",
    "\n",
    "{math}`q_{st} = \\frac{0.622 * P_v}{(p * 0.1) - 0.378 * P_v}`\n",
    "\n",
    "The constant `0.622` represents the ratio of the molar mass of vapor ({math}`M_w`) and dry air ({math}`M_d`) in g/mol:\n",
    "\n",
    "{math}`\\frac{M_w}{M_d} = \\frac{18.02}{28.9634} = 0.622`\n",
    "\n",
    "And the `0.378` represents a correction constant where:\n",
    "\n",
    "{math}`1 - \\frac{M_w}{M_d} = 1 - 0.622 = 0.378`\n",
    "\n",
    "The percent of relative humidity ({math}`{\\Psi}`) is calculated with {math}`w` as the mixing ratio:\n",
    "\n",
    "{math}`{\\Psi} = 100 * \\frac{w}{q_{st}}`"
   ]
  },
  {
   "cell_type": "code",
   "execution_count": null,
   "metadata": {},
   "outputs": [],
   "source": [
    "# Input: Single Value\n",
    "from geocat.comp import relhum_water\n",
    "\n",
    "temp = 315.15  # Kelvin\n",
    "mixing_ratio = 0.0037\n",
    "pressure = 100000  # Pa\n",
    "\n",
    "relhum_water(temp, mixing_ratio, pressure)"
   ]
  },
  {
   "cell_type": "code",
   "execution_count": null,
   "metadata": {},
   "outputs": [],
   "source": [
    "# Input: List/Array\n",
    "from geocat.comp import relhum_ice\n",
    "\n",
    "temp = [298.15, 315.15, 330.15]  # Kelvin\n",
    "mixing_ratio = [0.0018, 0.0037, 0.001]\n",
    "pressure = [100325, 100000, 101325]  # Pa\n",
    "\n",
    "relhum_water(temp, mixing_ratio, pressure)"
   ]
  },
  {
   "cell_type": "markdown",
   "metadata": {},
   "source": [
    "## dpres_plevel\n",
    "\n",
    "NCL's `dpres_plevel` calculates the change in pressure (delta pressure) for each layer in a specific constant pressure level coordinate system while accounting for specific surface pressures.\n",
    "\n",
    "The top ({math}`\\text{delta pressure}_\\text{start}`) and bottom ({math}`\\text{pressure}_\\text{end}`) pressure layers are calculated as:\n",
    "\n",
    "{math}`\\text{delta pressure}_\\text{start} = \\frac{\\text{pressure}_\\text{start} + \\text{pressure}_\\text{start+1}}{2 - \\text{pressure}_\\text{min}}`\n",
    "\n",
    "{math}`\\text{delta pressure}_\\text{end} = \\frac{\\text{surface pressure} - \\text{pressure}_\\text{end} + \\text{pressure}_\\text{end-1}}{2}`\n",
    "\n",
    "While the middle layers are calculated as the difference between each layers:\n",
    "\n",
    "{math}`\\text{delta pressure}_\\text{mid} = \\frac{a-b}{2}`"
   ]
  },
  {
   "cell_type": "code",
   "execution_count": 1,
   "metadata": {},
   "outputs": [
    {
     "name": "stderr",
     "output_type": "stream",
     "text": [
      "/home/cs/miniconda3/envs/geocat-applications/lib/python3.12/site-packages/numpy/_core/numeric.py:457: RuntimeWarning: invalid value encountered in cast\n",
      "  multiarray.copyto(res, fill_value, casting='unsafe')\n"
     ]
    },
    {
     "data": {
      "text/plain": [
       "array([75, 50, 50, 50, 50, 50, 50, 50, 50, 50, 50, 50, 50, 50, 50, 50, 37,\n",
       "       25, 25, 25, 22, 15, 10, 10, 10, 10,  7,  5,  2])"
      ]
     },
     "execution_count": 1,
     "metadata": {},
     "output_type": "execute_result"
    }
   ],
   "source": [
    "# Input: Single Value\n",
    "from geocat.comp import delta_pressure\n",
    "import numpy as np\n",
    "\n",
    "\n",
    "pressure_levels = np.array(\n",
    "    [\n",
    "        1000,\n",
    "        950,\n",
    "        900,\n",
    "        850,\n",
    "        800,\n",
    "        750,\n",
    "        700,\n",
    "        650,\n",
    "        600,\n",
    "        550,\n",
    "        500,\n",
    "        450,\n",
    "        400,\n",
    "        350,\n",
    "        300,\n",
    "        250,\n",
    "        200,\n",
    "        175,\n",
    "        150,\n",
    "        125,\n",
    "        100,\n",
    "        80,\n",
    "        70,\n",
    "        60,\n",
    "        50,\n",
    "        40,\n",
    "        30,\n",
    "        25,\n",
    "        20,\n",
    "    ]\n",
    ")\n",
    "surface_pressure = 1050\n",
    "\n",
    "delta_pressure(pressure_levels, surface_pressure)"
   ]
  },
  {
   "cell_type": "code",
   "execution_count": 2,
   "metadata": {},
   "outputs": [
    {
     "data": {
      "text/plain": [
       "array([[25, 50, 50, 50, 50, 50, 50, 50, 50, 50, 50, 50, 50, 50, 50, 50,\n",
       "        37, 25, 25, 25, 22, 15, 10, 10, 10, 10,  7,  5,  2],\n",
       "       [50, 50, 50, 50, 50, 50, 50, 50, 50, 50, 50, 50, 50, 50, 50, 50,\n",
       "        37, 25, 25, 25, 22, 15, 10, 10, 10, 10,  7,  5,  2],\n",
       "       [75, 50, 50, 50, 50, 50, 50, 50, 50, 50, 50, 50, 50, 50, 50, 50,\n",
       "        37, 25, 25, 25, 22, 15, 10, 10, 10, 10,  7,  5,  2]])"
      ]
     },
     "execution_count": 2,
     "metadata": {},
     "output_type": "execute_result"
    }
   ],
   "source": [
    "# Input: List/Array\n",
    "from geocat.comp import delta_pressure\n",
    "import numpy as np\n",
    "\n",
    "pressure_levels = np.array(\n",
    "    [\n",
    "        1000,\n",
    "        950,\n",
    "        900,\n",
    "        850,\n",
    "        800,\n",
    "        750,\n",
    "        700,\n",
    "        650,\n",
    "        600,\n",
    "        550,\n",
    "        500,\n",
    "        450,\n",
    "        400,\n",
    "        350,\n",
    "        300,\n",
    "        250,\n",
    "        200,\n",
    "        175,\n",
    "        150,\n",
    "        125,\n",
    "        100,\n",
    "        80,\n",
    "        70,\n",
    "        60,\n",
    "        50,\n",
    "        40,\n",
    "        30,\n",
    "        25,\n",
    "        20,\n",
    "    ]\n",
    ")\n",
    "surface_pressure = np.array([1000, 1025, 1050])\n",
    "\n",
    "delta_pressure(pressure_levels, surface_pressure)"
   ]
  },
  {
   "cell_type": "markdown",
   "metadata": {},
   "source": [
    "---"
   ]
  },
  {
   "cell_type": "markdown",
   "metadata": {},
   "source": [
    "## Python Resources\n",
    "- [GeoCAT-comp `dewtemp` documentation](https://geocat-comp.readthedocs.io/en/latest/user_api/generated/geocat.comp.meteorology.dewtemp.html)\n",
    "- [Convert between different temperature scales in SciPy](https://docs.scipy.org/doc/scipy/reference/generated/scipy.constants.convert_temperature.html)\n",
    "- [GeoCAT-comp `max_daylight` Documentation](https://geocat-comp.readthedocs.io/en/latest/user_api/generated/geocat.comp.meteorology.max_daylight.html)\n",
    "- [GeoCAT-comp `saturation_vapor_pressure` Documentation](https://geocat-comp.readthedocs.io/en/latest/user_api/generated/geocat.comp.meteorology.saturation_vapor_pressure.html)\n",
    "- [GeoCAT-comp `actual_saturation_vapor_pressure` Documentation](https://geocat-comp.readthedocs.io/en/latest/user_api/generated/geocat.comp.meteorology.actual_saturation_vapor_pressure.html)\n",
    "- [GeoCAT-comp `saturation_vapor_pressure_slope` Documentation](https://geocat-comp.readthedocs.io/en/latest/user_api/generated/geocat.comp.meteorology.saturation_vapor_pressure_slope.html)\n",
    "- [MetPy `coriolis_parameter` Documentation](https://unidata.github.io/MetPy/latest/api/generated/metpy.calc.coriolis_parameter.html)\n",
    "- [GeoCAT-comp `relhum` Documentation](https://geocat-comp.readthedocs.io/en/v2023.06.0/user_api/generated/geocat.comp.meteorology.relhum.html)\n",
    "- [GeoCAT-comp `relhum_ice` Documentation](https://geocat-comp.readthedocs.io/en/latest/user_api/generated/geocat.comp.meteorology.relhum_ice.html)\n",
    "- [GeoCAT-comp `relhum_water` Documentation](https://geocat-comp.readthedocs.io/en/latest/user_api/generated/geocat.comp.meteorology.relhum_water.html)\n",
    "- [GeoCAT-comp `delta_pressure` Documentation](https://geocat-comp.readthedocs.io/en/latest/user_api/generated/geocat.comp.meteorology.delta_pressure.html)\n",
    "\n",
    "## Additional Reading\n",
    "- [NOAA: Dew Point vs. Humidity](https://www.weather.gov/arx/why_dewpoint_vs_humidity)\n",
    "- [MetPy `relative_humidity_from_mixing_ratio` Documentation](https://unidata.github.io/MetPy/latest/api/generated/metpy.calc.relative_humidity_from_mixing_ratio.html#relative-humidity-from-mixing-ratio) with alternative equation"
   ]
  },
  {
   "cell_type": "markdown",
   "metadata": {},
   "source": [
    "## References:\n",
    "\n",
    "```{footbibliography}\n",
    "```"
   ]
  }
 ],
 "metadata": {
  "kernelspec": {
   "display_name": "Python 3 (ipykernel)",
   "language": "python",
   "name": "python3"
  },
  "language_info": {
   "codemirror_mode": {
    "name": "ipython",
    "version": 3
   },
   "file_extension": ".py",
   "mimetype": "text/x-python",
   "name": "python",
   "nbconvert_exporter": "python",
   "pygments_lexer": "ipython3",
   "version": "3.12.9"
  }
 },
 "nbformat": 4,
 "nbformat_minor": 4
}
