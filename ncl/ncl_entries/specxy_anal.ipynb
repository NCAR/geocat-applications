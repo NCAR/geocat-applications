{
 "cells": [
  {
   "cell_type": "markdown",
   "metadata": {},
   "source": [
    "# `specxy_anal`\n",
    "\n",
    "This example demonstrates how to perform 2-dimensional spectral analysis. \n",
    "\n",
    "The motivation for this example was to demonstrate how to perform the NCl function [`specxy_anal()`](https://www.ncl.ucar.edu/Document/Functions/Built-in/specxy_anal.shtml) in Python. This functions calculate the spectra of a series as well as cross-spectra quantities.\n",
    "\n",
    "This document shows a concise workflow using  using the `scipy.signal` module. To learn more about the functions and keyword arguments available in this package, read Scipy's [Signal Processing documentation](https://docs.scipy.org/doc/scipy/reference/signal.html).\n",
    "\n",
    "To see a concise example using Python, visit the [spectral_analysis](`../../applications/data_analysis/spectral_analysis.ipynb`) notebook."
   ]
  },
  {
   "cell_type": "markdown",
   "metadata": {},
   "source": [
    "This notebook will cover:\n",
    "\n",
    "1. Periodograms\n",
    "1. Smoothing\n",
    "1. Cross Spectral Analysis (cospectrum, quadtrature, phase, coherence squared)\n",
    "1. Coherence"
   ]
  },
  {
   "cell_type": "code",
   "execution_count": null,
   "metadata": {},
   "outputs": [],
   "source": [
    "import xarray as xr\n",
    "import geocat.datafiles as gcd\n",
    "import pandas as pd\n",
    "import scipy\n",
    "import matplotlib.pyplot as plt\n",
    "import numpy as np"
   ]
  },
  {
   "cell_type": "markdown",
   "metadata": {},
   "source": [
    "### Read in Data\n",
    "\n",
    "For our 2-Dimensional spectral data we'll look `SLP_DarwinTahitiAnom` which contains Darwin and Tahiti Sea Level Pressure Anomalies between 1935-1998.\n",
    "\n",
    "This data will need a time index correction to use the standard `DateTimeIndex`."
   ]
  },
  {
   "cell_type": "code",
   "execution_count": null,
   "metadata": {},
   "outputs": [],
   "source": [
    "slp_darwin = xr.open_dataset(gcd.get('netcdf_files/SLP_DarwinTahitiAnom.nc'))\n",
    "\n",
    "# Time Series Correction\n",
    "start_date = pd.Timestamp('1935-01-01')  # Months Since January 1935\n",
    "dates = [\n",
    "    start_date + pd.DateOffset(months=int(month))\n",
    "    for month in slp_darwin.indexes['time']\n",
    "]\n",
    "datetime_index = pd.DatetimeIndex(dates)\n",
    "\n",
    "slp_darwin['time'] = datetime_index\n",
    "slp_darwin"
   ]
  },
  {
   "cell_type": "code",
   "execution_count": null,
   "metadata": {},
   "outputs": [],
   "source": [
    "dslp = slp_darwin.DSLP  # Darwin\n",
    "dslp"
   ]
  },
  {
   "cell_type": "code",
   "execution_count": null,
   "metadata": {},
   "outputs": [],
   "source": [
    "tslp = slp_darwin.TSLP  # Tahiti\n",
    "tslp"
   ]
  },
  {
   "cell_type": "code",
   "execution_count": null,
   "metadata": {},
   "outputs": [],
   "source": [
    "dslp.plot(label='Darwin')\n",
    "tslp.plot(label='Tahiti')\n",
    "plt.legend()\n",
    "plt.ylabel('Sea Level Pressure Anomalies [hPa]')"
   ]
  },
  {
   "cell_type": "markdown",
   "metadata": {},
   "source": [
    "### Cross-Power Spectral Density\n",
    "\n",
    "We will calculate cospectrum, quadtrature, and phase by leveraging [`scipy.signal.csd()`](https://docs.scipy.org/doc/scipy/reference/generated/scipy.signal.csd.html) and computing its real (cospectrum) and imaginary (quadtrature) components, and calculating the angle between them (phase)."
   ]
  },
  {
   "cell_type": "code",
   "execution_count": null,
   "metadata": {},
   "outputs": [],
   "source": [
    "f, pxy = scipy.signal.csd(\n",
    "    dslp,\n",
    "    tslp,\n",
    "    fs=1,  # monthly\n",
    "    detrend='constant',\n",
    ")  # remove mean\n",
    "\n",
    "cospectrum = np.real(pxy)\n",
    "quadrature = np.imag(pxy)\n",
    "\n",
    "phase = np.angle(pxy, deg=True)"
   ]
  },
  {
   "cell_type": "code",
   "execution_count": null,
   "metadata": {},
   "outputs": [],
   "source": [
    "fig, axs = plt.subplots(1, 3, figsize=(10, 5))\n",
    "\n",
    "axs[0].plot(f, cospectrum)\n",
    "axs[0].set_xlim([0, 0.5])\n",
    "axs[0].set_xlabel('Frequency (Cycles / Month)')\n",
    "axs[0].set_ylabel('Cospectrum')\n",
    "\n",
    "axs[1].plot(f, quadrature)\n",
    "axs[1].set_xlim([0, 0.5])\n",
    "axs[1].set_ylim([-3, 3])\n",
    "axs[1].set_xlabel('Frequency (Cycles / Month)')\n",
    "axs[1].set_ylabel('Quadrature')\n",
    "\n",
    "axs[2].plot(f, phase)\n",
    "axs[2].set_xlim([0, 0.5])\n",
    "axs[2].set_ylim([-200, 200])\n",
    "axs[2].set_xlabel('Frequency (Cycles / Month)')\n",
    "axs[2].set_ylabel('Phase')\n",
    "\n",
    "fig.suptitle(\n",
    "    'Darwin and Tahiti Sea Level Pressure Anomalies (1935-1998) - Cross-Spectral Analysis'\n",
    ")\n",
    "plt.tight_layout()"
   ]
  },
  {
   "cell_type": "markdown",
   "metadata": {},
   "source": [
    "### Coherence Squared\n",
    "\n",
    "Coherence is a measure of how similar too specta are, with regards to their frequency and phase offset relative to one another. \n",
    "\n",
    "For coherence squared, simply square the output from [`scipy.signal.coherence()`](https://docs.scipy.org/doc/scipy/reference/generated/scipy.signal.coherence.html)."
   ]
  },
  {
   "cell_type": "code",
   "execution_count": null,
   "metadata": {},
   "outputs": [],
   "source": [
    "f, cxy = scipy.signal.coherence(\n",
    "    dslp,\n",
    "    tslp,\n",
    "    fs=1,  # monthly\n",
    "    detrend='constant',\n",
    ")  # remove mean\n",
    "\n",
    "co_sq = cxy**2"
   ]
  },
  {
   "cell_type": "code",
   "execution_count": null,
   "metadata": {},
   "outputs": [],
   "source": [
    "plt.plot(f, co_sq)\n",
    "plt.xlim([0, 0.5])\n",
    "plt.ylim([0, 1])\n",
    "plt.xlabel('Frequency (Cycles / Month)')\n",
    "plt.ylabel('Coherence SQ')\n",
    "\n",
    "plt.title('Darwin and Tahiti Sea Level Pressure Anomalies (1935-1998)')\n",
    "plt.tight_layout()"
   ]
  },
  {
   "cell_type": "markdown",
   "metadata": {},
   "source": [
    "### Peridogram and Smoothing\n",
    "\n",
    "For a more in depth analysis of the periodogram, visit the [`specx_anal` notebook](`specx_anal.ipynb`) which demonstrates additional tapering and normalization steps."
   ]
  },
  {
   "cell_type": "code",
   "execution_count": null,
   "metadata": {},
   "outputs": [],
   "source": [
    "# Calculate Periodogram\n",
    "freq_dslp, dslp_psd = scipy.signal.periodogram(\n",
    "    dslp,\n",
    "    fs=1,  # monthly\n",
    "    detrend='constant',\n",
    ")  # remove mean\n",
    "freq_tslp, tslp_psd = scipy.signal.periodogram(tslp, fs=1, detrend='constant')"
   ]
  },
  {
   "cell_type": "code",
   "execution_count": null,
   "metadata": {},
   "outputs": [],
   "source": [
    "# Perform modified Daniel Smoothing\n",
    "k = 3  # smoothing constant\n",
    "\n",
    "window = scipy.signal.windows.hann(2 * k + 1)  # Hann Window\n",
    "window = window / window.sum()  # Normalize window\n",
    "\n",
    "dslp_smoothed = scipy.signal.convolve(dslp_psd, window, mode='same')\n",
    "tslp_smoothed = scipy.signal.convolve(tslp_psd, window, mode='same')"
   ]
  },
  {
   "cell_type": "code",
   "execution_count": null,
   "metadata": {},
   "outputs": [],
   "source": [
    "fig, axs = plt.subplots(1, 2, figsize=(10, 5))\n",
    "\n",
    "axs[0].plot(freq_dslp, dslp_smoothed)\n",
    "axs[0].set_xlim([0, 0.5])\n",
    "axs[0].set_ylim([0, 30])\n",
    "axs[0].set_xlabel('Frequency (cycles/month)')\n",
    "axs[0].set_ylabel('Variance of Darwin SLP')\n",
    "\n",
    "axs[1].plot(freq_tslp, tslp_smoothed)\n",
    "axs[1].set_xlim([0, 0.5])\n",
    "axs[1].set_ylim([0, 30])\n",
    "axs[1].set_xlabel('Frequency (cycles/month)')\n",
    "axs[1].set_ylabel('Variance of Tahiti SLP')\n",
    "\n",
    "fig.suptitle(\n",
    "    'Darwin and Tahiti Sea Level Pressure (SLP) Anomalies (1935-1998) - Power Spectral Density'\n",
    ")\n",
    "plt.tight_layout()"
   ]
  },
  {
   "cell_type": "markdown",
   "metadata": {},
   "source": [
    "Curious about how to more closely replicate the NCL version of spectral analysis? Check out our ['NCL Spectral Analysis Notebook']('../../ncl/NCL_spectral_analysis.ipynb')"
   ]
  }
 ],
 "metadata": {
  "kernelspec": {
   "display_name": "Python 3",
   "language": "python",
   "name": "python3"
  },
  "language_info": {
   "codemirror_mode": {
    "name": "ipython",
    "version": 3
   },
   "file_extension": ".py",
   "mimetype": "text/x-python",
   "name": "python",
   "nbconvert_exporter": "python",
   "pygments_lexer": "ipython3",
   "version": "3.12.2"
  },
  "widgets": {
   "application/vnd.jupyter.widget-state+json": {
    "state": {},
    "version_major": 2,
    "version_minor": 0
   }
  }
 },
 "nbformat": 4,
 "nbformat_minor": 4
}
