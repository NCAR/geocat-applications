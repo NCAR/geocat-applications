{
 "cells": [
  {
   "cell_type": "markdown",
   "id": "e630c395-5419-4786-84fe-94bc0f0abbdc",
   "metadata": {},
   "source": [
    "# Trigonometric Functions"
   ]
  },
  {
   "cell_type": "markdown",
   "id": "cac2fd03-5dcf-478a-8cd5-72207bc2cb4b",
   "metadata": {},
   "source": [
    "## Overview\n",
    "The trigonometric functions for sine, cosine, and tangent (and associated inverse functions) are built-in functions in Python as well as part of a common Python package `numpy`\n",
    "\n",
    "- [sin](https://www.ncl.ucar.edu/Document/Functions/Built-in/sin.shtml)\n",
    "- [cos](https://www.ncl.ucar.edu/Document/Functions/Built-in/cos.shtml)\n",
    "- [tan](https://www.ncl.ucar.edu/Document/Functions/Built-in/tan.shtml)\n",
    "- [asin](https://www.ncl.ucar.edu/Document/Functions/Built-in/asin.shtml)\n",
    "- [acos](https://www.ncl.ucar.edu/Document/Functions/Built-in/acos.shtml)\n",
    "- [atan](https://www.ncl.ucar.edu/Document/Functions/Built-in/atan.shtml)\n",
    "- [atan2](https://www.ncl.ucar.edu/Document/Functions/Built-in/atan2.shtml)\n",
    "- [cosh](https://www.ncl.ucar.edu/Document/Functions/Built-in/cosh.shtml)\n",
    "- [sinh](https://www.ncl.ucar.edu/Document/Functions/Built-in/sinh.shtml)\n",
    "- [tanh](https://www.ncl.ucar.edu/Document/Functions/Built-in/tanh.shtml)"
   ]
  },
  {
   "cell_type": "markdown",
   "id": "fd87eed0-c2ea-4b7c-97c4-1f8f0bc22c6a",
   "metadata": {},
   "source": [
    "## Using the `math` and `cmath` module\n",
    "\n",
    "The [`math`](https://docs.python.org/3/library/math.html#trigonometric-functions) and [`cmath`](https://docs.python.org/3/library/cmath.html#trigonometric-functions) modules are part of the Python Standard Library and require no additional downloading to use. Both math modules can be used to calculate the value of trigonometric functions in Python\n",
    "\n",
    "Both math modules expect an input value in radians:\n",
    "- Input: single numerical values (float, decimals, integers)\n",
    "- Returns: single numerical value in radians as a float\n",
    "\n",
    "The `math` function only works on real number inputs, while `cmath` contains equivalent functions for for complex and imaginary numbers\n",
    "\n",
    "However, if you are working with lists or arrays we suggest using the `numpy` equivalents"
   ]
  },
  {
   "cell_type": "markdown",
   "id": "42cd2476-00a3-4f29-a8be-ab19af9f5c69",
   "metadata": {},
   "source": [
    "## Recommended: Using `numpy`\n",
    "\n",
    "[`numpy`](https://numpy.org/doc/stable/reference/routines.math.html) supports both real and complex values of individual numbers (floats, decimals, integers) as well as array-like values (arrays, lists, etc...)\n",
    "\n",
    "`numpy` expects an input value in radians:\n",
    "- Input: single or array-like numerical values (floats, integers, arrays, lists)\n",
    "- Returns: single or array-like numerical values in radians as floats"
   ]
  },
  {
   "cell_type": "markdown",
   "id": "b0360979-8430-4773-ba7f-50a0d75b71ae",
   "metadata": {},
   "source": [
    "## sin\n",
    "\n",
    "`sin` calculates the sine of numeric values in radians"
   ]
  },
  {
   "cell_type": "markdown",
   "id": "0f1181ae-407a-4dd8-83c2-9bbc629106a4",
   "metadata": {},
   "source": [
    "### Grab and Go"
   ]
  },
  {
   "cell_type": "code",
   "execution_count": null,
   "id": "6966eb6b-1861-4084-bcf9-9fe91c75aa3e",
   "metadata": {},
   "outputs": [],
   "source": [
    "import math\n",
    "\n",
    "input_value = 0.5  # in radians\n",
    "math_sin_value = math.sin(input_value)\n",
    "print(math_sin_value)"
   ]
  },
  {
   "cell_type": "code",
   "execution_count": null,
   "id": "e6352b3b-57c1-456c-806f-39fc132d2a1d",
   "metadata": {},
   "outputs": [],
   "source": [
    "# Input: Single Value\n",
    "import numpy as np\n",
    "\n",
    "input_value = 0.5  # in radians\n",
    "np_sin_value = np.sin(input_value)\n",
    "print(np_sin_value)"
   ]
  },
  {
   "cell_type": "code",
   "execution_count": null,
   "id": "5008e1ac-4988-41e5-bef3-4d60fce22ef8",
   "metadata": {},
   "outputs": [],
   "source": [
    "# Input: Array\n",
    "import numpy as np\n",
    "\n",
    "input_values = np.array([0.5, 0.75, 1.0])  # in radians\n",
    "np_sin_array_values = np.sin(input_values)\n",
    "print(np_sin_array_values)"
   ]
  },
  {
   "cell_type": "markdown",
   "id": "56aff0d0-781b-4017-bbfa-9bcaf1260072",
   "metadata": {},
   "source": [
    "## cos\n",
    "\n",
    "`cos` calculates the cosine of numeric values in radians"
   ]
  },
  {
   "cell_type": "markdown",
   "id": "aec2d22c-c136-421d-b765-26981bab7f82",
   "metadata": {},
   "source": [
    "### Grab and Go"
   ]
  },
  {
   "cell_type": "code",
   "execution_count": null,
   "id": "82117c2a-0c93-49fe-a9da-ebdffdc321b7",
   "metadata": {},
   "outputs": [],
   "source": [
    "import math\n",
    "\n",
    "input_value = 0.5  # in radians\n",
    "math_cos_value = math.cos(input_value)\n",
    "print(math_cos_value)"
   ]
  },
  {
   "cell_type": "code",
   "execution_count": null,
   "id": "75a172a7-0a57-47c3-885b-ea7310fca57c",
   "metadata": {},
   "outputs": [],
   "source": [
    "# Input: Single Value\n",
    "import numpy as np\n",
    "\n",
    "input_value = 0.5  # in radians\n",
    "np_cos_value = np.cos(input_value)\n",
    "print(np_cos_value)"
   ]
  },
  {
   "cell_type": "code",
   "execution_count": null,
   "id": "6b2eb192-56cd-485e-9703-503aa3778d4d",
   "metadata": {},
   "outputs": [],
   "source": [
    "# Input: Array\n",
    "import numpy as np\n",
    "\n",
    "input_values = np.array([0.5, 0.75, 1.0])  # in radians\n",
    "np_cos_array_values = np.cos(input_values)\n",
    "print(np_cos_array_values)"
   ]
  },
  {
   "cell_type": "markdown",
   "id": "7fbd4e7c-6a80-4f25-91d4-55480494ef5e",
   "metadata": {},
   "source": [
    "## tan\n",
    "\n",
    "`tan` calculates the tangent of numeric values in radians"
   ]
  },
  {
   "cell_type": "markdown",
   "id": "781b9e41-1656-41b8-a4a6-05a3055b2f7b",
   "metadata": {},
   "source": [
    "### Grab and Go"
   ]
  },
  {
   "cell_type": "code",
   "execution_count": null,
   "id": "ba01f8bc-f761-4a36-9011-2e37ff02db89",
   "metadata": {},
   "outputs": [],
   "source": [
    "import math\n",
    "\n",
    "input_value = 0.5  # in radians\n",
    "math_tan_value = math.tan(input_value)\n",
    "print(math_tan_value)"
   ]
  },
  {
   "cell_type": "code",
   "execution_count": null,
   "id": "2305949b-b1c1-4906-b8b0-bb38eb5701df",
   "metadata": {},
   "outputs": [],
   "source": [
    "# Input: Single Value\n",
    "import numpy as np\n",
    "\n",
    "input_value = 0.5  # in radians\n",
    "np_tan_value = np.tan(input_value)\n",
    "print(np_tan_value)"
   ]
  },
  {
   "cell_type": "code",
   "execution_count": null,
   "id": "2db44dc6-3ef0-44fb-88d8-de27f029b87c",
   "metadata": {},
   "outputs": [],
   "source": [
    "# Input: Array\n",
    "import numpy as np\n",
    "\n",
    "input_values = np.array([0.5, 0.75, 1.0])  # in radians\n",
    "np_tan_array_values = np.tan(input_values)\n",
    "print(np_tan_array_values)"
   ]
  },
  {
   "cell_type": "markdown",
   "id": "b3c64e31-99bf-46d6-b9cf-9a4994c3e894",
   "metadata": {},
   "source": [
    "## asin\n",
    "\n",
    "`asin` calculates the arcsine of numeric values in radians"
   ]
  },
  {
   "cell_type": "markdown",
   "id": "3f8100f8-330f-4242-9d45-8356b7af1d78",
   "metadata": {},
   "source": [
    "### Grab and Go"
   ]
  },
  {
   "cell_type": "code",
   "execution_count": null,
   "id": "be706d39-2ab7-4a63-b4be-e381394dd838",
   "metadata": {},
   "outputs": [],
   "source": [
    "import math\n",
    "\n",
    "input_value = 0.5  # in radians\n",
    "math_asin_value = math.asin(input_value)\n",
    "print(math_asin_value)"
   ]
  },
  {
   "cell_type": "code",
   "execution_count": null,
   "id": "74762c15-cd8d-4331-b222-76e264c96d7c",
   "metadata": {},
   "outputs": [],
   "source": [
    "# Input: Single Value\n",
    "import numpy as np\n",
    "\n",
    "input_value = 0.5  # in radians\n",
    "np_asin_value = np.arcsin(input_value)\n",
    "print(np_asin_value)"
   ]
  },
  {
   "cell_type": "code",
   "execution_count": null,
   "id": "12ebd507-26d5-436a-a752-555d06b29231",
   "metadata": {},
   "outputs": [],
   "source": [
    "# Input: Array\n",
    "import numpy as np\n",
    "\n",
    "input_values = np.array([0.5, 0.75, 1.0])  # in radians\n",
    "np_asin_array_values = np.arcsin(input_values)\n",
    "print(np_asin_array_values)"
   ]
  },
  {
   "cell_type": "markdown",
   "id": "5c524794-6d19-48a9-adeb-be2bb8b155e1",
   "metadata": {},
   "source": [
    "## acos\n",
    "\n",
    "`acos` calculates the arccosine of numeric values in radians"
   ]
  },
  {
   "cell_type": "markdown",
   "id": "f01f6a4b-e8e1-461c-ab97-31273d574f7b",
   "metadata": {},
   "source": [
    "### Grab and Go"
   ]
  },
  {
   "cell_type": "code",
   "execution_count": null,
   "id": "5c9c9e94-1df9-4701-bebd-dfc678c0c997",
   "metadata": {},
   "outputs": [],
   "source": [
    "import math\n",
    "\n",
    "input_value = 0.5  # in radians\n",
    "math_acos_value = math.acos(input_value)\n",
    "print(math_acos_value)"
   ]
  },
  {
   "cell_type": "code",
   "execution_count": null,
   "id": "06657bbf-6776-468e-8a5a-0afc66ccd495",
   "metadata": {},
   "outputs": [],
   "source": [
    "# Input: Single Value\n",
    "import numpy as np\n",
    "\n",
    "input_value = 0.5  # in radians\n",
    "np_acos_value = np.arccos(input_value)\n",
    "print(np_acos_value)"
   ]
  },
  {
   "cell_type": "code",
   "execution_count": null,
   "id": "1a72d1e9-cdd4-400a-abf1-9ada52f4b77f",
   "metadata": {},
   "outputs": [],
   "source": [
    "# Input: Array\n",
    "import numpy as np\n",
    "\n",
    "input_values = np.array([0.5, 0.75, 1.0])  # in radians\n",
    "np_acos_array_values = np.arccos(input_values)\n",
    "print(np_acos_array_values)"
   ]
  },
  {
   "cell_type": "markdown",
   "id": "f6aebcea-d7e2-43fc-9264-f45c938aead4",
   "metadata": {},
   "source": [
    "## atan\n",
    "\n",
    "`atan` calculates the arctangent of numeric values in radians"
   ]
  },
  {
   "cell_type": "markdown",
   "id": "e5b383a2-97ef-4bf8-8e7e-c9c840b7854a",
   "metadata": {},
   "source": [
    "### Grab and Go"
   ]
  },
  {
   "cell_type": "code",
   "execution_count": null,
   "id": "35c54657-67d9-434f-9d10-43041b56c4f0",
   "metadata": {},
   "outputs": [],
   "source": [
    "import math\n",
    "\n",
    "input_value = 0.5  # in radians\n",
    "math_atan_value = math.atan(input_value)\n",
    "print(math_atan_value)"
   ]
  },
  {
   "cell_type": "code",
   "execution_count": null,
   "id": "02a393e7-c620-4721-ad78-4ab65c77c1a4",
   "metadata": {},
   "outputs": [],
   "source": [
    "# Input: Single Value\n",
    "import numpy as np\n",
    "\n",
    "input_value = 0.5  # in radians\n",
    "np_atan_value = np.arctan(input_value)\n",
    "print(np_atan_value)"
   ]
  },
  {
   "cell_type": "code",
   "execution_count": null,
   "id": "615ee5c8-383e-42ea-b6d4-243f06fdedda",
   "metadata": {},
   "outputs": [],
   "source": [
    "# Input: Array\n",
    "import numpy as np\n",
    "\n",
    "input_values = np.array([0.5, 0.75, 1.0])  # in radians\n",
    "np_atan_array_values = np.arctan(input_value)\n",
    "print(np_atan_array_values)"
   ]
  },
  {
   "cell_type": "markdown",
   "id": "4713a6f8-6bed-4de0-a559-2947ccdcb1f5",
   "metadata": {},
   "source": [
    "## atan2\n",
    "\n",
    "`atan` calculates the arctangent of `y / x` in radians"
   ]
  },
  {
   "cell_type": "code",
   "execution_count": null,
   "id": "79ae3a02-88b8-4fdf-884e-61508de2f9bb",
   "metadata": {},
   "outputs": [],
   "source": [
    "import math\n",
    "\n",
    "input_value_x = 10.0  # in radians\n",
    "input_value_y = 5.0  # in radian\n",
    "math_atan2_value = math.atan2(input_value_y, input_value_x)\n",
    "print(math_atan2_value)"
   ]
  },
  {
   "cell_type": "code",
   "execution_count": null,
   "id": "6a8db93d-2e83-4770-8f20-059ed050be95",
   "metadata": {},
   "outputs": [],
   "source": [
    "# Input: Single Value\n",
    "import numpy as np\n",
    "\n",
    "input_value_x = 10.0  # in radians\n",
    "input_value_y = 5.0  # in radian\n",
    "np_atan2_value = np.arctan2(input_value_y, input_value_x)\n",
    "print(np_atan2_value)"
   ]
  },
  {
   "cell_type": "code",
   "execution_count": null,
   "id": "afd4af8b-b03c-474c-aec2-7605405061c0",
   "metadata": {},
   "outputs": [],
   "source": [
    "# Input: Array\n",
    "import numpy as np\n",
    "\n",
    "input_values_x = np.array([0.5, 0.75, 10.0])  # in radians\n",
    "input_values_y = np.array([1.5, 1.75, 5.0])  # in radians\n",
    "np_atan2_array_values = np.arctan2(input_values_y, input_values_x)\n",
    "print(np_atan2_array_values)"
   ]
  },
  {
   "cell_type": "markdown",
   "id": "9d4fd21e-334e-4611-8043-01500e301820",
   "metadata": {},
   "source": [
    "## cosh\n",
    "\n",
    "`cosh` computes the hyperbolic cosine in radians"
   ]
  },
  {
   "cell_type": "code",
   "execution_count": null,
   "id": "bae7079b-06ea-4b97-b624-cfa15e5b065e",
   "metadata": {},
   "outputs": [],
   "source": [
    "import math\n",
    "\n",
    "input_value = -3.2  # in radians\n",
    "math_cosh_value = math.cosh(input_value)\n",
    "print(math_cosh_value)"
   ]
  },
  {
   "cell_type": "code",
   "execution_count": null,
   "id": "924e1da1-bc0a-4c0b-8ecb-ab6214013397",
   "metadata": {},
   "outputs": [],
   "source": [
    "# Input: Single Value\n",
    "import numpy as np\n",
    "\n",
    "input_value = -3.2  # in radians\n",
    "np_cosh_value = np.cosh(input_value)\n",
    "print(np_cosh_value)"
   ]
  },
  {
   "cell_type": "code",
   "execution_count": null,
   "id": "ea1134b5-1efd-4cd6-99f4-8b8e7456ecbd",
   "metadata": {},
   "outputs": [],
   "source": [
    "# Input: Array\n",
    "import numpy as np\n",
    "\n",
    "input_values = np.array([0.5, 0.75, -3.2])  # in radians\n",
    "np_cosh_array_values = np.cosh(input_values)\n",
    "print(np_cosh_array_values)"
   ]
  },
  {
   "cell_type": "markdown",
   "id": "672eaf22-c6e2-453f-95c0-d707729a604a",
   "metadata": {},
   "source": [
    "## sinh\n",
    "\n",
    "`sinh` computes the hyperbolic sine in radians"
   ]
  },
  {
   "cell_type": "code",
   "execution_count": null,
   "id": "4d65529f-e4c0-484f-b105-aaedcdd5599c",
   "metadata": {},
   "outputs": [],
   "source": [
    "import math\n",
    "\n",
    "input_value = 1.4  # in radians\n",
    "math_sinh_value = math.sinh(input_value)\n",
    "print(math_sinh_value)"
   ]
  },
  {
   "cell_type": "code",
   "execution_count": null,
   "id": "617613bc-ba03-4933-bca7-1274642f8e00",
   "metadata": {},
   "outputs": [],
   "source": [
    "# Input: Single Value\n",
    "import numpy as np\n",
    "\n",
    "input_value = 1.4  # in radians\n",
    "np_sinh_value = np.sinh(input_value)\n",
    "print(np_sinh_value)"
   ]
  },
  {
   "cell_type": "code",
   "execution_count": null,
   "id": "d160dd59-138f-418d-8c09-81e266bf45a9",
   "metadata": {},
   "outputs": [],
   "source": [
    "# Input: Array\n",
    "import numpy as np\n",
    "\n",
    "input_values = np.array([0.5, 0.75, 1.4])  # in radians\n",
    "np_sinh_array_values = np.sinh(input_values)\n",
    "print(np_sinh_array_values)"
   ]
  },
  {
   "cell_type": "markdown",
   "id": "013009c3-ce59-43bc-b844-b14dd22f8193",
   "metadata": {},
   "source": [
    "## tanh\n",
    "\n",
    "`tanh` computes the hyperbolic tangent in radians"
   ]
  },
  {
   "cell_type": "code",
   "execution_count": null,
   "id": "096241a0-f2cc-464d-9736-811269c7530b",
   "metadata": {},
   "outputs": [],
   "source": [
    "import math\n",
    "\n",
    "input_value = 0.67  # in radians\n",
    "math_tanh_value = math.tanh(input_value)\n",
    "print(math_tanh_value)"
   ]
  },
  {
   "cell_type": "code",
   "execution_count": null,
   "id": "bd0685c9-1a5a-41d2-8434-cb0d8d665699",
   "metadata": {},
   "outputs": [],
   "source": [
    "import numpy as np\n",
    "\n",
    "input_value = 0.67  # in radians\n",
    "np_tanh_value = np.tanh(input_value)\n",
    "print(np_tanh_value)"
   ]
  },
  {
   "cell_type": "code",
   "execution_count": null,
   "id": "40befff3-5d23-4e82-aca5-4ab4b350d1d1",
   "metadata": {},
   "outputs": [],
   "source": [
    "# Input: Array\n",
    "import numpy as np\n",
    "\n",
    "input_values = np.array([0.5, 0.75, 0.67])  # in radians\n",
    "np_tanh_array_values = np.tanh(input_values)\n",
    "print(np_tanh_array_values)"
   ]
  },
  {
   "cell_type": "markdown",
   "id": "ee3b3ef5-32c3-40c4-9f58-4cdfb7504fee",
   "metadata": {},
   "source": [
    "## Differences from NCL"
   ]
  },
  {
   "cell_type": "markdown",
   "id": "4a671627-ddc3-4936-b8a7-9e00ec821a24",
   "metadata": {},
   "source": [
    "### Input and Return Types\n",
    "While the math modules (`math` and `cmath`) only accept single numerical values—like NCL—`numpy` can accept and return either single numerical values or array-like values. \n",
    "\n",
    "Unlike NCL, `cmath` and `numpy` can also accept complex numbers as input values"
   ]
  },
  {
   "cell_type": "markdown",
   "id": "ea71d621-707b-402a-83b7-b72b87cdc869",
   "metadata": {},
   "source": [
    "## Python Resources\n",
    "\n",
    "- The [`math` trig functions](https://docs.python.org/3/library/math.html#trigonometric-functions) module documentation\n",
    "- The [`cmath` trig functions](https://docs.python.org/3/library/cmath.html#trigonometric-functions) module documentation\n",
    "- The [`numpy` trig functions](https://numpy.org/doc/stable/reference/routines.math.html) documentation\n",
    "- Converting between radians and degrees with `numpy`\n",
    "  - [np.rad2deg](https://numpy.org/doc/stable/reference/generated/numpy.rad2deg.html): Convert angles from radians to degrees\n",
    "  - [np.deg2rad](https://numpy.org/doc/stable/reference/generated/numpy.deg2rad.html): Convert angles from degrees to radians"
   ]
  }
 ],
 "metadata": {
  "kernelspec": {
   "display_name": "Python 3 (ipykernel)",
   "language": "python",
   "name": "python3"
  },
  "language_info": {
   "codemirror_mode": {
    "name": "ipython",
    "version": 3
   },
   "file_extension": ".py",
   "mimetype": "text/x-python",
   "name": "python",
   "nbconvert_exporter": "python",
   "pygments_lexer": "ipython3",
   "version": "3.11.8"
  }
 },
 "nbformat": 4,
 "nbformat_minor": 5
}
