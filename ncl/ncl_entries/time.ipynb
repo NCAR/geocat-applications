{
 "cells": [
  {
   "cell_type": "markdown",
   "metadata": {},
   "source": [
    "# Time"
   ]
  },
  {
   "cell_type": "markdown",
   "metadata": {
    "jp-MarkdownHeadingCollapsed": true
   },
   "source": [
    "## Overview\n",
    "This section covers NCL functions relating to dates and times:"
   ]
  },
  {
   "cell_type": "markdown",
   "metadata": {},
   "source": [
    "## day_of_week\n",
    "NCL's [`day_of_week`](https://www.ncl.ucar.edu/Document/Functions/Built-in/day_of_week.shtml) calculates the day of the week given month, day, and year.\n",
    "\n",
    "### Grab and Go"
   ]
  },
  {
   "cell_type": "code",
   "execution_count": null,
   "metadata": {},
   "outputs": [],
   "source": [
    "import cftime\n",
    "\n",
    "day = 4\n",
    "month = 6\n",
    "year = 2024\n",
    "\n",
    "dow = cftime.datetime(\n",
    "    year, month, day, calendar='proleptic_gregorian', has_year_zero=True\n",
    ").strftime(\"%w\")\n",
    "print(dow)"
   ]
  },
  {
   "cell_type": "markdown",
   "metadata": {},
   "source": [
    "---"
   ]
  },
  {
   "cell_type": "markdown",
   "metadata": {},
   "source": [
    "### Using the `datetime` module\n",
    "The [`datetime`](https://docs.python.org/3/library/datetime.html) module is part of the Python Standard Library and could be sufficient to calculate the day of the week. "
   ]
  },
  {
   "cell_type": "code",
   "execution_count": null,
   "metadata": {},
   "outputs": [],
   "source": [
    "import datetime\n",
    "\n",
    "day = 4\n",
    "month = 6\n",
    "year = 2024\n",
    "\n",
    "dow = datetime.date(year, month, day).strftime('%A')\n",
    "print(f\"{year}-{month}-{day} is a {dow}\")"
   ]
  },
  {
   "cell_type": "markdown",
   "metadata": {},
   "source": [
    "However, the `datetime` module does not support year 0. If you need to work with year 0, we suggest using `cftime`.\n",
    "\n",
    "The `datetime` module also only uses the proleptic Gregorian calendar. If you need to work with other calendars, we suggest using `cftime`."
   ]
  },
  {
   "cell_type": "markdown",
   "metadata": {},
   "source": [
    "### Using `cftime`\n",
    "[`cftime`](https://unidata.github.io/cftime/index.html) offers a solution to these potential issues by supporting year 0 and all of the [CF Convention calendars](https://cfconventions.org/cf-conventions/cf-conventions#calendar). Here is how you can use `cftime` to calculate the day of the week."
   ]
  },
  {
   "cell_type": "code",
   "execution_count": null,
   "metadata": {},
   "outputs": [],
   "source": [
    "import cftime\n",
    "\n",
    "day = 4\n",
    "month = 6\n",
    "year = 2024\n",
    "\n",
    "dow = cftime.datetime(\n",
    "    year, month, day, calendar='proleptic_gregorian', has_year_zero=True\n",
    ").strftime('%A')\n",
    "print(f\"Proleptic Gregorian calendar: \\t\\t{year}-{month}-{day} is a {dow}\")\n",
    "\n",
    "dow = cftime.datetime(\n",
    "    year, month, day, calendar='standard', has_year_zero=True\n",
    ").strftime('%A')\n",
    "print(f\"Standard calendar: \\t\\t\\t{year}-{month}-{day} is a {dow}\")\n",
    "\n",
    "dow = cftime.datetime(year, month, day, calendar='julian', has_year_zero=True).strftime(\n",
    "    '%A'\n",
    ")\n",
    "print(f\"Julian calendar: \\t\\t\\t{year}-{month}-{day} is a {dow}\")\n",
    "\n",
    "dow = cftime.datetime(\n",
    "    year, month, day, calendar='360_day', has_year_zero=True\n",
    ").strftime('%A')\n",
    "print(f\"360 day calendar: \\t\\t\\t{year}-{month}-{day} is a {dow}\")"
   ]
  },
  {
   "cell_type": "markdown",
   "metadata": {},
   "source": [
    "Using the [`strftime()`](https://docs.python.org/3/library/datetime.html#strftime-and-strptime-behavior) method allows you to format the output of `cftime.datetime`. If you desire an output equivalent to that of NCL's `day_of_week`, we suggest using `.strftime('%w')`.\n"
   ]
  },
  {
   "cell_type": "markdown",
   "metadata": {},
   "source": [
    "### Differences between `cftime` and NCL's `day_of_week`"
   ]
  },
  {
   "cell_type": "markdown",
   "metadata": {},
   "source": [
    "#### Calendars\n",
    "NCL's `day_of_week` only supports the proleptic Gregorian calendar, while the `cftime` module supports all CF conventions calendars, including the `proleptic_gregorian` calendar."
   ]
  },
  {
   "cell_type": "markdown",
   "metadata": {},
   "source": [
    "#### Input Type\n",
    "Notably, using `cftime` to calculate the day of the week works by getting a `strftime()` value from a `cftime.datetime` object, which means that the calculations for the day of the week have to be collected through each date individually, while NCL's `days_in_month` can take in multidimensional integer arrays, given that the `year` and `month` arrays have the same dimensions."
   ]
  },
  {
   "cell_type": "markdown",
   "metadata": {},
   "source": [
    "#### Year 0\n",
    "There is a slight difference in the way that NCL's `day_of_week` and the `cftime` module handle the year 0.\n",
    "- NCL's `day_of_week` supports all positive years and year 0 by default.\n",
    "- The `cftime` module supports all years, but handling for year 0 is dependent upon the calendar and/or the `has_year_zero` keyword argument."
   ]
  },
  {
   "cell_type": "markdown",
   "metadata": {},
   "source": [
    "## days_in_month\n",
    "NCL's [`days_in_month`](https://www.ncl.ucar.edu/Document/Functions/Built-in/days_in_month.shtml) calculates the number of days in a month given a month and year.\n",
    "\n",
    "### Grab and Go"
   ]
  },
  {
   "cell_type": "code",
   "execution_count": null,
   "metadata": {},
   "outputs": [],
   "source": [
    "import cftime\n",
    "\n",
    "day = 1\n",
    "month = 2\n",
    "year = 2024\n",
    "\n",
    "days = cftime.datetime(year, month, day, calendar='standard').daysinmonth\n",
    "\n",
    "days"
   ]
  },
  {
   "cell_type": "markdown",
   "metadata": {},
   "source": [
    "### Using the `calendar` module\n",
    "The [`calendar`](https://docs.python.org/3/library/calendar.html) module is part of the Python Standard Library and could be sufficient to calculate the number of days in a month."
   ]
  },
  {
   "cell_type": "code",
   "execution_count": null,
   "metadata": {},
   "outputs": [],
   "source": [
    "from calendar import monthrange\n",
    "\n",
    "month = 2\n",
    "year = 1500\n",
    "first_day, num_days = monthrange(year, month)\n",
    "print(f\"Month {month} in {year} has {num_days} days\")"
   ]
  },
  {
   "cell_type": "markdown",
   "metadata": {},
   "source": [
    "However, the `calendar` only uses a proleptic Gregorian calendar. If you need to work with other calendars, the `calendar` module will not be sufficient.\n",
    "\n",
    "### Using `cftime`\n",
    "[`cftime`](https://unidata.github.io/cftime/index.html) supports all of the [CF Convention calendars](https://cfconventions.org/cf-conventions/cf-conventions#calendar). Here's how you can use `cftime` to calculate the number of days in a month."
   ]
  },
  {
   "cell_type": "code",
   "execution_count": null,
   "metadata": {},
   "outputs": [],
   "source": [
    "import cftime\n",
    "\n",
    "day = 1\n",
    "month = 2\n",
    "year = 1500\n",
    "\n",
    "days = cftime.datetime(year, month, day, calendar='standard').daysinmonth\n",
    "print(f\"standard calendar: \\t\\t\\t\\t month {month} in {year} has {days} days\")\n",
    "\n",
    "days = cftime.datetime(year, month, day, calendar='proleptic_gregorian').daysinmonth\n",
    "print(f\"proleptic Gregorian calendar: \\t month {month} in {year} has {days} days\")\n",
    "\n",
    "days = cftime.datetime(year, month, day, calendar='julian').daysinmonth\n",
    "print(f\"Julian calendar: \\t\\t\\t\\t month {month} in {year} has {days} days\")\n",
    "\n",
    "days = cftime.datetime(year, month, day, calendar='360_day').daysinmonth\n",
    "print(f\"360 day calendar: \\t\\t\\t\\t month {month} in {year} has {days} days\")"
   ]
  },
  {
   "cell_type": "markdown",
   "metadata": {},
   "source": [
    "### Differences between `cftime` and NCL's `days_in_month`\n",
    "\n",
    "#### Calendars\n",
    "The calendars available in `cftime` and NCL's `days_in_month`, while both based on the CF Conventions calendars, are slightly different.\n",
    "\n",
    "- `cftime` does support using `\"none\"` as a calendar type, but not for this particular function. \n",
    "- NCL's `days_in_month` does not support the `proleptic_gregorian` calendar.\n",
    "\n",
    "#### Numerical Differences\n",
    "Additionally, the `\"standard\"` and `\"gregorian\"` calendars seem to disagree for some historical dates.\n",
    "\n",
    "#### Input type\n",
    "Notably, using `cftime` to calculate the number of days in a month works by getting a `daysinmonth` value from a `cftime.datetime` object, which means that the calculations for days in a month have to be collected through each date individually, while NCL's `days_in_month` can take in multidimensional integer arrays, given that the `year` and `month` arrays have the same dimensions."
   ]
  },
  {
   "cell_type": "markdown",
   "metadata": {},
   "source": [
    "## Python Resources\n",
    "- The `datetime` module [documentation](https://docs.python.org/3/library/datetime.html)\n",
    "- The `cftime.datetime` [documentation](https://unidata.github.io/cftime/api.html#cftime.datetime)\n",
    "- The [time series data](https://docs.xarray.dev/en/stable/user-guide/time-series.html) section of the Xarray documentation for working with time series data in Xarray\n",
    "- [Working with Dates and Times](https://ncar.github.io/geocat-applications/applications/date_time/datetime.html) GeoCAT Applications notebook"
   ]
  }
 ],
 "metadata": {
  "kernelspec": {
   "display_name": "Python 3 (ipykernel)",
   "language": "python",
   "name": "python3"
  },
  "language_info": {
   "codemirror_mode": {
    "name": "ipython",
    "version": 3
   },
   "file_extension": ".py",
   "mimetype": "text/x-python",
   "name": "python",
   "nbconvert_exporter": "python",
   "pygments_lexer": "ipython3",
   "version": "3.12.7"
  }
 },
 "nbformat": 4,
 "nbformat_minor": 4
}
