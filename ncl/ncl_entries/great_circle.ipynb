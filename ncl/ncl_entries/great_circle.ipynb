{
 "cells": [
  {
   "cell_type": "markdown",
   "metadata": {},
   "source": [
    "# Great Circle\n"
   ]
  },
  {
   "cell_type": "markdown",
   "metadata": {},
   "source": [
    "## Overview\n",
    "\n",
    "This section covers great circle functions from NCL:\n",
    "\n",
    "- [area_poly_sphere](https://www.ncl.ucar.edu/Document/Functions/Built-in/area_poly_sphere.shtml)\n",
    "- [css2c](https://www.ncl.ucar.edu/Document/Functions/Built-in/css2c.shtml)\n",
    "- [csc2s](https://www.ncl.ucar.edu/Document/Functions/Built-in/csc2s.shtml)\n",
    "- [gc_clkwise](https://www.ncl.ucar.edu/Document/Functions/Built-in/gc_clkwise.shtml)"
   ]
  },
  {
   "cell_type": "markdown",
   "metadata": {},
   "source": [
    "## area_poly_sphere\n",
    "NCL's `area_poly_sphere` calculates the area enclosed by an arbitrary polygon on the sphere\n",
    "\n",
    "<div class=\"admonition alert alert-info\">\n",
    "    <p class=\"admonition-title\" style=\"font-weight:bold\">Important Note</p>\n",
    "    Coordinates should be within the valid latitude/longitude range (-90° to 90° and -180° to 180°) and be in clockwise order\n",
    "</div>\n",
    "\n",
    "Due to the shape of the Earth, the radius varies, but can be assumed to be a unit sphere with a radius of 6370997 m (based on the Clarke 1866 Authalic Sphere{footcite}`usgs_1987` model)"
   ]
  },
  {
   "cell_type": "markdown",
   "metadata": {},
   "source": [
    "### Grab and Go"
   ]
  },
  {
   "cell_type": "code",
   "execution_count": null,
   "metadata": {},
   "outputs": [],
   "source": [
    "from pyproj import Geod\n",
    "\n",
    "# Points in clockise order: Boulder, Boston, Houston\n",
    "latitudes = [40.0150, 42.3601, 29.5518]  # degrees\n",
    "longitudes = [-105.2705, -71.0589, -95.0982]  # degrees\n",
    "\n",
    "geod = Geod(ellps=\"sphere\")  # radius = 6370997 m\n",
    "poly_area_m, _ = geod.polygon_area_perimeter(longitudes, latitudes)\n",
    "poly_area_km2 = abs(poly_area_m) * 1e-6\n",
    "poly_area_km2"
   ]
  },
  {
   "cell_type": "markdown",
   "metadata": {},
   "source": [
    "## css2c\n",
    "NCL's `css2c` converts spherical (latitude/longitude) coordinates to Cartesian coordinates on a unit sphere"
   ]
  },
  {
   "cell_type": "markdown",
   "metadata": {},
   "source": [
    "### Grab and Go"
   ]
  },
  {
   "cell_type": "code",
   "execution_count": null,
   "metadata": {},
   "outputs": [],
   "source": [
    "from astropy.coordinates.representation import UnitSphericalRepresentation\n",
    "from astropy import units\n",
    "\n",
    "lat = 40.0150\n",
    "lon = -105.2705\n",
    "\n",
    "spherical_coords = UnitSphericalRepresentation(lat=lat * units.deg, lon=lon * units.deg)\n",
    "cart_coords = spherical_coords.to_cartesian()\n",
    "print(f\"X = {cart_coords.x.value}\")\n",
    "print(f\"Y = {cart_coords.y.value}\")\n",
    "print(f\"Z = {cart_coords.z.value}\")"
   ]
  },
  {
   "cell_type": "markdown",
   "metadata": {},
   "source": [
    "## csc2s\n",
    "NCL's `csc2s` converts Cartesian coordinates to spherical (latitude/longitude) coordinates on a unit sphere"
   ]
  },
  {
   "cell_type": "markdown",
   "metadata": {},
   "source": [
    "### Grab and Go"
   ]
  },
  {
   "cell_type": "code",
   "execution_count": null,
   "metadata": {},
   "outputs": [],
   "source": [
    "from astropy.coordinates.representation import (\n",
    "    CartesianRepresentation,\n",
    "    SphericalRepresentation,\n",
    ")\n",
    "import numpy as np\n",
    "\n",
    "x = -0.20171369272651396\n",
    "y = -0.7388354627678497\n",
    "z = 0.6429881376224998\n",
    "\n",
    "cart_coords = CartesianRepresentation(x=x, y=y, z=z)\n",
    "spherical_coords = cart_coords.represent_as(SphericalRepresentation)\n",
    "\n",
    "# convert latitude/longitude from radians to degrees\n",
    "lat_deg = np.rad2deg(spherical_coords.lat.value)\n",
    "lon_deg = (\n",
    "    np.rad2deg(spherical_coords.lon.value) + 180\n",
    ") % 360 - 180  # keep longitude between -180 to 180\n",
    "\n",
    "print(f\"Latitude = {lat_deg}\")\n",
    "print(f\"Longitude = {lon_deg}\")"
   ]
  },
  {
   "cell_type": "markdown",
   "metadata": {},
   "source": [
    "## gc_clkwise\n",
    "NCL's `gc_clkwise` returns True/False if the ordering of points on the spherical polygon are in a clockwise direction (True) or counterclockwise (False)\n",
    "\n",
    "The shoelace formula (Gauss' area formula or surveyor's formula)"
   ]
  },
  {
   "cell_type": "markdown",
   "metadata": {},
   "source": [
    "### Grab and Go"
   ]
  },
  {
   "cell_type": "code",
   "execution_count": 36,
   "metadata": {},
   "outputs": [],
   "source": [
    "# Shoelace Formula for Signed Polygon Area\n",
    "import numpy as np\n",
    "\n",
    "def is_clockwise(pt_lst=None):\n",
    "    # positive = clockwise, negative = counterclockwise\n",
    "    lat = pt_lst[:,0] # X\n",
    "    lon = pt_lst[:,1] # Y\n",
    "    i = np.arange(len(lat))\n",
    "    area = np.sum((lat[i-1]*lon[i]-lat[i]*lon[i-1])*0.5)\n",
    "    if area > 0:\n",
    "        # clockwise -> postive\n",
    "        return True\n",
    "    if area <= 0:\n",
    "        # counterclockwise -> negative\n",
    "        # co-linear -> zero\n",
    "        return False"
   ]
  },
  {
   "cell_type": "code",
   "execution_count": 37,
   "metadata": {},
   "outputs": [
    {
     "data": {
      "text/plain": [
       "True"
      ]
     },
     "execution_count": 37,
     "metadata": {},
     "output_type": "execute_result"
    }
   ],
   "source": [
    "# Clockwise -> True\n",
    "\n",
    "# Boulder, Boston, Houston\n",
    "pts = np.array([(40.0150, -105.2705),\n",
    "               (42.3601, -71.0589),\n",
    "               (29.5518, -95.0982)])\n",
    "\n",
    "is_clockwise(pts)"
   ]
  },
  {
   "cell_type": "code",
   "execution_count": 40,
   "metadata": {},
   "outputs": [
    {
     "data": {
      "text/plain": [
       "False"
      ]
     },
     "execution_count": 40,
     "metadata": {},
     "output_type": "execute_result"
    }
   ],
   "source": [
    "# Counterclockwise -> False\n",
    "\n",
    "# Houston, Boston, Boulder\n",
    "pts = np.array([(29.5518, -95.0982),\n",
    "               (42.3601, -71.0589),\n",
    "               (40.0150, -105.2705)])\n",
    "\n",
    "is_clockwise(pts)"
   ]
  },
  {
   "cell_type": "code",
   "execution_count": 42,
   "metadata": {},
   "outputs": [
    {
     "data": {
      "text/plain": [
       "False"
      ]
     },
     "execution_count": 42,
     "metadata": {},
     "output_type": "execute_result"
    }
   ],
   "source": [
    "# Co-linear -> False\n",
    "\n",
    "# Boulder and two points at higher latitude\n",
    "pts = np.array([(42.3601, -71.0589),\n",
    "               (43.3601, -71.0589),\n",
    "               (44.3601, -71.0589)])\n",
    "\n",
    "is_clockwise(pts)"
   ]
  },
  {
   "cell_type": "markdown",
   "metadata": {},
   "source": [
    "---"
   ]
  },
  {
   "cell_type": "markdown",
   "metadata": {},
   "source": [
    "## Python Resources\n",
    "- [pyroj.geod() great circle computations](https://pyproj4.github.io/pyproj/stable/api/geod.html)\n",
    "- [Astropy Coordinate Systems](https://docs.astropy.org/en/stable/coordinates/representations.html)\n",
    "\n",
    "## Additional Reading\n",
    "- [Aviation Formulary for working with great circles](https://www.edwilliams.org/avform147.htm)"
   ]
  },
  {
   "cell_type": "markdown",
   "metadata": {},
   "source": [
    "## References:\n",
    "\n",
    "```{footbibliography}\n",
    "```"
   ]
  }
 ],
 "metadata": {
  "kernelspec": {
   "display_name": "Python 3 (ipykernel)",
   "language": "python",
   "name": "python3"
  },
  "language_info": {
   "codemirror_mode": {
    "name": "ipython",
    "version": 3
   },
   "file_extension": ".py",
   "mimetype": "text/x-python",
   "name": "python",
   "nbconvert_exporter": "python",
   "pygments_lexer": "ipython3",
   "version": "3.12.9"
  }
 },
 "nbformat": 4,
 "nbformat_minor": 4
}
