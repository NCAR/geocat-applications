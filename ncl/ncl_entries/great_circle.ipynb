{
 "cells": [
  {
   "cell_type": "markdown",
   "metadata": {},
   "source": [
    "# Great Circle\n"
   ]
  },
  {
   "cell_type": "markdown",
   "metadata": {},
   "source": [
    "## Overview\n",
    "\n",
    "This section covers great circle functions from NCL:\n",
    "\n",
    "- [area_poly_sphere](https://www.ncl.ucar.edu/Document/Functions/Built-in/area_poly_sphere.shtml)\n",
    "- [css2c](https://www.ncl.ucar.edu/Document/Functions/Built-in/css2c.shtml)\n",
    "- [csc2s](https://www.ncl.ucar.edu/Document/Functions/Built-in/csc2s.shtml)"
   ]
  },
  {
   "cell_type": "markdown",
   "metadata": {},
   "source": [
    "## area_poly_sphere\n",
    "NCL's `area_poly_sphere` calculates the area enclosed by an arbitrary polygon on the sphere\n",
    "\n",
    "<div class=\"admonition alert alert-info\">\n",
    "    <p class=\"admonition-title\" style=\"font-weight:bold\">Important Note</p>\n",
    "    Coordinates should be within the valid latitude/longitude range (-90° to 90° and -180° to 180°) and be in clockwise order\n",
    "</div>\n",
    "\n",
    "Due to the shape of the Earth, the radius varies, but can be assumed to be a unit sphere with a radius of 6370997 m (based on the Clarke 1866 Authalic Sphere{footcite}`usgs_1987` model)"
   ]
  },
  {
   "cell_type": "markdown",
   "metadata": {},
   "source": [
    "### Grab and Go"
   ]
  },
  {
   "cell_type": "code",
   "execution_count": 1,
   "metadata": {},
   "outputs": [
    {
     "data": {
      "text/plain": [
       "1940855.984630871"
      ]
     },
     "execution_count": 1,
     "metadata": {},
     "output_type": "execute_result"
    }
   ],
   "source": [
    "from pyproj import Geod\n",
    "\n",
    "# Points in clockise order: Boulder, Boston, Houston\n",
    "latitudes = [40.0150, 42.3601, 29.5518]  # degrees\n",
    "longitudes = [-105.2705, -71.0589, -95.0982]  # degrees\n",
    "\n",
    "geod = Geod(ellps=\"sphere\")  # radius = 6370997 m\n",
    "poly_area_m, _ = geod.polygon_area_perimeter(longitudes, latitudes)\n",
    "poly_area_km2 = abs(poly_area_m) * 1e-6\n",
    "poly_area_km2"
   ]
  },
  {
   "cell_type": "markdown",
   "metadata": {},
   "source": [
    "## css2c\n",
    "NCL's `css2c` converts spherical (latitude/longitude) coordinates to Cartesian coordinates on a unit sphere"
   ]
  },
  {
   "cell_type": "markdown",
   "metadata": {},
   "source": [
    "### Grab and Go"
   ]
  },
  {
   "cell_type": "code",
   "execution_count": 2,
   "metadata": {},
   "outputs": [
    {
     "name": "stdout",
     "output_type": "stream",
     "text": [
      "X = -0.20171369272651396\n",
      "Y = -0.7388354627678497\n",
      "Z = 0.6429881376224998\n"
     ]
    }
   ],
   "source": [
    "from astropy.coordinates.representation import UnitSphericalRepresentation\n",
    "from astropy import units\n",
    "\n",
    "lat = 40.0150\n",
    "lon = -105.2705\n",
    "\n",
    "spherical_coords = UnitSphericalRepresentation(lat=lat * units.deg, lon=lon * units.deg)\n",
    "cart_coords = spherical_coords.to_cartesian()\n",
    "print(f\"X = {cart_coords.x.value}\")\n",
    "print(f\"Y = {cart_coords.y.value}\")\n",
    "print(f\"Z = {cart_coords.z.value}\")"
   ]
  },
  {
   "cell_type": "markdown",
   "metadata": {},
   "source": [
    "## csc2s\n",
    "NCL's `csc2s` converts Cartesian coordaintes to spherical (latitude/longitude) coordinates on a unit sphere"
   ]
  },
  {
   "cell_type": "markdown",
   "metadata": {},
   "source": [
    "### Grab and Go"
   ]
  },
  {
   "cell_type": "code",
   "execution_count": 3,
   "metadata": {},
   "outputs": [
    {
     "name": "stdout",
     "output_type": "stream",
     "text": [
      "Latitude = 40.015\n",
      "Longitude = -105.27049999999997\n"
     ]
    }
   ],
   "source": [
    "from astropy.coordinates.representation import CartesianRepresentation, SphericalRepresentation\n",
    "import numpy as np\n",
    "\n",
    "x = -0.20171369272651396\n",
    "y = -0.7388354627678497\n",
    "z = 0.6429881376224998\n",
    "\n",
    "cart_coords = CartesianRepresentation(x=x, y=y, z=z)\n",
    "spherical_coords = cart_coords.represent_as(SphericalRepresentation)\n",
    "\n",
    "# convert latitude/longitude from radians to degrees\n",
    "lat_deg = np.rad2deg(spherical_coords.lat.value)\n",
    "lon_deg = (np.rad2deg(spherical_coords.lon.value) + 180) % 360 - 180 # keep longitude between -180 to 180\n",
    "\n",
    "print(f\"Latitude = {lat_deg}\")\n",
    "print(f\"Longitude = {lon_deg}\")"
   ]
  },
  {
   "cell_type": "markdown",
   "metadata": {},
   "source": [
    "---"
   ]
  },
  {
   "cell_type": "markdown",
   "metadata": {},
   "source": [
    "## Python Resources\n",
    "- [pyroj.geod() great circle computations](https://pyproj4.github.io/pyproj/stable/api/geod.html)\n",
    "- [Astropy Coordinate Systems](https://docs.astropy.org/en/stable/coordinates/representations.html)\n",
    "\n",
    "## Additional Reading\n",
    "- [Aviation Formulary for working with great circles](https://www.edwilliams.org/avform147.htm)"
   ]
  },
  {
   "cell_type": "markdown",
   "metadata": {},
   "source": [
    "## References:\n",
    "\n",
    "```{footbibliography}\n",
    "```"
   ]
  }
 ],
 "metadata": {
  "kernelspec": {
   "display_name": "Python 3 (ipykernel)",
   "language": "python",
   "name": "python3"
  },
  "language_info": {
   "codemirror_mode": {
    "name": "ipython",
    "version": 3
   },
   "file_extension": ".py",
   "mimetype": "text/x-python",
   "name": "python",
   "nbconvert_exporter": "python",
   "pygments_lexer": "ipython3",
   "version": "3.12.7"
  }
 },
 "nbformat": 4,
 "nbformat_minor": 4
}
