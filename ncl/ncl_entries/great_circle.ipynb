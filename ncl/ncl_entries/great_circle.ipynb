{
 "cells": [
  {
   "cell_type": "markdown",
   "metadata": {},
   "source": [
    "# Great Circle\n"
   ]
  },
  {
   "cell_type": "markdown",
   "metadata": {},
   "source": [
    "## Overview\n",
    "\n",
    "This section covers great circle functions from NCL:\n",
    "\n",
    "- [area_poly_sphere](https://www.ncl.ucar.edu/Document/Functions/Built-in/area_poly_sphere.shtml)\n",
    "- [css2c](https://www.ncl.ucar.edu/Document/Functions/Built-in/css2c.shtml)\n",
    "- [csc2s](https://www.ncl.ucar.edu/Document/Functions/Built-in/csc2s.shtml)\n",
    "- [gc_onarc](https://www.ncl.ucar.edu/Document/Functions/Built-in/gc_onarc.shtml)\n",
    "- [gc_qarea](https://www.ncl.ucar.edu/Document/Functions/Built-in/gc_qarea.shtml)"
   ]
  },
  {
   "cell_type": "markdown",
   "metadata": {},
   "source": [
    "## area_poly_sphere\n",
    "NCL's `area_poly_sphere` calculates the area enclosed by an arbitrary polygon on the sphere\n",
    "\n",
    "<div class=\"admonition alert alert-info\">\n",
    "    <p class=\"admonition-title\" style=\"font-weight:bold\">Important Note</p>\n",
    "    Coordinates should be within the valid latitude/longitude range (-90° to 90° and -180° to 180°) and be in clockwise order\n",
    "</div>\n",
    "\n",
    "Due to the shape of the Earth, the radius varies, but can be assumed to be a unit sphere with a radius of 6370997 m (based on the Clarke 1866 Authalic Sphere{footcite}`usgs_1987` model)"
   ]
  },
  {
   "cell_type": "markdown",
   "metadata": {},
   "source": [
    "### Grab and Go"
   ]
  },
  {
   "cell_type": "code",
   "execution_count": null,
   "metadata": {},
   "outputs": [],
   "source": [
    "from pyproj import Geod\n",
    "\n",
    "# Points in clockise order: Boulder, Boston, Houston\n",
    "latitudes = [40.0150, 42.3601, 29.5518]  # degrees\n",
    "longitudes = [-105.2705, -71.0589, -95.0982]  # degrees\n",
    "\n",
    "geod = Geod(ellps=\"sphere\")  # radius = 6370997 m\n",
    "poly_area_m, _ = geod.polygon_area_perimeter(longitudes, latitudes)\n",
    "poly_area_km2 = abs(poly_area_m) * 1e-6\n",
    "poly_area_km2"
   ]
  },
  {
   "cell_type": "markdown",
   "metadata": {},
   "source": [
    "## css2c\n",
    "NCL's `css2c` converts spherical (latitude/longitude) coordinates to Cartesian coordinates on a unit sphere"
   ]
  },
  {
   "cell_type": "markdown",
   "metadata": {},
   "source": [
    "### Grab and Go"
   ]
  },
  {
   "cell_type": "code",
   "execution_count": null,
   "metadata": {},
   "outputs": [],
   "source": [
    "from astropy.coordinates.representation import UnitSphericalRepresentation\n",
    "from astropy import units\n",
    "\n",
    "lat = 40.0150\n",
    "lon = -105.2705\n",
    "\n",
    "spherical_coords = UnitSphericalRepresentation(lat=lat * units.deg, lon=lon * units.deg)\n",
    "cart_coords = spherical_coords.to_cartesian()\n",
    "print(f\"X = {cart_coords.x.value}\")\n",
    "print(f\"Y = {cart_coords.y.value}\")\n",
    "print(f\"Z = {cart_coords.z.value}\")"
   ]
  },
  {
   "cell_type": "markdown",
   "metadata": {},
   "source": [
    "## csc2s\n",
    "NCL's `csc2s` converts Cartesian coordinates to spherical (latitude/longitude) coordinates on a unit sphere"
   ]
  },
  {
   "cell_type": "markdown",
   "metadata": {},
   "source": [
    "### Grab and Go"
   ]
  },
  {
   "cell_type": "code",
   "execution_count": null,
   "metadata": {},
   "outputs": [],
   "source": [
    "from astropy.coordinates.representation import (\n",
    "    CartesianRepresentation,\n",
    "    SphericalRepresentation,\n",
    ")\n",
    "import numpy as np\n",
    "\n",
    "x = -0.20171369272651396\n",
    "y = -0.7388354627678497\n",
    "z = 0.6429881376224998\n",
    "\n",
    "cart_coords = CartesianRepresentation(x=x, y=y, z=z)\n",
    "spherical_coords = cart_coords.represent_as(SphericalRepresentation)\n",
    "\n",
    "# convert latitude/longitude from radians to degrees\n",
    "lat_deg = np.rad2deg(spherical_coords.lat.value)\n",
    "lon_deg = (\n",
    "    np.rad2deg(spherical_coords.lon.value) + 180\n",
    ") % 360 - 180  # keep longitude between -180 to 180\n",
    "\n",
    "print(f\"Latitude = {lat_deg}\")\n",
    "print(f\"Longitude = {lon_deg}\")"
   ]
  },
  {
   "cell_type": "markdown",
   "metadata": {},
   "source": [
    "## gc_onarc\n",
    "NCL's `gc_onarc` determines if a point on the globe lies on a specified great circle arc as long as the angle between the two points along the great circle arc is not exactly 180 degrees (diametrically opposite, or antipodal)."
   ]
  },
  {
   "cell_type": "markdown",
   "metadata": {},
   "source": [
    "### Grab and Go"
   ]
  },
  {
   "cell_type": "code",
   "execution_count": null,
   "metadata": {},
   "outputs": [],
   "source": [
    "import numpy as np\n",
    "\n",
    "\n",
    "# Convert latitude and longitude points to Cartesian Points (see: css2c)\n",
    "def latlon_to_cart(lat, lon):\n",
    "    from astropy.coordinates.representation import UnitSphericalRepresentation\n",
    "    from astropy import units\n",
    "\n",
    "    spherical_coords = UnitSphericalRepresentation(\n",
    "        lat=lat * units.deg, lon=lon * units.deg\n",
    "    )\n",
    "    cart_coords = spherical_coords.to_cartesian()\n",
    "    return np.array([cart_coords.x, cart_coords.y, cart_coords.z])\n",
    "\n",
    "\n",
    "pt_within = latlon_to_cart(40.0150, -105.2705)  # Boulder\n",
    "vertex_a = latlon_to_cart(50.0150, -105.2705)  # Point exactly 10 degrees above Boulder\n",
    "vertex_b = latlon_to_cart(30.0150, -105.2705)  # Point exactly 10 degrees below Boulder\n",
    "\n",
    "# Determine if point lies along great circle arc\n",
    "from uxarray.grid.arcs import point_within_gca\n",
    "\n",
    "print(\n",
    "    f\"Boulder lies within the great circle arc = {point_within_gca(pt_within, vertex_a, vertex_b)}\"\n",
    ")"
   ]
  },
  {
   "cell_type": "markdown",
   "metadata": {},
   "source": [
    "## gc_qarea\n",
    "NCL's `gc_qarea` calculates the area of a (four-sided) quadrilateral patch on the unit sphere\n",
    "\n",
    "<div class=\"admonition alert alert-info\">\n",
    "    <p class=\"admonition-title\" style=\"font-weight:bold\">Important Note</p>\n",
    "    Coordinates should be within the valid latitude/longitude range (-90° to 90° and -180° to 180°) and be in clockwise or counter-clockwise order\n",
    "</div>"
   ]
  },
  {
   "cell_type": "markdown",
   "metadata": {},
   "source": [
    "### Grab and Go"
   ]
  },
  {
   "cell_type": "markdown",
   "metadata": {},
   "source": [
    "#### Area on the unit sphere\n",
    "\n",
    "NCL's `gc_qarea` function finds the area of a quadrilateral patch on the unit sphere, a sphere with radius of 1"
   ]
  },
  {
   "cell_type": "code",
   "execution_count": null,
   "metadata": {},
   "outputs": [],
   "source": [
    "# Unit Sphere radius = 1\n",
    "from pyproj import Geod\n",
    "\n",
    "# Points in clockise order\n",
    "latitudes = [90.0, 0.0, -90.0, 0.0]\n",
    "longitudes = [0.0, -90.0, 0.0, 90.0]\n",
    "\n",
    "# Ellipsoid equatorial radius (semi-major axis)\n",
    "radius = 1\n",
    "\n",
    "geod = Geod(a=radius)\n",
    "poly_area, _ = geod.polygon_area_perimeter(longitudes, latitudes)\n",
    "poly_area = abs(poly_area)\n",
    "poly_area"
   ]
  },
  {
   "cell_type": "markdown",
   "metadata": {},
   "source": [
    "#### Earth Radius on a Unit Sphere\n",
    "\n",
    "`pyproj` includes [additional ellipsoid options](https://proj.org/en/stable/usage/ellipsoids.html#built-in-ellipsoid-definitions), but the ellipsoid `sphere` treats the Earth as a sphere with an equal radius of 6370997 meters"
   ]
  },
  {
   "cell_type": "code",
   "execution_count": null,
   "metadata": {},
   "outputs": [],
   "source": [
    "# Unit Sphere for the Earth: radius = 6370997 m\n",
    "from pyproj import Geod\n",
    "\n",
    "# Points in clockise order: Roughly Four Corners of Colorado\n",
    "latitudes = [41.00488, 41.00203, 37.00540, 37.00051]  # degrees\n",
    "longitudes = [-109.05001, -102.05348, -103.04633, -109.04720]  # degrees\n",
    "\n",
    "geod = Geod(ellps=\"sphere\")  # radius = 6370997 m\n",
    "poly_area_m, _ = geod.polygon_area_perimeter(longitudes, latitudes)\n",
    "poly_area_km2 = abs(poly_area_m) * 1e-6\n",
    "poly_area_km2"
   ]
  },
  {
   "cell_type": "markdown",
   "metadata": {},
   "source": [
    "---"
   ]
  },
  {
   "cell_type": "markdown",
   "metadata": {},
   "source": [
    "## Python Resources\n",
    "- [pyroj.geod() great circle computations](https://pyproj4.github.io/pyproj/stable/api/geod.html)\n",
    "- [Astropy Coordinate Systems](https://docs.astropy.org/en/stable/coordinates/representations.html)\n",
    "\n",
    "## Additional Reading\n",
    "- [Aviation Formulary for working with great circles](https://www.edwilliams.org/avform147.htm)"
   ]
  },
  {
   "cell_type": "markdown",
   "metadata": {},
   "source": [
    "## References:\n",
    "\n",
    "```{footbibliography}\n",
    "```"
   ]
  }
 ],
 "metadata": {
  "kernelspec": {
   "display_name": "Python 3 (ipykernel)",
   "language": "python",
   "name": "python3"
  },
  "language_info": {
   "codemirror_mode": {
    "name": "ipython",
    "version": 3
   },
   "file_extension": ".py",
   "mimetype": "text/x-python",
   "name": "python",
   "nbconvert_exporter": "python",
   "pygments_lexer": "ipython3",
   "version": "3.12.9"
  }
 },
 "nbformat": 4,
 "nbformat_minor": 4
}
