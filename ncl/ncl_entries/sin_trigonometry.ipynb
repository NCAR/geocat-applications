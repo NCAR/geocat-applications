{
 "cells": [
  {
   "cell_type": "markdown",
   "id": "e630c395-5419-4786-84fe-94bc0f0abbdc",
   "metadata": {},
   "source": [
    "# sin"
   ]
  },
  {
   "cell_type": "markdown",
   "id": "b369aa9f-bc82-4d84-9390-c8fed479b9c6",
   "metadata": {},
   "source": [
    "## Overview\n",
    "\n",
    "NCL's `sin` calculates the sin of numeric values in radians. Sin is a trigonometric function equal to the opposite side of a right triangle and divided by the hypotenuse\n",
    "\n",
    "```\n",
    "sin(Θ) = length of opposite side / length of hypotenuse\n",
    "```"
   ]
  },
  {
   "cell_type": "markdown",
   "id": "0f1181ae-407a-4dd8-83c2-9bbc629106a4",
   "metadata": {},
   "source": [
    "## Grab and Go"
   ]
  },
  {
   "cell_type": "code",
   "execution_count": 19,
   "id": "43e50fa9-091d-451e-90af-22468eb13d8d",
   "metadata": {},
   "outputs": [
    {
     "name": "stdout",
     "output_type": "stream",
     "text": [
      "0.479425538604203\n"
     ]
    }
   ],
   "source": [
    "import math\n",
    "\n",
    "value = 0.5  # in radians\n",
    "sin_value = math.sin(value)\n",
    "print(sin_value)"
   ]
  },
  {
   "cell_type": "markdown",
   "id": "0d460cdf-cf91-4ad4-8ea1-872a15cc2926",
   "metadata": {},
   "source": [
    "## Sin in Python\n",
    "\n",
    "Sin is both a built-in function in Python (that requires no additional packages) as well as part of the common Python package Numpy\n",
    "\n",
    "- Built-in Math Module\n",
    "- Numpy Sin Module"
   ]
  },
  {
   "cell_type": "markdown",
   "id": "fd87eed0-c2ea-4b7c-97c4-1f8f0bc22c6a",
   "metadata": {},
   "source": [
    "## Using the `math` module\n",
    "\n",
    "The [`math`](https://docs.python.org/3/library/math.html#math.sin) module is a part of the Python Standard Library and can be used to calculate the value of `sin`\n",
    "\n",
    "When working with sin in Python, the input value is in radians\n",
    "\n",
    "- Input: single input values (float, decimals, integars)\n",
    "- Returns: the sin of inputs in radians"
   ]
  },
  {
   "cell_type": "code",
   "execution_count": 20,
   "id": "6966eb6b-1861-4084-bcf9-9fe91c75aa3e",
   "metadata": {},
   "outputs": [
    {
     "name": "stdout",
     "output_type": "stream",
     "text": [
      "0.479425538604203\n"
     ]
    }
   ],
   "source": [
    "import math\n",
    "\n",
    "value = 0.5  # radians\n",
    "math_sin_value = math.sin(value)\n",
    "print(math_sin_value)"
   ]
  },
  {
   "cell_type": "markdown",
   "id": "237f8b2f-e443-4dec-afd0-55ee6abfda4b",
   "metadata": {},
   "source": [
    "However, the `math.sin` function only work on single real number inputs. If you need to work with lists, arrays, or dataframes, `math.sin` will not be sufficient"
   ]
  },
  {
   "cell_type": "markdown",
   "id": "42cd2476-00a3-4f29-a8be-ab19af9f5c69",
   "metadata": {},
   "source": [
    "## Using `numpy`\n",
    "\n",
    "[`numpy.sin`](https://numpy.org/doc/stable/reference/generated/numpy.sin.html) supports input values of indivivual numbers (floats, decimals, integars) as well as array-like values (arrays, lists, etc...)\n",
    "\n",
    "When working with sine in Numpy, the input value is in radians.\n",
    "\n",
    "- Input: array_list values (floats, integars, arrays, lists, etc..)\n",
    "- Returns: the sin of each element of the input in radians"
   ]
  },
  {
   "cell_type": "code",
   "execution_count": 21,
   "id": "e6352b3b-57c1-456c-806f-39fc132d2a1d",
   "metadata": {},
   "outputs": [
    {
     "name": "stdout",
     "output_type": "stream",
     "text": [
      "0.479425538604203\n"
     ]
    }
   ],
   "source": [
    "# Input: Single Value\n",
    "import numpy as np\n",
    "\n",
    "value = 0.5  # radians\n",
    "np_sin_value = np.sin(value)\n",
    "print(np_sin_value)"
   ]
  },
  {
   "cell_type": "code",
   "execution_count": 22,
   "id": "c4e73813-067c-425d-8a31-35d894d9e199",
   "metadata": {},
   "outputs": [
    {
     "name": "stdout",
     "output_type": "stream",
     "text": [
      "[0.47942554 0.84147098 0.99749499]\n"
     ]
    }
   ],
   "source": [
    "# Input: List\n",
    "import numpy as np\n",
    "\n",
    "values = [0.5, 1.0, 1.5]\n",
    "np_sin_list_values = np.sin(values)\n",
    "print(np_sin_list_values)"
   ]
  },
  {
   "cell_type": "code",
   "execution_count": 23,
   "id": "5008e1ac-4988-41e5-bef3-4d60fce22ef8",
   "metadata": {},
   "outputs": [
    {
     "name": "stdout",
     "output_type": "stream",
     "text": [
      "[0.47942554 0.84147098 0.99749499]\n"
     ]
    }
   ],
   "source": [
    "# Input: Array\n",
    "import numpy as np\n",
    "\n",
    "values = np.array([0.5, 1.0, 1.5])\n",
    "np_sin_array_values = np.sin(values)\n",
    "print(np_sin_array_values)"
   ]
  },
  {
   "cell_type": "markdown",
   "id": "ee3b3ef5-32c3-40c4-9f58-4cdfb7504fee",
   "metadata": {},
   "source": [
    "## Differences between `math.sin`/`numpy.sin` and NCL's `sin`"
   ]
  },
  {
   "cell_type": "markdown",
   "id": "4a671627-ddc3-4936-b8a7-9e00ec821a24",
   "metadata": {
    "jp-MarkdownHeadingCollapsed": true
   },
   "source": [
    "### Numerical Differences\n",
    "\n",
    "Both `math.sin` and `numpy.sin` return values with more points of precision than NCL's sin.\n",
    "\n",
    "```\n",
    "NCL sin    = 0.4794255\n",
    "math.sin   = 0.479425538604203\n",
    "numpy.sin  = 0.479425538604203\n",
    "```\n",
    "### Input Type\n",
    "While `math.sin` only accepts single numerical values, like NCL, `numpy.sin` can take in either single numerical values or array-like values"
   ]
  },
  {
   "cell_type": "markdown",
   "id": "ea71d621-707b-402a-83b7-b72b87cdc869",
   "metadata": {},
   "source": [
    "## Python Resources\n",
    "\n",
    "- The [`math`](https://docs.python.org/3/library/math.html#math.sin) module documentation\n",
    "- The [`numpy.sin`](https://numpy.org/doc/stable/reference/generated/numpy.sin.html) documentation\n",
    "- Converting between radians and degrees with numpy\n",
    "  - [np.rad2deg](https://numpy.org/doc/stable/reference/generated/numpy.rad2deg.html): Convert angles from radians to degrees\n",
    "  - [np.deg2rad]((https://numpy.org/doc/stable/reference/generated/numpy.deg2rad.html): Convert angles from degrees to radians"
   ]
  },
  {
   "cell_type": "code",
   "execution_count": 24,
   "id": "a496ad9d-d54a-42e1-a25b-370e6f646706",
   "metadata": {},
   "outputs": [
    {
     "name": "stdout",
     "output_type": "stream",
     "text": [
      "0.6108652381980153\n"
     ]
    }
   ],
   "source": [
    "# EXAMPLE:degrees to radians because numpy/math expects a value in radians\n",
    "value_in_degrees = 35  # input in degrees\n",
    "value_in_radians = np.deg2rad(value_in_degrees)\n",
    "print(value_in_radians)  # output in radians"
   ]
  }
 ],
 "metadata": {
  "kernelspec": {
   "display_name": "Python 3 (ipykernel)",
   "language": "python",
   "name": "python3"
  },
  "language_info": {
   "codemirror_mode": {
    "name": "ipython",
    "version": 3
   },
   "file_extension": ".py",
   "mimetype": "text/x-python",
   "name": "python",
   "nbconvert_exporter": "python",
   "pygments_lexer": "ipython3",
   "version": "3.11.8"
  }
 },
 "nbformat": 4,
 "nbformat_minor": 5
}
