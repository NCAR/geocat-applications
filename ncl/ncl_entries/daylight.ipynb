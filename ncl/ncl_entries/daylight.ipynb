{
 "cells": [
  {
   "cell_type": "markdown",
   "metadata": {},
   "source": [
    "# daylight_fao56"
   ]
  },
  {
   "cell_type": "markdown",
   "metadata": {},
   "source": [
    "## Overview\n",
    "NCL's [`daylight_fao56`](https://www.ncl.ucar.edu/Document/Functions/Crop/daylight_fao56.shtml) calculate maximum number of daylight hours as described in the Food and Agriculture Organization (FAO) Irrigation and Drainage Paper 56 {footcite}`allan_fao_1998` [(Chapter 3, Equation 34)](https://www.fao.org/4/X0490E/x0490e07.htm#chapter%203%20%20%20meteorological%20data)  "
   ]
  },
  {
   "cell_type": "markdown",
   "metadata": {},
   "source": [
    "## Grab and Go"
   ]
  },
  {
   "cell_type": "code",
   "execution_count": 6,
   "metadata": {},
   "outputs": [
    {
     "data": {
      "text/plain": [
       "array([[11.66559195]])"
      ]
     },
     "execution_count": 6,
     "metadata": {},
     "output_type": "execute_result"
    }
   ],
   "source": [
    "# Input: Single Value\n",
    "from geocat.comp.meteorology import max_daylight\n",
    "\n",
    "day_of_year = 246  # Sept. 3\n",
    "latitude = -20  # 20 S Degrees\n",
    "\n",
    "max_daylight(day_of_year, latitude)"
   ]
  },
  {
   "cell_type": "code",
   "execution_count": 5,
   "metadata": {},
   "outputs": [
    {
     "data": {
      "text/plain": [
       "array([[11.92114937],\n",
       "       [14.84320154],\n",
       "       [11.92090136],\n",
       "       [ 9.15643116]])"
      ]
     },
     "execution_count": 5,
     "metadata": {},
     "output_type": "execute_result"
    }
   ],
   "source": [
    "# Input: List/Array\n",
    "from geocat.comp.meteorology import max_daylight\n",
    "\n",
    "# Spring Equinox (March 20), Summer Solstice (June 20), Autumn Equinox (Sept. 22), Winter Solstice (Dec. 21)\n",
    "days_of_year = [79, 171, 265, 355]\n",
    "latitudes = 40  # Boulder\n",
    "\n",
    "max_daylight(days_of_year, latitudes)"
   ]
  },
  {
   "cell_type": "markdown",
   "metadata": {},
   "source": [
    "---"
   ]
  },
  {
   "cell_type": "markdown",
   "metadata": {},
   "source": [
    "## Additional Resources\n",
    "- [Crop evapotranspiration - Guidelines for computing crop water requirements - FAO Irrigation and drainage paper 56](https://www.fao.org/4/X0490E/x0490e00.htm#Contents)\n",
    "- [GeoCAT-comp Documentation](https://geocat-comp.readthedocs.io/en/stable/)"
   ]
  },
  {
   "cell_type": "markdown",
   "metadata": {},
   "source": [
    "## References\n",
    "\n",
    "```{footbibliography}\n",
    "```"
   ]
  }
 ],
 "metadata": {
  "kernelspec": {
   "display_name": "Python 3 (ipykernel)",
   "language": "python",
   "name": "python3"
  },
  "language_info": {
   "codemirror_mode": {
    "name": "ipython",
    "version": 3
   },
   "file_extension": ".py",
   "mimetype": "text/x-python",
   "name": "python",
   "nbconvert_exporter": "python",
   "pygments_lexer": "ipython3",
   "version": "3.12.5"
  }
 },
 "nbformat": 4,
 "nbformat_minor": 4
}
