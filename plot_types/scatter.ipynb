{
 "cells": [
  {
   "cell_type": "markdown",
   "metadata": {},
   "source": [
    "# Scatter Plot\n",
    "\n",
    "A scatter plot typically displays two variables for a set of data. The resulting pattern can visualize statistical correlations in the data.\n",
    "\n",
    "In geoscience, a common application for scatter plots is weather station data, or any other geo-located data collection system such as tide guages. Stations have discrete and non-continuous data values, which makes them a good candidate for these kinds of plots. "
   ]
  },
  {
   "cell_type": "code",
   "execution_count": null,
   "metadata": {},
   "outputs": [],
   "source": [
    "import xarray as xr\n",
    "import cartopy.crs as ccrs\n",
    "import cartopy.feature as cfeature\n",
    "import matplotlib.pyplot as plt\n",
    "\n",
    "import geocat.datafiles as gdf"
   ]
  },
  {
   "cell_type": "markdown",
   "metadata": {},
   "source": [
    "## Get Station Dataset"
   ]
  },
  {
   "cell_type": "code",
   "execution_count": null,
   "metadata": {},
   "outputs": [],
   "source": [
    "# Use Xarray and GeoCAT datafiles to pull up a sample station dataset\n",
    "ds = xr.open_dataset(gdf.get(\"netcdf_files/95031800_sao.cdf\"),\n",
    "                     decode_times=False)\n",
    "\n",
    "# Get station lat and lon data, the `.isel()` here filters out NaNs.\n",
    "lat = ds.lat.isel()\n",
    "lon = ds.lon.isel()"
   ]
  },
  {
   "cell_type": "markdown",
   "metadata": {},
   "source": [
    "## Simple Scatter Plot\n",
    "\n",
    "The simplest way to create any scatter plot is simply to call up `plt.scatter(x, y)`.\n",
    "\n",
    "In this example we demonstrate:\n",
    "- setting the marker size with `s=10`,\n",
    "- the marker color with `c='blue'`,\n",
    "- the marker style with `marker='x'`,\n",
    "- and the marker linewidth with `linewidth=0.5`.\n",
    "\n",
    "Check out [Matplotlib's `scatter` documentation](https://matplotlib.org/stable/api/_as_gen/matplotlib.pyplot.scatter.html) to see all the keyword argument customization options available to you."
   ]
  },
  {
   "cell_type": "code",
   "execution_count": null,
   "metadata": {},
   "outputs": [],
   "source": [
    "# Generate figure (set its size (width, height) in inches)\n",
    "plt.figure(figsize=(8, 6))\n",
    "\n",
    "# Scatter-plot the location data\n",
    "plt.scatter(lon, lat, s=10, c='blue', marker='+', linewidth=0.5);"
   ]
  },
  {
   "cell_type": "markdown",
   "metadata": {},
   "source": [
    "## Scatter Plot with Cartopy\n",
    "\n",
    "The above plot accurately displays the data, but it doesn't look how we'd expect knowing that this is lat/lon data. To make our scatter plot on a map, we use Cartopy and select our desired projection.\n",
    "\n",
    "In the below example, we demonstrate adding Cartopy Plate Carree axes, land features, and lat-lon gridlines.\n",
    "\n",
    "One thing to note here, is the addition of the `zorder` kwarg in our land feature creation, gridlines, and scatter plot. If we're looking down at an x-y plot, the z axis points out of the screen, and `zorder` refers to how you'd like to stack these image layers. The lower the `zorder`, the closer to the back, and the higher the `zorder` the closer to the front. This ensures that our scatter points are not underneath our gridlines or land feature."
   ]
  },
  {
   "cell_type": "code",
   "execution_count": null,
   "metadata": {},
   "outputs": [],
   "source": [
    "# Generate figure (set its size (width, height) in inches) and axes using Cartopy projection\n",
    "plt.figure(figsize=(8, 6))\n",
    "\n",
    "# Generate axes using Cartopy\n",
    "ax = plt.axes(projection=ccrs.PlateCarree())\n",
    "\n",
    "# Turn on continent shading\n",
    "ax.add_feature(cfeature.LAND,\n",
    "                edgecolor='lightgray',\n",
    "                facecolor='lightgray',\n",
    "                zorder=0)\n",
    "\n",
    "gl = ax.gridlines(draw_labels=True, zorder=1)\n",
    "gl.top_labels = False\n",
    "gl.right_labels = False\n",
    "\n",
    "# Scatter-plot the location data on the map\n",
    "plt.scatter(lon, lat, s=10, c='blue', marker='+', linewidth=0.5, zorder=2)\n",
    "\n",
    "plt.title(\"Station Locations\");"
   ]
  },
  {
   "cell_type": "markdown",
   "metadata": {},
   "source": [
    "## Coded Scatter Plot \n",
    "\n",
    "The above figure is a good representation of where our weather stations are. By coding the datapoints we are able to display one more variable of data. Typically scatter plots are coded to either vary the size or color of points. \n",
    "\n",
    "Let's grab the station's maximum temperature data and add that to our plot."
   ]
  },
  {
   "cell_type": "code",
   "execution_count": null,
   "metadata": {},
   "outputs": [],
   "source": [
    "tmax = ds.Tmax.isel()"
   ]
  },
  {
   "cell_type": "markdown",
   "metadata": {},
   "source": [
    "In the following plot, our scatter plot color kwarg is no longer set to blue, but to a variable: `c=tmax`. We've also added a `cmap` kwarg to specify the colormap we'd like to plot our temperature on (almost any colormap that you want can be reversed by adding `_r` to its name).\n",
    "\n",
    "We also here add a colorbar. We shrunk the colorbar so that it wouldn't be taller than the plot and added a label. `$^\\circ$` is used to add a degree symbol to a string in Python."
   ]
  },
  {
   "cell_type": "code",
   "execution_count": null,
   "metadata": {},
   "outputs": [],
   "source": [
    "# Generate figure (set its size (width, height) in inches) and axes using Cartopy projection\n",
    "plt.figure(figsize=(8, 6))\n",
    "\n",
    "# Generate axes using Cartopy\n",
    "ax = plt.axes(projection=ccrs.PlateCarree())\n",
    "\n",
    "# Turn on continent shading\n",
    "ax.add_feature(cfeature.LAND,\n",
    "                edgecolor='lightgray',\n",
    "                facecolor='lightgray',\n",
    "                zorder=0)\n",
    "\n",
    "gl = ax.gridlines(draw_labels=True, zorder=1)\n",
    "gl.top_labels = False\n",
    "gl.right_labels = False\n",
    "\n",
    "# Scatter-plot the location data on the map\n",
    "plt.scatter(lon, lat, s=10, c=tmax, cmap='hot_r', marker='+', linewidth=0.5, zorder=2)\n",
    "\n",
    "plt.xlim(-170,-50)\n",
    "plt.ylim(0)\n",
    "\n",
    "c = plt.colorbar(shrink=0.75, label='Maximum Temperature ($^\\circ$C)')\n",
    "\n",
    "plt.title(\"Station Locations\");"
   ]
  }
 ],
 "metadata": {
  "kernelspec": {
   "display_name": "geocat-applications",
   "language": "python",
   "name": "python3"
  },
  "language_info": {
   "codemirror_mode": {
    "name": "ipython",
    "version": 3
   },
   "file_extension": ".py",
   "mimetype": "text/x-python",
   "name": "python",
   "nbconvert_exporter": "python",
   "pygments_lexer": "ipython3",
   "version": "3.10.10"
  },
  "orig_nbformat": 4
 },
 "nbformat": 4,
 "nbformat_minor": 2
}
