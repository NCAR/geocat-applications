{
 "cells": [
  {
   "cell_type": "markdown",
   "metadata": {},
   "source": [
    "# Scatter Plot\n",
    "\n",
    "A scatter plot typically displays two variables for a set of data. The resulting pattern can visualize statistical correlations in the data.\n",
    "\n",
    "In geoscience, a common application for scatter plots is weather station data, or any other geo-located data collection system such as tide guages. Stations have discrete and non-continuous data values, which makes them a good candidate for these kinds of plots. "
   ]
  },
  {
   "cell_type": "code",
   "execution_count": null,
   "metadata": {},
   "outputs": [],
   "source": [
    "import xarray as xr\n",
    "import cartopy.crs as ccrs\n",
    "import cartopy.feature as cfeature\n",
    "import matplotlib.pyplot as plt\n",
    "\n",
    "import geocat.datafiles as gdf"
   ]
  },
  {
   "cell_type": "markdown",
   "metadata": {},
   "source": [
    "## Get Station Dataset"
   ]
  },
  {
   "cell_type": "code",
   "execution_count": null,
   "metadata": {},
   "outputs": [],
   "source": [
    "# Use Xarray and GeoCAT datafiles to pull up a sample station dataset\n",
    "ds = xr.open_dataset(gdf.get(\"netcdf_files/95031800_sao.cdf\"),\n",
    "                     decode_times=False)\n",
    "\n",
    "# Get station lat and lon data, the `.isel()` here filters out NaNs.\n",
    "lat = ds.lat.isel()\n",
    "lon = ds.lon.isel()"
   ]
  },
  {
   "cell_type": "markdown",
   "metadata": {},
   "source": [
    "## Simple Scatter Plot\n",
    "\n",
    "The simplest way to create any scatter plot is simply to call up `ax.scatter(x, y)`."
   ]
  },
  {
   "cell_type": "markdown",
   "metadata": {},
   "source": [
    "### Base Case"
   ]
  },
  {
   "cell_type": "code",
   "execution_count": null,
   "metadata": {},
   "outputs": [],
   "source": [
    "# Generate figure (set its size (width, height) in inches)\n",
    "fig, ax = plt.subplots(figsize=(8, 6))\n",
    "\n",
    "# Scatter-plot the location data\n",
    "ax.scatter(lon, lat);"
   ]
  },
  {
   "cell_type": "markdown",
   "metadata": {},
   "source": [
    "### Simple Customizations\n",
    "\n",
    "In this example we demonstrate:\n",
    "- setting the marker size with `s=10`,\n",
    "- the marker color with `c='blue'`,\n",
    "- the marker style with `marker='x'`,\n",
    "- and the marker linewidth with `linewidth=0.5`.\n",
    "\n",
    "Check out [Matplotlib's `scatter` documentation](https://matplotlib.org/stable/api/_as_gen/matplotlib.pyplot.scatter.html) to see all the keyword argument customization options available to you."
   ]
  },
  {
   "cell_type": "code",
   "execution_count": null,
   "metadata": {},
   "outputs": [],
   "source": [
    "# Generate figure (set its size (width, height) in inches)\n",
    "fig, ax = plt.subplots(figsize=(8, 6))\n",
    "\n",
    "# Scatter-plot the location data\n",
    "ax.scatter(lon, lat, s=10, c='blue', marker='+', linewidth=0.5);"
   ]
  },
  {
   "cell_type": "markdown",
   "metadata": {},
   "source": [
    "## Scatter Plot with Cartopy\n",
    "\n",
    "The above plot accurately displays the data, but it doesn't look how we'd expect knowing that this is lat/lon data. To make our scatter plot on a map, we use Cartopy and select our desired projection.\n",
    "\n",
    "In the below example, we demonstrate adding Cartopy Plate Carree axes, land features, and lat-lon gridlines.\n",
    "\n",
    "One thing to note here, is the addition of the `zorder` kwarg in our land feature creation and scatter plot. If we're looking down at an x-y plot, the z axis points out of the screen, and `zorder` refers to how you'd like to stack these image layers. The lower the `zorder`, the closer to the back, and the higher the `zorder` the closer to the front. This ensures that our scatter points are not underneath our gridlines or land feature."
   ]
  },
  {
   "cell_type": "code",
   "execution_count": null,
   "metadata": {},
   "outputs": [],
   "source": [
    "# Generate figure (set its size (width, height) in inches) and axes using Cartopy projection\n",
    "fig = plt.figure(figsize=(8, 6))\n",
    "\n",
    "# Generate axes using Cartopy\n",
    "ax = plt.axes(projection=ccrs.PlateCarree())\n",
    "\n",
    "# Turn on continent shading\n",
    "ax.add_feature(cfeature.LAND,\n",
    "                zorder=0)\n",
    "\n",
    "# Scatter-plot the location data on the map\n",
    "plt.scatter(lon, lat, s=10, c='blue', marker='+', linewidth=0.5, zorder=1)\n",
    "\n",
    "plt.title(\"Station Locations\");"
   ]
  },
  {
   "cell_type": "markdown",
   "metadata": {},
   "source": [
    "### Cartopy Customization\n",
    "\n",
    "You can change the way your Cartopy plot looks with the inclusion of `edgecolor` and `facecolor` specifications.  Light gray tends to look nice."
   ]
  },
  {
   "cell_type": "code",
   "execution_count": null,
   "metadata": {},
   "outputs": [],
   "source": [
    "# Generate figure (set its size (width, height) in inches) and axes using Cartopy projection\n",
    "fig = plt.figure(figsize=(8, 6))\n",
    "\n",
    "# Generate axes using Cartopy\n",
    "ax = plt.axes(projection=ccrs.PlateCarree())\n",
    "\n",
    "# Turn on continent shading\n",
    "ax.add_feature(cfeature.LAND,\n",
    "                edgecolor='lightgray',\n",
    "                facecolor='lightgray',\n",
    "                zorder=0)\n",
    "\n",
    "# Scatter-plot the location data on the map\n",
    "plt.scatter(lon, lat, s=10, c='blue', marker='+', linewidth=0.5, zorder=1)\n",
    "\n",
    "plt.title(\"Station Locations\");"
   ]
  },
  {
   "cell_type": "markdown",
   "metadata": {},
   "source": [
    "## Coded Scatter Plot \n",
    "\n",
    "The above figure is a good representation of where our weather stations are. By coding the datapoints we are able to display one more variable of data. Typically scatter plots are coded to either vary the size or color of points. \n",
    "\n",
    "Let's grab the station's maximum temperature data and add that to our plot."
   ]
  },
  {
   "cell_type": "code",
   "execution_count": null,
   "metadata": {},
   "outputs": [],
   "source": [
    "tmax = ds.Tmax.isel()"
   ]
  },
  {
   "cell_type": "markdown",
   "metadata": {},
   "source": [
    "### Default Colorbar\n",
    "\n",
    "In the following plot, our scatter plot color kwarg is no longer set to blue, but to a variable: `c=tmax`, using the default colormap \"viridis\".\n",
    "\n",
    "We also here add a default colorbar."
   ]
  },
  {
   "cell_type": "code",
   "execution_count": null,
   "metadata": {},
   "outputs": [],
   "source": [
    "# Generate figure (set its size (width, height) in inches) and axes using Cartopy projection\n",
    "fig = plt.figure(figsize=(8, 6))\n",
    "\n",
    "# Generate axes using Cartopy\n",
    "ax = plt.axes(projection=ccrs.PlateCarree())\n",
    "\n",
    "# Turn on continent shading\n",
    "ax.add_feature(cfeature.LAND,\n",
    "                edgecolor='lightgray',\n",
    "                facecolor='lightgray',\n",
    "                zorder=0)\n",
    "\n",
    "# Scatter-plot the location data on the map\n",
    "plt.scatter(lon, lat, s=10, c=tmax, marker='+', linewidth=1, zorder=1)\n",
    "\n",
    "plt.xlim(-170,-50)\n",
    "plt.ylim(0)\n",
    "\n",
    "c = plt.colorbar()"
   ]
  },
  {
   "cell_type": "markdown",
   "metadata": {},
   "source": [
    "### Colorbar Customization"
   ]
  },
  {
   "cell_type": "markdown",
   "metadata": {},
   "source": [
    "Now we've added a `cmap` kwarg to specify the colormap we'd like to plot our temperature on (almost any colormap that you want can be reversed by adding `_r` to its name).\n",
    "\n",
    "We shrunk the colorbar so that it wouldn't be taller than the plot and added a label. `$^\\circ$` is used to add a degree symbol to a string in Python."
   ]
  },
  {
   "cell_type": "code",
   "execution_count": null,
   "metadata": {},
   "outputs": [],
   "source": [
    "# Generate figure (set its size (width, height) in inches) and axes using Cartopy projection\n",
    "fig = plt.figure(figsize=(8, 6))\n",
    "\n",
    "# Generate axes using Cartopy\n",
    "ax = plt.axes(projection=ccrs.PlateCarree())\n",
    "\n",
    "# Turn on continent shading\n",
    "ax.add_feature(cfeature.LAND,\n",
    "                edgecolor='lightgray',\n",
    "                facecolor='lightgray',\n",
    "                zorder=0)\n",
    "\n",
    "# Scatter-plot the location data on the map\n",
    "plt.scatter(lon, lat, s=10, c=tmax, cmap='hot_r', marker='+', linewidth=1, zorder=1)\n",
    "\n",
    "plt.xlim(-170,-50)\n",
    "plt.ylim(0)\n",
    "\n",
    "c = plt.colorbar(shrink=0.75, label='Maximum Temperature ($^\\circ$C)')"
   ]
  },
  {
   "cell_type": "markdown",
   "metadata": {},
   "source": [
    "## Finishing Touches"
   ]
  },
  {
   "cell_type": "markdown",
   "metadata": {},
   "source": [
    "### Grid Lines\n",
    "\n",
    "When adding gridlines, we want to again engage the `zorder` keyword argument. Gridlines tend to look best above the land featurees but under the plotted data, so we bumped the scatter plot's `zorder` up to 2, left the land features at 0, and added gridlines at a `zorder` of 1."
   ]
  },
  {
   "cell_type": "code",
   "execution_count": null,
   "metadata": {},
   "outputs": [],
   "source": [
    "# Generate figure (set its size (width, height) in inches) and axes using Cartopy projection\n",
    "fig = plt.figure(figsize=(8, 6))\n",
    "\n",
    "# Generate axes using Cartopy\n",
    "ax = plt.axes(projection=ccrs.PlateCarree())\n",
    "\n",
    "# Turn on continent shading\n",
    "ax.add_feature(cfeature.LAND,\n",
    "                edgecolor='lightgray',\n",
    "                facecolor='lightgray',\n",
    "                zorder=0)\n",
    "\n",
    "# Scatter-plot the location data on the map\n",
    "plt.scatter(lon, lat, s=10, c=tmax, cmap='hot_r', marker='+', linewidth=1, zorder=2)\n",
    "\n",
    "plt.xlim(-170,-50)\n",
    "plt.ylim(0)\n",
    "\n",
    "c = plt.colorbar(shrink=0.75, label='Maximum Temperature ($^\\circ$C)')\n",
    "\n",
    "gl = ax.gridlines(draw_labels=True, zorder=1)"
   ]
  },
  {
   "cell_type": "markdown",
   "metadata": {},
   "source": [
    "### Titles and Labels\n",
    "\n",
    "All plots should have an informative title. In this final step we add a title to our plot and turn off the redundant top and right gridlabels."
   ]
  },
  {
   "cell_type": "code",
   "execution_count": null,
   "metadata": {},
   "outputs": [],
   "source": [
    "# Generate figure (set its size (width, height) in inches) and axes using Cartopy projection\n",
    "fig = plt.figure(figsize=(8, 6))\n",
    "\n",
    "# Generate axes using Cartopy\n",
    "ax = plt.axes(projection=ccrs.PlateCarree())\n",
    "\n",
    "# Turn on continent shading\n",
    "ax.add_feature(cfeature.LAND,\n",
    "                edgecolor='lightgray',\n",
    "                facecolor='lightgray',\n",
    "                zorder=0)\n",
    "\n",
    "# Scatter-plot the location data on the map\n",
    "plt.scatter(lon, lat, s=10, c=tmax, cmap='hot_r', marker='+', linewidth=1, zorder=2)\n",
    "\n",
    "plt.xlim(-170,-50)\n",
    "plt.ylim(0)\n",
    "\n",
    "c = plt.colorbar(shrink=0.75, label='Maximum Temperature ($^\\circ$C)')\n",
    "\n",
    "gl = ax.gridlines(draw_labels=True, zorder=1)\n",
    "gl.top_labels = False\n",
    "gl.right_labels = False\n",
    "\n",
    "plt.title(\"Station Locations\");"
   ]
  }
 ],
 "metadata": {
  "kernelspec": {
   "display_name": "geocat-applications",
   "language": "python",
   "name": "python3"
  },
  "language_info": {
   "codemirror_mode": {
    "name": "ipython",
    "version": 3
   },
   "file_extension": ".py",
   "mimetype": "text/x-python",
   "name": "python",
   "nbconvert_exporter": "python",
   "pygments_lexer": "ipython3",
   "version": "3.10.10"
  },
  "orig_nbformat": 4
 },
 "nbformat": 4,
 "nbformat_minor": 2
}
