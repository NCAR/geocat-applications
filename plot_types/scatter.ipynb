{
 "cells": [
  {
   "cell_type": "markdown",
   "metadata": {},
   "source": [
    "# Scatter Plot\n",
    "\n",
    "Example derived from [Matplotlib Scatter Documentation](https://matplotlib.org/stable/gallery/shapes_and_collections/scatter.html.)"
   ]
  },
  {
   "cell_type": "code",
   "execution_count": null,
   "metadata": {},
   "outputs": [],
   "source": [
    "import numpy as np\n",
    "import matplotlib.pyplot as plt"
   ]
  },
  {
   "cell_type": "code",
   "execution_count": null,
   "metadata": {},
   "outputs": [],
   "source": [
    "# Fake Data\n",
    "np.random.seed(19680802)\n",
    "N = 30\n",
    "x = np.random.rand(N)\n",
    "y = np.random.rand(N)\n",
    "\n",
    "colors = y\n",
    "area = (30 * x)**2  # 0 to 15 point radii\n",
    "\n",
    "\n",
    "# Plot\n",
    "fig, ax = plt.subplots()\n",
    "ax.scatter(x, y,\n",
    "           s=area,\n",
    "           c=colors,\n",
    "           alpha=0.8); # transparency"
   ]
  }
 ],
 "metadata": {
  "kernelspec": {
   "display_name": "geocat-applications",
   "language": "python",
   "name": "python3"
  },
  "language_info": {
   "codemirror_mode": {
    "name": "ipython",
    "version": 3
   },
   "file_extension": ".py",
   "mimetype": "text/x-python",
   "name": "python",
   "nbconvert_exporter": "python",
   "pygments_lexer": "ipython3",
   "version": "3.11.4"
  },
  "orig_nbformat": 4
 },
 "nbformat": 4,
 "nbformat_minor": 2
}
