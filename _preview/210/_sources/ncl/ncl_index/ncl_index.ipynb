{
 "cells": [
  {
   "cell_type": "markdown",
   "id": "4a6382b1-e561-4402-ae72-58b2b96fa630",
   "metadata": {
    "editable": true,
    "slideshow": {
     "slide_type": ""
    },
    "tags": []
   },
   "source": [
    "# NCL Index"
   ]
  },
  {
   "cell_type": "code",
   "execution_count": null,
   "id": "36aab5eb-87cf-46da-9a2f-68eda52f4154",
   "metadata": {
    "editable": true,
    "slideshow": {
     "slide_type": ""
    },
    "tags": [
     "remove-input"
    ]
   },
   "outputs": [],
   "source": [
    "import itables\n",
    "import pandas as pd\n",
    "\n",
    "itables.init_notebook_mode(connected=True)"
   ]
  },
  {
   "cell_type": "code",
   "execution_count": null,
   "id": "0eec630a-1d88-4ef8-bb52-883fc6515371",
   "metadata": {
    "editable": true,
    "slideshow": {
     "slide_type": ""
    },
    "tags": [
     "remove-input"
    ]
   },
   "outputs": [],
   "source": [
    "df = pd.read_csv('ncl-index-table-demo.csv')"
   ]
  },
  {
   "cell_type": "code",
   "execution_count": null,
   "id": "b409366c-3989-4b13-9316-08d1077a067c",
   "metadata": {
    "editable": true,
    "slideshow": {
     "slide_type": ""
    },
    "tags": [
     "remove-input"
    ]
   },
   "outputs": [],
   "source": [
    "itables.show(df, allow_html=True)"
   ]
  }
 ],
 "metadata": {
  "kernelspec": {
   "display_name": "Python 3 (ipykernel)",
   "language": "python",
   "name": "python3"
  },
  "language_info": {
   "codemirror_mode": {
    "name": "ipython",
    "version": 3
   },
   "file_extension": ".py",
   "mimetype": "text/x-python",
   "name": "python",
   "nbconvert_exporter": "python",
   "pygments_lexer": "ipython3",
   "version": "3.13.3"
  }
 },
 "nbformat": 4,
 "nbformat_minor": 5
}
