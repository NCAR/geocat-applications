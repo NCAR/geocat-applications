{
 "cells": [
  {
   "cell_type": "markdown",
   "metadata": {},
   "source": [
    "# NCL Equivalency Notebook Template\n",
    "This template is to create notebooks that add-on to notebooks created from the computational template to give them context in terms of their application related to corresponding functionality in NCL if necessary\n",
    "\n",
    "Like that template, this should be the only use of the top level header (`#`) in the notebook.\n",
    "\n",
    "This notebook can be aimed at a more advanced audience, as these notebooks assume that the user is seeking information beyond the basic \"how to do this in python\" that the computational notebook provides."
   ]
  },
  {
   "cell_type": "markdown",
   "metadata": {},
   "source": [
    "## Overview\n",
    "When possible, lead with a short intro paragraph that covers the content and scope of the materials in the notebook\n",
    "- Link to the NCL documentation for the functions to be covered in the notebook\n",
    "- Link to any resources you found useful when constructing this notebook\n",
    "- Link to the computational notebook that corresponds to this notebook"
   ]
  },
  {
   "metadata": {},
   "cell_type": "markdown",
   "source": [
    "## Grab and Go\n",
    "\n",
    "Where possible, provide a code section that can be copied and pasted to replciate NCL functionality.\n",
    "    \n",
    "```python   \n",
    "# Python code\n",
    "```"
   ]
  },
  {
   "metadata": {},
   "cell_type": "markdown",
   "source": "---"
  },
  {
   "cell_type": "markdown",
   "metadata": {},
   "source": [
    "## Content\n",
    "In the content sections, provide relevant context to the NCL functions. For example, cover topics like:\n",
    "- Is there relevant history to the function?\n",
    "- Is there a specific use case that the function is designed for?\n",
    "- Are the methods used in the original function still relevant or outdated?\n",
    "- How closely does python replicate the functionality?\n",
    "- What flags or inputs should be used in python to replicate the functionality?\n"
   ]
  },
  {
   "cell_type": "markdown",
   "metadata": {},
   "source": "Then link to the corresponding computational notebook that demonstrates the functionality in python. If one does not exist, consider creating one."
  },
  {
   "cell_type": "markdown",
   "metadata": {},
   "source": "Include the same grab and go section of the computational notebook, highlighting if any altercations have been made to match the NCL functionality more closely"
  },
  {
   "metadata": {},
   "cell_type": "markdown",
   "source": ""
  }
 ],
 "metadata": {
  "language_info": {
   "name": "python"
  }
 },
 "nbformat": 4,
 "nbformat_minor": 2
}
