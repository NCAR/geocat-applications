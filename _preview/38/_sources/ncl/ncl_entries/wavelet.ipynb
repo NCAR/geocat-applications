{
 "cells": [
  {
   "cell_type": "markdown",
   "metadata": {},
   "source": [
    "# wavelet"
   ]
  },
  {
   "cell_type": "markdown",
   "metadata": {},
   "source": [
    "## Overview\n",
    "Calculates the wavelet transform of a time series\n",
    "- NCL [wavelet](https://www.ncl.ucar.edu/Document/Functions/Built-in/wavelet.shtml)"
   ]
  },
  {
   "cell_type": "markdown",
   "metadata": {},
   "source": [
    "## Grab and Go\n",
    "\n",
    "Where possible, provide a code section that can be copied and pasted to replciate NCL functionality.\n",
    "    \n",
    "```python   \n",
    "# Python code\n",
    "```"
   ]
  },
  {
   "cell_type": "markdown",
   "metadata": {},
   "source": [
    "---"
   ]
  },
  {
   "cell_type": "markdown",
   "metadata": {},
   "source": [
    "## Content Sections\n",
    "In the content sections, provide relevant context to the NCL functions. For example, cover topics like:\n",
    "- Is there relevant history to the function?\n",
    "- Is there a specific use case that the function is designed for?\n",
    "- Are the methods used in the original function still relevant or outdated?\n",
    "- How closely does python replicate the functionality?\n",
    "- What flags or inputs should be used in python to replicate the functionality?\n",
    "\n",
    "*Note that these examples can be their own ##-level headers and that your final notebook is not expected to have a section with the ## Content Sections present in this cell*"
   ]
  },
  {
   "cell_type": "markdown",
   "metadata": {},
   "source": [
    "## Python changes to approximate NCL functionality\n",
    "As a summary to the content sections above, compare the grab and go section of any corresponding computational notebook, highlighting if any altercations have been made to match the NCL functionality more closely.\n",
    "\n",
    "If there is no corresponding computational notebook, it is okay to just note what sections of the grab-and-go are specific to matching the python snippet to NCL functionality."
   ]
  },
  {
   "cell_type": "markdown",
   "metadata": {},
   "source": [
    "## Python Resources\n",
    "\n",
    "Link to the corresponding computational notebook that demonstrates the functionality in python. If one does not exist, consider creating one.\n",
    "\n",
    "If no corresponding computational notebook exists in geocat-applications, linking to external resources is also appropriate."
   ]
  },
  {
   "cell_type": "markdown",
   "metadata": {},
   "source": []
  }
 ],
 "metadata": {
  "kernelspec": {
   "display_name": "Python 3 (ipykernel)",
   "language": "python",
   "name": "python3"
  },
  "language_info": {
   "codemirror_mode": {
    "name": "ipython",
    "version": 3
   },
   "file_extension": ".py",
   "mimetype": "text/x-python",
   "name": "python",
   "nbconvert_exporter": "python",
   "pygments_lexer": "ipython3",
   "version": "3.11.8"
  }
 },
 "nbformat": 4,
 "nbformat_minor": 4
}
