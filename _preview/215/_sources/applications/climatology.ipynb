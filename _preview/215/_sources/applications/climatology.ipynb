{
 "cells": [
  {
   "cell_type": "markdown",
   "metadata": {},
   "source": [
    "# Calculating Climatologies"
   ]
  },
  {
   "cell_type": "markdown",
   "metadata": {},
   "source": [
    "## Overview\n",
    "Calculating climatologies in Python is a common task in geoscience workflows. This notebook will cover:\n",
    "\n",
    "- Working with [`xarray`](https://docs.xarray.dev/en/stable/) and its [`groupby()`](https://docs.xarray.dev/en/stable/generated/xarray.DataArray.groupby.html) functionality\n",
    "- A resource guide to point you to more detailed information depending on your use case"
   ]
  },
  {
   "cell_type": "markdown",
   "metadata": {},
   "source": [
    "---"
   ]
  },
  {
   "cell_type": "markdown",
   "metadata": {},
   "source": [
    "## Example Data\n",
    "\n",
    "The dataset used in this notebook originated from the Community Earth System Model v2 (CESM2), and is retrieved from the [Pythia-datasets repository](https://github.com/ProjectPythia/pythia-datasets/tree/main)\n",
    "\n",
    "The dataset contains 15 years of monthly mean sea surface temperatures (TOS) from January 2000 to December 2014"
   ]
  },
  {
   "cell_type": "code",
   "execution_count": null,
   "metadata": {},
   "outputs": [],
   "source": [
    "from pythia_datasets import DATASETS\n",
    "import xarray as xr\n",
    "\n",
    "# Get data\n",
    "filepath = DATASETS.fetch(\"CESM2_sst_data.nc\")\n",
    "ds = xr.open_dataset(filepath)\n",
    "\n",
    "ds"
   ]
  },
  {
   "cell_type": "markdown",
   "metadata": {},
   "source": [
    "## Calculating Anomalies\n",
    "\n",
    "You can use the [`groupby()`](https://docs.xarray.dev/en/stable/generated/xarray.DataArray.groupby.html) function to group the data by various timescales. From the [xarray user guide](https://xarray.pydata.org/en/v2024.06.0/user-guide/time-series.html#datetime-components):\n",
    "> xarray also supports a notion of “virtual” or “derived” coordinates for datetime components implemented by pandas, including `year`, `month`, `day`, `hour`, `minute`, `second`, `dayofyear`, `week`, `dayofweek`, `weekday` and `quarter`. For use as a derived coordinate, xarray adds `season` to the list of datetime components supported by pandas.\n",
    ">\n"
   ]
  },
  {
   "cell_type": "code",
   "execution_count": null,
   "metadata": {},
   "outputs": [],
   "source": [
    "from pythia_datasets import DATASETS\n",
    "import xarray as xr\n",
    "import matplotlib.pyplot as plt\n",
    "\n",
    "# Get data\n",
    "filepath = DATASETS.fetch(\"CESM2_sst_data.nc\")\n",
    "ds = xr.open_dataset(filepath)\n",
    "\n",
    "# Calculate monthly anomaly\n",
    "tos_monthly = ds.tos.groupby(ds.time.dt.month)\n",
    "tos_clim = tos_monthly.mean(dim=\"time\")\n",
    "tos_anom = tos_monthly - tos_clim\n",
    "\n",
    "tos_anom"
   ]
  },
  {
   "cell_type": "markdown",
   "metadata": {},
   "source": [
    "### Visualization"
   ]
  },
  {
   "cell_type": "code",
   "execution_count": null,
   "metadata": {},
   "outputs": [],
   "source": [
    "# Plot the first time slice of the calculated anomalies\n",
    "tos_anom.isel(time=0).plot()"
   ]
  },
  {
   "cell_type": "markdown",
   "metadata": {},
   "source": [
    "## Removing Annual Cycle\n",
    "\n",
    "Also known as [seasonal adjustment](https://en.wikipedia.org/wiki/Seasonal_adjustment) or deseasonalization, it is often used to examine underlying trends in data with a repeating cycle. "
   ]
  },
  {
   "cell_type": "code",
   "execution_count": null,
   "metadata": {},
   "outputs": [],
   "source": [
    "from pythia_datasets import DATASETS\n",
    "import xarray as xr\n",
    "\n",
    "# Get data\n",
    "filepath = DATASETS.fetch(\"CESM2_sst_data.nc\")\n",
    "ds = xr.open_dataset(filepath)\n",
    "\n",
    "# Remove annual cycle from the global monthly mean tos\n",
    "tos_monthly = ds.tos.groupby(ds.time.dt.month)\n",
    "tos_clim = tos_monthly.mean(dim=\"time\")\n",
    "tos_anom = tos_monthly - tos_clim\n",
    "tos_rmAnnCyc = tos_anom.mean(dim=[\"lat\", \"lon\"])\n",
    "\n",
    "tos_rmAnnCyc"
   ]
  },
  {
   "cell_type": "markdown",
   "metadata": {},
   "source": [
    "### Visualization"
   ]
  },
  {
   "cell_type": "code",
   "execution_count": null,
   "metadata": {},
   "outputs": [],
   "source": [
    "# Plot the global mean tos with the annual cycle removed\n",
    "tos_rmAnnCyc.plot()\n",
    "plt.title(\"Seasonanlly adjusted global mean tos\")\n",
    "plt.ylabel(\"tos anomaly (°C)\")\n",
    "plt.xlabel(\"Time (months)\")"
   ]
  },
  {
   "cell_type": "markdown",
   "metadata": {},
   "source": [
    "## Calculating Long Term Means"
   ]
  },
  {
   "cell_type": "code",
   "execution_count": null,
   "metadata": {},
   "outputs": [],
   "source": [
    "from pythia_datasets import DATASETS\n",
    "import xarray as xr\n",
    "import matplotlib.pyplot as plt\n",
    "\n",
    "# Get data\n",
    "filepath = DATASETS.fetch(\"CESM2_sst_data.nc\")\n",
    "ds = xr.open_dataset(filepath)\n",
    "\n",
    "# Calculate long term mean\n",
    "tos_monthly = ds.tos.groupby(ds.time.dt.month)\n",
    "tos_clim = tos_monthly.mean(dim=\"time\")\n",
    "\n",
    "tos_clim"
   ]
  },
  {
   "cell_type": "markdown",
   "metadata": {},
   "source": [
    "### Visualization"
   ]
  },
  {
   "cell_type": "code",
   "execution_count": null,
   "metadata": {},
   "outputs": [],
   "source": [
    "# Plot an example location of the calculated long term means\n",
    "tos_clim.sel(lon=310, lat=50, method=\"nearest\").plot()\n",
    "plt.ylabel(\"Mean tos (°C)\")\n",
    "plt.xlabel(\"Month\")"
   ]
  },
  {
   "cell_type": "markdown",
   "metadata": {},
   "source": [
    "## Calculating Seasonal Means\n",
    "\n",
    "From the [xarray user guide](https://xarray.pydata.org/en/v2024.06.0/user-guide/time-series.html#datetime-components):\n",
    ">The set of valid seasons consists of `‘DJF’`, `‘MAM’`, `‘JJA’` and `‘SON’`, labeled by the first letters of the corresponding months.\n",
    ">\n",
    "If you need to work with custom seasons, the [GeoCAT-comp package](https://geocat-comp.readthedocs.io/en/stable/getting-started.html) offers [`geocat.comp.climatologies.month_to_season()`](https://geocat-comp.readthedocs.io/en/stable/user_api/generated/geocat.comp.climatologies.month_to_season.html) which can be used to create custom three-month seasonal means."
   ]
  },
  {
   "cell_type": "code",
   "execution_count": null,
   "metadata": {},
   "outputs": [],
   "source": [
    "from pythia_datasets import DATASETS\n",
    "import xarray as xr\n",
    "import matplotlib.pyplot as plt\n",
    "\n",
    "# Get data\n",
    "filepath = DATASETS.fetch(\"CESM2_sst_data.nc\")\n",
    "ds = xr.open_dataset(filepath)\n",
    "\n",
    "# Calculate seasonal means\n",
    "tos_seasonal = ds.tos.groupby(ds.time.dt.season).mean(dim=\"time\")\n",
    "\n",
    "tos_seasonal"
   ]
  },
  {
   "cell_type": "markdown",
   "metadata": {},
   "source": [
    "### Visualization"
   ]
  },
  {
   "cell_type": "code",
   "execution_count": null,
   "metadata": {},
   "outputs": [],
   "source": [
    "# Plot the JJA time slice of the calculated seasonal means\n",
    "tos_seasonal.sel(season=\"JJA\").plot()"
   ]
  },
  {
   "cell_type": "markdown",
   "metadata": {},
   "source": [
    "## Finding The Standard Deviations of Monthly Means\n",
    "\n",
    "Calculate the standard deviations of monthly means for each month using the [`.std()`](https://docs.xarray.dev/en/latest/generated/xarray.DataArray.std.html) function. "
   ]
  },
  {
   "cell_type": "code",
   "execution_count": null,
   "metadata": {},
   "outputs": [],
   "source": [
    "from pythia_datasets import DATASETS\n",
    "import xarray as xr\n",
    "import matplotlib.pyplot as plt\n",
    "\n",
    "# Get data\n",
    "filepath = DATASETS.fetch(\"CESM2_sst_data.nc\")\n",
    "ds = xr.open_dataset(filepath)\n",
    "\n",
    "# Calculate the standard deviation from monthly mean data\n",
    "stdMon = ds.tos.groupby(ds.time.dt.month).std()\n",
    "\n",
    "stdMon"
   ]
  },
  {
   "cell_type": "markdown",
   "metadata": {},
   "source": [
    "### Visualization"
   ]
  },
  {
   "cell_type": "code",
   "execution_count": null,
   "metadata": {},
   "outputs": [],
   "source": [
    "# Plot the January time slice of the calculated standard deviaitons\n",
    "stdMon.sel(month=1).plot()"
   ]
  },
  {
   "cell_type": "markdown",
   "metadata": {},
   "source": [
    "## Curated Resources\n",
    "\n",
    "To learn more about calculating climatologies in Python, we suggest:\n",
    "\n",
    "- This [Climatematch Academy notebook](https://comptools.climatematch.io/tutorials/W1D1_ClimateSystemOverview/student/W1D1_Tutorial5.html) on xarray Data Analysis and Climatology\n",
    "- This [Project Pythia Foundations tutorial](https://foundations.projectpythia.org/core/xarray/computation-masking.html) on Computations and Masks with xarray\n",
    "- The [xarray user guide](https://docs.xarray.dev/en/stable/user-guide/time-series.html) on working with time series data"
   ]
  },
  {
   "cell_type": "markdown",
   "metadata": {},
   "source": []
  }
 ],
 "metadata": {
  "kernelspec": {
   "display_name": "geocat-applications",
   "language": "python",
   "name": "python3"
  },
  "language_info": {
   "codemirror_mode": {
    "name": "ipython",
    "version": 3
   },
   "file_extension": ".py",
   "mimetype": "text/x-python",
   "name": "python",
   "nbconvert_exporter": "python",
   "pygments_lexer": "ipython3",
   "version": "3.12.3"
  }
 },
 "nbformat": 4,
 "nbformat_minor": 2
}
