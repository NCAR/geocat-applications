{
 "cells": [
  {
   "cell_type": "markdown",
   "metadata": {},
   "source": [
    "# Climatology"
   ]
  },
  {
   "cell_type": "markdown",
   "metadata": {},
   "source": [
    "## Overview\n",
    "The NCL climatology functions listed below can be replicated using [`xarray`](https://xarray.dev/) and/or [`geocat.comp`](https://geocat-comp.readthedocs.io/en/stable/):\n",
    "\n",
    "- [calcDayAnom*](#calcDayAnom)\n",
    "- [calcMonAnom*](#calcMonAnom)\n",
    "- [clmDay*](#clmDay)\n",
    "- [clmMon*](#clmMon)\n",
    "- [month_to_season](#month-to-season)\n",
    "- [rmMonAnnCyc*](#rmMonAnnCyc)\n",
    "- [stdMon*](#stdMon)\n"
   ]
  },
  {
   "cell_type": "markdown",
   "metadata": {},
   "source": [
    "## Functions"
   ]
  },
  {
   "cell_type": "markdown",
   "metadata": {},
   "source": [
    "### calcDayAnom*\n",
    "[`calcDayAnomTLL`](https://www.ncl.ucar.edu/Document/Functions/Contributed/calcDayAnomTLL.shtml) calculates daily anomalies from a daily data climatology."
   ]
  },
  {
   "cell_type": "markdown",
   "metadata": {},
   "source": [
    "#### Grab and Go"
   ]
  },
  {
   "cell_type": "code",
   "execution_count": null,
   "metadata": {},
   "outputs": [],
   "source": [
    "import xarray as xr\n",
    "import geocat.datafiles as gcd\n",
    "from matplotlib import pyplot as plt\n",
    "\n",
    "ds = xr.open_dataset(gcd.get(\"applications_files/inputs/CMIP6_sea_ice_daily_subset.nc\"))\n",
    "\n",
    "DayTLL = ds.aice_d.groupby(\"time.dayofyear\")\n",
    "clmDayTLL = DayTLL.mean(\"time\")\n",
    "calcDayAnomTLL = DayTLL - clmDayTLL\n",
    "\n",
    "calcDayAnomTLL[0, :, :].assign_attrs(long_name=\"sea ice anomaly\").plot();"
   ]
  },
  {
   "cell_type": "code",
   "execution_count": null,
   "metadata": {},
   "outputs": [],
   "source": [
    "from geocat.comp import climate_anomaly\n",
    "import geocat.datafiles as gcd\n",
    "\n",
    "ds = xr.open_dataset(gcd.get(\"applications_files/inputs/CMIP6_sea_ice_daily_subset.nc\"))\n",
    "\n",
    "calcDayAnomTLL = climate_anomaly(ds.aice_d, \"day\")"
   ]
  },
  {
   "cell_type": "markdown",
   "metadata": {},
   "source": [
    "### calcMonAnom*\n",
    "[`calcMonAnomTLL`](https://www.ncl.ucar.edu/Document/Functions/Contributed/calcMonAnomTLL.shtml), [`calcMonAnomTLLL`](https://www.ncl.ucar.edu/Document/Functions/Contributed/calcMonAnomTLLL.shtml), [`calcMonAnomLLT`](https://www.ncl.ucar.edu/Document/Functions/Contributed/calcMonAnomLLT.shtml), and [`calcMonAnomLLLT`](https://www.ncl.ucar.edu/Document/Functions/Contributed/calcMonAnomLLLT.shtml) calculate monthly anomalies by subtracting the long-term mean from each point"
   ]
  },
  {
   "cell_type": "markdown",
   "metadata": {},
   "source": [
    "#### Grab and Go"
   ]
  },
  {
   "cell_type": "code",
   "execution_count": null,
   "metadata": {},
   "outputs": [],
   "source": [
    "import xarray as xr\n",
    "import geocat.datafiles as gcd\n",
    "\n",
    "ds = xr.open_dataset(\n",
    "    gcd.get(\"applications_files/inputs/CMIP6_sea_ice_monthly_subset.nc\")\n",
    ")\n",
    "\n",
    "MonTLL = ds.aice.groupby(\"time.month\")\n",
    "clmMonTLL = MonTLL.mean(\"time\")\n",
    "calcMonAnomTLL = MonTLL - clmMonTLL\n",
    "\n",
    "calcMonAnomTLL = calcMonAnomTLL.assign_attrs(long_name=\"sea ice anomaly\")\n",
    "calcMonAnomTLL[0, :, :].plot();"
   ]
  },
  {
   "cell_type": "code",
   "execution_count": null,
   "metadata": {},
   "outputs": [],
   "source": [
    "from geocat.comp import climate_anomaly\n",
    "import geocat.datafiles as gcd\n",
    "\n",
    "ds = xr.open_dataset(\n",
    "    gcd.get(\"applications_files/inputs/CMIP6_sea_ice_monthly_subset.nc\")\n",
    ")\n",
    "\n",
    "calcMonAnomTLL = climate_anomaly(ds.aice, \"month\")"
   ]
  },
  {
   "cell_type": "markdown",
   "metadata": {},
   "source": [
    "### clmDay*\n",
    "[`clmDayTLL`](https://www.ncl.ucar.edu/Document/Functions/Contributed/clmDayTLL.shtml) and [`clmDayTLLL`](https://www.ncl.ucar.edu/Document/Functions/Contributed/clmDayTLLL.shtml) calculate long-term daily means (daily climatology) from daily data"
   ]
  },
  {
   "cell_type": "markdown",
   "metadata": {},
   "source": [
    "#### Grab and Go"
   ]
  },
  {
   "cell_type": "code",
   "execution_count": null,
   "metadata": {},
   "outputs": [],
   "source": [
    "import xarray as xr\n",
    "import geocat.datafiles as gcd\n",
    "\n",
    "ds = xr.open_dataset(gcd.get(\"applications_files/inputs/CMIP6_sea_ice_daily_subset.nc\"))\n",
    "\n",
    "clmDayTLL = ds.aice_d.groupby(\"time.dayofyear\").mean(\"time\")\n",
    "\n",
    "clmDayTLL[:, 10, 10].plot()\n",
    "plt.title(\"daily climatology\")\n",
    "plt.xlabel(\"day of year\")\n",
    "plt.ylabel(\"sea ice area\");"
   ]
  },
  {
   "cell_type": "code",
   "execution_count": null,
   "metadata": {},
   "outputs": [],
   "source": [
    "from geocat.comp import climatology_average\n",
    "import geocat.datafiles as gcd\n",
    "\n",
    "ds = xr.open_dataset(gcd.get(\"applications_files/inputs/CMIP6_sea_ice_daily_subset.nc\"))\n",
    "\n",
    "clmDayTLL = climatology_average(ds.aice_d, \"day\")"
   ]
  },
  {
   "cell_type": "markdown",
   "metadata": {},
   "source": [
    "### clmMon*\n",
    "[`clmMonTLL`](https://www.ncl.ucar.edu/Document/Functions/Contributed/clmMonTLL.shtml), [`clmMonTLLL`](https://www.ncl.ucar.edu/Document/Functions/Contributed/clmMonTLLL.shtml), [`clmMonLLT`](https://www.ncl.ucar.edu/Document/Functions/Contributed/clmMonLLT.shtml), and [`clmMonLLLT`](https://www.ncl.ucar.edu/Document/Functions/Contributed/clmMonLLLT.shtml) calculate long-term monthly means (monthly climatology) from monthly data"
   ]
  },
  {
   "cell_type": "markdown",
   "metadata": {},
   "source": [
    "#### Grab and Go"
   ]
  },
  {
   "cell_type": "code",
   "execution_count": null,
   "metadata": {},
   "outputs": [],
   "source": [
    "import xarray as xr\n",
    "import geocat.datafiles as gcd\n",
    "\n",
    "ds = xr.open_dataset(\n",
    "    gcd.get(\"applications_files/inputs/CMIP6_sea_ice_monthly_subset.nc\")\n",
    ")\n",
    "\n",
    "clmMonTLL = ds.aice.groupby(\"time.month\").mean(\"time\")\n",
    "\n",
    "clmMonTLL[:, 10, 10].plot()\n",
    "plt.title(\"monthly climatology\")\n",
    "plt.xlabel(\"month of year\")\n",
    "plt.ylabel(\"sea ice area\");"
   ]
  },
  {
   "cell_type": "code",
   "execution_count": null,
   "metadata": {},
   "outputs": [],
   "source": [
    "from geocat.comp import climatology_average\n",
    "import geocat.datafiles as gcd\n",
    "\n",
    "ds = xr.open_dataset(\n",
    "    gcd.get(\"applications_files/inputs/CMIP6_sea_ice_monthly_subset.nc\")\n",
    ")\n",
    "\n",
    "clmMonTLL = climatology_average(ds.aice, \"month\")"
   ]
  },
  {
   "cell_type": "markdown",
   "metadata": {},
   "source": [
    "### month_to_season\n",
    "[`month_to_season`](https://www.ncl.ucar.edu/Document/Functions/Contributed/month_to_season.shtml) computes a user-specified three-month seasonal mean (DJF, JFM, FMA, MAM, AMJ, MJJ, JJA, JAS, ASO, SON, OND, NDJ)\n",
    "\n",
    "```{note}\n",
    "You can do something similar with directly with Xarray as shown in [this example in the Xarray documentation](https://docs.xarray.dev/en/stable/examples/monthly-means.html#Calculating-Seasonal-Averages-from-Time-Series-of-Monthly-Means). However, it requires substantially more code and doesn't have as much flexibility with respect to how the seasons are defined.\n",
    "```"
   ]
  },
  {
   "cell_type": "markdown",
   "metadata": {},
   "source": [
    "#### Grab and Go"
   ]
  },
  {
   "cell_type": "code",
   "execution_count": null,
   "metadata": {},
   "outputs": [],
   "source": [
    "import xarray as xr\n",
    "import geocat.datafiles as gcd\n",
    "from geocat.comp import month_to_season\n",
    "\n",
    "ds = xr.open_dataset(\n",
    "    gcd.get(\"applications_files/inputs/CMIP6_sea_ice_monthly_subset.nc\")\n",
    ")\n",
    "\n",
    "mon_to_season = month_to_season(ds.aice, \"ASO\").assign_attrs(long_name=\"sea ice area\")\n",
    "\n",
    "mon_to_season[0, :, :].plot()\n",
    "\n",
    "plt.title(\"2010 seasonal mean\");"
   ]
  },
  {
   "cell_type": "markdown",
   "metadata": {},
   "source": [
    "### rmMonAnnCyc*\n",
    "[`rmMonAnnCycTLL`](https://www.ncl.ucar.edu/Document/Functions/Contributed/rmMonAnnCycTLL.shtml), [`rmMonAnnCycLLT`](https://www.ncl.ucar.edu/Document/Functions/Contributed/rmMonAnnCycLLT.shtml), and [`rmMonAnnCycLLLT`](https://www.ncl.ucar.edu/Document/Functions/Contributed/rmMonAnnCycLLLT.shtml) remove the annual cycle from monthly data"
   ]
  },
  {
   "cell_type": "markdown",
   "metadata": {},
   "source": [
    "#### Grab and Go"
   ]
  },
  {
   "cell_type": "code",
   "execution_count": null,
   "metadata": {},
   "outputs": [],
   "source": [
    "import xarray as xr\n",
    "import geocat.datafiles as gcd\n",
    "\n",
    "ds = xr.open_dataset(\n",
    "    gcd.get(\"applications_files/inputs/CMIP6_sea_ice_monthly_subset.nc\")\n",
    ")\n",
    "\n",
    "MonTLL = ds.aice.groupby(\"time.month\")\n",
    "clmMonTLL = MonTLL.mean(\"time\")\n",
    "rmMonAnnCycTLL = MonTLL - clmMonTLL\n",
    "\n",
    "rmMonAnnCycTLL[:, 10, 10].plot()\n",
    "plt.title(\"annual cycle removed\")\n",
    "plt.ylabel(\"sea ice area\");"
   ]
  },
  {
   "cell_type": "markdown",
   "metadata": {},
   "source": [
    "### stdMon*\n",
    "[`stdMonTLL`](https://www.ncl.ucar.edu/Document/Functions/Contributed/stdMonTLL.shtml), [`stdMonTLLL`](https://www.ncl.ucar.edu/Document/Functions/Contributed/stdMonTLLL.shtml), [`stdMonLLT`](https://www.ncl.ucar.edu/Document/Functions/Contributed/stdMonLLT.shtml), and [`stdMonLLLT`](https://www.ncl.ucar.edu/Document/Functions/Contributed/stdMonLLLT.shtml)  calculate standard deviations of monthly means"
   ]
  },
  {
   "cell_type": "markdown",
   "metadata": {},
   "source": [
    "#### Grab and Go"
   ]
  },
  {
   "cell_type": "code",
   "execution_count": null,
   "metadata": {},
   "outputs": [],
   "source": [
    "import xarray as xr\n",
    "import geocat.datafiles as gcd\n",
    "\n",
    "ds = xr.open_dataset(\n",
    "    gcd.get(\"applications_files/inputs/CMIP6_sea_ice_monthly_subset.nc\")\n",
    ")\n",
    "\n",
    "stdMonTLL = ds.aice.groupby(\"time.month\").std(ddof=1)\n",
    "\n",
    "stdMonTLL[0, :, :].plot();"
   ]
  },
  {
   "cell_type": "markdown",
   "metadata": {},
   "source": [
    "## Python Resources\n",
    "\n",
    "- [GeoCAT Applications - Climatology](https://ncar.github.io/geocat-applications/applications/data_analysis/climatology.html)\n",
    "- [Xarray User Guide - Time Series Data](https://docs.xarray.dev/en/stable/user-guide/time-series.html)\n",
    "- [Xarray User Guide - GroupBy](https://docs.xarray.dev/en/stable/user-guide/groupby.html)\n",
    "- [Climatematch Academy - Xarray Data Analysis and Climatology](https://comptools.climatematch.io/tutorials/W1D1_ClimateSystemOverview/student/W1D1_Tutorial5.html)\n",
    "- [Project Pythia Foundations - Computations and Masks with Xarray](https://foundations.projectpythia.org/core/xarray/computation-masking)"
   ]
  }
 ],
 "metadata": {
  "kernelspec": {
   "display_name": "Python 3 (ipykernel)",
   "language": "python",
   "name": "python3"
  },
  "language_info": {
   "codemirror_mode": {
    "name": "ipython",
    "version": 3
   },
   "file_extension": ".py",
   "mimetype": "text/x-python",
   "name": "python",
   "nbconvert_exporter": "python",
   "pygments_lexer": "ipython3",
   "version": "3.13.5"
  }
 },
 "nbformat": 4,
 "nbformat_minor": 4
}
