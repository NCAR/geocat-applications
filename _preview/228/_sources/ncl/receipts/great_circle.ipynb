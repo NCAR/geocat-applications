{
 "cells": [
  {
   "cell_type": "markdown",
   "id": "e6eddaf181eacfd3",
   "metadata": {},
   "source": [
    "# Great Circle"
   ]
  },
  {
   "cell_type": "markdown",
   "id": "e6be6389ef38b00b",
   "metadata": {},
   "source": [
    "```{warning} This is not meant to be a standalone notebook.\n",
    "This notebook is part of the process we have for adding entries to the NCL Index and is not meant to be used as tutorial or example code.\n",
    "```"
   ]
  },
  {
   "cell_type": "markdown",
   "id": "536ffded4355d9c6",
   "metadata": {},
   "source": [
    "## Functions covered\n",
    "- [area_poly_sphere](https://www.ncl.ucar.edu/Document/Functions/Built-in/area_poly_sphere.shtml)\n",
    "- [css2c](https://www.ncl.ucar.edu/Document/Functions/Built-in/css2c.shtml)\n",
    "- [csc2s](https://www.ncl.ucar.edu/Document/Functions/Built-in/csc2s.shtml)\n",
    "- [gc_onarc](https://www.ncl.ucar.edu/Document/Functions/Built-in/gc_onarc.shtml)\n",
    "- [gc_qarea](https://www.ncl.ucar.edu/Document/Functions/Built-in/gc_qarea.shtml)\n",
    "- [gc_tarea](https://www.ncl.ucar.edu/Document/Functions/Built-in/gc_tarea.shtml)\n",
    "- [gc_latlon](https://www.ncl.ucar.edu/Document/Functions/Built-in/gc_latlon.shtml)"
   ]
  },
  {
   "cell_type": "markdown",
   "id": "4a129c971c083695",
   "metadata": {},
   "source": [
    "## NCL code"
   ]
  },
  {
   "cell_type": "markdown",
   "id": "3d70616a8934f0fb",
   "metadata": {},
   "source": [
    "```{literalinclude} ../ncl_raw/great_circle.ncl\n",
    "\n",
    "```"
   ]
  },
  {
   "cell_type": "markdown",
   "id": "d918dec004b6456b",
   "metadata": {},
   "source": [
    "## Python Functionality"
   ]
  },
  {
   "cell_type": "markdown",
   "id": "6dc1d6c4-ac26-4346-9aa3-2c73182a7511",
   "metadata": {},
   "source": [
    "### area_poly_sphere"
   ]
  },
  {
   "cell_type": "code",
   "execution_count": null,
   "id": "2ba99b37-a743-4776-bc7b-d5a08b977642",
   "metadata": {},
   "outputs": [],
   "source": [
    "import math\n",
    "\n",
    "ncl_results = {}\n",
    "\n",
    "poly_name = [\n",
    "    \"Boulder, Boston, Houston\",\n",
    "    \"Four Corners of Colorado\",\n",
    "    \"Caltech, Alberta, Greenwich, Paris, Madrid\",\n",
    "    \"Crossing the Equator\",\n",
    "    \"Crossing the Prime Meridian\",\n",
    "    \"Half of the World\",\n",
    "    \"Single Point -> Invalid NCL\",\n",
    "    \"Single Degree\",\n",
    "]\n",
    "\n",
    "ncl_lat = [\n",
    "    [40.0150, 42.3601, 29.5518],\n",
    "    [41.00488, 41.00203, 37.00540, 37.00051],\n",
    "    [34.1377, 53.9333, 51.4934, 48.8575, 40.4167],\n",
    "    [0.4078, -5.9230, 0.1864],\n",
    "    [53.3498, 52.3676, 51.9939],\n",
    "    [90.0, 0.0, -90.0, 0.0],\n",
    "    [40, 40, 40, 40],\n",
    "    [40, 40, 41, 41],\n",
    "]\n",
    "ncl_lon = [\n",
    "    [-105.2705, -71.0589, -95.0982],\n",
    "    [-109.05001, -102.05348, -103.04633, -109.04720],\n",
    "    [-118.1253, -116.5765, 0.0098, 2.3514, -3.7033],\n",
    "    [9.4403, 12.3636, 6.6131],\n",
    "    [-6.2603, 4.9041, -4.9760],\n",
    "    [0.0, -90.0, 0.0, 90.0],\n",
    "    [-105, -105, -105, -105],\n",
    "    [-105, -106, -106, -105],\n",
    "]\n",
    "ncl_results[poly_name[0]] = 1940856\n",
    "ncl_results[poly_name[1]] = 250007.6\n",
    "ncl_results[poly_name[2]] = 11634800\n",
    "ncl_results[poly_name[3]] = 114894.8\n",
    "ncl_results[poly_name[4]] = 54450.39\n",
    "ncl_results[poly_name[5]] = 255032000\n",
    "ncl_results[poly_name[6]] = -127516000\n",
    "ncl_results[poly_name[7]] = 9401.705\n",
    "\n",
    "from pyproj import Geod\n",
    "\n",
    "python_results = {}\n",
    "geod = Geod(ellps=\"sphere\")  # radius = 6370997 m\n",
    "for i in range(len(poly_name)):\n",
    "    poly_area_m, _ = geod.polygon_area_perimeter(ncl_lon[i], ncl_lat[i])\n",
    "    poly_area_km2 = abs(poly_area_m) * 1e-6\n",
    "    python_results[poly_name[i]] = poly_area_km2"
   ]
  },
  {
   "cell_type": "markdown",
   "id": "c0e65c3e-2377-47ec-b94c-e7eb753966d9",
   "metadata": {},
   "source": [
    "### css2c"
   ]
  },
  {
   "cell_type": "code",
   "execution_count": null,
   "id": "35abde81-5843-4504-8e32-a137ee1aa094",
   "metadata": {},
   "outputs": [],
   "source": [
    "import geocat.datafiles as gcd\n",
    "import numpy as np\n",
    "from astropy.coordinates.representation import UnitSphericalRepresentation\n",
    "from astropy import units\n",
    "\n",
    "css2c_data = gcd.get('applications_files/ncl_outputs/css2c_output.txt')\n",
    "css2c_data = np.loadtxt(css2c_data, delimiter=',', skiprows=6)\n",
    "\n",
    "lat_lon = tuple(map(tuple, (css2c_data[::, 0:2])))\n",
    "cart_values = tuple(css2c_data[::, 2:])\n",
    "ncl_css2c = dict(zip(lat_lon, cart_values))"
   ]
  },
  {
   "cell_type": "code",
   "execution_count": null,
   "id": "ee104ea1-e287-4635-b404-5b06ccfb6949",
   "metadata": {},
   "outputs": [],
   "source": [
    "## Collect Latitude and Longtiude Pairs\n",
    "lat_lon = []\n",
    "for lat in range(-90, 90 + 1):\n",
    "    for lon in range(-180, 180 + 1):\n",
    "        lat_lon.append((lat, lon))\n",
    "\n",
    "## Calculate Cartesian coordinates\n",
    "astropy_css2c = {}\n",
    "for i, pair in enumerate(lat_lon):\n",
    "    lat, lon = pair\n",
    "    spherical_coords = UnitSphericalRepresentation(\n",
    "        lat=lat * units.deg, lon=lon * units.deg\n",
    "    )\n",
    "    cart_coords = spherical_coords.to_cartesian()\n",
    "    astropy_css2c[pair] = cart_coords.xyz.value"
   ]
  },
  {
   "cell_type": "markdown",
   "id": "399d047d-f22c-41cf-996d-d84e1f5b096c",
   "metadata": {},
   "source": [
    "### csc2s"
   ]
  },
  {
   "cell_type": "code",
   "execution_count": null,
   "id": "5ae18411-506d-455c-867e-50273bfff7e2",
   "metadata": {},
   "outputs": [],
   "source": [
    "import geocat.datafiles as gcd\n",
    "from astropy.coordinates.representation import (\n",
    "    CartesianRepresentation,\n",
    "    SphericalRepresentation,\n",
    ")\n",
    "import numpy as np\n",
    "\n",
    "csc2s_data = gcd.get('applications_files/ncl_outputs/csc2s_output.txt')\n",
    "csc2s_data = np.loadtxt(csc2s_data, delimiter=',', skiprows=6)\n",
    "\n",
    "input_lat_lon = tuple(map(tuple, csc2s_data[::, 0:2]))\n",
    "cart_values = tuple(map(tuple, (csc2s_data[::, 2:5])))\n",
    "output_lat_lon = tuple(map(tuple, (csc2s_data[::, 5:])))\n",
    "ncl_csc2s = dict(zip(input_lat_lon, cart_values))\n",
    "ncl_csc2s_input_output = dict(zip(input_lat_lon, output_lat_lon))"
   ]
  },
  {
   "cell_type": "code",
   "execution_count": null,
   "id": "043a0ec3-e0a2-4c6e-952d-1d459237a1f4",
   "metadata": {},
   "outputs": [],
   "source": [
    "## Calculate Spherical coordinates\n",
    "def spherical_cart(x, y, z):\n",
    "    cart_coords = CartesianRepresentation(x=x, y=y, z=z)\n",
    "    spherical_coords = cart_coords.represent_as(SphericalRepresentation)\n",
    "    # convert latitude/longitude from radians to degrees\n",
    "    lat_deg = np.rad2deg(spherical_coords.lat.value)\n",
    "    lon_deg = (\n",
    "        np.rad2deg(spherical_coords.lon.value) + 180\n",
    "    ) % 360 - 180  # keep longitude between -180 to 180\n",
    "    return (lat_deg, lon_deg)\n",
    "\n",
    "\n",
    "astropy_csc2s = {}\n",
    "for xyz in cart_values:\n",
    "    x, y, z = xyz\n",
    "    lat_lon = spherical_cart(x, y, z)\n",
    "    astropy_csc2s[lat_lon] = tuple(xyz)"
   ]
  },
  {
   "cell_type": "markdown",
   "id": "27619cff-595a-4317-aadb-f7b3d3bf027d",
   "metadata": {},
   "source": [
    "### gc_onarc"
   ]
  },
  {
   "cell_type": "code",
   "execution_count": null,
   "id": "8fe09ce4-a820-4ea8-89aa-26da0db70961",
   "metadata": {},
   "outputs": [],
   "source": [
    "ncl_gc_onarc = {}\n",
    "\n",
    "# Arc above/below latitude with point in Boulder with same longitude = True\n",
    "ncl_lat = (40.0150, 50.0150, 30.0150)\n",
    "ncl_lon = (-105.2705, -105.2705, -105.2705)\n",
    "ncl_gc_onarc[(ncl_lat, ncl_lon)] = True\n",
    "\n",
    "# Arc from Denver to Boston, point with Boulder\n",
    "ncl_lat = (40.0150, 39.73915, 42.35843)\n",
    "ncl_lon = (-105.2705, -104.9847, -71.05977)\n",
    "ncl_gc_onarc[(ncl_lat, ncl_lon)] = False\n",
    "\n",
    "# All three points in the same position\n",
    "ncl_lat = (40.0150, 40.0150, 40.0150)\n",
    "ncl_long = (-105.2705, -105.2705, -105.2705)\n",
    "ncl_gc_onarc[(ncl_lat, ncl_long)] = True\n",
    "\n",
    "# Anti-meridian\n",
    "ncl_lat = (24.86658349036834, 55.182644873824785, 49.05673786129486)\n",
    "ncl_lon = (151.60735730237568, 30.6703372467811, 179.59874545906715)\n",
    "ncl_gc_onarc[(ncl_lat, ncl_lon)] = False"
   ]
  },
  {
   "cell_type": "code",
   "execution_count": null,
   "id": "dcb76896-5a45-466a-93e5-52cd645734db",
   "metadata": {},
   "outputs": [],
   "source": [
    "import numpy as np\n",
    "\n",
    "\n",
    "def latlon_to_cart(lat, lon):\n",
    "    from astropy.coordinates.representation import UnitSphericalRepresentation\n",
    "    from astropy import units\n",
    "\n",
    "    spherical_coords = UnitSphericalRepresentation(\n",
    "        lat=lat * units.deg, lon=lon * units.deg\n",
    "    )\n",
    "    cart_coords = spherical_coords.to_cartesian()\n",
    "    return np.array([cart_coords.x, cart_coords.y, cart_coords.z])\n",
    "\n",
    "\n",
    "python_onarc = {}\n",
    "\n",
    "from uxarray.grid.arcs import point_within_gca\n",
    "\n",
    "for ncl_latlon in ncl_gc_onarc.keys():\n",
    "    pt_within = latlon_to_cart(ncl_latlon[0][0], ncl_latlon[1][0])\n",
    "    vertex_a = latlon_to_cart(ncl_latlon[0][1], ncl_latlon[1][1])\n",
    "    vertex_b = latlon_to_cart(ncl_latlon[0][2], ncl_latlon[1][2])\n",
    "\n",
    "    python_onarc[ncl_latlon] = point_within_gca(pt_within, vertex_a, vertex_b)"
   ]
  },
  {
   "cell_type": "markdown",
   "id": "c3f12f34-9f85-42fb-8299-14d7280c065a",
   "metadata": {},
   "source": [
    "### gc_qarea"
   ]
  },
  {
   "cell_type": "code",
   "execution_count": null,
   "id": "0c6faeee-3ae8-4f4e-8270-c68cd82e9956",
   "metadata": {},
   "outputs": [],
   "source": [
    "ncl_gc_qarea = {}\n",
    "\n",
    "# Roughly the Four Corners of Colorado\n",
    "ncl_lat = (41.00488, 41.00203, 37.00540, 37.00051)\n",
    "ncl_lon = (-109.05001, -102.05348, -103.04633, -109.04720)\n",
    "ncl_gc_qarea[(ncl_lat, ncl_lon)] = 250007.7\n",
    "\n",
    "# Boulder, Boston, Cape Canaveral, Houston\n",
    "ncl_lat = (40.0150, 42.3601, 28.3968, 29.5518)\n",
    "ncl_lon = (-105.2705, -71.0589, -80.6057, -95.0982)\n",
    "ncl_gc_qarea[(ncl_lat, ncl_lon)] = 3154871\n",
    "\n",
    "# Crossing the Equator (0 degrees Latitude) = Boulder, Boston, Montevideo, Quito\n",
    "ncl_lat = (40.0150, 42.3601, -34.5420, -0.1312)\n",
    "ncl_long = (-105.2705, -71.0589, -56.1103, -78.3045)\n",
    "ncl_gc_qarea[(ncl_lat, ncl_long)] = 15073160  # 1.507316e+07\n",
    "\n",
    "# Crossing the Prime Meridian (0 Degrees Longitude)=  Dublin, Norwich, London, Cardiff\n",
    "ncl_lat = (53.2100, 52.3743, 51.3026, 51.2854)\n",
    "ncl_lon = (-6.1537, 1.1734, -0.739, -3.1045)\n",
    "ncl_gc_qarea[(ncl_lat, ncl_lon)] = 54846.59\n",
    "\n",
    "# Half of the World\n",
    "ncl_lat = (90.0, 0.0, -90.0, 0.0)\n",
    "ncl_lon = (0.0, -90.0, 0.0, 90.0)\n",
    "ncl_gc_qarea[(ncl_lat, ncl_lon)] = 255032000  # 2.55032e+08"
   ]
  },
  {
   "cell_type": "code",
   "execution_count": null,
   "id": "5676ffa6-1828-45dc-a132-b4b8bedce272",
   "metadata": {},
   "outputs": [],
   "source": [
    "from pyproj import Geod\n",
    "\n",
    "python_gc_qarea = {}\n",
    "\n",
    "geod = Geod(ellps=\"sphere\")  # radius = 6370997 m\n",
    "for lat_lon in ncl_gc_qarea.keys():\n",
    "    lat, lon = lat_lon\n",
    "    poly_area_m, _ = geod.polygon_area_perimeter(lon, lat)\n",
    "    poly_area_km2 = abs(poly_area_m) * 1e-6\n",
    "    python_gc_qarea[lat_lon] = poly_area_km2"
   ]
  },
  {
   "cell_type": "markdown",
   "id": "54375f26-5af6-4f53-a0ae-6bd5f0709868",
   "metadata": {},
   "source": [
    "### gc_tarea"
   ]
  },
  {
   "cell_type": "code",
   "execution_count": null,
   "id": "eb56eeb6-02f0-4a7b-92be-a4bc4455dad3",
   "metadata": {},
   "outputs": [],
   "source": [
    "ncl_gc_tarea = {}\n",
    "\n",
    "# 1/8th the surface of Earth (North)\n",
    "ncl_lat = (0.0, 0.0, 90.0)\n",
    "ncl_long = (0.0, 90.0, 0.0)\n",
    "ncl_gc_tarea[(ncl_lat, ncl_long)] = 63758000  # 6.3758e+07\n",
    "\n",
    "# 1/8th the surface of Earth (South)\n",
    "ncl_lat = (0.0, 0.0, -90.0)\n",
    "ncl_long = (0.0, 90.0, 0.0)\n",
    "ncl_gc_tarea[(ncl_lat, ncl_long)] = 63758000  # 6.3758e+07\n",
    "\n",
    "# Triangle Across United (Redwoods, Boston, Houston)\n",
    "ncl_lat = (41.4017, 42.3601, 29.5518)\n",
    "ncl_long = (-124.0417, -71.0589, -95.0982)\n",
    "ncl_gc_tarea[(ncl_lat, ncl_long)] = 3782549\n",
    "\n",
    "# Boulder, Boston, Montevideo (Crosses 0 degrees Latitude)\n",
    "ncl_lat = (40.0150, 42.3601, -34.5420)\n",
    "ncl_long = (-105.2705, -71.0589, -56.1103)\n",
    "ncl_gc_tarea[(ncl_lat, ncl_long)] = 14935060  # 1.493506e+07\n",
    "\n",
    "# Boulder, Cairo, Houston (Crosses 0 degrees Longitude)\n",
    "ncl_lat = (40.0150, 30.240, 29.5518)\n",
    "ncl_long = (-105.2705, 31.149, -95.0982)\n",
    "ncl_gc_tarea[(ncl_lat, ncl_long)] = 11144340  # 1.114434e+07\n",
    "\n",
    "# BEquator and Pole (two 90 degree spherical angles)\n",
    "ncl_lat = (0, 0, 90)\n",
    "ncl_long = (-105, 0, 0)\n",
    "ncl_gc_tarea[(ncl_lat, ncl_long)] = 74384340  # 7.438434e+07"
   ]
  },
  {
   "cell_type": "code",
   "execution_count": null,
   "id": "da68c912-a9fa-436e-841c-d8b4071aede6",
   "metadata": {},
   "outputs": [],
   "source": [
    "from pyproj import Geod\n",
    "\n",
    "python_gc_tarea = {}\n",
    "\n",
    "geod = Geod(ellps=\"sphere\")  # radius = 6370997 m\n",
    "for lat_lon in ncl_gc_tarea.keys():\n",
    "    lat, lon = lat_lon\n",
    "    poly_area_m, _ = geod.polygon_area_perimeter(lon, lat)\n",
    "    poly_area_km2 = abs(poly_area_m) * 1e-6\n",
    "    python_gc_tarea[lat_lon] = poly_area_km2"
   ]
  },
  {
   "cell_type": "markdown",
   "id": "2115ee2a-e8bb-41b6-b212-a0776adae1a9",
   "metadata": {},
   "source": [
    "### gc_latlon"
   ]
  },
  {
   "cell_type": "markdown",
   "id": "d3a5dc1b-fd43-440c-8a50-aa4c836531a2",
   "metadata": {},
   "source": [
    "#### Great Circle Distance"
   ]
  },
  {
   "cell_type": "code",
   "execution_count": null,
   "id": "732ec141-1e77-41ba-b257-8db425cd964a",
   "metadata": {},
   "outputs": [],
   "source": [
    "ncl_gc_latlon_dist = {}\n",
    "\n",
    "# Distance between Equator and North Pole\n",
    "lat1 = 0\n",
    "lon1 = 0\n",
    "lat2 = 90\n",
    "lon2 = 0\n",
    "ncl_gc_latlon_dist[(lat1, lon1, lat2, lon2)] = 10007.89\n",
    "\n",
    "# Distance between Sacramento and Albany\n",
    "lat1 = 38.54623\n",
    "lon1 = -121.42660\n",
    "lat2 = 42.66575\n",
    "lon2 = -73.79901\n",
    "ncl_gc_latlon_dist[(lat1, lon1, lat2, lon2)] = 3993.532\n",
    "\n",
    "# Distance between Boulder and Boston\n",
    "lat1 = 40.0150\n",
    "lon1 = -105.2705\n",
    "lat2 = 42.3601\n",
    "lon2 = -71.0589\n",
    "ncl_gc_latlon_dist[(lat1, lon1, lat2, lon2)] = 2855.432\n",
    "\n",
    "# Distance bewtween Nairobi and Cairo (Crosses 0 degrees Latitude)\n",
    "lat1 = -1.1711\n",
    "lon1 = 36.4902\n",
    "lat2 = 30.240\n",
    "lon2 = 31.149\n",
    "ncl_gc_latlon_dist[(lat1, lon1, lat2, lon2)] = 3538.456\n",
    "\n",
    "# Distance between Dublin and London (Crosses 0 degrees Longitude)\n",
    "lat1 = 53.21\n",
    "lon1 = -5.1537\n",
    "lat2 = 51.3026\n",
    "lon2 = 0.739\n",
    "ncl_gc_latlon_dist[(lat1, lon1, lat2, lon2)] = 453.5349\n",
    "\n",
    "# Distance between North to South Pole\n",
    "lat1 = 90\n",
    "lon1 = 0\n",
    "lat2 = -90\n",
    "lon2 = 0\n",
    "ncl_gc_latlon_dist[(lat1, lon1, lat2, lon2)] = 20015.78"
   ]
  },
  {
   "cell_type": "code",
   "execution_count": null,
   "id": "7e789a84-f09d-4e07-806c-3e562d1ea592",
   "metadata": {},
   "outputs": [],
   "source": [
    "from pyproj import Geod\n",
    "\n",
    "python_gc_latlon_dist = {}\n",
    "\n",
    "for latlon in ncl_gc_latlon_dist.keys():\n",
    "    geodesic = Geod(ellps=\"sphere\")\n",
    "    _, _, distance_m = geodesic.inv(latlon[1], latlon[0], latlon[3], latlon[2])\n",
    "    distance_km = distance_m / 1000\n",
    "    python_gc_latlon_dist[latlon] = distance_km"
   ]
  },
  {
   "cell_type": "markdown",
   "id": "83991712-dc8b-4026-86f0-154b1ad5c1e7",
   "metadata": {},
   "source": [
    "#### Interpolated Points"
   ]
  },
  {
   "cell_type": "code",
   "execution_count": null,
   "id": "947c0067-a6ac-40ad-923c-452f1145aa26",
   "metadata": {},
   "outputs": [],
   "source": [
    "ncl_gc_latlon_npts = {}\n",
    "\n",
    "# Distance between Equator and North Pole\n",
    "lat1 = 0\n",
    "lon1 = 0\n",
    "lat2 = 90\n",
    "lon2 = 0\n",
    "lon = [\n",
    "    0,\n",
    "    6.186176e-16,\n",
    "    1.276937e-15,\n",
    "    2.025549e-15,\n",
    "    2.943859e-15,\n",
    "    4.181094e-15,\n",
    "    6.076649e-15,\n",
    "    9.639125e-15,\n",
    "    1.989687e-14,\n",
    "    0,\n",
    "]\n",
    "lat = [0, 10, 20, 30, 40, 50, 60, 70, 80, 90]\n",
    "ncl_gc_latlon_npts[(lat1, lon1, lat2, lon2)] = list(zip(lat, lon))\n",
    "\n",
    "# Distance between Sacramento and Albany\n",
    "lat1 = 38.54623\n",
    "lon1 = -121.42660\n",
    "lat2 = 42.66575\n",
    "lon2 = -73.79901\n",
    "lat = [\n",
    "    38.54623,\n",
    "    39.95334,\n",
    "    41.15266,\n",
    "    42.12738,\n",
    "    42.86257,\n",
    "    43.34622,\n",
    "    43.56999,\n",
    "    43.52992,\n",
    "    43.22673,\n",
    "    42.66575,\n",
    "]\n",
    "lon = [\n",
    "    238.5734,\n",
    "    243.3962,\n",
    "    248.4062,\n",
    "    253.585,\n",
    "    258.9052,\n",
    "    264.3314,\n",
    "    269.8211,\n",
    "    275.3275,\n",
    "    280.8027,\n",
    "    286.201,\n",
    "]\n",
    "ncl_gc_latlon_npts[(lat1, lon1, lat2, lon2)] = list(zip(lat, lon))\n",
    "\n",
    "# Distance between Boulder and Boston\n",
    "lat1 = 40.0150\n",
    "lon1 = -105.2705\n",
    "lat2 = 42.3601\n",
    "lon2 = -71.0589\n",
    "lat = [\n",
    "    40.015,\n",
    "    40.76997,\n",
    "    41.40982,\n",
    "    41.92961,\n",
    "    42.32515,\n",
    "    42.59314,\n",
    "    42.73126,\n",
    "    42.73831,\n",
    "    42.61423,\n",
    "    42.3601,\n",
    "]\n",
    "lon = [\n",
    "    254.7295,\n",
    "    258.3425,\n",
    "    262.0321,\n",
    "    265.7881,\n",
    "    269.5983,\n",
    "    273.4489,\n",
    "    277.3247,\n",
    "    281.2095,\n",
    "    285.087,\n",
    "    288.9411,\n",
    "]\n",
    "ncl_gc_latlon_npts[(lat1, lon1, lat2, lon2)] = list(zip(lat, lon))\n",
    "\n",
    "# Distance between Nairobi and Cairo (Crosses 0 degrees Latitude)\n",
    "lat1 = -1.1711\n",
    "lon1 = 36.4902\n",
    "lat2 = 30.240\n",
    "lon2 = 31.149\n",
    "lat = [\n",
    "    -1.1711,\n",
    "    2.3232,\n",
    "    5.817294,\n",
    "    9.310863,\n",
    "    12.80358,\n",
    "    16.29507,\n",
    "    19.78496,\n",
    "    23.27277,\n",
    "    26.758,\n",
    "    30.24,\n",
    "]\n",
    "lon = [\n",
    "    36.4902,\n",
    "    35.95082,\n",
    "    35.40877,\n",
    "    34.85993,\n",
    "    34.3,\n",
    "    33.72431,\n",
    "    33.12772,\n",
    "    32.50438,\n",
    "    31.84749,\n",
    "    31.149,\n",
    "]\n",
    "ncl_gc_latlon_npts[(lat1, lon1, lat2, lon2)] = list(zip(lat, lon))\n",
    "\n",
    "# Distance between Dublin and London (Crosses 0 degrees Longitude)\n",
    "lat1 = 53.21\n",
    "lon1 = -5.1537\n",
    "lat2 = 51.3026\n",
    "lon2 = 0.739\n",
    "lat = [\n",
    "    53.21,\n",
    "    53.01284,\n",
    "    52.81184,\n",
    "    52.60707,\n",
    "    52.39858,\n",
    "    52.18644,\n",
    "    51.97071,\n",
    "    51.75145,\n",
    "    51.52873,\n",
    "    51.3026,\n",
    "]\n",
    "lon = [\n",
    "    354.8463,\n",
    "    355.5261,\n",
    "    356.1996,\n",
    "    356.8669,\n",
    "    357.5279,\n",
    "    358.1826,\n",
    "    358.8311,\n",
    "    359.4733,\n",
    "    0.1092852,\n",
    "    0.739,\n",
    "]\n",
    "ncl_gc_latlon_npts[(lat1, lon1, lat2, lon2)] = list(zip(lat, lon))\n",
    "\n",
    "# Distance between North to South Pole\n",
    "lat1 = 90\n",
    "lon1 = 0\n",
    "lat2 = -90\n",
    "lon2 = 0\n",
    "lat = [90, 70, 50, 30, 10, -10, -30, -50, -70, -90]\n",
    "lon = [\n",
    "    0,\n",
    "    3.508355e-15,\n",
    "    3.508355e-15,\n",
    "    3.508355e-15,\n",
    "    3.508355e-15,\n",
    "    3.508355e-15,\n",
    "    3.508355e-15,\n",
    "    3.508355e-15,\n",
    "    3.508355e-15,\n",
    "    0,\n",
    "]\n",
    "ncl_gc_latlon_npts[(lat1, lon1, lat2, lon2)] = list(zip(lat, lon))"
   ]
  },
  {
   "cell_type": "code",
   "execution_count": null,
   "id": "698cf860-4a22-43e1-8299-9ba72ff5ca93",
   "metadata": {},
   "outputs": [],
   "source": [
    "from pyproj import Geod\n",
    "\n",
    "python_gc_latlon_npts = {}\n",
    "\n",
    "for latlon in ncl_gc_latlon_dist.keys():\n",
    "    geodesic = Geod(ellps=\"sphere\")\n",
    "    pts = geodesic.npts(latlon[1], latlon[0], latlon[3], latlon[2], 8)\n",
    "    python_gc_latlon_npts[latlon] = [[pt[1], pt[0] % 360] for pt in pts]\n",
    "\n",
    "    # add starting and ending points of GC arc\n",
    "    lat1, lon1 = latlon[0], latlon[1]\n",
    "    lat2, lon2 = latlon[2], latlon[3]\n",
    "    python_gc_latlon_npts[latlon] = (\n",
    "        [[lat1, lon1]] + python_gc_latlon_npts[latlon] + [[lat2, lon2]]\n",
    "    )"
   ]
  },
  {
   "cell_type": "markdown",
   "id": "3237a0bffc6827fc",
   "metadata": {},
   "source": [
    "## Comparison"
   ]
  },
  {
   "cell_type": "markdown",
   "id": "384790de-53f9-45d7-8bc1-fef86df21b57",
   "metadata": {},
   "source": [
    "### area_poly_sphere"
   ]
  },
  {
   "cell_type": "markdown",
   "id": "cb61d4f0-bd10-4034-bfe8-b0c6e9137ec3",
   "metadata": {},
   "source": [
    "<div class=\"admonition alert alert-info\">\n",
    "    <p class=\"admonition-title\" style=\"font-weight:bold\">Important Note</p>\n",
    "    NCL does not return a valid value for a single point (\"Single Point -> Invalid NCL\") where Python does, so this error is ignored below\n",
    "</div>"
   ]
  },
  {
   "cell_type": "code",
   "execution_count": null,
   "id": "74362fd9-0e9f-4cf9-91da-08cd81be625c",
   "metadata": {},
   "outputs": [],
   "source": [
    "for key in ncl_results.keys():\n",
    "    if key in python_results.keys() and key in python_results.keys():\n",
    "        try:\n",
    "            assert math.isclose(\n",
    "                ncl_results[key], python_results[key], rel_tol=1e-5\n",
    "            )  # within 4 decimal points\n",
    "            print(\n",
    "                f\"VALID:\\n\\t{key}: \\n\\tncl:\\t\\t{ncl_results[key]}\\n\\tpython:\\t\\t{python_results[key]}\\n\"\n",
    "            )\n",
    "        except Exception:\n",
    "            print(\n",
    "                f\"INVALID:\\n\\t{key}: \\n\\t\\tncl:\\t\\t{ncl_results[key]}\\n\\t\\tpython:\\t\\t{python_results[key]}\\n\"\n",
    "            )\n",
    "            if key != \"Single Point -> Invalid NCL\":\n",
    "                assert False"
   ]
  },
  {
   "cell_type": "markdown",
   "id": "57251c09-ef8c-438f-b3cf-cf798e7f4028",
   "metadata": {},
   "source": [
    "### css2c"
   ]
  },
  {
   "cell_type": "code",
   "execution_count": null,
   "id": "d5738d2d-5abe-4ed4-8e90-c42881c2bfb0",
   "metadata": {},
   "outputs": [],
   "source": [
    "for key in ncl_css2c.keys():\n",
    "    if key in astropy_css2c.keys():\n",
    "        assert abs(ncl_css2c[key][0] - astropy_css2c[key][0]) < 0.000005\n",
    "        assert abs(ncl_css2c[key][1] - astropy_css2c[key][1]) < 0.000005\n",
    "        assert abs(ncl_css2c[key][2] - astropy_css2c[key][2]) < 0.000005"
   ]
  },
  {
   "cell_type": "markdown",
   "id": "90d7474d-60fb-4c22-8191-a120560174af",
   "metadata": {},
   "source": [
    "### csc2s"
   ]
  },
  {
   "cell_type": "markdown",
   "id": "fa9fb6d4-550b-4d61-85df-51b268a96256",
   "metadata": {},
   "source": [
    "<div class=\"admonition alert alert-info\">\n",
    "    <p class=\"admonition-title\" style=\"font-weight:bold\">Important Note</p>\n",
    "    To generate the Cartesian coordinates to test against, the NCL script for this receipt converts a range of latitude/longitude to Cartesian coordinates (with the `css2c` function). The Carestian coordinates are then converted back into latitude/longitude with the `csc2s` function. This allows the receipt to test `csc2s` across a full range of coordinates. However, NCL coordinates representing the poles (+90/-90) and the antimeridian (+180/-180) produced through this process return as an equivalent, but different value. \n",
    "    For example, an input at the pole (-90, -179) produces an output of (-90, 1) and an input of (-90,13) produces an output (-90,-167).\n",
    "\n",
    "```\n",
    "ncl 0> cart = css2c(-90, 87)\n",
    "ncl 1> print(csc2s(cart(0,0), cart(1,0), cart(2,0)))\n",
    "(0,0)\t-90\n",
    "(1,0)\t-92.99999\n",
    "```\n",
    "The same applies for the antimerdian where, for example, an input of (-89,-180) produces an output of (-89,180)\n",
    "```\n",
    "ncl 4> cart = css2c(89,180)                          \n",
    "ncl 5> print(csc2s(cart(0,0), cart(1,0), cart(2,0)))\n",
    "(0,0)\t89.00005\n",
    "(1,0)\t-180\n",
    "```\n",
    "</div>"
   ]
  },
  {
   "cell_type": "code",
   "execution_count": null,
   "id": "2e651572-aeb0-458f-9590-2ee6d2008235",
   "metadata": {},
   "outputs": [],
   "source": [
    "# Verify Latitude/Longitude Inputs match the Latitude/Longtiude Outputs\n",
    "for key in ncl_csc2s_input_output.keys():\n",
    "    try:\n",
    "        assert ncl_csc2s_input_output[key][0] == key[0]\n",
    "        assert ncl_csc2s_input_output[key][1] == key[1]\n",
    "    except Exception:\n",
    "        if (\n",
    "            abs(ncl_csc2s_input_output[key][0]) != 90\n",
    "            and abs(ncl_csc2s_input_output[key][1]) != 180\n",
    "        ):\n",
    "            print(Exception)\n",
    "            # Expected places where input lat/lon will not match output lat/lon in NCL\n",
    "            # NCL produces flipped longitude value for +/-90 latitude, example: (90,-179)->(90,1)\n",
    "            # NCL produces flipped longitude value for all latitude values when longitude is 180, example: (79,-180)->(79,180)\n",
    "            assert False"
   ]
  },
  {
   "cell_type": "code",
   "execution_count": null,
   "id": "53360a09-f1f3-4b0f-b7b4-9501aa5c92e1",
   "metadata": {},
   "outputs": [],
   "source": [
    "# Verify conversions from cartesian coordinates to latitude/longtiude\n",
    "for i, key in enumerate(ncl_csc2s.keys()):\n",
    "    if i % 3 == 0:  # test every third point to prevent CellTimeoutError\n",
    "        try:\n",
    "            assert abs(key[0] - list(astropy_csc2s.keys())[i][0]) < 0.0005\n",
    "            assert abs(key[1] - list(astropy_csc2s.keys())[i][1]) < 0.0005\n",
    "        except Exception:\n",
    "            if not math.isclose(abs(key[0]), 90) and not math.isclose(abs(key[1]), 180):\n",
    "                print(abs(key[0] - list(astropy_csc2s.keys())[i][0]))\n",
    "                print(abs(key[1] - list(astropy_csc2s.keys())[i][1]))\n",
    "                # Expected places where input lat/lon will not match output lat/lon in NCL\n",
    "                # NCL produces flipped longitude value for +/-90 latitude, example: (90,-179)->(90,1)\n",
    "                # NCL produces flipped longitude value for all latitude values when longitude is 180, example: (79,-180)->(79,180)\n",
    "                assert False"
   ]
  },
  {
   "cell_type": "markdown",
   "id": "1343e666-7b09-4de2-8052-e1c9bf5b4b48",
   "metadata": {},
   "source": [
    "### gc_onarc"
   ]
  },
  {
   "cell_type": "markdown",
   "id": "295d1c1b-43ea-49ed-a6f2-514539eb4900",
   "metadata": {},
   "source": [
    "<div class=\"admonition alert alert-info\">\n",
    "    <p class=\"admonition-title\" style=\"font-weight:bold\">Important Note</p>\n",
    "    The tolerance for the function to check if a point lies on a great circle arc varies between NCL and UXarray which can generate some potential mismatches when comparing between each function"
   ]
  },
  {
   "cell_type": "code",
   "execution_count": null,
   "id": "41a021f9-5ca3-45bf-af11-89c81c900d0a",
   "metadata": {},
   "outputs": [],
   "source": [
    "for latlon in ncl_gc_onarc.keys():\n",
    "    assert ncl_gc_onarc[latlon] is python_onarc[latlon]"
   ]
  },
  {
   "cell_type": "markdown",
   "id": "87767623-44f2-498c-a3fa-b292ecfd4975",
   "metadata": {},
   "source": [
    "### gc_qarea"
   ]
  },
  {
   "cell_type": "code",
   "execution_count": null,
   "id": "10cd2464-e08f-4dd9-a9ca-d7571962c142",
   "metadata": {},
   "outputs": [],
   "source": [
    "import math\n",
    "\n",
    "for latlon in ncl_gc_qarea.keys():\n",
    "    assert math.isclose(\n",
    "        ncl_gc_qarea[latlon], python_gc_qarea[latlon], rel_tol=1e-2\n",
    "    )  # within 2 decimal points"
   ]
  },
  {
   "cell_type": "markdown",
   "id": "4c514109-e0c8-46f3-b3a2-030910cd9116",
   "metadata": {},
   "source": [
    "### gc_tarea"
   ]
  },
  {
   "cell_type": "code",
   "execution_count": null,
   "id": "58413432-99b2-4478-997b-feec86d142ef",
   "metadata": {},
   "outputs": [],
   "source": [
    "import math\n",
    "\n",
    "for latlon in ncl_gc_tarea.keys():\n",
    "    assert math.isclose(\n",
    "        ncl_gc_tarea[latlon], python_gc_tarea[latlon], rel_tol=1e-2\n",
    "    )  # within 2 decimal points"
   ]
  },
  {
   "cell_type": "markdown",
   "id": "1be63d43-75b5-40fb-bcf3-9b9ed0b63db7",
   "metadata": {},
   "source": [
    "### gc_latlon"
   ]
  },
  {
   "cell_type": "markdown",
   "id": "f3551585-e107-4cf3-8e7c-01540ad76396",
   "metadata": {},
   "source": [
    "#### Great Circle Distance"
   ]
  },
  {
   "cell_type": "code",
   "execution_count": null,
   "id": "93bf228f-e6d8-4962-8b21-e5ed0687d5ec",
   "metadata": {},
   "outputs": [],
   "source": [
    "import math\n",
    "\n",
    "for latlon in ncl_gc_latlon_dist.keys():\n",
    "    assert math.isclose(\n",
    "        ncl_gc_latlon_dist[latlon], python_gc_latlon_dist[latlon], rel_tol=1e-2\n",
    "    )  # within 2 decimal points"
   ]
  },
  {
   "cell_type": "markdown",
   "id": "036c0cc3-a955-4122-ab9b-ebd87b75aedd",
   "metadata": {},
   "source": [
    "#### Interpolated Points"
   ]
  },
  {
   "cell_type": "code",
   "execution_count": null,
   "id": "5ee49355-4d2c-45c9-8110-df608f7601ad",
   "metadata": {},
   "outputs": [],
   "source": [
    "import math\n",
    "\n",
    "for latlon in ncl_gc_latlon_npts.keys():\n",
    "    for i, pts in enumerate(ncl_gc_latlon_npts[latlon]):\n",
    "        assert (\n",
    "            ncl_gc_latlon_npts[latlon][i][0]\n",
    "            - (python_gc_latlon_npts[latlon][i][0] % 360)\n",
    "            < 0.01\n",
    "        )\n",
    "        assert (\n",
    "            ncl_gc_latlon_npts[latlon][i][1]\n",
    "            - (python_gc_latlon_npts[latlon][i][1] % 360)\n",
    "            < 0.01\n",
    "        )"
   ]
  }
 ],
 "metadata": {
  "kernelspec": {
   "display_name": "Python 3 (ipykernel)",
   "language": "python",
   "name": "python3"
  },
  "language_info": {
   "codemirror_mode": {
    "name": "ipython",
    "version": 3
   },
   "file_extension": ".py",
   "mimetype": "text/x-python",
   "name": "python",
   "nbconvert_exporter": "python",
   "pygments_lexer": "ipython3",
   "version": "3.12.9"
  }
 },
 "nbformat": 4,
 "nbformat_minor": 5
}
