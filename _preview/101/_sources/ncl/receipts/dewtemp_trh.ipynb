{
 "cells": [
  {
   "cell_type": "markdown",
   "id": "e6eddaf181eacfd3",
   "metadata": {},
   "source": [
    "# dewtemp_trh"
   ]
  },
  {
   "cell_type": "markdown",
   "id": "e6be6389ef38b00b",
   "metadata": {},
   "source": [
    "```{warning} This is not meant to be a standalone notebook.\n",
    "This notebook is part of the process we have for adding entries to the NCL Index and is not meant to be used as tutorial or example code.\n",
    "```"
   ]
  },
  {
   "cell_type": "markdown",
   "id": "536ffded4355d9c6",
   "metadata": {},
   "source": [
    "## Functions covered\n",
    "- [dewtemp_trh](https://www.ncl.ucar.edu/Document/Functions/Built-in/dewtemp_trh.shtml)"
   ]
  },
  {
   "cell_type": "markdown",
   "id": "4a129c971c083695",
   "metadata": {},
   "source": [
    "## NCL code"
   ]
  },
  {
   "cell_type": "markdown",
   "id": "3d70616a8934f0fb",
   "metadata": {},
   "source": [
    "```{literalinclude} ../ncl_raw/dewtemp_trh.nclC\n",
    "\n",
    "```"
   ]
  },
  {
   "cell_type": "markdown",
   "id": "d918dec004b6456b",
   "metadata": {},
   "source": [
    "## Python Functionality"
   ]
  },
  {
   "cell_type": "code",
   "execution_count": 129,
   "id": "7af6f81c-2498-4aea-b250-579ec3fd31c8",
   "metadata": {},
   "outputs": [
    {
     "name": "stdout",
     "output_type": "stream",
     "text": [
      "6.298141316024157\n"
     ]
    }
   ],
   "source": [
    "from geocat.comp.meteorology import dewtemp\n",
    "\n",
    "tk = 18 + 273.15\n",
    "rh = 46.5\n",
    "\n",
    "print(dewtemp(tk, rh) - 273.15)"
   ]
  },
  {
   "cell_type": "markdown",
   "id": "3237a0bffc6827fc",
   "metadata": {},
   "source": [
    "## Comparison"
   ]
  },
  {
   "cell_type": "code",
   "execution_count": 130,
   "id": "5bfc01a2-56f3-47a0-a1f1-7e8b6f9912a7",
   "metadata": {},
   "outputs": [],
   "source": [
    "#### Collect NCL values for dewtemp_trh\n",
    "import numpy as np\n",
    "\n",
    "dewtemp_data = np.genfromtxt(\n",
    "    \"../ncl_raw/dewtemp_trh_output.txt\", delimiter=\"\\n\", skip_header=5\n",
    ")"
   ]
  },
  {
   "cell_type": "code",
   "execution_count": 131,
   "id": "0e1a16a8-af7f-4c5c-a8b1-cf9cda5c31f3",
   "metadata": {},
   "outputs": [],
   "source": [
    "### Collect Temperature (Kelvin) and Relative Humidity Pairs\n",
    "tk_rh = []\n",
    "\n",
    "for tk in range(273, 374 + 1):\n",
    "    for rh in range(1, 100 + 1):\n",
    "        tk_rh.append((tk, rh))"
   ]
  },
  {
   "cell_type": "code",
   "execution_count": 132,
   "id": "e3a6527a-df21-46ff-9889-1f486d96e8d9",
   "metadata": {},
   "outputs": [],
   "source": [
    "### Collect NCL `dewtemp` value and tk/rh\n",
    "ncl_dewtemp = {}\n",
    "for i, pair in enumerate(tk_rh):\n",
    "    ncl_dewtemp[pair] = dewtemp_data[i]"
   ]
  },
  {
   "cell_type": "code",
   "execution_count": 133,
   "id": "47cd64dda7652b64",
   "metadata": {},
   "outputs": [],
   "source": [
    "### Collect GeoCAT-Comp `dewtemp` value and tk/rh\n",
    "from geocat.comp.meteorology import dewtemp\n",
    "\n",
    "geocat_dewtemp = {}\n",
    "\n",
    "for i, pair in enumerate(tk_rh):\n",
    "    tk, rh = pair\n",
    "    geocat_dewtemp[pair] = dewtemp(tk, rh) - 273.15"
   ]
  },
  {
   "cell_type": "code",
   "execution_count": 137,
   "id": "74362fd9-0e9f-4cf9-91da-08cd81be625c",
   "metadata": {},
   "outputs": [],
   "source": [
    "import math\n",
    "\n",
    "for pair in ncl_dewtemp.keys():\n",
    "    assert math.isclose(\n",
    "        ncl_dewtemp[pair], geocat_dewtemp[pair], rel_tol=1e-02\n",
    "    )  # within 2 decimal points"
   ]
  }
 ],
 "metadata": {
  "kernelspec": {
   "display_name": "Python 3 (ipykernel)",
   "language": "python",
   "name": "python3"
  },
  "language_info": {
   "codemirror_mode": {
    "name": "ipython",
    "version": 3
   },
   "file_extension": ".py",
   "mimetype": "text/x-python",
   "name": "python",
   "nbconvert_exporter": "python",
   "pygments_lexer": "ipython3",
   "version": "3.11.8"
  }
 },
 "nbformat": 4,
 "nbformat_minor": 5
}
