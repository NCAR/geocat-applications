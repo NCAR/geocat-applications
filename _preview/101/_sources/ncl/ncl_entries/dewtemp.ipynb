{
 "cells": [
  {
   "cell_type": "markdown",
   "metadata": {},
   "source": [
    "# dewtemp_trh"
   ]
  },
  {
   "cell_type": "markdown",
   "metadata": {},
   "source": [
    "## Overview\n",
    "NCL's [`dewtemp_trh`](https://www.ncl.ucar.edu/Document/Functions/Built-in/dewtemp_trh.shtml) calculates the dew point temperature given temperature and relative humidity using the equations from John Dutton's _\"Ceaseless Wind\"_ (pg. 273-274) and returns a temperature in Kelvin.\n",
    "\n",
    ":::{important}\n",
    "To convert from Kelvin to Celsius `-273.15` and to convert from Celsius to Kelvin `+273.15`.\n",
    ":::"
   ]
  },
  {
   "cell_type": "markdown",
   "metadata": {},
   "source": [
    "## Grab and Go"
   ]
  },
  {
   "cell_type": "code",
   "execution_count": 5,
   "metadata": {},
   "outputs": [
    {
     "data": {
      "text/plain": [
       "6.298141316024157"
      ]
     },
     "execution_count": 5,
     "metadata": {},
     "output_type": "execute_result"
    }
   ],
   "source": [
    "# Input: Single Value\n",
    "from geocat.comp import dewtemp\n",
    "\n",
    "temp_c = 18  # Celsius\n",
    "relative_humidty = 46.5  # %\n",
    "\n",
    "dewtemp(temp_c + 273.15, relative_humidty) - 273.15  # Returns in Celsius"
   ]
  },
  {
   "cell_type": "code",
   "execution_count": 6,
   "metadata": {},
   "outputs": [
    {
     "data": {
      "text/plain": [
       "array([  6.29814132, -35.12955277,  86.22114845, -27.40981025])"
      ]
     },
     "execution_count": 6,
     "metadata": {},
     "output_type": "execute_result"
    }
   ],
   "source": [
    "# Input: List/Array\n",
    "from geocat.comp import dewtemp\n",
    "\n",
    "temp_kelvin = [291.15, 274.14, 360.3, 314]  # Kelvin\n",
    "relative_humidity = [46.5, 5, 96.5, 1]  # %\n",
    "\n",
    "dewtemp(temp_kelvin, relative_humidity) - 273.15  # Returns in Celsius"
   ]
  },
  {
   "cell_type": "markdown",
   "metadata": {},
   "source": [
    "---"
   ]
  },
  {
   "cell_type": "markdown",
   "metadata": {},
   "source": [
    "## Python Resources\n",
    "- [GeoCAT-comp Documentation](https://geocat-comp.readthedocs.io/en/stable/)\n",
    "- [Convert between different temperature scales in SciPy](https://docs.scipy.org/doc/scipy/reference/generated/scipy.constants.convert_temperature.html)\n",
    "\n",
    "## Additional Reading\n",
    "- [NOAA: Dew Point vs. Humidity](https://www.weather.gov/arx/why_dewpoint_vs_humidity)"
   ]
  }
 ],
 "metadata": {
  "kernelspec": {
   "display_name": "Python 3 (ipykernel)",
   "language": "python",
   "name": "python3"
  },
  "language_info": {
   "codemirror_mode": {
    "name": "ipython",
    "version": 3
   },
   "file_extension": ".py",
   "mimetype": "text/x-python",
   "name": "python",
   "nbconvert_exporter": "python",
   "pygments_lexer": "ipython3",
   "version": "3.11.8"
  }
 },
 "nbformat": 4,
 "nbformat_minor": 4
}
