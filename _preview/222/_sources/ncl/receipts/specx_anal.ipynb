{
 "cells": [
  {
   "cell_type": "markdown",
   "metadata": {},
   "source": [
    "# specx_anal\n",
    "\n",
    "```{warning} This is not meant to be a standalone notebook.\n",
    "This notebook is part of the process we have for adding entries to the NCL Index and is not meant to be used as tutorial or example code.\n",
    "```"
   ]
  },
  {
   "cell_type": "code",
   "execution_count": 1,
   "metadata": {},
   "outputs": [],
   "source": [
    "import xarray as xr\n",
    "import geocat.datafiles as gcd\n",
    "import pandas as pd\n",
    "import scipy\n",
    "import matplotlib.pyplot as plt\n",
    "import numpy as np"
   ]
  },
  {
   "cell_type": "markdown",
   "metadata": {},
   "source": [
    "## NCL code\n",
    "\n",
    "```\n",
    ";*************************************************\n",
    "; spec_1.ncl\n",
    ";\n",
    "; Concepts illustrated:\n",
    ";   - Calculating and plotting spectra\n",
    ";************************************************\n",
    ";\n",
    "; These files are loaded by default in NCL V6.2.0 and newer\n",
    "; load \"$NCARG_ROOT/lib/ncarg/nclscripts/csm/gsn_code.ncl\"\n",
    "; load \"$NCARG_ROOT/lib/ncarg/nclscripts/csm/gsn_csm.ncl\" \n",
    ";************************************************\n",
    "begin\n",
    ";************************************************\n",
    "; variable and file handling\n",
    ";************************************************\n",
    "   fn  = \"SOI_Darwin.nc\" ; define filename\n",
    "   in  = addfile(fn,\"r\")                                 ; open netcdf file\n",
    "   soi  = in->DSOI                                       ; get data\n",
    ";************************************************\n",
    "; set function arguments\n",
    ";************************************************\n",
    "; detrending opt: 0=>remove mean 1=>remove mean and detrend\n",
    "  d = 0\n",
    "; smoothing periodogram: (0 <= sm <= ??.) should be at least 3 and odd\n",
    "  sm = 7\n",
    "; percent tapered: (0.0 <= pct <= 1.0) 0.10 common. \n",
    "  pct = 0.10\n",
    ";************************************************\n",
    "; calculate spectrum\n",
    ";************************************************\n",
    "  spec = specx_anal(soi,d,sm,pct)\n",
    ";************************************************\n",
    "; plotting\n",
    ";************************************************\n",
    "   wks  = gsn_open_wks(\"png\",\"spec\")               ; send graphics to PNG file \n",
    "\n",
    "   res = True\t\t\t\t\t   ; plot mods desired\n",
    "   res@tiMainString = \"SOI\"\t\t           ; title\n",
    "   res@tiXAxisString = \"Frequency (cycles/month)\"  ; xaxis\n",
    "   res@tiYAxisString = \"Variance\"                  ; yaxis\n",
    "\n",
    "   plot=gsn_csm_xy(wks,spec@frq,spec@spcx,res)     ; create plot   \n",
    ";***********************************************\n",
    "end\n",
    "```"
   ]
  },
  {
   "cell_type": "markdown",
   "metadata": {},
   "source": [
    "## Python Functionality"
   ]
  },
  {
   "cell_type": "code",
   "execution_count": null,
   "metadata": {},
   "outputs": [],
   "source": [
    "soi_darwin = xr.open_dataset(gcd.get('netcdf_files/SOI_Darwin.nc'))\n",
    "\n",
    "soi_darwin"
   ]
  },
  {
   "cell_type": "code",
   "execution_count": null,
   "metadata": {},
   "outputs": [],
   "source": [
    "start_date = pd.Timestamp('1882-01-01')\n",
    "dates = [\n",
    "    start_date + pd.DateOffset(months=int(month))\n",
    "    for month in soi_darwin.indexes['time']\n",
    "]\n",
    "datetime_index = pd.DatetimeIndex(dates)\n",
    "\n",
    "datetime_index"
   ]
  },
  {
   "cell_type": "code",
   "execution_count": null,
   "metadata": {},
   "outputs": [],
   "source": [
    "soi = soi_darwin.DSOI\n",
    "soi['time'] = datetime_index\n",
    "\n",
    "soi.plot();"
   ]
  },
  {
   "cell_type": "code",
   "execution_count": 5,
   "metadata": {},
   "outputs": [],
   "source": [
    "soi_detrended = scipy.signal.detrend(soi, type='constant')"
   ]
  },
  {
   "cell_type": "code",
   "execution_count": 6,
   "metadata": {},
   "outputs": [],
   "source": [
    "percent_taper = 0.1\n",
    "tukey_window = scipy.signal.windows.tukey(\n",
    "    len(soi_detrended), alpha=percent_taper, sym=False\n",
    ")  # generates a periodic window\n",
    "\n",
    "soi_tapered = soi_detrended * tukey_window"
   ]
  },
  {
   "cell_type": "code",
   "execution_count": 7,
   "metadata": {},
   "outputs": [],
   "source": [
    "freq_soi, psd_soi = scipy.signal.periodogram(\n",
    "    soi_tapered,\n",
    "    fs=1,  # sample monthly\n",
    "    detrend=False,\n",
    ")"
   ]
  },
  {
   "cell_type": "code",
   "execution_count": 8,
   "metadata": {},
   "outputs": [],
   "source": [
    "k = 7  # define smoothing constant\n",
    "\n",
    "kernel = np.ones(7)  # Create a Daniel smoothing kernel\n",
    "kernel[0] = (\n",
    "    0.5  # \"Modify\" kernel by making the endpoints have half the weight of the interior points\n",
    ")\n",
    "kernel[-1] = 0.5\n",
    "kernel = kernel / kernel.sum()\n",
    "\n",
    "smoothed_psd = scipy.signal.convolve(\n",
    "    psd_soi, kernel, mode='same'\n",
    ")  # Sets output array as the same length as the first input"
   ]
  },
  {
   "cell_type": "code",
   "execution_count": 9,
   "metadata": {},
   "outputs": [],
   "source": [
    "variance = np.var(soi_tapered, ddof=1)\n",
    "\n",
    "df = freq_soi[1] - freq_soi[0]  # Frequency step\n",
    "\n",
    "# Create an array to adjust contributions of endpoints\n",
    "frac = np.ones_like(freq_soi)\n",
    "frac[0] = 0.5\n",
    "frac[-1] = 0.5\n",
    "\n",
    "current_area = np.sum(\n",
    "    smoothed_psd * df * frac\n",
    ")  # Calculate the current area under the curve\n",
    "normalization_factor = variance / current_area  # Find the factor to adjust this area\n",
    "\n",
    "normalized_psd = (\n",
    "    smoothed_psd * normalization_factor\n",
    ")  # Apply the normalization factor to the smoothed power spectrum"
   ]
  },
  {
   "cell_type": "code",
   "execution_count": null,
   "metadata": {},
   "outputs": [],
   "source": [
    "plt.plot(freq_soi, normalized_psd)\n",
    "plt.xlabel('Frequency (Cycles / Month)')\n",
    "plt.ylabel('Variance (Pressure$^2$ / Frequency)')\n",
    "plt.title('Darwin Southern Oscillation Index (1882 - 1998) - Power Spectral Density')\n",
    "plt.xlim([0, 0.5]);"
   ]
  },
  {
   "cell_type": "markdown",
   "metadata": {},
   "source": [
    "## Comparison"
   ]
  },
  {
   "cell_type": "code",
   "execution_count": 11,
   "metadata": {},
   "outputs": [],
   "source": [
    "ncl = xr.open_dataset(gcd.get('applications_files/ncl_outputs/spec_1_output.nc')).spec\n",
    "\n",
    "frq = ncl.frq\n",
    "spcx = ncl.spcx"
   ]
  },
  {
   "cell_type": "code",
   "execution_count": null,
   "metadata": {},
   "outputs": [],
   "source": [
    "plt.plot(freq_soi, normalized_psd, label='Python')\n",
    "plt.plot(frq, spcx, label='NCL')\n",
    "plt.xlabel('Frequency (Cycles / Month)')\n",
    "plt.ylabel('Variance (Pressure$^2$ / Frequency)')\n",
    "plt.title('Darwin Southern Oscillation Index (1882 - 1998) - Power Spectral Density')\n",
    "plt.xlim([0, 0.5])\n",
    "plt.legend();"
   ]
  },
  {
   "cell_type": "code",
   "execution_count": null,
   "metadata": {},
   "outputs": [],
   "source": [
    "plt.plot(frq, normalized_psd[1:] - spcx)\n",
    "plt.xlim([0, 0.5])\n",
    "plt.title('Python - NCL')\n",
    "plt.xlabel('Frequency (Cycles / Month)');"
   ]
  },
  {
   "cell_type": "markdown",
   "metadata": {},
   "source": [
    "## Comparison without Tapering\n",
    "\n",
    "It is important to remember that periodograms are estimates of a spectra, and the recommended math for performing this analysis, as well as for the various window operations, has changed over the decades since NCL was written. \n",
    "\n",
    "We have demonstrated to the best of our ability how to follow the decisions made by NCL developers and have results similar enough to be confident that this approach in Python is correct.\n",
    "\n",
    "However, in the interest of tracking down the differences we will investigate the output from Python and NCL without tapering.\n",
    "\n",
    "Because Tukey tapering can refer to split-bell-cosine or cosine tapering, this is the step of our workflow where NCL's decisions are the least clear."
   ]
  },
  {
   "cell_type": "code",
   "execution_count": 14,
   "metadata": {},
   "outputs": [],
   "source": [
    "ncl_notaper = xr.open_dataset(\n",
    "    gcd.get('applications_files/ncl_outputs/spec_1_output_notaper.nc')\n",
    ").spec\n",
    "spcx_nt = ncl_notaper.spcx"
   ]
  },
  {
   "cell_type": "code",
   "execution_count": 15,
   "metadata": {},
   "outputs": [],
   "source": [
    "# Compute Periodogram without tapering and with mean removed\n",
    "freq_soi, psd_soi_nt = scipy.signal.periodogram(\n",
    "    soi_detrended,\n",
    "    fs=1,  # sample monthly\n",
    "    detrend=False,\n",
    ")\n",
    "\n",
    "# Smooth with the same modified Daniel kernel as before\n",
    "smoothed_psd_nt = scipy.signal.convolve(psd_soi_nt, kernel, mode='same')\n",
    "\n",
    "# Normalize\n",
    "variance = np.var(soi_detrended, ddof=1)\n",
    "current_area = np.sum(\n",
    "    smoothed_psd_nt * df * frac\n",
    ")  # Calculate the current area under the curve\n",
    "normalization_factor = variance / current_area  # Find the factor to adjust this area\n",
    "\n",
    "normalized_psd_nt = (\n",
    "    smoothed_psd_nt * normalization_factor\n",
    ")  # Apply the normalization factor to the smoothed power spectrum"
   ]
  },
  {
   "cell_type": "code",
   "execution_count": null,
   "metadata": {},
   "outputs": [],
   "source": [
    "plt.plot(freq_soi, normalized_psd_nt, label='Python')\n",
    "plt.plot(frq, spcx_nt, label='NCL No Tapering')\n",
    "plt.xlabel('Frequency (Cycles / Month)')\n",
    "plt.ylabel('Variance (Pressure$^2$ / Frequency)')\n",
    "plt.title(\n",
    "    'Darwin Southern Oscillation Index (1882 - 1998) - Power Spectral Density (No Tapering)'\n",
    ")\n",
    "plt.xlim([0, 0.5])\n",
    "plt.legend();"
   ]
  },
  {
   "cell_type": "code",
   "execution_count": null,
   "metadata": {},
   "outputs": [],
   "source": [
    "plt.plot(frq, normalized_psd_nt[1:] - spcx_nt)\n",
    "plt.xlim([0, 0.5])\n",
    "plt.title('Python - NCL (No Tapering)')\n",
    "plt.ylim([-0.00, 0.005])\n",
    "plt.xlabel('Frequency (Cycles / Month)');"
   ]
  }
 ],
 "metadata": {
  "kernelspec": {
   "display_name": "geocat_comp_build",
   "language": "python",
   "name": "python3"
  },
  "language_info": {
   "codemirror_mode": {
    "name": "ipython",
    "version": 3
   },
   "file_extension": ".py",
   "mimetype": "text/x-python",
   "name": "python",
   "nbconvert_exporter": "python",
   "pygments_lexer": "ipython3",
   "version": "3.12.2"
  }
 },
 "nbformat": 4,
 "nbformat_minor": 2
}
