{
 "cells": [
  {
   "cell_type": "markdown",
   "id": "e6eddaf181eacfd3",
   "metadata": {},
   "source": [
    "# Great Circle"
   ]
  },
  {
   "cell_type": "markdown",
   "id": "e6be6389ef38b00b",
   "metadata": {},
   "source": [
    "```{warning} This is not meant to be a standalone notebook.\n",
    "This notebook is part of the process we have for adding entries to the NCL Index and is not meant to be used as tutorial or example code.\n",
    "```"
   ]
  },
  {
   "cell_type": "markdown",
   "id": "536ffded4355d9c6",
   "metadata": {},
   "source": [
    "## Functions covered\n",
    "- [area_poly_sphere](https://www.ncl.ucar.edu/Document/Functions/Built-in/area_poly_sphere.shtml)"
   ]
  },
  {
   "cell_type": "markdown",
   "id": "4a129c971c083695",
   "metadata": {},
   "source": [
    "## NCL code"
   ]
  },
  {
   "cell_type": "markdown",
   "id": "3d70616a8934f0fb",
   "metadata": {},
   "source": [
    "```{literalinclude} ../ncl_raw/great_circle.ncl\n",
    "\n",
    "```"
   ]
  },
  {
   "cell_type": "markdown",
   "id": "d918dec004b6456b",
   "metadata": {},
   "source": [
    "## Python Functionality"
   ]
  },
  {
   "cell_type": "code",
   "execution_count": null,
   "id": "95225429-62d5-4d38-b170-850526c28107",
   "metadata": {},
   "outputs": [],
   "source": [
    "import math\n",
    "\n",
    "ncl_results = {}\n",
    "\n",
    "poly_name = [\n",
    "    \"Boulder, Boston, Houston\",\n",
    "    \"Four Corners of Colorado\",\n",
    "    \"Caltech, Alberta, Greenwich, Paris, Madrid\",\n",
    "    \"Crossing the Equator\",\n",
    "    \"Crossing the Prime Meridian\",\n",
    "    \"Half of the World\",\n",
    "    \"Single Point -> Invalid NCL\",\n",
    "    \"Single Degree\",\n",
    "]"
   ]
  },
  {
   "cell_type": "markdown",
   "id": "6dc1d6c4-ac26-4346-9aa3-2c73182a7511",
   "metadata": {},
   "source": [
    "### area_poly_sphere"
   ]
  },
  {
   "cell_type": "code",
   "execution_count": null,
   "id": "2ba99b37-a743-4776-bc7b-d5a08b977642",
   "metadata": {},
   "outputs": [],
   "source": [
    "ncl_lat = [\n",
    "    [40.0150, 42.3601, 29.5518],\n",
    "    [41.00488, 41.00203, 37.00540, 37.00051],\n",
    "    [34.1377, 53.9333, 51.4934, 48.8575, 40.4167],\n",
    "    [0.4078, -5.9230, 0.1864],\n",
    "    [53.3498, 52.3676, 51.9939],\n",
    "    [90.0, 0.0, -90.0, 0.0],\n",
    "    [40, 40, 40, 40],\n",
    "    [40, 40, 41, 41],\n",
    "]\n",
    "ncl_lon = [\n",
    "    [-105.2705, -71.0589, -95.0982],\n",
    "    [-109.05001, -102.05348, -103.04633, -109.04720],\n",
    "    [-118.1253, -116.5765, 0.0098, 2.3514, -3.7033],\n",
    "    [9.4403, 12.3636, 6.6131],\n",
    "    [-6.2603, 4.9041, -4.9760],\n",
    "    [0.0, -90.0, 0.0, 90.0],\n",
    "    [-105, -105, -105, -105],\n",
    "    [-105, -106, -106, -105],\n",
    "]\n",
    "ncl_results[poly_name[0]] = 1940856\n",
    "ncl_results[poly_name[1]] = 250007.6\n",
    "ncl_results[poly_name[2]] = 11634800\n",
    "ncl_results[poly_name[3]] = 114894.8\n",
    "ncl_results[poly_name[4]] = 54450.39\n",
    "ncl_results[poly_name[5]] = 255032000\n",
    "ncl_results[poly_name[6]] = -127516000\n",
    "ncl_results[poly_name[7]] = 9401.705"
   ]
  },
  {
   "cell_type": "code",
   "execution_count": null,
   "id": "35803c5d-bf83-4a35-b61c-50466d9d5095",
   "metadata": {},
   "outputs": [],
   "source": [
    "from pyproj import Geod\n",
    "\n",
    "python_results = {}\n",
    "geod = Geod(ellps=\"sphere\")  # radius = 6370997 m\n",
    "for i in range(len(poly_name)):\n",
    "    poly_area_m, _ = geod.polygon_area_perimeter(ncl_lon[i], ncl_lat[i])\n",
    "    poly_area_km2 = abs(poly_area_m) * 1e-6\n",
    "    python_results[poly_name[i]] = poly_area_km2"
   ]
  },
  {
   "cell_type": "markdown",
   "id": "3237a0bffc6827fc",
   "metadata": {},
   "source": [
    "## Comparison"
   ]
  },
  {
   "cell_type": "code",
   "execution_count": null,
   "id": "74362fd9-0e9f-4cf9-91da-08cd81be625c",
   "metadata": {},
   "outputs": [],
   "source": [
    "for key in ncl_results.keys():\n",
    "    if key in python_results.keys() and key in python_results.keys():\n",
    "        try:\n",
    "            assert math.isclose(\n",
    "                ncl_results[key], python_results[key], rel_tol=1e-5\n",
    "            )  # within 4 decimal points\n",
    "            print(\n",
    "                f\"VALID:\\n\\t{key}: \\n\\tncl:\\t\\t{ncl_results[key]}\\n\\tpython:\\t\\t{python_results[key]}\\n\"\n",
    "            )\n",
    "        except Exception:\n",
    "            print(\n",
    "                f\"INVALID:\\n\\t{key}: \\n\\t\\tncl:\\t\\t{ncl_results[key]}\\n\\t\\tpython:\\t\\t{python_results[key]}\\n\"\n",
    "            )\n",
    "            if key != \"Single Point -> Invalid NCL\":\n",
    "                assert False"
   ]
  },
  {
   "cell_type": "code",
   "execution_count": null,
   "id": "b02f18d1-2fda-43cb-bf6d-871e973a6f43",
   "metadata": {},
   "outputs": [],
   "source": []
  },
  {
   "cell_type": "code",
   "execution_count": null,
   "id": "37988031-f11c-45fb-b35d-a94cb450319b",
   "metadata": {},
   "outputs": [],
   "source": []
  }
 ],
 "metadata": {
  "kernelspec": {
   "display_name": "Python 3 (ipykernel)",
   "language": "python",
   "name": "python3"
  },
  "language_info": {
   "codemirror_mode": {
    "name": "ipython",
    "version": 3
   },
   "file_extension": ".py",
   "mimetype": "text/x-python",
   "name": "python",
   "nbconvert_exporter": "python",
   "pygments_lexer": "ipython3",
   "version": "3.12.7"
  }
 },
 "nbformat": 4,
 "nbformat_minor": 5
}
