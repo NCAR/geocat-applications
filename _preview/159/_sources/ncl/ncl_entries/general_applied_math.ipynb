{
 "cells": [
  {
   "cell_type": "markdown",
   "metadata": {},
   "source": [
    "# General Applied Math"
   ]
  },
  {
   "cell_type": "markdown",
   "metadata": {},
   "source": [
    "## Overview\n",
    "\n",
    "This section covers general applied math functions from NCL:\n",
    "\n",
    "- [abs](https://www.ncl.ucar.edu/Document/Functions/Built-in/abs.shtml)/[fabs](https://www.ncl.ucar.edu/Document/Functions/Built-in/fabs.shtml)\n",
    "- [avg](https://www.ncl.ucar.edu/Document/Functions/Built-in/avg.shtml)\n",
    "- [ceil](https://www.ncl.ucar.edu/Document/Functions/Built-in/ceil.shtml)\n",
    "- [cumsum](https://www.ncl.ucar.edu/Document/Functions/Built-in/cumsum.shtml)\n",
    "- [decimalPlaces](https://www.ncl.ucar.edu/Document/Functions/Contributed/decimalPlaces.shtml)/[round](https://www.ncl.ucar.edu/Document/Functions/Built-in/round.shtml)\n",
    "- [exp](https://www.ncl.ucar.edu/Document/Functions/Built-in/exp.shtml)\n",
    "- [floor](https://www.ncl.ucar.edu/Document/Functions/Built-in/floor.shtml)\n",
    "- [get_d2r](https://www.ncl.ucar.edu/Document/Functions/Contributed/get_d2r.shtml)\n",
    "- [get_r2d](https://www.ncl.ucar.edu/Document/Functions/Contributed/get_r2d.shtml)\n",
    "- [get_pi](https://www.ncl.ucar.edu/Document/Functions/Contributed/get_pi.shtml)\n",
    "- [log](https://www.ncl.ucar.edu/Document/Functions/Built-in/log.shtml)\n",
    "- [log10](https://www.ncl.ucar.edu/Document/Functions/Built-in/log10.shtml)\n",
    "- [max](https://www.ncl.ucar.edu/Document/Functions/Built-in/max.shtml)\n",
    "- [min](https://www.ncl.ucar.edu/Document/Functions/Built-in/min.shtml)\n",
    "- [mod](https://www.ncl.ucar.edu/Document/Functions/Contributed/mod.shtml)\n",
    "- [product](https://www.ncl.ucar.edu/Document/Functions/Contributed/mod.shtml)\n",
    "- [qsort](https://www.ncl.ucar.edu/Document/Functions/Built-in/qsort.shtml)\n",
    "- [sign_matlab](https://www.ncl.ucar.edu/Document/Functions/Contributed/sign_matlab.shtml)\n",
    "- [sqrt](https://www.ncl.ucar.edu/Document/Functions/Built-in/sqrt.shtml)\n",
    "- [sqsort](https://www.ncl.ucar.edu/Document/Functions/Built-in/sqsort.shtml)\n",
    "- [sum](https://www.ncl.ucar.edu/Document/Functions/Built-in/sum.shtml)"
   ]
  },
  {
   "cell_type": "markdown",
   "metadata": {},
   "source": [
    "## abs/fabs\n",
    "\n",
    "NCL's `abs` and `fabs` functions returns the absolute value of numeric data"
   ]
  },
  {
   "cell_type": "markdown",
   "metadata": {},
   "source": [
    "### Grab and Go"
   ]
  },
  {
   "cell_type": "code",
   "execution_count": null,
   "metadata": {},
   "outputs": [],
   "source": [
    "# Built-In Python\n",
    "input_value = -3.14\n",
    "\n",
    "abs_output = abs(input_value)\n",
    "print(abs_output)"
   ]
  },
  {
   "cell_type": "code",
   "execution_count": null,
   "metadata": {},
   "outputs": [],
   "source": [
    "# Numpy\n",
    "import numpy as np\n",
    "\n",
    "input_values = [-10, -3.14, -123]\n",
    "\n",
    "abs_output = np.abs(input_values)\n",
    "print(abs_output)"
   ]
  },
  {
   "cell_type": "markdown",
   "metadata": {},
   "source": [
    "## avg\n",
    "\n",
    "NCL's `avg` function calculate the average of numeric values"
   ]
  },
  {
   "cell_type": "markdown",
   "metadata": {},
   "source": [
    "### Grab and Go"
   ]
  },
  {
   "cell_type": "code",
   "execution_count": null,
   "metadata": {},
   "outputs": [],
   "source": [
    "# Numpy\n",
    "import numpy as np\n",
    "\n",
    "input_value = [1, 2, 3]\n",
    "\n",
    "avg_output = np.average(input_value)\n",
    "print(avg_output)"
   ]
  },
  {
   "cell_type": "code",
   "execution_count": null,
   "metadata": {},
   "outputs": [],
   "source": [
    "# Numpy\n",
    "import numpy as np\n",
    "\n",
    "input_values = [[1, 2, 3], [4, 5, 6]]\n",
    "\n",
    "avg_output = np.mean(input_values)\n",
    "print(avg_output)"
   ]
  },
  {
   "cell_type": "code",
   "execution_count": null,
   "metadata": {},
   "outputs": [],
   "source": [
    "# Numpy\n",
    "import numpy as np\n",
    "\n",
    "input_values = [[1, 2, 3], [4, 5, 6]]\n",
    "\n",
    "avg_output = np.mean(input_values, axis=1)\n",
    "print(avg_output)"
   ]
  },
  {
   "cell_type": "markdown",
   "metadata": {},
   "source": [
    "## ceil\n",
    "\n",
    "NCL's `ceil` function returns the smallest integer value greater than or equal to each input value"
   ]
  },
  {
   "cell_type": "markdown",
   "metadata": {},
   "source": [
    "### Grab and Go"
   ]
  },
  {
   "cell_type": "code",
   "execution_count": null,
   "metadata": {},
   "outputs": [],
   "source": [
    "# Math\n",
    "import math\n",
    "\n",
    "input_value = 3.14\n",
    "\n",
    "ceil_output = math.ceil(input_value)\n",
    "print(ceil_output)"
   ]
  },
  {
   "cell_type": "code",
   "execution_count": null,
   "metadata": {},
   "outputs": [],
   "source": [
    "# Numpy\n",
    "import numpy as np\n",
    "\n",
    "input_values = [-1.7, -1.5, -0.2, 0.2, 1.5, 1.7, 2.0, 3.14]\n",
    "ceil_output = np.ceil(input_values)\n",
    "print(ceil_output)"
   ]
  },
  {
   "cell_type": "markdown",
   "metadata": {},
   "source": [
    "## cumsum\n",
    "\n",
    "NCL's `cumsum` function calculates the cumulative sum"
   ]
  },
  {
   "cell_type": "markdown",
   "metadata": {},
   "source": [
    "### Grab and Go"
   ]
  },
  {
   "cell_type": "code",
   "execution_count": null,
   "metadata": {},
   "outputs": [],
   "source": [
    "# Numpy\n",
    "import numpy as np\n",
    "\n",
    "input_values = [1, 2, 3, 4, 5]\n",
    "\n",
    "cumsum_output = np.cumsum(input_values, axis=0)\n",
    "print(cumsum_output)"
   ]
  },
  {
   "cell_type": "markdown",
   "metadata": {},
   "source": [
    "## decimalPlaces/round\n",
    "\n",
    "NCL's `decimalPlaces` function truncates or rounds to the number of decimal places specified, while NCL's `round` function rounds a float or double variable to the nearest whole number"
   ]
  },
  {
   "cell_type": "markdown",
   "metadata": {},
   "source": [
    "### Grab and Go"
   ]
  },
  {
   "cell_type": "code",
   "execution_count": null,
   "metadata": {},
   "outputs": [],
   "source": [
    "# Built-In Python\n",
    "input_value = 3.1415926\n",
    "\n",
    "round_output = round(input_value, 3)\n",
    "print(round_output)"
   ]
  },
  {
   "cell_type": "code",
   "execution_count": null,
   "metadata": {},
   "outputs": [],
   "source": [
    "# Numpy\n",
    "import numpy as np\n",
    "\n",
    "input_values = [-10.353535, 3.1415926, 123.4567]\n",
    "\n",
    "round_output = np.round(input_values, 3)\n",
    "print(round_output)"
   ]
  },
  {
   "cell_type": "code",
   "execution_count": null,
   "metadata": {},
   "outputs": [],
   "source": [
    "# Math\n",
    "import math\n",
    "\n",
    "input_value = 3.1415926\n",
    "\n",
    "decimal_values = str(input_value).split(\".\")\n",
    "truncate_decimal = decimal_values[1][:3]\n",
    "truncate_output = float(decimal_values[0] + \".\" + truncate_decimal)\n",
    "print(truncate_output)"
   ]
  },
  {
   "cell_type": "markdown",
   "metadata": {},
   "source": [
    "### Differences from NCL\n",
    "\n",
    "NCL distinguishes between rounding a decimal value and truncating it as part of the `decimalPlaces` function\n",
    "\n",
    "```\n",
    "decimalPlaces(3.145, 2, True)  # True = rounds\n",
    ">> 3.15\n",
    "decimalPlaces(3.145, 2, False) # False = truncates\n",
    ">> 3.14\n",
    "```\n",
    "\n",
    "Python includes multiple functions for rounding a value (`math.ceil`, `math.floor`, `round`), but does not typically handle truncating a value. To truncate a decimal value, the decimal needs to be converted to a string first.\n",
    "\n",
    "The `round` function returns the value rounded to ndigits after the decimal point. \n",
    "\n",
    "```\n",
    "round(3.141, 2)\n",
    ">> 3.14\n",
    "round(3.145, 2)\n",
    ">> 3.15\n",
    "```\n",
    "\n",
    "<div class=\"admonition alert alert-info\">\n",
    "    <p class=\"admonition-title\" style=\"font-weight:bold\">Important Note</p>\n",
    "    Python makes use of Banker's Rounding where a value is rounded to the nearest even integer, rather than automatically rounding up or rounding down\n",
    "</div>\n",
    "\n",
    "```\n",
    "round(3.5)\n",
    ">> 4\n",
    "round(4.5)\n",
    ">> 4\n",
    "```\n",
    "\n",
    "_See [Floating-Point Arithmetic: Issues and Limitations](https://docs.python.org/3/tutorial/floatingpoint.html#floating-point-arithmetic-issues-and-limitations) and [Built-in Numeric Types](https://docs.python.org/3/library/stdtypes.html#numeric-types-int-float-complex) for more information_\n",
    "\n",
    "Use `math.ceil` to round up to the nearest integer\n",
    "```\n",
    "import math\n",
    "math.ceil(3.14)\n",
    ">> 4\n",
    "```\n",
    "Use `math.floor` to round down to the nearest integer\n",
    "```\n",
    "import math\n",
    "math.floor(3.14)\n",
    ">> 3\n",
    "```"
   ]
  },
  {
   "cell_type": "markdown",
   "metadata": {},
   "source": [
    "## exp\n",
    "\n",
    "NCL's `exp` function returns the value of e (the base of natural logarithms) raised to the power of the input"
   ]
  },
  {
   "cell_type": "markdown",
   "metadata": {},
   "source": [
    "### Grab and Go"
   ]
  },
  {
   "cell_type": "code",
   "execution_count": null,
   "metadata": {},
   "outputs": [],
   "source": [
    "# Math\n",
    "import math\n",
    "\n",
    "input_value = -0.2\n",
    "\n",
    "exp_output = math.exp(input_value)\n",
    "print(exp_output)"
   ]
  },
  {
   "cell_type": "code",
   "execution_count": null,
   "metadata": {},
   "outputs": [],
   "source": [
    "# Numpy\n",
    "import numpy as np\n",
    "\n",
    "input_values = [-0.2, 1, 1.2]\n",
    "\n",
    "exp_output = np.exp(input_values)\n",
    "print(exp_output)"
   ]
  },
  {
   "cell_type": "markdown",
   "metadata": {},
   "source": [
    "## floor\n",
    "\n",
    "NCL's `floor` function returns the largest integer value less than or equal to each input value"
   ]
  },
  {
   "cell_type": "markdown",
   "metadata": {},
   "source": [
    "### Grab and Go"
   ]
  },
  {
   "cell_type": "code",
   "execution_count": null,
   "metadata": {},
   "outputs": [],
   "source": [
    "# Math\n",
    "import math\n",
    "\n",
    "input_value = 3.14\n",
    "\n",
    "floor_output = math.floor(input_value)\n",
    "print(floor_output)"
   ]
  },
  {
   "cell_type": "code",
   "execution_count": null,
   "metadata": {},
   "outputs": [],
   "source": [
    "# Numpy\n",
    "import numpy as np\n",
    "\n",
    "input_values = [-1.7, -1.5, -0.2, 0.2, 1.5, 1.7, 2.0, 3.14]\n",
    "floor_output = np.floor(input_values)\n",
    "print(floor_output)"
   ]
  },
  {
   "cell_type": "markdown",
   "metadata": {},
   "source": [
    "## get_d2r\n",
    "\n",
    "NCL's `get_d2r` function returns a constant to convert degrees to radians"
   ]
  },
  {
   "cell_type": "markdown",
   "metadata": {},
   "source": [
    "### Grab and Go"
   ]
  },
  {
   "cell_type": "code",
   "execution_count": null,
   "metadata": {},
   "outputs": [],
   "source": [
    "# Math\n",
    "import math\n",
    "\n",
    "d2r = math.pi / 180\n",
    "print(d2r)"
   ]
  },
  {
   "cell_type": "code",
   "execution_count": null,
   "metadata": {},
   "outputs": [],
   "source": [
    "# Numpy\n",
    "import numpy as np\n",
    "\n",
    "d2r = np.pi / 180\n",
    "print(d2r)"
   ]
  },
  {
   "cell_type": "markdown",
   "metadata": {},
   "source": [
    "<div class=\"admonition alert alert-info\">\n",
    "    <p class=\"admonition-title\" style=\"font-weight:bold\">Important Note</p>\n",
    "    <code>numpy</code> includes the <code>numpy.deg2rad()</code> function to convert from degrees to radians\n",
    "</div>"
   ]
  },
  {
   "cell_type": "code",
   "execution_count": null,
   "metadata": {},
   "outputs": [],
   "source": [
    "# Numpy\n",
    "import numpy as np\n",
    "\n",
    "input_degrees = 30  # degrees\n",
    "print(np.deg2rad(input_degrees))"
   ]
  },
  {
   "cell_type": "markdown",
   "metadata": {},
   "source": [
    "## get_pi\n",
    "\n",
    "NCL's `get_pi` function returns the value of pi"
   ]
  },
  {
   "cell_type": "markdown",
   "metadata": {},
   "source": [
    "### Grab and Go"
   ]
  },
  {
   "cell_type": "code",
   "execution_count": null,
   "metadata": {},
   "outputs": [],
   "source": [
    "# Math\n",
    "import math\n",
    "\n",
    "pi = math.pi\n",
    "print(pi)"
   ]
  },
  {
   "cell_type": "code",
   "execution_count": null,
   "metadata": {},
   "outputs": [],
   "source": [
    "# Numpy\n",
    "import numpy as np\n",
    "\n",
    "pi = np.pi\n",
    "print(pi)"
   ]
  },
  {
   "cell_type": "markdown",
   "metadata": {},
   "source": [
    "## get_r2d\n",
    "\n",
    "NCL's `get_r2d` function returns a constant that converts radians to degrees"
   ]
  },
  {
   "cell_type": "markdown",
   "metadata": {},
   "source": [
    "### Grab and Go"
   ]
  },
  {
   "cell_type": "code",
   "execution_count": null,
   "metadata": {},
   "outputs": [],
   "source": [
    "# Math\n",
    "import math\n",
    "\n",
    "r2d = 180 / math.pi\n",
    "print(r2d)"
   ]
  },
  {
   "cell_type": "code",
   "execution_count": null,
   "metadata": {},
   "outputs": [],
   "source": [
    "# Numpy\n",
    "import numpy as np\n",
    "\n",
    "r2d = 180 / np.pi\n",
    "print(r2d)"
   ]
  },
  {
   "cell_type": "markdown",
   "metadata": {},
   "source": [
    "<div class=\"admonition alert alert-info\">\n",
    "    <p class=\"admonition-title\" style=\"font-weight:bold\">Important Note</p>\n",
    "    <code>numpy</code> includes the <code>numpy.rad2deg()</code> function to convert from radians to degrees\n",
    "</div>"
   ]
  },
  {
   "cell_type": "code",
   "execution_count": null,
   "metadata": {},
   "outputs": [],
   "source": [
    "# Numpy\n",
    "import numpy as np\n",
    "\n",
    "input_radians = 0.52  # radians\n",
    "print(np.rad2deg(input_radians))"
   ]
  },
  {
   "cell_type": "markdown",
   "metadata": {},
   "source": [
    "## log\n",
    "\n",
    "NCL's `log` function calculates the natural log"
   ]
  },
  {
   "cell_type": "markdown",
   "metadata": {},
   "source": [
    "### Grab and Go"
   ]
  },
  {
   "cell_type": "code",
   "execution_count": null,
   "metadata": {},
   "outputs": [],
   "source": [
    "# Math\n",
    "import math\n",
    "\n",
    "input_value = 3.6\n",
    "\n",
    "log_output = math.log(3.6)\n",
    "print(log_output)"
   ]
  },
  {
   "cell_type": "code",
   "execution_count": null,
   "metadata": {},
   "outputs": [],
   "source": [
    "# Numpy\n",
    "import numpy as np\n",
    "\n",
    "input_values = [3.5, 3.6, 3.7]\n",
    "\n",
    "log_output = np.log(input_values)\n",
    "print(log_output)"
   ]
  },
  {
   "cell_type": "markdown",
   "metadata": {},
   "source": [
    "## log10\n",
    "\n",
    "NCL's `log10` function calculate the log base 10"
   ]
  },
  {
   "cell_type": "markdown",
   "metadata": {},
   "source": [
    "### Grab and Go"
   ]
  },
  {
   "cell_type": "code",
   "execution_count": null,
   "metadata": {},
   "outputs": [],
   "source": [
    "# Math\n",
    "import math\n",
    "\n",
    "input_value = 3.4\n",
    "\n",
    "log10_output = math.log10(input_value)\n",
    "print(log10_output)"
   ]
  },
  {
   "cell_type": "code",
   "execution_count": null,
   "metadata": {},
   "outputs": [],
   "source": [
    "# Numpy\n",
    "import numpy as np\n",
    "\n",
    "input_values = [3.3, 3.4, 3.5]\n",
    "\n",
    "log10_output = np.log10(input_values)\n",
    "print(log10_output)"
   ]
  },
  {
   "cell_type": "markdown",
   "metadata": {},
   "source": [
    "## max\n",
    "\n",
    "NCL's `max` function returns the maximum value in an array"
   ]
  },
  {
   "cell_type": "markdown",
   "metadata": {},
   "source": [
    "### Grab and Go"
   ]
  },
  {
   "cell_type": "code",
   "execution_count": null,
   "metadata": {},
   "outputs": [],
   "source": [
    "# Math\n",
    "import math\n",
    "\n",
    "input_value = [2.1, 3.2, 4.3, 5.4, 6.5, 7.6, 8.7, 9.8]\n",
    "\n",
    "max_math_output = max(input_value)\n",
    "print(max_math_output)"
   ]
  },
  {
   "cell_type": "code",
   "execution_count": null,
   "metadata": {},
   "outputs": [],
   "source": [
    "# Numpy\n",
    "import numpy as np\n",
    "\n",
    "input_values = [2.1, 3.2, 4.3, 5.4, 6.5, 7.6, 8.7, 9.8]\n",
    "max_np_output = np.max(input_values)\n",
    "print(max_np_output)"
   ]
  },
  {
   "cell_type": "markdown",
   "metadata": {},
   "source": [
    "## min\n",
    "\n",
    "NCL's `min` function returns the minimum value in an array"
   ]
  },
  {
   "cell_type": "markdown",
   "metadata": {},
   "source": [
    "### Grab and Go"
   ]
  },
  {
   "cell_type": "code",
   "execution_count": null,
   "metadata": {},
   "outputs": [],
   "source": [
    "# Math\n",
    "import math\n",
    "\n",
    "input_value = [2.1, 3.2, 4.3, 5.4, 6.5, 7.6, 8.7, 9.8]\n",
    "\n",
    "min_math_output = min(input_value)\n",
    "print(min_math_output)"
   ]
  },
  {
   "cell_type": "code",
   "execution_count": null,
   "metadata": {},
   "outputs": [],
   "source": [
    "# Numpy\n",
    "import numpy as np\n",
    "\n",
    "input_values = [2.1, 3.2, 4.3, 5.4, 6.5, 7.6, 8.7, 9.8]\n",
    "min_np_output = np.min(input_values)\n",
    "print(min_np_output)"
   ]
  },
  {
   "cell_type": "markdown",
   "metadata": {},
   "source": [
    "## mod\n",
    "\n",
    "NCL's `mod` function calculate the remainder of a division"
   ]
  },
  {
   "cell_type": "markdown",
   "metadata": {},
   "source": [
    "### Grab and Go"
   ]
  },
  {
   "cell_type": "code",
   "execution_count": null,
   "metadata": {},
   "outputs": [],
   "source": [
    "# Built-In Python\n",
    "mod_value = 17 % 3\n",
    "\n",
    "print(mod_value)"
   ]
  },
  {
   "cell_type": "code",
   "execution_count": null,
   "metadata": {},
   "outputs": [],
   "source": [
    "# Numpy\n",
    "import numpy as np\n",
    "\n",
    "mod_values = np.mod([17, 4], [3, 3])\n",
    "print(mod_values)"
   ]
  },
  {
   "cell_type": "markdown",
   "metadata": {},
   "source": [
    "## product\n",
    "\n",
    "NCL's `product` function calculate the product of input values"
   ]
  },
  {
   "cell_type": "markdown",
   "metadata": {},
   "source": [
    "### Grab and Go"
   ]
  },
  {
   "cell_type": "code",
   "execution_count": null,
   "metadata": {},
   "outputs": [],
   "source": [
    "# Math\n",
    "import math\n",
    "\n",
    "input_values = [1, 3, 4, 6]\n",
    "prod_math_output = math.prod(input_values)\n",
    "print(prod_math_output)"
   ]
  },
  {
   "cell_type": "code",
   "execution_count": null,
   "metadata": {},
   "outputs": [],
   "source": [
    "# Numpy\n",
    "import numpy as np\n",
    "\n",
    "input_values = [1, 3, 4, 6]\n",
    "prod_np_output = np.prod(input_values)\n",
    "print(prod_np_output)"
   ]
  },
  {
   "cell_type": "markdown",
   "metadata": {},
   "source": [
    "## qsort\n",
    "\n",
    "NCL's `qsort` function sorts a numeric array"
   ]
  },
  {
   "cell_type": "markdown",
   "metadata": {},
   "source": [
    "### Grab and Go"
   ]
  },
  {
   "cell_type": "code",
   "execution_count": null,
   "metadata": {},
   "outputs": [],
   "source": [
    "# Built-In Python\n",
    "input_values = [3, 5, 1, 2]\n",
    "sorted_list = sorted(input_values)\n",
    "print(sorted_list)"
   ]
  },
  {
   "cell_type": "code",
   "execution_count": null,
   "metadata": {},
   "outputs": [],
   "source": [
    "# Numpy\n",
    "import numpy as np\n",
    "\n",
    "input_values = [3, 5, 1, 2]\n",
    "sort_np_output = np.sort(input_values)\n",
    "print(sort_np_output)"
   ]
  },
  {
   "cell_type": "markdown",
   "metadata": {},
   "source": [
    "## sign_matlab\n",
    "\n",
    "NCL's `sign_matlab` mimics the behavior of the Matlab [sign](https://www.mathworks.com/help/matlab/ref/double.sign.html) function\n",
    "\n",
    "```\n",
    "1  if the corresponding element of X is greater than zero\n",
    "\n",
    "0  if the corresponding element of X equals zero\n",
    "\n",
    "-1 if the corresponding element of X is less than zero\n",
    "```"
   ]
  },
  {
   "cell_type": "code",
   "execution_count": null,
   "metadata": {},
   "outputs": [],
   "source": [
    "# Numpy\n",
    "import numpy as np\n",
    "\n",
    "input_value = -5\n",
    "sign_value = np.sign(input_value)\n",
    "print(sign_value)"
   ]
  },
  {
   "cell_type": "code",
   "execution_count": null,
   "metadata": {},
   "outputs": [],
   "source": [
    "# Numpy\n",
    "import numpy as np\n",
    "\n",
    "input_values = [-5, 0, 5]\n",
    "sign_value = np.sign(input_values)\n",
    "print(sign_value)"
   ]
  },
  {
   "cell_type": "markdown",
   "metadata": {},
   "source": [
    "## sqrt\n",
    "\n",
    "NCL's `sqrt` function calculate the square root"
   ]
  },
  {
   "cell_type": "markdown",
   "metadata": {},
   "source": [
    "### Grab and Go"
   ]
  },
  {
   "cell_type": "code",
   "execution_count": null,
   "metadata": {},
   "outputs": [],
   "source": [
    "# Math\n",
    "import math\n",
    "\n",
    "input_value = 3.14\n",
    "\n",
    "sqrt_output = math.sqrt(input_value)\n",
    "print(sqrt_output)"
   ]
  },
  {
   "cell_type": "code",
   "execution_count": null,
   "metadata": {},
   "outputs": [],
   "source": [
    "# Numpy\n",
    "import numpy as np\n",
    "\n",
    "input_values = [3.14, 81, 130, 28]\n",
    "\n",
    "sqrt_output = np.sqrt(input_values)\n",
    "print(sqrt_output)"
   ]
  },
  {
   "cell_type": "markdown",
   "metadata": {},
   "source": [
    "## sqsort\n",
    "\n",
    "NCL's `sqsort` function sorts a string array"
   ]
  },
  {
   "cell_type": "markdown",
   "metadata": {},
   "source": [
    "### Grab and Go"
   ]
  },
  {
   "cell_type": "code",
   "execution_count": null,
   "metadata": {},
   "outputs": [],
   "source": [
    "# Numpy\n",
    "import numpy as np\n",
    "\n",
    "input_values = [\"mango\", \"egg\", \"taco\", \"apple\"]\n",
    "sort_np_output = np.sort(input_values)\n",
    "print(sort_np_output)"
   ]
  },
  {
   "cell_type": "code",
   "execution_count": null,
   "metadata": {},
   "outputs": [],
   "source": [
    "# Built-In Python\n",
    "input_values = [\"mango\", \"egg\", \"taco\", \"apple\"]\n",
    "sorted_list = sorted(input_values)\n",
    "print(sorted_list)"
   ]
  },
  {
   "cell_type": "markdown",
   "metadata": {},
   "source": [
    "## sum\n",
    "\n",
    "NCL's `sum` function calculate the sum of input values"
   ]
  },
  {
   "cell_type": "markdown",
   "metadata": {},
   "source": [
    "### Grab and Go"
   ]
  },
  {
   "cell_type": "code",
   "execution_count": null,
   "metadata": {},
   "outputs": [],
   "source": [
    "# Built-In Python\n",
    "input_values = [1, 3, 4, 6]\n",
    "\n",
    "sum_math_output = sum(input_values)\n",
    "print(sum_math_output)"
   ]
  },
  {
   "cell_type": "code",
   "execution_count": null,
   "metadata": {},
   "outputs": [],
   "source": [
    "# Numpy\n",
    "import numpy as np\n",
    "\n",
    "input_values = [1, 3, 4, 6]\n",
    "sum_np_output = np.sum(input_values)\n",
    "print(sum_np_output)"
   ]
  },
  {
   "cell_type": "markdown",
   "metadata": {},
   "source": [
    "---"
   ]
  },
  {
   "cell_type": "markdown",
   "metadata": {},
   "source": [
    "## Python Resources\n",
    "- [Built-in Python math](https://docs.python.org/3/library/math.html) functions documentation\n",
    "- [Numpy math](https://numpy.org/doc/stable/reference/routines.math.html) function documentation\n",
    "- [Python `cmath` when working with complex mathematics](https://docs.python.org/3/library/cmath.html)\n",
    "- [Python Floating-Point Arithmetic: Issues and Limitations](https://docs.python.org/3/tutorial/floatingpoint.html#floating-point-arithmetic-issues-and-limitations)\n",
    "- [Python Built-In Types](https://docs.python.org/3/library/stdtypes.html#built-in-types)"
   ]
  }
 ],
 "metadata": {
  "kernelspec": {
   "display_name": "Python 3 (ipykernel)",
   "language": "python",
   "name": "python3"
  },
  "language_info": {
   "codemirror_mode": {
    "name": "ipython",
    "version": 3
   },
   "file_extension": ".py",
   "mimetype": "text/x-python",
   "name": "python",
   "nbconvert_exporter": "python",
   "pygments_lexer": "ipython3",
   "version": "3.12.7"
  }
 },
 "nbformat": 4,
 "nbformat_minor": 4
}
