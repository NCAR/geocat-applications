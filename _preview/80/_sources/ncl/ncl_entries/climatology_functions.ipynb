{
 "cells": [
  {
   "cell_type": "markdown",
   "metadata": {},
   "source": [
    "# Climatology"
   ]
  },
  {
   "cell_type": "markdown",
   "metadata": {},
   "source": [
    "## Overview\n",
    "The climatology functions listed below can be calculated using `xarray` and or `geocat.comp`\n",
    "\n",
    "- [calcDayAnomTLL](https://www.ncl.ucar.edu/Document/Functions/Contributed/calcDayAnomTLL.shtml)\n",
    "- [calcMonAnomTLL](https://www.ncl.ucar.edu/Document/Functions/Contributed/calcMonAnomTLL.shtml)\n",
    "- [clmDayTLL](https://www.ncl.ucar.edu/Document/Functions/Contributed/clmDayTLL.shtml)\n",
    "- [clmMonTLL](https://www.ncl.ucar.edu/Document/Functions/Contributed/clmMonTLL.shtml)\n",
    "- [month_to_season](https://www.ncl.ucar.edu/Document/Functions/Contributed/month_to_season.shtml)\n",
    "- [rmMonAnnCycTLL](https://www.ncl.ucar.edu/Document/Functions/Contributed/rmMonAnnCycTLL.shtml)\n",
    "- [stdMonTLL](https://www.ncl.ucar.edu/Document/Functions/Contributed/stdMonTLL.shtml)\n"
   ]
  },
  {
   "cell_type": "markdown",
   "metadata": {},
   "source": [
    "## calcDayAnomTLL\n",
    "`calcDayAnomTLL` calculates daily anomalies from a daily data climatology"
   ]
  },
  {
   "cell_type": "markdown",
   "metadata": {},
   "source": [
    "### Grab and Go"
   ]
  },
  {
   "cell_type": "code",
   "execution_count": null,
   "metadata": {},
   "outputs": [],
   "source": [
    "import xarray as xr\n",
    "\n",
    "ds = xr.open_dataset(\n",
    "    \"../ncl_raw/b.e21.BHIST.f09_g17.CMIP6-historical.003.cice.h1.aice_d.18500101-20141231.nc\"\n",
    ")\n",
    "aice = ds.aice_d[54749:58399, :, :]\n",
    "DayTLL = aice.groupby(aice.time.dt.dayofyear)\n",
    "clmDayTLL = DayTLL.mean(dim=\"time\")\n",
    "calcDayAnomTLL = DayTLL - clmDayTLL\n",
    "\n",
    "calcDayAnomTLL[0, 365, 300]"
   ]
  },
  {
   "cell_type": "markdown",
   "metadata": {},
   "source": [
    "## calcMonAnomTLL\n",
    "`calcMonAnomTLL` calculates monthly anomalies by subtracting the long term mean from each point"
   ]
  },
  {
   "cell_type": "markdown",
   "metadata": {},
   "source": [
    "### Grab and Go"
   ]
  },
  {
   "cell_type": "code",
   "execution_count": null,
   "metadata": {},
   "outputs": [],
   "source": [
    "import xarray as xr\n",
    "\n",
    "ds = xr.open_dataset(\n",
    "    \"../ncl_raw/b.e21.BHIST.f09_g17.CMIP6-historical.003.cice.h.aice.185001-201412.nc\"\n",
    ")\n",
    "aice = ds.aice[1799:1919, :, :]\n",
    "MonTLL = aice.groupby(aice.time.dt.month)\n",
    "clmMonTLL = MonTLL.mean(dim=\"time\")\n",
    "calcMonAnomTLL = MonTLL - clmMonTLL\n",
    "\n",
    "calcMonAnomTLL[0, 365, 300]"
   ]
  },
  {
   "cell_type": "markdown",
   "metadata": {},
   "source": [
    "## clmDayTLL\n",
    "`clmDayTLL` calculates long term daily means (daily climatology) from daily data"
   ]
  },
  {
   "cell_type": "markdown",
   "metadata": {},
   "source": [
    "### Grab and Go"
   ]
  },
  {
   "cell_type": "code",
   "execution_count": null,
   "metadata": {},
   "outputs": [],
   "source": [
    "import xarray as xr\n",
    "\n",
    "ds = xr.open_dataset(\n",
    "    \"../ncl_raw/b.e21.BHIST.f09_g17.CMIP6-historical.003.cice.h1.aice_d.18500101-20141231.nc\"\n",
    ")\n",
    "aice = ds.aice_d[54749:58399, :, :]\n",
    "DayTLL = aice.groupby(aice.time.dt.dayofyear)\n",
    "clmDayTLL = DayTLL.mean(dim=\"time\")\n",
    "\n",
    "clmDayTLL[0, 365, 300]"
   ]
  },
  {
   "cell_type": "markdown",
   "metadata": {},
   "source": [
    "## clmMonTLL\n",
    "`clmMonTLL` calculates long term monthly means (monthly climatology) from monthly data"
   ]
  },
  {
   "cell_type": "markdown",
   "metadata": {},
   "source": [
    "### Grab and Go"
   ]
  },
  {
   "cell_type": "code",
   "execution_count": null,
   "metadata": {},
   "outputs": [],
   "source": [
    "import xarray as xr\n",
    "\n",
    "ds = xr.open_dataset(\n",
    "    \"../ncl_raw/b.e21.BHIST.f09_g17.CMIP6-historical.003.cice.h.aice.185001-201412.nc\"\n",
    ")\n",
    "aice = ds.aice[1799:1919, :, :]\n",
    "MonTLL = aice.groupby(aice.time.dt.month)\n",
    "clmMonTLL = MonTLL.mean(dim=\"time\")\n",
    "\n",
    "clmMonTLL[0, 365, 300]"
   ]
  },
  {
   "cell_type": "markdown",
   "metadata": {},
   "source": [
    "## month_to_season\n",
    "`month_to_season` computes a user-specified three-month seasonal mean (DJF, JFM, FMA, MAM, AMJ, MJJ, JJA, JAS, ASO, SON, OND, NDJ)\n",
    "\n",
    "`xarray` may not be sufficient to calculate custom seasonal means. If you need to work with custom seasons, we suggest using [`geocat.comp.climatologies.month_to_season`](https://geocat-comp.readthedocs.io/en/stable/user_api/generated/geocat.comp.climatologies.month_to_season.html)"
   ]
  },
  {
   "cell_type": "markdown",
   "metadata": {},
   "source": [
    "### Grab and Go"
   ]
  },
  {
   "cell_type": "code",
   "execution_count": null,
   "metadata": {},
   "outputs": [],
   "source": [
    "import xarray as xr\n",
    "import geocat.comp as gc\n",
    "\n",
    "ds = xr.open_dataset(\n",
    "    \"../ncl_raw/b.e21.BHIST.f09_g17.CMIP6-historical.003.cice.h.aice.185001-201412.nc\"\n",
    ")\n",
    "aice = ds.aice[1799:1919, :, :]\n",
    "mon_to_season = gc.climatologies.month_to_season(aice, \"ASO\")\n",
    "\n",
    "mon_to_season[0, 365, 300]"
   ]
  },
  {
   "cell_type": "markdown",
   "metadata": {},
   "source": [
    "## rmMonAnnCycTLL\n",
    "`rmMonAnnCycTLL` removes the annual cycle from monthly data"
   ]
  },
  {
   "cell_type": "markdown",
   "metadata": {},
   "source": [
    "### Grab and Go"
   ]
  },
  {
   "cell_type": "code",
   "execution_count": null,
   "metadata": {},
   "outputs": [],
   "source": [
    "import xarray as xr\n",
    "\n",
    "ds = xr.open_dataset(\n",
    "    \"../ncl_raw/b.e21.BHIST.f09_g17.CMIP6-historical.003.cice.h.aice.185001-201412.nc\"\n",
    ")\n",
    "aice = ds.aice[1799:1919, :, :]\n",
    "MonTLL = aice.groupby(aice.time.dt.month)\n",
    "clmMonTLL = MonTLL.mean(dim=\"time\")\n",
    "rmMonAnnCycTLL = MonTLL - clmMonTLL\n",
    "\n",
    "rmMonAnnCycTLL[0, 365, 300]"
   ]
  },
  {
   "cell_type": "markdown",
   "metadata": {},
   "source": [
    "## stdMonTLL\n",
    "`stdMonTLL` calculates standard deviations of monthly means"
   ]
  },
  {
   "cell_type": "markdown",
   "metadata": {},
   "source": [
    "### Grab and Go"
   ]
  },
  {
   "cell_type": "code",
   "execution_count": null,
   "metadata": {},
   "outputs": [],
   "source": [
    "import xarray as xr\n",
    "\n",
    "ds = xr.open_dataset(\n",
    "    \"../ncl_raw/b.e21.BHIST.f09_g17.CMIP6-historical.003.cice.h.aice.185001-201412.nc\"\n",
    ")\n",
    "aice = ds.aice[1799:1919, :, :]\n",
    "MonTLL = aice.groupby(aice.time.dt.month)\n",
    "stdMonTLL = MonTLL.std(ddof=1)\n",
    "\n",
    "stdMonTLL[0, 365, 300]"
   ]
  },
  {
   "cell_type": "markdown",
   "metadata": {},
   "source": [
    "---"
   ]
  },
  {
   "cell_type": "markdown",
   "metadata": {},
   "source": [
    "## Using `xarray`\n",
    "\n",
    "The [`xarray`](https://docs.xarray.dev/en/latest/index.html) module may be sufficient to calculate the majority of climatology functions\n",
    "\n",
    "You can use the [`groupby()`](https://docs.xarray.dev/en/stable/generated/xarray.DataArray.groupby.html) function to group the data by various [timescales](https://xarray.pydata.org/en/v2024.06.0/user-guide/time-series.html#datetime-indexing)"
   ]
  },
  {
   "cell_type": "markdown",
   "metadata": {},
   "source": [
    "## Using `geocat.comp`\n",
    "\n",
    "The [`geocat.comp`](https://geocat-comp.readthedocs.io/en/stable/user_api/index.html) package offers some custom climatology functions if xarray is insuffisient to replicate an NCL function, as is the case for `month_to_season`"
   ]
  },
  {
   "cell_type": "markdown",
   "metadata": {},
   "source": [
    "## Python Resources\n",
    "\n",
    "- The GeoCAT Applications [Climatology notebook](https://ncar.github.io/geocat-applications/applications/data_analysis/climatology.html)\n",
    "- This [Climatematch Academy notebook](https://comptools.climatematch.io/tutorials/W1D1_ClimateSystemOverview/student/W1D1_Tutorial5.html) on xarray Data Analysis and Climatology\n",
    "- This [Project Pythia Foundations tutorial](https://foundations.projectpythia.org/core/xarray/computation-masking.html) on Computations and Masks with xarray\n",
    "- The [xarray user guide](https://docs.xarray.dev/en/stable/user-guide/time-series.html) on working with time series data"
   ]
  },
  {
   "cell_type": "markdown",
   "metadata": {},
   "source": []
  }
 ],
 "metadata": {
  "kernelspec": {
   "display_name": "Python 3 (ipykernel)",
   "language": "python",
   "name": "python3"
  },
  "language_info": {
   "codemirror_mode": {
    "name": "ipython",
    "version": 3
   },
   "file_extension": ".py",
   "mimetype": "text/x-python",
   "name": "python",
   "nbconvert_exporter": "python",
   "pygments_lexer": "ipython3",
   "version": "3.12.3"
  }
 },
 "nbformat": 4,
 "nbformat_minor": 4
}
