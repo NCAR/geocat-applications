{
 "cells": [
  {
   "cell_type": "markdown",
   "id": "aaff9d45c31bb14f",
   "metadata": {},
   "source": "# days_in_month"
  },
  {
   "cell_type": "markdown",
   "id": "da15bdd411cb2d62",
   "metadata": {},
   "source": [
    "```{warning} This is not meant to be a standalone notebook.\n",
    "This notebook is part of the process we have for adding entries to the NCL Index and is not meant to be used as tutorial or example code.\n",
    "```"
   ]
  },
  {
   "cell_type": "markdown",
   "id": "4db398c6f0f22ab7",
   "metadata": {},
   "source": [
    "## Functions covered\n",
    "[days_in_month](https://www.ncl.ucar.edu/Document/Functions/Built-in/days_in_month.shtml)"
   ]
  },
  {
   "cell_type": "markdown",
   "id": "7abc45739184bc47",
   "metadata": {},
   "source": "## NCL code"
  },
  {
   "cell_type": "markdown",
   "id": "cd244e48b300644b",
   "metadata": {},
   "source": [
    "```{literalinclude} ../ncl_raw/cal_dim.ncl\n",
    "```"
   ]
  },
  {
   "cell_type": "code",
   "execution_count": 1,
   "id": "3979bdf20e5c7601",
   "metadata": {
    "ExecuteTime": {
     "end_time": "2024-06-03T03:56:38.568301Z",
     "start_time": "2024-06-03T03:56:38.564570Z"
    }
   },
   "outputs": [],
   "source": [
    "# From the above code snippet\n",
    "ncl_year = [1996, 1997, 1, 1500]\n",
    "ncl_month = [2, 2, 1, 2]\n",
    "\n",
    "# dictionary of calendars to results\n",
    "ncl_results = {\n",
    "    \"standard\": [29, 28, 31, 28],\n",
    "    \"noleap\": [28, 28, 31, 28],\n",
    "    \"all_leap\": [29, 29, 31, 29],\n",
    "    \"360_day\": [30, 30, 30, 30],\n",
    "    \"gregorian\": [29, 28, 31, 28],\n",
    "    \"julian\": [29, 28, 31, 29],\n",
    "    \"365_day\": [28, 28, 31, 28],\n",
    "    \"366_day\": [29, 29, 31, 29],\n",
    "    \"none\": [29, 28, 31, 28],\n",
    "}"
   ]
  },
  {
   "cell_type": "markdown",
   "id": "f758668e430cb2a8",
   "metadata": {},
   "source": [
    "## Python Functionality\n",
    "<!---\n",
    "Show the python code that replicates the NCL functionality. Don't worry about providing narrative, just provide enough explanation that somebody with the knowledge level of another developer could follow along.\n",
    "-->"
   ]
  },
  {
   "cell_type": "code",
   "execution_count": 2,
   "id": "a9a83f5db82da900",
   "metadata": {
    "ExecuteTime": {
     "end_time": "2024-06-03T03:56:38.649959Z",
     "start_time": "2024-06-03T03:56:38.569341Z"
    }
   },
   "outputs": [
    {
     "name": "stdout",
     "output_type": "stream",
     "text": [
      "{'360_day': [30, 30, 30, 30],\n",
      " '365_day': [28, 28, 31, 28],\n",
      " '366_day': [29, 29, 31, 29],\n",
      " 'all_leap': [29, 29, 31, 29],\n",
      " 'gregorian': [29, 28, 31, 29],\n",
      " 'julian': [29, 28, 31, 29],\n",
      " 'noleap': [28, 28, 31, 28],\n",
      " 'proleptic_gregorian': [29, 28, 31, 28],\n",
      " 'standard': [29, 28, 31, 29]}\n"
     ]
    }
   ],
   "source": [
    "import cftime\n",
    "from pprint import pprint\n",
    "\n",
    "day = 1\n",
    "cals = sorted(list(ncl_results.keys()))\n",
    "cals.remove(\"none\")\n",
    "cals.append(\"proleptic_gregorian\")\n",
    "dim = [\n",
    "    [\n",
    "        cftime.datetime(year, month, day, calendar=c).daysinmonth\n",
    "        for year, month in zip(ncl_year, ncl_month)\n",
    "    ]\n",
    "    for c in cals\n",
    "]\n",
    "results = {cal: days for cal, days in zip(cals, dim)}\n",
    "\n",
    "pprint(results)"
   ]
  },
  {
   "cell_type": "markdown",
   "id": "aebb4a41dcf58234",
   "metadata": {},
   "source": "## Comparison"
  },
  {
   "cell_type": "code",
   "execution_count": 3,
   "id": "162fdb4c1958a96",
   "metadata": {
    "ExecuteTime": {
     "end_time": "2024-06-03T03:56:38.654714Z",
     "start_time": "2024-06-03T03:56:38.652448Z"
    }
   },
   "outputs": [
    {
     "name": "stdout",
     "output_type": "stream",
     "text": [
      "all_leap: \n",
      "\tpython:\t[29, 29, 31, 29]\n",
      "\tncl:\t[29, 29, 31, 29]\n",
      "\n",
      "noleap: \n",
      "\tpython:\t[28, 28, 31, 28]\n",
      "\tncl:\t[28, 28, 31, 28]\n",
      "\n",
      "366_day: \n",
      "\tpython:\t[29, 29, 31, 29]\n",
      "\tncl:\t[29, 29, 31, 29]\n",
      "\n",
      "gregorian: \n",
      "\tpython:\t[29, 28, 31, 29]\n",
      "\tncl:\t[29, 28, 31, 28]\n",
      "\n",
      "standard: \n",
      "\tpython:\t[29, 28, 31, 29]\n",
      "\tncl:\t[29, 28, 31, 28]\n",
      "\n",
      "360_day: \n",
      "\tpython:\t[30, 30, 30, 30]\n",
      "\tncl:\t[30, 30, 30, 30]\n",
      "\n",
      "365_day: \n",
      "\tpython:\t[28, 28, 31, 28]\n",
      "\tncl:\t[28, 28, 31, 28]\n",
      "\n",
      "julian: \n",
      "\tpython:\t[29, 28, 31, 29]\n",
      "\tncl:\t[29, 28, 31, 29]\n",
      "\n",
      "none: \n",
      "\tncl:\t[29, 28, 31, 28]\n",
      "\n",
      "proleptic_gregorian: \n",
      "\tpython:\t[29, 28, 31, 28]\n",
      "\n"
     ]
    }
   ],
   "source": [
    "for c in ncl_results.keys() & results.keys():\n",
    "    print(f\"{c}: \\n\\tpython:\\t{results[c]}\\n\\tncl:\\t{ncl_results[c]}\\n\")\n",
    "\n",
    "for c in ncl_results.keys() - results.keys():\n",
    "    print(f\"{c}: \\n\\tncl:\\t{ncl_results[c]}\\n\")\n",
    "\n",
    "for c in results.keys() - ncl_results.keys():\n",
    "    print(f\"{c}: \\n\\tpython:\\t{results[c]}\\n\")"
   ]
  },
  {
   "cell_type": "markdown",
   "id": "676325d2d5c7a5ed",
   "metadata": {},
   "source": "### Differences"
  },
  {
   "cell_type": "code",
   "execution_count": 4,
   "id": "bd870e707bea6aac",
   "metadata": {
    "ExecuteTime": {
     "end_time": "2024-06-03T03:56:38.658193Z",
     "start_time": "2024-06-03T03:56:38.656119Z"
    }
   },
   "outputs": [
    {
     "name": "stdout",
     "output_type": "stream",
     "text": [
      "standard: [29, 28, 31, 29] != [29, 28, 31, 28]\n",
      "gregorian: [29, 28, 31, 29] != [29, 28, 31, 28]\n",
      "none: calendar not available in python\n",
      "proleptic_gregorian: calendar not available in ncl\n"
     ]
    }
   ],
   "source": [
    "for c in ncl_results.keys() | results.keys():\n",
    "    if c in ncl_results.keys() & results.keys() and results[c] != ncl_results[c]:\n",
    "        print(f\"{c}: {results[c]} != {ncl_results[c]}\")\n",
    "    elif c in ncl_results.keys() - results.keys():\n",
    "        print(f\"{c}: calendar not available in python\")\n",
    "    elif c in results.keys() - ncl_results.keys():\n",
    "        print(f\"{c}: calendar not available in ncl\")"
   ]
  },
  {
   "cell_type": "code",
   "execution_count": 4,
   "id": "da84219ef8b94a88",
   "metadata": {
    "ExecuteTime": {
     "end_time": "2024-06-03T03:56:38.660044Z",
     "start_time": "2024-06-03T03:56:38.658914Z"
    }
   },
   "outputs": [],
   "source": []
  }
 ],
 "metadata": {
  "kernelspec": {
   "display_name": "Python 3",
   "language": "python",
   "name": "python3"
  },
  "language_info": {
   "codemirror_mode": {
    "name": "ipython",
    "version": 2
   },
   "file_extension": ".py",
   "mimetype": "text/x-python",
   "name": "python",
   "nbconvert_exporter": "python",
   "pygments_lexer": "ipython2",
   "version": "2.7.6"
  }
 },
 "nbformat": 4,
 "nbformat_minor": 5
}
