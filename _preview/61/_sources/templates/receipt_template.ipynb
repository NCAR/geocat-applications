{
 "cells": [
  {
   "cell_type": "markdown",
   "id": "e6eddaf181eacfd3",
   "metadata": {},
   "source": [
    "# [NCL Function name or category]\n",
    "<!---\n",
    "Title of the notebook should be the name of the function or category of functions\n",
    "that are being documented and does not need to include the word \"receipt\".\n",
    "\n",
    "This should be the only top level header in the notebook.\n",
    "\n",
    "Remove comments like this before submitting the notebook.\n",
    "-->"
   ]
  },
  {
   "cell_type": "markdown",
   "id": "e6be6389ef38b00b",
   "metadata": {},
   "source": [
    "```{warning} This is not meant to be a standalone notebook.\n",
    "This notebook is part of the process we have for adding entries to the NCL Index and is not meant to be used as tutorial or example code.\n",
    "```"
   ]
  },
  {
   "cell_type": "markdown",
   "id": "536ffded4355d9c6",
   "metadata": {},
   "source": [
    "## Functions covered\n",
    "List and link to the NCL documentation for each function that is covered in this notebook."
   ]
  },
  {
   "cell_type": "markdown",
   "id": "4a129c971c083695",
   "metadata": {},
   "source": [
    "## NCL code\n",
    "<!---\n",
    "Edit the below cell to link to the ncl code included for comparison in this notebook. \n",
    "\n",
    "It may not be visible in your IDE or local editor, but it will be visible in generated documentation (locally, on PR previews, and the live webpage).\n",
    "-->"
   ]
  },
  {
   "cell_type": "markdown",
   "id": "3d70616a8934f0fb",
   "metadata": {},
   "source": [
    "```{literalinclude} ./ncl.ncl\n",
    "```"
   ]
  },
  {
   "cell_type": "code",
   "execution_count": null,
   "id": "4cc8cfe9ae6bc031",
   "metadata": {},
   "outputs": [],
   "source": [
    "import geocat.datafiles\n",
    "\n",
    "ncl_output = geocat.datafiles.get(\n",
    "    \"applications_files/ncl_outputs/spec_1_output.nc\"\n",
    ")  # grab your ncl output files from geocat-datafiles"
   ]
  },
  {
   "cell_type": "markdown",
   "id": "d918dec004b6456b",
   "metadata": {},
   "source": [
    "## Python Functionality\n",
    "<!---\n",
    "Show the python code that replicates the NCL functionality. Don't worry about providing narrative, just provide enough explanation that somebody with the knowledge level of another developer could follow along.\n",
    "-->"
   ]
  },
  {
   "cell_type": "code",
   "execution_count": null,
   "id": "47cd64dda7652b64",
   "metadata": {},
   "outputs": [],
   "source": []
  },
  {
   "cell_type": "markdown",
   "id": "f5249331fd3ece22",
   "metadata": {},
   "source": ""
  },
  {
   "cell_type": "markdown",
   "id": "3237a0bffc6827fc",
   "metadata": {},
   "source": [
    "## Comparison\n",
    "<!---\n",
    "Directly compare the outputs, numerically, visually, or however is most appropriate.\n",
    "\n",
    "If possible and reasonable, include assert statements to validate the output.\n",
    "-->"
   ]
  },
  {
   "cell_type": "code",
   "execution_count": null,
   "id": "1fe6a51d83a36148",
   "metadata": {},
   "outputs": [],
   "source": []
  }
 ],
 "metadata": {
  "kernelspec": {
   "display_name": "Python 3",
   "language": "python",
   "name": "python3"
  },
  "language_info": {
   "codemirror_mode": {
    "name": "ipython",
    "version": 2
   },
   "file_extension": ".py",
   "mimetype": "text/x-python",
   "name": "python",
   "nbconvert_exporter": "python",
   "pygments_lexer": "ipython2",
   "version": "2.7.6"
  }
 },
 "nbformat": 4,
 "nbformat_minor": 5
}
