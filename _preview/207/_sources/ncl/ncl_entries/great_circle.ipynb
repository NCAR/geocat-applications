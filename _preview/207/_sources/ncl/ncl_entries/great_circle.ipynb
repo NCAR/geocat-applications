{
 "cells": [
  {
   "cell_type": "markdown",
   "metadata": {},
   "source": [
    "# Great Circle\n"
   ]
  },
  {
   "cell_type": "markdown",
   "metadata": {},
   "source": [
    "## Overview\n",
    "\n",
    "This section covers great circle functions from NCL:\n",
    "\n",
    "- [area_poly_sphere](https://www.ncl.ucar.edu/Document/Functions/Built-in/area_poly_sphere.shtml)\n",
    "- [css2c](https://www.ncl.ucar.edu/Document/Functions/Built-in/css2c.shtml)\n",
    "- [csc2s](https://www.ncl.ucar.edu/Document/Functions/Built-in/csc2s.shtml)\n",
    "- [gc_onarc](https://www.ncl.ucar.edu/Document/Functions/Built-in/gc_onarc.shtml)"
   ]
  },
  {
   "cell_type": "markdown",
   "metadata": {},
   "source": [
    "## area_poly_sphere\n",
    "NCL's `area_poly_sphere` calculates the area enclosed by an arbitrary polygon on the sphere\n",
    "\n",
    "<div class=\"admonition alert alert-info\">\n",
    "    <p class=\"admonition-title\" style=\"font-weight:bold\">Important Note</p>\n",
    "    Coordinates should be within the valid latitude/longitude range (-90° to 90° and -180° to 180°) and be in clockwise order\n",
    "</div>\n",
    "\n",
    "Due to the shape of the Earth, the radius varies, but can be assumed to be a unit sphere with a radius of 6370997 m (based on the Clarke 1866 Authalic Sphere{footcite}`usgs_1987` model)"
   ]
  },
  {
   "cell_type": "markdown",
   "metadata": {},
   "source": [
    "### Grab and Go"
   ]
  },
  {
   "cell_type": "code",
   "execution_count": null,
   "metadata": {},
   "outputs": [],
   "source": [
    "from pyproj import Geod\n",
    "\n",
    "# Points in clockise order: Boulder, Boston, Houston\n",
    "latitudes = [40.0150, 42.3601, 29.5518]  # degrees\n",
    "longitudes = [-105.2705, -71.0589, -95.0982]  # degrees\n",
    "\n",
    "geod = Geod(ellps=\"sphere\")  # radius = 6370997 m\n",
    "poly_area_m, _ = geod.polygon_area_perimeter(longitudes, latitudes)\n",
    "poly_area_km2 = abs(poly_area_m) * 1e-6\n",
    "poly_area_km2"
   ]
  },
  {
   "cell_type": "markdown",
   "metadata": {},
   "source": [
    "## css2c\n",
    "NCL's `css2c` converts spherical (latitude/longitude) coordinates to Cartesian coordinates on a unit sphere"
   ]
  },
  {
   "cell_type": "markdown",
   "metadata": {},
   "source": [
    "### Grab and Go"
   ]
  },
  {
   "cell_type": "code",
   "execution_count": null,
   "metadata": {},
   "outputs": [],
   "source": [
    "from astropy.coordinates.representation import UnitSphericalRepresentation\n",
    "from astropy import units\n",
    "\n",
    "lat = 40.0150\n",
    "lon = -105.2705\n",
    "\n",
    "spherical_coords = UnitSphericalRepresentation(lat=lat * units.deg, lon=lon * units.deg)\n",
    "cart_coords = spherical_coords.to_cartesian()\n",
    "print(f\"X = {cart_coords.x.value}\")\n",
    "print(f\"Y = {cart_coords.y.value}\")\n",
    "print(f\"Z = {cart_coords.z.value}\")"
   ]
  },
  {
   "cell_type": "markdown",
   "metadata": {},
   "source": [
    "## csc2s\n",
    "NCL's `csc2s` converts Cartesian coordinates to spherical (latitude/longitude) coordinates on a unit sphere"
   ]
  },
  {
   "cell_type": "markdown",
   "metadata": {},
   "source": [
    "### Grab and Go"
   ]
  },
  {
   "cell_type": "code",
   "execution_count": null,
   "metadata": {},
   "outputs": [],
   "source": [
    "from astropy.coordinates.representation import (\n",
    "    CartesianRepresentation,\n",
    "    SphericalRepresentation,\n",
    ")\n",
    "import numpy as np\n",
    "\n",
    "x = -0.20171369272651396\n",
    "y = -0.7388354627678497\n",
    "z = 0.6429881376224998\n",
    "\n",
    "cart_coords = CartesianRepresentation(x=x, y=y, z=z)\n",
    "spherical_coords = cart_coords.represent_as(SphericalRepresentation)\n",
    "\n",
    "# convert latitude/longitude from radians to degrees\n",
    "lat_deg = np.rad2deg(spherical_coords.lat.value)\n",
    "lon_deg = (\n",
    "    np.rad2deg(spherical_coords.lon.value) + 180\n",
    ") % 360 - 180  # keep longitude between -180 to 180\n",
    "\n",
    "print(f\"Latitude = {lat_deg}\")\n",
    "print(f\"Longitude = {lon_deg}\")"
   ]
  },
  {
   "cell_type": "markdown",
   "metadata": {},
   "source": [
    "## gc_onarc\n",
    "NCL's `gc_onarc` determines if a point on the globe lies on a specified great circle arc\n",
    "\n",
    "As long as the angle between the two points along the great circle arc are not exactly 180 (diametrically opposite, or antipodal)."
   ]
  },
  {
   "cell_type": "code",
   "execution_count": 3,
   "metadata": {},
   "outputs": [
    {
     "data": {
      "text/plain": [
       "True"
      ]
     },
     "execution_count": 3,
     "metadata": {},
     "output_type": "execute_result"
    }
   ],
   "source": [
    "import numpy as np\n",
    "\n",
    "\n",
    "# Convert latitude and longitude points to Cartesian Points (see: css2c)\n",
    "def latlon_to_cart(lat, lon):\n",
    "    from astropy.coordinates.representation import UnitSphericalRepresentation\n",
    "    from astropy import units\n",
    "\n",
    "    spherical_coords = UnitSphericalRepresentation(\n",
    "        lat=lat * units.deg, lon=lon * units.deg\n",
    "    )\n",
    "    cart_coords = spherical_coords.to_cartesian()\n",
    "    return np.array([cart_coords.x, cart_coords.y, cart_coords.z])\n",
    "\n",
    "\n",
    "pt_within = latlon_to_cart(40.0150, -105.2705)  # Boulder\n",
    "vertex_a = latlon_to_cart(50.0150, -105.2705)\n",
    "vertex_b = latlon_to_cart(30.0150, -105.2705)\n",
    "\n",
    "# Determine if point lies along great circle arc\n",
    "from uxarray.grid.arcs import point_within_gca\n",
    "\n",
    "point_within_gca(pt_within, vertex_a, vertex_b)"
   ]
  },
  {
   "cell_type": "markdown",
   "metadata": {},
   "source": [
    "---"
   ]
  },
  {
   "cell_type": "markdown",
   "metadata": {},
   "source": [
    "## Python Resources\n",
    "- [pyroj.geod() great circle computations](https://pyproj4.github.io/pyproj/stable/api/geod.html)\n",
    "- [Astropy Coordinate Systems](https://docs.astropy.org/en/stable/coordinates/representations.html)\n",
    "\n",
    "## Additional Reading\n",
    "- [Aviation Formulary for working with great circles](https://www.edwilliams.org/avform147.htm)"
   ]
  },
  {
   "cell_type": "markdown",
   "metadata": {},
   "source": [
    "## References:\n",
    "\n",
    "```{footbibliography}\n",
    "```"
   ]
  }
 ],
 "metadata": {
  "kernelspec": {
   "display_name": "Python 3 (ipykernel)",
   "language": "python",
   "name": "python3"
  },
  "language_info": {
   "codemirror_mode": {
    "name": "ipython",
    "version": 3
   },
   "file_extension": ".py",
   "mimetype": "text/x-python",
   "name": "python",
   "nbconvert_exporter": "python",
   "pygments_lexer": "ipython3",
   "version": "3.12.9"
  }
 },
 "nbformat": 4,
 "nbformat_minor": 4
}
