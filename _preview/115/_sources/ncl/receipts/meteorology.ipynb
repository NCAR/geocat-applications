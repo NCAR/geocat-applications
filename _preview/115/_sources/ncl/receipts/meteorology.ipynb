{
 "cells": [
  {
   "cell_type": "markdown",
   "id": "e6eddaf181eacfd3",
   "metadata": {},
   "source": [
    "# Meteorology"
   ]
  },
  {
   "cell_type": "markdown",
   "id": "e6be6389ef38b00b",
   "metadata": {},
   "source": [
    "```{warning} This is not meant to be a standalone notebook.\n",
    "This notebook is part of the process we have for adding entries to the NCL Index and is not meant to be used as tutorial or example code.\n",
    "```"
   ]
  },
  {
   "cell_type": "markdown",
   "id": "536ffded4355d9c6",
   "metadata": {},
   "source": [
    "## Functions covered\n",
    "- [dewtemp_trh](https://www.ncl.ucar.edu/Document/Functions/Built-in/dewtemp_trh.shtml)\n",
    "- [daylight_fao56](https://www.ncl.ucar.edu/Document/Functions/Crop/daylight_fao56.shtml)"
   ]
  },
  {
   "cell_type": "markdown",
   "id": "4a129c971c083695",
   "metadata": {},
   "source": [
    "## NCL code"
   ]
  },
  {
   "cell_type": "markdown",
   "id": "3d70616a8934f0fb",
   "metadata": {},
   "source": [
    "```{literalinclude} ../ncl_raw/dewtemp_trh.ncl\n",
    "\n",
    "```"
   ]
  },
  {
   "cell_type": "markdown",
   "id": "3b32a066-055f-454b-a843-e57dca954dad",
   "metadata": {},
   "source": [
    "```{literalinclude} ../ncl_raw/daylight_fao56.ncl\n",
    "\n",
    "```"
   ]
  },
  {
   "cell_type": "markdown",
   "id": "d918dec004b6456b",
   "metadata": {},
   "source": [
    "## Python Functionality"
   ]
  },
  {
   "cell_type": "markdown",
   "id": "6dc1d6c4-ac26-4346-9aa3-2c73182a7511",
   "metadata": {},
   "source": [
    "### dewtemp_trh"
   ]
  },
  {
   "cell_type": "code",
   "execution_count": 9,
   "id": "7af6f81c-2498-4aea-b250-579ec3fd31c8",
   "metadata": {},
   "outputs": [],
   "source": [
    "#### Collect NCL values for dewtemp_trh from geocat-datafiles\n",
    "import geocat.datafiles as gdf\n",
    "import numpy as np\n",
    "\n",
    "dewtemp_data = gdf.get('applications_files/ncl_outputs/dewtemp_trh_output.txt')\n",
    "dewtemp_data = np.loadtxt(dewtemp_data, delimiter=',', skiprows=6)"
   ]
  },
  {
   "cell_type": "code",
   "execution_count": 10,
   "id": "3166c583-1290-4300-b96b-beab81cd033d",
   "metadata": {},
   "outputs": [],
   "source": [
    "### Collect NCL `dewtemp` value and associated (temperature_kelvin, relative humidity) values\n",
    "ncl_dewtemp = {}\n",
    "tk_rh = tuple(map(tuple, dewtemp_data[::, 0:2]))\n",
    "dewtemp_values = dewtemp_data[::, 2]\n",
    "ncl_dewtemp = dict(zip(tk_rh, dewtemp_values))"
   ]
  },
  {
   "cell_type": "code",
   "execution_count": 11,
   "id": "39fd494c-609b-4dd0-83fd-b08d0daf6aaa",
   "metadata": {},
   "outputs": [],
   "source": [
    "### Collect Temperature (Kelvin) and Relative Humidity Pairs\n",
    "tk_rh = []\n",
    "for tk in range(273, 374 + 1):\n",
    "    for rh in range(1, 100 + 1):\n",
    "        tk_rh.append((tk, rh))\n",
    "\n",
    "### Calculate GeoCAT-Comp `dewtemp` value and tk/rh\n",
    "from geocat.comp import dewtemp\n",
    "\n",
    "geocat_dewtemp = {}\n",
    "\n",
    "for i, pair in enumerate(tk_rh):\n",
    "    tk, rh = pair\n",
    "    geocat_dewtemp[pair] = dewtemp(tk, rh) - 273.15"
   ]
  },
  {
   "cell_type": "markdown",
   "id": "dba9a9a6-864e-48b0-9f0c-ac0f74aed670",
   "metadata": {},
   "source": [
    "### daylight_fao56"
   ]
  },
  {
   "cell_type": "code",
   "execution_count": 12,
   "id": "69028bd0-ae29-43d6-9824-e80b4d6d8f44",
   "metadata": {},
   "outputs": [],
   "source": [
    "#### Collect NCL values for daylight_fao56 from geocat-datafiles\n",
    "import geocat.datafiles as gdf\n",
    "import numpy as np\n",
    "\n",
    "daylight_data = gdf.get('applications_files/ncl_outputs/daylight_fao56_output.txt')\n",
    "daylight_data = np.loadtxt(daylight_data, delimiter=',', skiprows=6)"
   ]
  },
  {
   "cell_type": "code",
   "execution_count": 13,
   "id": "128f13cb-b22f-4b4e-b144-268db532aa78",
   "metadata": {},
   "outputs": [],
   "source": [
    "### Collect NCL `daylight_fao56` value and associated (doy, latitude) values\n",
    "ncl_daylight = {}\n",
    "doy_lat = tuple(map(tuple, daylight_data[::, 0:2]))\n",
    "daylight_values = daylight_data[::, 2]\n",
    "ncl_daylight = dict(zip(doy_lat, daylight_values))"
   ]
  },
  {
   "cell_type": "code",
   "execution_count": 14,
   "id": "ed9351f8-4ff7-4585-b957-d491ace5bdb3",
   "metadata": {},
   "outputs": [],
   "source": [
    "### Collect DOY and Latitude Pairs\n",
    "doy_lat = []\n",
    "for doy in range(0, 365 + 1):\n",
    "    for lat in range(-66, 66 + 1):\n",
    "        doy_lat.append((doy, lat))\n",
    "\n",
    "### Calculate GeoCAT-Comp `daylight_fao56` value and doy/lat\n",
    "from geocat.comp import max_daylight\n",
    "\n",
    "geocat_daylight = {}\n",
    "\n",
    "for i, pair in enumerate(doy_lat):\n",
    "    doy, lat = pair\n",
    "    geocat_daylight[pair] = max_daylight(doy, lat)"
   ]
  },
  {
   "cell_type": "markdown",
   "id": "3237a0bffc6827fc",
   "metadata": {},
   "source": [
    "## Comparison"
   ]
  },
  {
   "cell_type": "code",
   "execution_count": 15,
   "id": "74362fd9-0e9f-4cf9-91da-08cd81be625c",
   "metadata": {},
   "outputs": [
    {
     "name": "stdout",
     "output_type": "stream",
     "text": [
      "(274.0, 94.0):\n",
      "\t-0.0055542, -0.005570036309563875\n",
      "\tDifference: 1.5836309563875377e-05\n",
      "(275.0, 87.0):\n",
      "\t-0.0839233, -0.08393959272956408\n",
      "\tDifference: 1.6292729564076902e-05\n",
      "(275.0, 88.0):\n",
      "\t0.073761, 0.07374617196580857\n",
      "\tDifference: 1.482803419142198e-05\n",
      "(277.0, 76.0):\n",
      "\t0.00259399, 0.0025903565796738803\n",
      "\tDifference: 3.633420326119678e-06\n",
      "(278.0, 71.0):\n",
      "\t0.0261536, 0.026158530424595483\n",
      "\tDifference: -4.930424595483984e-06\n",
      "(279.0, 66.0):\n",
      "\t-0.0278931, -0.027897415813697535\n",
      "\tDifference: 4.3158136975342265e-06\n",
      "(281.0, 58.0):\n",
      "\t0.0712891, 0.07128017477202775\n",
      "\tDifference: 8.925227972245153e-06\n",
      "(282.0, 54.0):\n",
      "\t0.0129395, 0.01291856405322278\n",
      "\tDifference: 2.0935946777218828e-05\n",
      "(283.0, 50.0):\n",
      "\t-0.130432, -0.13044636060385528\n",
      "\tDifference: 1.4360603855290144e-05\n",
      "(283.0, 51.0):\n",
      "\t0.144928, 0.14490829422311435\n",
      "\tDifference: 1.9705776885647897e-05\n",
      "(284.0, 47.0):\n",
      "\t-0.0726318, -0.07262340593854333\n",
      "\tDifference: -8.39406145666799e-06\n",
      "(285.0, 44.0):\n",
      "\t-0.0798035, -0.07982300528288988\n",
      "\tDifference: 1.950528288988118e-05\n",
      "(286.0, 41.0):\n",
      "\t-0.160156, -0.1601734585760255\n",
      "\tDifference: 1.7458576025503048e-05\n",
      "(287.0, 39.0):\n",
      "\t0.0386658, 0.0386467450997543\n",
      "\tDifference: 1.905490024570189e-05\n",
      "(290.0, 32.0):\n",
      "\t-0.0795288, -0.07954541765832346\n",
      "\tDifference: 1.6617658323461737e-05\n",
      "(291.0, 30.0):\n",
      "\t-0.115204, -0.11521555297190389\n",
      "\tDifference: 1.1552971903888709e-05\n",
      "(294.0, 25.0):\n",
      "\t-0.110413, -0.11042499197856159\n",
      "\tDifference: 1.1991978561595729e-05\n",
      "(295.0, 24.0):\n",
      "\t0.156677, 0.15665929836796977\n",
      "\tDifference: 1.7701632030242553e-05\n",
      "(297.0, 21.0):\n",
      "\t-0.0614929, -0.06151243710161225\n",
      "\tDifference: 1.953710161224642e-05\n",
      "(299.0, 19.0):\n",
      "\t0.162537, 0.16251872398265732\n",
      "\tDifference: 1.8276017342666595e-05\n",
      "(302.0, 16.0):\n",
      "\t0.138275, 0.1382598702660971\n",
      "\tDifference: 1.5129733902913278e-05\n",
      "(303.0, 15.0):\n",
      "\t0.0130615, 0.013067891707237322\n",
      "\tDifference: -6.391707237322214e-06\n"
     ]
    }
   ],
   "source": [
    "import math\n",
    "\n",
    "for pair in ncl_dewtemp.keys():\n",
    "    try:\n",
    "        assert math.isclose(\n",
    "            ncl_dewtemp[pair], geocat_dewtemp[pair], rel_tol=1e-04\n",
    "        )  # within 4 decimal points\n",
    "    except Exception:\n",
    "        assert math.isclose(\n",
    "            ncl_dewtemp[pair], geocat_dewtemp[pair], rel_tol=1e-02\n",
    "        )  # within 2 decimal points\n",
    "        print(f\"{pair}:\")\n",
    "        print(f\"\\t{ncl_dewtemp[pair]}, {geocat_dewtemp[pair]}\")\n",
    "        print(f\"\\tDifference: {ncl_dewtemp[pair] - geocat_dewtemp[pair]}\")"
   ]
  },
  {
   "cell_type": "code",
   "execution_count": 16,
   "id": "840d88ab-7ecc-485a-9aaf-d8de846196a9",
   "metadata": {},
   "outputs": [],
   "source": [
    "for pair in ncl_daylight.keys():\n",
    "    assert math.isclose(\n",
    "        ncl_daylight[pair], geocat_daylight[pair].flatten()[0], rel_tol=1e-05\n",
    "    )  # within 5 decimal points"
   ]
  }
 ],
 "metadata": {
  "kernelspec": {
   "display_name": "Python 3 (ipykernel)",
   "language": "python",
   "name": "python3"
  },
  "language_info": {
   "codemirror_mode": {
    "name": "ipython",
    "version": 3
   },
   "file_extension": ".py",
   "mimetype": "text/x-python",
   "name": "python",
   "nbconvert_exporter": "python",
   "pygments_lexer": "ipython3",
   "version": "3.11.8"
  }
 },
 "nbformat": 4,
 "nbformat_minor": 5
}
