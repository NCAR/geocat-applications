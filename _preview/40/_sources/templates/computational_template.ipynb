{
 "cells": [
  {
   "cell_type": "markdown",
   "metadata": {},
   "source": [
    "# Computational Notebook Template\n",
    "This template is designed to be the main page of content for a specific topic added to geocat-applications. \n",
    "\n",
    "It should start with a header describing the type of functionality the notebook demonstrates and should be the only use of the top level header (`#`) in the notebook."
   ]
  },
  {
   "cell_type": "markdown",
   "metadata": {},
   "source": [
    "## Overview\n",
    "When possible, lead with a short intro paragraph that covers the content and scope of the materials in the notebook"
   ]
  },
  {
   "metadata": {},
   "cell_type": "markdown",
   "source": [
    "## Grab and Go\n",
    "\n",
    "Where possible, provide a code section that can be copied and pasted to use the base-level functionality described in the notebook.\n",
    "    \n",
    "```python   \n",
    "# Python code\n",
    "```"
   ]
  },
  {
   "metadata": {},
   "cell_type": "markdown",
   "source": "---"
  },
  {
   "cell_type": "markdown",
   "metadata": {},
   "source": [
    " ## Content Sections\n",
    "In the content sections, provide sections on topics such as:\n",
    "- working through a geoscience-specific problem\n",
    "- explaining the concepts behind the functionality\n",
    "- introducing other examples in the python ecosystem that cover similar topics\n",
    "\n",
    "*Note that these examples can be their own ##-level headers and that your final notebook is not expected to have a section with the ## Content Sections present in this cell*"
   ]
  }
 ],
 "metadata": {
  "language_info": {
   "name": "python"
  }
 },
 "nbformat": 4,
 "nbformat_minor": 2
}
