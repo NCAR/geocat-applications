{
 "cells": [
  {
   "cell_type": "markdown",
   "metadata": {},
   "source": [
    "# Atmosphere Properties based on Height"
   ]
  },
  {
   "cell_type": "markdown",
   "metadata": {},
   "source": [
    "## Overview\n",
    "\n",
    "The atmosphere changes based on height above sea-level. Properties like temperature, density, and pressure change with the altitude of observation"
   ]
  },
  {
   "cell_type": "markdown",
   "metadata": {},
   "source": [
    "## [Ambiance](https://github.com/airinnova/ambiance/) Python Package\n",
    "\n",
    "Ambiance atmosphere properties:\n",
    "- Density (`density`)\n",
    "- Pressure (`pressure`)\n",
    "- Temperature (`temperature_in_celsius`)\n",
    "- Collision frequency (`collision_frequency`)\n",
    "- Dynamic viscosity (`dynamic_viscosity`)\n",
    "- Geometric height above [MSL](https://en.wikipedia.org/wiki/Sea_level) (`h`)\n",
    "- Geopotential height (`H`)\n",
    "- Gravitational acceleration (`grav_accel`)\n",
    "- Kinematic viscosity (`kinematic_viscosity`)\n",
    "- Layer names (`layer_name`)\n",
    "- Mean free path (`mean_free_path`)\n",
    "- Mean particle speed (`mean_particle_speed`)\n",
    "- Number density (`number_density`)\n",
    "- Pressure scale height (`pressure_scale_height`)\n",
    "- Specific weight (`specific_weight`)\n",
    "- Speed of sound (`speed_of_sound`)\n",
    "- Temperature (`temperature`)\n",
    "- Thermal conductivity (`thermal_conductivity`)"
   ]
  },
  {
   "cell_type": "code",
   "execution_count": 10,
   "metadata": {},
   "outputs": [
    {
     "name": "stdout",
     "output_type": "stream",
     "text": [
      "Layer Name     : troposphere\n",
      "Speed of sound : 339.90996496753064 m/s\n",
      "Temperature    : 14.350010225164397 C\n",
      "Density        : 1.213282967332296 kg/m^3\n",
      "Pressure       : 1001.2945645595289 hPa (mB)\n"
     ]
    }
   ],
   "source": [
    "from ambiance import Atmosphere\n",
    "\n",
    "height = 100  # meters\n",
    "atmos_100 = Atmosphere(height)\n",
    "\n",
    "print(f\"Layer Name     : {atmos_100.layer_name[0]}\")\n",
    "print(f\"Speed of sound : {atmos_100.speed_of_sound[0]} m/s\")\n",
    "print(f\"Temperature    : {atmos_100.temperature_in_celsius[0]} C\")\n",
    "print(f\"Density        : {atmos_100.density[0]} kg/m^3\")\n",
    "print(f\"Pressure       : {atmos_100.pressure[0]/100} hPa (mB)\")"
   ]
  },
  {
   "cell_type": "markdown",
   "metadata": {
    "jp-MarkdownHeadingCollapsed": true
   },
   "source": [
    "## Curated Resources\n",
    "\n",
    "To learn more about working with atmosphere properties in Python, we suggest:\n",
    "- Python [`ambiance`](https://ambiance.readthedocs.io/en/latest/) documentation\n",
    "- [1976 U.S. standard atmosphere](https://www.ngdc.noaa.gov/stp/space-weather/online-publications/miscellaneous/us-standard-atmosphere-1976/us-standard-atmosphere_st76-1562_noaa.pdf) documentation"
   ]
  }
 ],
 "metadata": {
  "kernelspec": {
   "display_name": "Python 3 (ipykernel)",
   "language": "python",
   "name": "python3"
  },
  "language_info": {
   "codemirror_mode": {
    "name": "ipython",
    "version": 3
   },
   "file_extension": ".py",
   "mimetype": "text/x-python",
   "name": "python",
   "nbconvert_exporter": "python",
   "pygments_lexer": "ipython3",
   "version": "3.11.8"
  }
 },
 "nbformat": 4,
 "nbformat_minor": 4
}
