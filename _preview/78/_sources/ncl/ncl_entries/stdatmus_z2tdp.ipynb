{
 "cells": [
  {
   "cell_type": "markdown",
   "metadata": {},
   "source": [
    "# stdatmus_z2tdp"
   ]
  },
  {
   "cell_type": "markdown",
   "metadata": {},
   "source": [
    "## Overview\n",
    "Calculates the corresponding temperature, density, and pressure based height\n",
    "- NCL [stdatmus_z2tdp](https://www.ncl.ucar.edu/Document/Functions/Built-in/stdatmus_z2tdp.shtml) function"
   ]
  },
  {
   "cell_type": "markdown",
   "metadata": {},
   "source": [
    "## [Ambiance](https://github.com/airinnova/ambiance/) Python Package\n",
    "\n",
    "Ambiance atmosphere properties that match NCL `stdatmus_z2tdp`\n",
    "- Density (`density`)\n",
    "- Pressure (`pressure`)\n",
    "- Temperature (`temperature_in_celsius`)\n",
    "\n",
    "Additional Atmosphere Properties:\n",
    "- Collision frequency (`collision_frequency`)\n",
    "- Dynamic viscosity (`dynamic_viscosity`)\n",
    "- Geometric height above [MSL](https://en.wikipedia.org/wiki/Sea_level) (`h`)\n",
    "- Geopotential height (`H`)\n",
    "- Gravitational acceleration (`grav_accel`)\n",
    "- Kinematic viscosity (`kinematic_viscosity`)\n",
    "- Layer names (`layer_name`)\n",
    "- Mean free path (`mean_free_path`)\n",
    "- Mean particle speed (`mean_particle_speed`)\n",
    "- Number density (`number_density`)\n",
    "- Pressure scale height (`pressure_scale_height`)\n",
    "- Specific weight (`specific_weight`)\n",
    "- Speed of sound (`speed_of_sound`)\n",
    "- Temperature (`temperature`)\n",
    "- Thermal conductivity (`thermal_conductivity`)"
   ]
  },
  {
   "cell_type": "markdown",
   "metadata": {},
   "source": [
    "## stdatmus_z2tdp"
   ]
  },
  {
   "cell_type": "markdown",
   "metadata": {},
   "source": [
    "### Grab and Go"
   ]
  },
  {
   "cell_type": "code",
   "execution_count": 8,
   "metadata": {},
   "outputs": [
    {
     "name": "stdout",
     "output_type": "stream",
     "text": [
      "Temperature : 14.350010225164397 C\n",
      "Density     : 1.213282967332296 kg/m^3\n",
      "Pressure    : 1001.2945645595289 hPa (mB)\n"
     ]
    }
   ],
   "source": [
    "from ambiance import Atmosphere\n",
    "\n",
    "height = 100  # meters\n",
    "stdatmus_100 = Atmosphere(height)\n",
    "\n",
    "print(f\"Temperature : {stdatmus_100.temperature_in_celsius[0]} C\")\n",
    "print(f\"Density     : {stdatmus_100.density[0]} kg/m^3\")\n",
    "print(f\"Pressure    : {stdatmus_100.pressure[0]/100} hPa (mB)\")"
   ]
  },
  {
   "cell_type": "markdown",
   "metadata": {},
   "source": [
    "## Python changes to approximate NCL functionality\n",
    "The `ambiance` package includes additional atmospheric properties as well as the NCL properties (`temperature_in_celsius`,  `density`,`pressure`)\n",
    "\n",
    "To match NCL functionality, the default `pressure` property needs to be converted from the ambiance's default `Pascal` to NCL's `Millibar` (dividing by 100).\n",
    "\n",
    "### Differences from NCL\n",
    "`stdatmus_z2tdp` NCL function is based on the 1976 U.S. standard atmosphere while `ambiance` is an implementation of [1993 ICAO Standard Atmosphere](https://ambiance.readthedocs.io/en/latest/theory/references.html) which extends the model to 80 km and should still match in these part. The Python `ambiance` package returns an array for each atmosphere property with more degrees of precision than NCL."
   ]
  },
  {
   "cell_type": "markdown",
   "metadata": {},
   "source": [
    "## Python Resources\n",
    "\n",
    "- Python [`ambiance`](https://ambiance.readthedocs.io/en/latest/) documentation\n",
    "- [1976 U.S. standard atmosphere](https://www.ngdc.noaa.gov/stp/space-weather/online-publications/miscellaneous/us-standard-atmosphere-1976/us-standard-atmosphere_st76-1562_noaa.pdf) documentation"
   ]
  }
 ],
 "metadata": {
  "kernelspec": {
   "display_name": "Python 3 (ipykernel)",
   "language": "python",
   "name": "python3"
  },
  "language_info": {
   "codemirror_mode": {
    "name": "ipython",
    "version": 3
   },
   "file_extension": ".py",
   "mimetype": "text/x-python",
   "name": "python",
   "nbconvert_exporter": "python",
   "pygments_lexer": "ipython3",
   "version": "3.11.8"
  }
 },
 "nbformat": 4,
 "nbformat_minor": 4
}
