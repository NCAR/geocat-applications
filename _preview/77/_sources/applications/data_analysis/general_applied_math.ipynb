{
 "cells": [
  {
   "cell_type": "markdown",
   "metadata": {},
   "source": [
    "# General Applied Math"
   ]
  },
  {
   "cell_type": "markdown",
   "metadata": {},
   "source": [
    "## Overview\n",
    "Working with math is perhaps the most common task in any kind of geoscience workflow in Python. This notebook will cover:\n",
    "\n",
    "- `math` vs. `numpy`\n",
    "- Working with math and common statistics methods"
   ]
  },
  {
   "cell_type": "markdown",
   "metadata": {},
   "source": [
    "## `math` vs. `numpy`\n",
    "\n",
    "`math` is a built-in part of the standard Python library. Functions in the `math` module cannot be used with complex numbers (which can be covered by the built-in `cmath` library). This is a useful package for standard and simple computations when working with scalar values. To work with arrays or large datasets, `numpy` is a good alternative. `numpy` is a common external Python package for working with arrays and mathematical functions. `numpy` is a external Python package tailored for working with scientific computing and math functions can be applied to large datasets and arrays"
   ]
  },
  {
   "cell_type": "markdown",
   "metadata": {},
   "source": [
    "### `math` function\n",
    "The `math` module is built into the standard Python library. The alternative `cmath` module can be used when working complex numbers for math calculations\n",
    "\n",
    "#### Trigonometric and Hyperbolic functions\n",
    "- [sin](https://docs.python.org/3/library/math.html#math.sin)\n",
    "- [cos](https://docs.python.org/3/library/math.html#math.cos)\n",
    "- [tan](https://docs.python.org/3/library/math.html#math.tan)\n",
    "- [asin](https://docs.python.org/3/library/math.html#math.asin)\n",
    "- [acos](https://docs.python.org/3/library/math.html#math.acos)\n",
    "- [atan](https://docs.python.org/3/library/math.html#math.atan)\n",
    "- [atan2](https://docs.python.org/3/library/math.html#math.atan2)\n",
    "- [sinh](https://docs.python.org/3/library/math.html#math.sinh)\n",
    "- [cosh](https://docs.python.org/3/library/math.html#math.cosh)\n",
    "- [tanh](https://docs.python.org/3/library/math.html#math.tanh)\n",
    "- [asinh](https://docs.python.org/3/library/math.html#math.asinh)\n",
    "- [acosh](https://docs.python.org/3/library/math.html#math.acosh)\n",
    "- [atanh](https://docs.python.org/3/library/math.html#math.atanh)\n",
    "\n",
    "#### Algebraic Functions\n",
    "\n",
    "- [sum](https://docs.python.org/3/library/functions.html#sum) (part of general Python package)\n",
    "- [prod](https://docs.python.org/3/library/math.html)\n",
    "\n",
    "#### Degrees and Radians\n",
    "\n",
    "- [degrees](https://docs.python.org/3/library/math.html#math.degrees)\n",
    "- [radians](https://docs.python.org/3/library/math.html#math.radians)\n",
    "\n",
    "#### Rounding\n",
    "\n",
    "- [round](https://docs.python.org/3/library/functions.html#round) (part of general Python package)\n",
    "- [floor](https://docs.python.org/3/library/math.html#math.floor)\n",
    "- [ceil](https://docs.python.org/3/library/math.html#math.ceil)\n",
    "- [trunc](https://docs.python.org/3/library/math.html#math.trunc)\n",
    "\n",
    "#### Exponents and Logarithms\n",
    "\n",
    "- [exp](https://docs.python.org/3/library/math.html#math.exp)\n",
    "- [log](https://docs.python.org/3/library/math.html#math.log)\n",
    "- [log10](https://docs.python.org/3/library/math.html#math.log10)\n",
    "- [log2](https://docs.python.org/3/library/math.html#math.log2)"
   ]
  },
  {
   "cell_type": "markdown",
   "metadata": {},
   "source": [
    "### `numpy` math functions\n",
    "\n",
    "The `numpy` Python package\n",
    "\n",
    "#### Trigonometric and Hyperbolic functions\n",
    "- [sin](https://numpy.org/doc/stable/reference/generated/numpy.sin.html#numpy.sin)\n",
    "- [cos](https://numpy.org/doc/stable/reference/generated/numpy.cos.html#numpy.cos)\n",
    "- [tan](https://numpy.org/doc/stable/reference/generated/numpy.tan.html#numpy.tan)\n",
    "- [arcsin/asin](https://numpy.org/doc/stable/reference/generated/numpy.arcsin.html#numpy.arcsin)\n",
    "- [arccos/acos](https://numpy.org/doc/stable/reference/generated/numpy.acos.html#numpy.acos)\n",
    "- [arctan/atan](https://numpy.org/doc/stable/reference/generated/numpy.arctan.html#numpy.arctan)\n",
    "- [arctan2/atan2](https://numpy.org/doc/stable/reference/generated/numpy.arctan2.html#numpy.arctan2)\n",
    "- [sinh](https://numpy.org/doc/stable/reference/generated/numpy.rad2deg.html#numpy.rad2deg)\n",
    "- [cosh](https://numpy.org/doc/stable/reference/generated/numpy.cosh.html#numpy.cosh)\n",
    "- [tanh](https://numpy.org/doc/stable/reference/generated/numpy.tanh.html#numpy.tanh)\n",
    "- [arcsinh/asinh](https://numpy.org/doc/stable/reference/generated/numpy.arcsinh.html#numpy.arcsinh)\n",
    "- [arccosh/acosh](https://numpy.org/doc/stable/reference/generated/numpy.arccosh.html#numpy.arccosh)\n",
    "- [arctanh/atanh](https://numpy.org/doc/stable/reference/generated/numpy.arctanh.html#numpy.arctanh)\n",
    "\n",
    "#### Algebraic Functions\n",
    "- [cumsum](https://numpy.org/doc/stable/reference/generated/numpy.cumsum.html#numpy.cumsum)\n",
    "- [cumprod](https://numpy.org/doc/stable/reference/generated/numpy.cumprod.html#numpy.cumprod)\n",
    "- [sum](https://numpy.org/doc/stable/reference/generated/numpy.sum.html#numpy.sum)\n",
    "- [prod](https://numpy.org/doc/stable/reference/generated/numpy.prod.html#numpy.prod)\n",
    "\n",
    "#### Degrees and Radians\n",
    "- [degrees](https://numpy.org/doc/stable/reference/generated/numpy.degrees.html#numpy.degrees)\n",
    "- [radians](https://numpy.org/doc/stable/reference/generated/numpy.radians.html#numpy.radians)\n",
    "- [deg2rad](https://numpy.org/doc/stable/reference/generated/numpy.deg2rad.html#numpy.deg2rad)\n",
    "- [rad2deg](https://numpy.org/doc/stable/reference/generated/numpy.rad2deg.html#numpy.rad2deg)\n",
    "\n",
    "#### Rounding\n",
    "- [round](https://numpy.org/doc/stable/reference/generated/numpy.round.html#numpy.round)\n",
    "- [around](https://numpy.org/doc/stable/reference/generated/numpy.around.html#numpy.around)\n",
    "- [floor](https://numpy.org/doc/stable/reference/generated/numpy.floor.html#numpy.floor)\n",
    "- [ceil](https://numpy.org/doc/stable/reference/generated/numpy.ceil.html#numpy.ceil)\n",
    "- [trunc](https://numpy.org/doc/stable/reference/generated/numpy.trunc.html#numpy.trunc)\n",
    "\n",
    "#### Exponents and Logarithms\n",
    "- [exp](https://numpy.org/doc/stable/reference/generated/numpy.exp.html#numpy.exp)\n",
    "- [log](https://numpy.org/doc/stable/reference/generated/numpy.log.html#numpy.log)\n",
    "- [log10](https://numpy.org/doc/stable/reference/generated/numpy.log10.html#numpy.log10)\n",
    "- [log2](https://numpy.org/doc/stable/reference/generated/numpy.log2.html#numpy.log2)"
   ]
  },
  {
   "cell_type": "markdown",
   "metadata": {},
   "source": [
    "## Curated Resources\n",
    "\n",
    "- Additional [mathematical `numpy` functions](https://numpy.org/doc/stable/reference/routines.math.html)"
   ]
  }
 ],
 "metadata": {
  "kernelspec": {
   "display_name": "Python 3 (ipykernel)",
   "language": "python",
   "name": "python3"
  },
  "language_info": {
   "codemirror_mode": {
    "name": "ipython",
    "version": 3
   },
   "file_extension": ".py",
   "mimetype": "text/x-python",
   "name": "python",
   "nbconvert_exporter": "python",
   "pygments_lexer": "ipython3",
   "version": "3.11.8"
  }
 },
 "nbformat": 4,
 "nbformat_minor": 4
}
