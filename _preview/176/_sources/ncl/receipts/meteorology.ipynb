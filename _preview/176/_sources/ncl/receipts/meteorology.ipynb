{
 "cells": [
  {
   "cell_type": "markdown",
   "id": "e6eddaf181eacfd3",
   "metadata": {},
   "source": [
    "# Meteorology"
   ]
  },
  {
   "cell_type": "markdown",
   "id": "e6be6389ef38b00b",
   "metadata": {},
   "source": [
    "```{warning} This is not meant to be a standalone notebook.\n",
    "This notebook is part of the process we have for adding entries to the NCL Index and is not meant to be used as tutorial or example code.\n",
    "```"
   ]
  },
  {
   "cell_type": "markdown",
   "id": "536ffded4355d9c6",
   "metadata": {},
   "source": [
    "## Functions covered\n",
    "- [dewtemp_trh](https://www.ncl.ucar.edu/Document/Functions/Built-in/dewtemp_trh.shtml)\n",
    "- [daylight_fao56](https://www.ncl.ucar.edu/Document/Functions/Crop/daylight_fao56.shtml)\n",
    "- [satvpr_temp_fao56](https://www.ncl.ucar.edu/Document/Functions/Crop/satvpr_temp_fao56.shtml)\n",
    "- [satvpr_tdew_fao56](https://www.ncl.ucar.edu/Document/Functions/Crop/satvpr_tdew_fao56.shtml)\n",
    "- [satvpr_slope_fao56](https://www.ncl.ucar.edu/Document/Functions/Crop/satvpr_slope_fao56.shtml)\n",
    "- [coriolis_param](https://www.ncl.ucar.edu/Document/Functions/Contributed/coriolis_param.shtml)"
   ]
  },
  {
   "cell_type": "markdown",
   "id": "4a129c971c083695",
   "metadata": {},
   "source": [
    "## NCL code"
   ]
  },
  {
   "cell_type": "markdown",
   "id": "3d70616a8934f0fb",
   "metadata": {},
   "source": [
    "```{literalinclude} ../ncl_raw/meteorology.ncl\n",
    "\n",
    "```"
   ]
  },
  {
   "cell_type": "markdown",
   "id": "d918dec004b6456b",
   "metadata": {},
   "source": [
    "## Python Functionality"
   ]
  },
  {
   "cell_type": "markdown",
   "id": "6dc1d6c4-ac26-4346-9aa3-2c73182a7511",
   "metadata": {},
   "source": [
    "### dewtemp_trh"
   ]
  },
  {
   "cell_type": "code",
   "execution_count": null,
   "id": "7af6f81c-2498-4aea-b250-579ec3fd31c8",
   "metadata": {},
   "outputs": [],
   "source": [
    "#### Collect NCL values for dewtemp_trh from geocat-datafiles\n",
    "import geocat.datafiles as gdf\n",
    "import numpy as np\n",
    "\n",
    "dewtemp_data = gdf.get('applications_files/ncl_outputs/dewtemp_trh_output.txt')\n",
    "dewtemp_data = np.loadtxt(dewtemp_data, delimiter=',', skiprows=6)"
   ]
  },
  {
   "cell_type": "code",
   "execution_count": null,
   "id": "3166c583-1290-4300-b96b-beab81cd033d",
   "metadata": {},
   "outputs": [],
   "source": [
    "### Collect NCL `dewtemp` value and associated (temperature_kelvin, relative humidity) values\n",
    "ncl_dewtemp = {}\n",
    "tk_rh = tuple(map(tuple, dewtemp_data[::, 0:2]))\n",
    "dewtemp_values = dewtemp_data[::, 2]\n",
    "ncl_dewtemp = dict(zip(tk_rh, dewtemp_values))"
   ]
  },
  {
   "cell_type": "code",
   "execution_count": null,
   "id": "39fd494c-609b-4dd0-83fd-b08d0daf6aaa",
   "metadata": {},
   "outputs": [],
   "source": [
    "### Collect Temperature (Kelvin) and Relative Humidity Pairs\n",
    "tk_rh = []\n",
    "for tk in range(273, 374 + 1):\n",
    "    for rh in range(1, 100 + 1):\n",
    "        tk_rh.append((tk, rh))\n",
    "\n",
    "### Calculate GeoCAT-Comp `dewtemp` value and tk/rh\n",
    "from geocat.comp import dewtemp\n",
    "\n",
    "geocat_dewtemp = {}\n",
    "\n",
    "for i, pair in enumerate(tk_rh):\n",
    "    tk, rh = pair\n",
    "    geocat_dewtemp[pair] = dewtemp(tk, rh) - 273.15"
   ]
  },
  {
   "cell_type": "markdown",
   "id": "dba9a9a6-864e-48b0-9f0c-ac0f74aed670",
   "metadata": {},
   "source": [
    "### daylight_fao56"
   ]
  },
  {
   "cell_type": "code",
   "execution_count": null,
   "id": "69028bd0-ae29-43d6-9824-e80b4d6d8f44",
   "metadata": {},
   "outputs": [],
   "source": [
    "#### Collect NCL values for daylight_fao56 from geocat-datafiles\n",
    "import geocat.datafiles as gdf\n",
    "import numpy as np\n",
    "\n",
    "daylight_data = gdf.get('applications_files/ncl_outputs/daylight_fao56_output.txt')\n",
    "daylight_data = np.loadtxt(daylight_data, delimiter=',', skiprows=6)"
   ]
  },
  {
   "cell_type": "code",
   "execution_count": null,
   "id": "128f13cb-b22f-4b4e-b144-268db532aa78",
   "metadata": {},
   "outputs": [],
   "source": [
    "### Collect NCL `daylight_fao56` value and associated (doy, latitude) values\n",
    "ncl_daylight = {}\n",
    "doy_lat = tuple(map(tuple, daylight_data[::, 0:2]))\n",
    "daylight_values = daylight_data[::, 2]\n",
    "ncl_daylight = dict(zip(doy_lat, daylight_values))"
   ]
  },
  {
   "cell_type": "code",
   "execution_count": null,
   "id": "ed9351f8-4ff7-4585-b957-d491ace5bdb3",
   "metadata": {},
   "outputs": [],
   "source": [
    "### Collect DOY and Latitude Pairs\n",
    "doy_lat = []\n",
    "for doy in range(0, 365 + 1):\n",
    "    for lat in range(-66, 66 + 1):\n",
    "        doy_lat.append((doy, lat))\n",
    "\n",
    "### Calculate GeoCAT-Comp `daylight_fao56` value and doy/lat\n",
    "from geocat.comp import max_daylight\n",
    "\n",
    "geocat_daylight = {}\n",
    "\n",
    "for i, pair in enumerate(doy_lat):\n",
    "    doy, lat = pair\n",
    "    geocat_daylight[pair] = max_daylight(doy, lat)"
   ]
  },
  {
   "cell_type": "markdown",
   "id": "a1401358-81a8-4477-9bc9-bbdaf4224c76",
   "metadata": {},
   "source": [
    "### satvpr_temp_fao56"
   ]
  },
  {
   "cell_type": "code",
   "execution_count": null,
   "id": "39c75093-80bc-44c8-880e-ad7f3cfc605c",
   "metadata": {},
   "outputs": [],
   "source": [
    "#### Collect NCL values for satvpr_temp_fao56 from geocat-datafiles\n",
    "import geocat.datafiles as gdf\n",
    "import numpy as np\n",
    "\n",
    "satvpr_temp_fao56_data = gdf.get(\n",
    "    'applications_files/ncl_outputs/satvpr_temp_fao56_output.txt'\n",
    ")\n",
    "satvpr_temp_fao56_data = np.loadtxt(satvpr_temp_fao56_data, delimiter=',', skiprows=6)"
   ]
  },
  {
   "cell_type": "code",
   "execution_count": null,
   "id": "00f0ba20-176f-4139-bc65-a14e01695494",
   "metadata": {},
   "outputs": [],
   "source": [
    "### Collect NCL `satvpr_temp_fao56` value and associated (temp, satvpr_temp) values\n",
    "ncl_satvpr_temp_fao56 = dict(\n",
    "    zip(satvpr_temp_fao56_data[::, 0], satvpr_temp_fao56_data[::, 1])\n",
    ")"
   ]
  },
  {
   "cell_type": "code",
   "execution_count": null,
   "id": "128843eb-c4ad-425a-a1ec-de89545bcb15",
   "metadata": {},
   "outputs": [],
   "source": [
    "### Calculate GeoCAT-Comp `saturation_vapor_pressure`\n",
    "from geocat.comp import saturation_vapor_pressure\n",
    "\n",
    "geocat_satvpr_temp_fao56 = {}\n",
    "\n",
    "for temp in range(33, 212 + 1):\n",
    "    geocat_satvpr_temp_fao56[temp] = saturation_vapor_pressure(temp)"
   ]
  },
  {
   "cell_type": "markdown",
   "id": "c4bdc314-ba26-4c76-8e5e-3fe6804aad40",
   "metadata": {},
   "source": [
    "### satvpr_tdew_fao56"
   ]
  },
  {
   "cell_type": "code",
   "execution_count": null,
   "id": "ffff46d9-f229-4f02-97eb-b3cd346e9dcf",
   "metadata": {},
   "outputs": [],
   "source": [
    "#### Collect NCL values for satvpr_tdew_fao56 from geocat-datafiles\n",
    "import geocat.datafiles as gdf\n",
    "import numpy as np\n",
    "\n",
    "satvpr_tdew_fao56_data = gdf.get(\n",
    "    'applications_files/ncl_outputs/satvpr_tdew_fao56_output.txt'\n",
    ")\n",
    "satvpr_tdew_fao56_data = np.loadtxt(satvpr_tdew_fao56_data, delimiter=',', skiprows=6)"
   ]
  },
  {
   "cell_type": "code",
   "execution_count": null,
   "id": "d6fce921-4897-40a2-9c59-c407834f4294",
   "metadata": {},
   "outputs": [],
   "source": [
    "### Collect NCL `satvpr_tdew_fao56` value and associated (temp, act_sat_vapr_pressure) values\n",
    "ncl_satvpr_tdew_fao56 = dict(\n",
    "    zip(satvpr_tdew_fao56_data[::, 0], satvpr_tdew_fao56_data[::, 1])\n",
    ")"
   ]
  },
  {
   "cell_type": "code",
   "execution_count": null,
   "id": "c0220698-cdec-4de9-bcf6-ffa20bdd78c2",
   "metadata": {},
   "outputs": [],
   "source": [
    "### Calculate GeoCAT-Comp `actual_saturation_vapor_pressure`\n",
    "from geocat.comp import actual_saturation_vapor_pressure\n",
    "\n",
    "geocat_satvpr_tdew_fao56 = {}\n",
    "\n",
    "for temp in range(33, 212 + 1):\n",
    "    geocat_satvpr_tdew_fao56[temp] = actual_saturation_vapor_pressure(temp)"
   ]
  },
  {
   "cell_type": "markdown",
   "id": "a933c4b2-3b1c-46ac-b1a0-47643e302c02",
   "metadata": {},
   "source": [
    "### satvpr_slope_fao56"
   ]
  },
  {
   "cell_type": "code",
   "execution_count": null,
   "id": "fc1aa525-542a-4be3-8ed3-7eb998280890",
   "metadata": {},
   "outputs": [],
   "source": [
    "#### Collect NCL values for satvpr_slope_fao56 from geocat-datafiles\n",
    "import geocat.datafiles as gdf\n",
    "import numpy as np\n",
    "\n",
    "satvpr_slope_fao56_data = gdf.get(\n",
    "    'applications_files/ncl_outputs/satvpr_slope_fao56_output.txt'\n",
    ")\n",
    "satvpr_slope_fao56_data = np.loadtxt(satvpr_slope_fao56_data, delimiter=',', skiprows=6)"
   ]
  },
  {
   "cell_type": "code",
   "execution_count": null,
   "id": "33edf359-c26d-4eff-b845-d4df8d91f0ae",
   "metadata": {},
   "outputs": [],
   "source": [
    "### Collect NCL `satvpr_slope_fao56` value and associated (temp, slope_satvpr) values\n",
    "ncl_satvpr_slope_fao56 = dict(\n",
    "    zip(satvpr_slope_fao56_data[::, 0], satvpr_slope_fao56_data[::, 1])\n",
    ")"
   ]
  },
  {
   "cell_type": "code",
   "execution_count": null,
   "id": "da65e261-19f5-4a1c-973d-1e7e13053621",
   "metadata": {},
   "outputs": [],
   "source": [
    "### Calculate GeoCAT-Comp `saturation_vapor_pressure_slope`\n",
    "from geocat.comp import saturation_vapor_pressure_slope\n",
    "\n",
    "geocat_satvpr_slope_fao56 = {}\n",
    "\n",
    "for temp in range(33, 212 + 1):\n",
    "    geocat_satvpr_slope_fao56[temp] = saturation_vapor_pressure_slope(temp)"
   ]
  },
  {
   "cell_type": "markdown",
   "id": "3b9ce2e3-833a-4dbc-8d6a-35eb86397b19",
   "metadata": {},
   "source": [
    "### coriolis_param"
   ]
  },
  {
   "cell_type": "code",
   "execution_count": null,
   "id": "c2646150-8327-4faa-8979-b70e98be9631",
   "metadata": {},
   "outputs": [],
   "source": [
    "#### Collect NCL values for satvpr_slope_fao56 from geocat-datafiles\n",
    "import geocat.datafiles as gdf\n",
    "import numpy as np\n",
    "\n",
    "# coriolis_param_data = gdf.get('applications_files/ncl_outputs/coriolis_param_output.txt')\n",
    "coriolis_param_data = np.loadtxt(\n",
    "    \"../ncl_raw/coriolis_param_output.txt\", delimiter=',', skiprows=6\n",
    ")"
   ]
  },
  {
   "cell_type": "code",
   "execution_count": null,
   "id": "9a699cc2-5a21-4a49-92f9-353635036d06",
   "metadata": {},
   "outputs": [],
   "source": [
    "### Collect NCL `coriolis_param_data` value and associated coriolis parameter values\n",
    "ncl_coriolis_param = dict(zip(coriolis_param_data[::, 0], coriolis_param_data[::, 1]))"
   ]
  },
  {
   "cell_type": "code",
   "execution_count": null,
   "id": "04410fd1-3033-4c6b-812f-e6b12b3e884e",
   "metadata": {},
   "outputs": [],
   "source": [
    "### Calculate MetPy \"coriolis_parameter\"\n",
    "from metpy.calc import coriolis_parameter\n",
    "from metpy.units import units\n",
    "\n",
    "metpy_coriolis_para = {}\n",
    "\n",
    "for lat in range(-90, 90 + 1):\n",
    "    metpy_coriolis_para[lat] = coriolis_parameter(lat * units.degree).magnitude"
   ]
  },
  {
   "cell_type": "markdown",
   "id": "3237a0bffc6827fc",
   "metadata": {},
   "source": [
    "## Comparison"
   ]
  },
  {
   "cell_type": "markdown",
   "id": "38089ce5-395d-4956-8297-cde6ef5aa99e",
   "metadata": {},
   "source": [
    "### dewtemp_trh"
   ]
  },
  {
   "cell_type": "code",
   "execution_count": null,
   "id": "74362fd9-0e9f-4cf9-91da-08cd81be625c",
   "metadata": {},
   "outputs": [],
   "source": [
    "import math\n",
    "\n",
    "for pair in ncl_dewtemp.keys():\n",
    "    try:\n",
    "        assert math.isclose(\n",
    "            ncl_dewtemp[pair], geocat_dewtemp[pair], rel_tol=1e-04\n",
    "        )  # within 4 decimal points\n",
    "    except Exception:\n",
    "        assert math.isclose(\n",
    "            ncl_dewtemp[pair], geocat_dewtemp[pair], rel_tol=1e-02\n",
    "        )  # within 2 decimal points\n",
    "        print(f\"{pair}:\")\n",
    "        print(f\"\\t{ncl_dewtemp[pair]}, {geocat_dewtemp[pair]}\")\n",
    "        print(f\"\\tDifference: {ncl_dewtemp[pair] - geocat_dewtemp[pair]}\")"
   ]
  },
  {
   "cell_type": "markdown",
   "id": "b9cd9ad4-f898-460c-b79b-eef6f7a8e89d",
   "metadata": {},
   "source": [
    "### daylight_fao56"
   ]
  },
  {
   "cell_type": "code",
   "execution_count": null,
   "id": "840d88ab-7ecc-485a-9aaf-d8de846196a9",
   "metadata": {},
   "outputs": [],
   "source": [
    "import math\n",
    "\n",
    "for pair in ncl_daylight.keys():\n",
    "    assert math.isclose(\n",
    "        ncl_daylight[pair], geocat_daylight[pair].flatten()[0], rel_tol=1e-05\n",
    "    )  # within 5 decimal points"
   ]
  },
  {
   "cell_type": "markdown",
   "id": "db0d8bbd-4899-4932-a28d-107c08e12a15",
   "metadata": {},
   "source": [
    "### satvpr_temp_fao56"
   ]
  },
  {
   "cell_type": "code",
   "execution_count": null,
   "id": "134f8583-0e96-43fe-8b0b-94a5e58566be",
   "metadata": {},
   "outputs": [],
   "source": [
    "import math\n",
    "\n",
    "for key in ncl_satvpr_temp_fao56.keys():\n",
    "    assert math.isclose(\n",
    "        ncl_satvpr_temp_fao56[key], geocat_satvpr_temp_fao56[key], rel_tol=1e-05\n",
    "    )  # within 5 decimal points"
   ]
  },
  {
   "cell_type": "markdown",
   "id": "b0a67250-3136-4b0c-b808-21a15427060a",
   "metadata": {},
   "source": [
    "### satvpr_tdew_fao56"
   ]
  },
  {
   "cell_type": "code",
   "execution_count": null,
   "id": "2c037826-8d87-4bf2-9f3a-f98701ba11a7",
   "metadata": {},
   "outputs": [],
   "source": [
    "import math\n",
    "\n",
    "for key in ncl_satvpr_tdew_fao56.keys():\n",
    "    assert math.isclose(\n",
    "        ncl_satvpr_tdew_fao56[key], geocat_satvpr_tdew_fao56[key], rel_tol=1e-05\n",
    "    )  # within 5 decimal points"
   ]
  },
  {
   "cell_type": "markdown",
   "id": "a8b4bee3-7f78-42ba-a9ae-2d13e4b3db59",
   "metadata": {},
   "source": [
    "### satvpr_slope_fao56"
   ]
  },
  {
   "cell_type": "code",
   "execution_count": null,
   "id": "35bbca06-937e-4459-89ab-6c82280790c7",
   "metadata": {},
   "outputs": [],
   "source": [
    "import math\n",
    "\n",
    "for key in ncl_satvpr_slope_fao56.keys():\n",
    "    assert math.isclose(\n",
    "        ncl_satvpr_slope_fao56[key], geocat_satvpr_slope_fao56[key], rel_tol=1e-05\n",
    "    )  # within 5 decimal points"
   ]
  },
  {
   "cell_type": "markdown",
   "id": "980c82cf-3860-4f46-bb98-65e4bea9f3cf",
   "metadata": {},
   "source": [
    "### coriolis_param"
   ]
  },
  {
   "cell_type": "code",
   "execution_count": null,
   "id": "1229100a-0e88-46ef-afad-d557b043a713",
   "metadata": {},
   "outputs": [],
   "source": [
    "import math\n",
    "\n",
    "for key in ncl_coriolis_param.keys():\n",
    "    assert math.isclose(\n",
    "        ncl_coriolis_param[key], metpy_coriolis_para[key], rel_tol=1e-04\n",
    "    )  # within 4 decimal points"
   ]
  }
 ],
 "metadata": {
  "kernelspec": {
   "display_name": "Python 3 (ipykernel)",
   "language": "python",
   "name": "python3"
  },
  "language_info": {
   "codemirror_mode": {
    "name": "ipython",
    "version": 3
   },
   "file_extension": ".py",
   "mimetype": "text/x-python",
   "name": "python",
   "nbconvert_exporter": "python",
   "pygments_lexer": "ipython3",
   "version": "3.12.7"
  }
 },
 "nbformat": 4,
 "nbformat_minor": 5
}
