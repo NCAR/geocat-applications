{
 "cells": [
  {
   "cell_type": "markdown",
   "metadata": {},
   "source": [
    "# Humid Heat Metrics\n",
    "\n",
    "Humid heat metrics index temperature and humidity, which is often more useful than comparing either variable alone when considering perceived temperature as they together affect the human body's ability to cool itself down. Humid heat metrics are especially important for the safety of outside workers, the elderly, or otherwise high-risk high-exposure individuals. \n",
    "\n",
    "Wet Bulb Globe Temperature (WBGT) is a measure of heat stress. The equation for outdoor ($WBGT_{OD}$) and indoor/shaded ($WBGT_{ID}$) WBGTs are:\n",
    "\n",
    "$WBGT_{od} = 0.7*T_{nwb} + 0.2*T_g + 0.1*T_a$\n",
    "\n",
    "$WBGT_{id} = 0.7*T_{nwb} + 0.3*T_g$\n",
    "\n",
    "where $T_a$ refers to Dry Bulb Ambient Temperatue, $T_{nwb}$ is the Natural Wet Bulb Temperature wet bulb temperature with exposure to wind and sun, and $T_g$ is the Globe Temperature temperature taken from inside a copper globe painted black and exposed to the sun.\n",
    "\n",
    "However this formula is complicated by the reality that Natural Wet Bulb Temperature and Globe Temperature are not always readily available variables from weather stations or atmospheric models.\n",
    "\n",
    "In this notebook we will demonstrate the Australian Bureau of Meteorology (ABM) and Bernard methods of predicting wet bulb global temperature with a focus on the July 1995 Chicago heatwave.\n",
    "\n",
    "For our analysis, we have ERA5 renanalysis data for the lower contiguous United States (50N, 24S, -66E, -125W) from July 1995 with the variables: 2-meter temperature, 2-meter dew point temperature, surface pressure, and *u*/*v* wind components."
   ]
  },
  {
   "cell_type": "code",
   "execution_count": null,
   "metadata": {},
   "outputs": [],
   "source": [
    "import geocat.datafiles as gcd\n",
    "import xarray as xr\n",
    "import numpy as np\n",
    "import pandas as pd\n",
    "import matplotlib.pyplot as plt\n",
    "import cartopy.crs as ccrs"
   ]
  },
  {
   "cell_type": "code",
   "execution_count": null,
   "metadata": {},
   "outputs": [],
   "source": [
    "era5_file = \"../../adaptor.mars.internal-1721674223.0932782-17053-4-ca11ba26-b36b-4a33-902e-b4ed0d92364e.nc\"\n",
    "era5 = xr.open_dataset(era5_file)\n",
    "era5"
   ]
  },
  {
   "cell_type": "markdown",
   "metadata": {},
   "source": [
    "## Australian Bureau of  (ABM)\n",
    "\n",
    "Method of estimating Wet Bulb Global Temperature\n",
    "\n",
    "- tends to overpredict WBGT compared to other models\n",
    "- assumes full sunlight and light breeze"
   ]
  },
  {
   "cell_type": "code",
   "execution_count": null,
   "metadata": {},
   "outputs": [],
   "source": [
    "def calc_abm_wbgt(t_a, rh):\n",
    "    e = (rh / 100)**17.27 * (t_a/(337.7 * t_a)) # water vapor pressure [hPa]\n",
    "    wbgt = (0.567 * t_a) + (0.393 * e) + 3.94\n",
    "    return wbgt"
   ]
  },
  {
   "cell_type": "markdown",
   "metadata": {},
   "source": [
    "To use our ERA5 data in this equation, we need to first approximate relative humidity using the Clausius-Clapeyron Equation:"
   ]
  },
  {
   "cell_type": "code",
   "execution_count": null,
   "metadata": {},
   "outputs": [],
   "source": [
    "def _calc_saturation_vapor_pressure(T_a): # Magnus-Tetens Approximation\n",
    "    e_sat = 6.11 * np.exp((17.625 * T_a) / (T_a + 243.04)) # Saturation Vapor Pressure in hPa\n",
    "    return e_sat\n",
    "\n",
    "def calc_relative_humidity_era5(T_a, T_d):\n",
    "    e_sat = _calc_saturation_vapor_pressure(T_a) # saturation vapor pressure\n",
    "    e = 6.11*np.exp(17.625 * T_d / (243.04 + T_d)) # vapor pressure from dew point temp\n",
    "    rh = 100 * e / e_sat  # Clausius-Clapeyron equation\n",
    "    return rh\n",
    "\n",
    "rh = calc_relative_humidity_era5(era5.t2m, era5.d2m)"
   ]
  },
  {
   "cell_type": "code",
   "execution_count": null,
   "metadata": {},
   "outputs": [],
   "source": [
    "wbgt_abm = calc_abm_wbgt(era5.t2m, rh)\n",
    "wbgt_abm"
   ]
  },
  {
   "cell_type": "code",
   "execution_count": null,
   "metadata": {},
   "outputs": [],
   "source": [
    "fig = plt.figure(figsize=(10, 5))\n",
    "ax = plt.axes(projection=ccrs.PlateCarree())\n",
    "\n",
    "c = plt.contourf(era5.longitude, era5.latitude, wbgt_abm.sel(time='1995-07-14T12'))\n",
    "\n",
    "ax.coastlines()\n",
    "ax.gridlines(draw_labels=True)\n",
    "\n",
    "cbar = plt.colorbar(c, ax=ax, orientation='horizontal', pad=0.1, shrink=0.8)\n",
    "cbar.set_label('Wet Bulb Globe Temperature (WBGT)')\n",
    "\n",
    "ax.set_title('July 14, 1995 noon - ABM WBGT method')"
   ]
  },
  {
   "cell_type": "markdown",
   "metadata": {},
   "source": [
    "## Bernard"
   ]
  },
  {
   "cell_type": "markdown",
   "metadata": {},
   "source": [
    "Bernard is a nother method of calculating WBGT that incorporates wind speed.\n",
    "\n",
    "Thermodynamic Wet Bulb Temperature ($T_{pwb}$) wet bulb temperature in the shade and fanned or rotated. This is the wet bulb typically used for dew point calculations.\n"
   ]
  },
  {
   "cell_type": "code",
   "execution_count": null,
   "metadata": {},
   "outputs": [],
   "source": [
    "def calc_bernard_wbgt(t_a, t_d, v):\n",
    "    \n",
    "    if np.all(v < 0.3):\n",
    "        return np.nan  # Return NaN where velocity is below the threshold\n",
    "    elif np.all((0.3 <= v) & (v <= 3)):\n",
    "        wbgt = (0.67 * t_d) + (0.33 * t_a) - (0.48 * np.log10(v) * (t_a - t_d))\n",
    "    else:\n",
    "        wbgt = (0.7 * t_d) + (0.3 * t_a)\n",
    "    \n",
    "    return wbgt\n"
   ]
  },
  {
   "cell_type": "markdown",
   "metadata": {},
   "source": [
    "First we will need to combine our u and v windspeeds:"
   ]
  },
  {
   "cell_type": "code",
   "execution_count": null,
   "metadata": {},
   "outputs": [],
   "source": [
    "v = np.sqrt(era5.u10**2 + era5.v10**2)"
   ]
  },
  {
   "cell_type": "code",
   "execution_count": null,
   "metadata": {},
   "outputs": [],
   "source": [
    "wbgt_bernard = calc_bernard_wbgt(era5.t2m, era5.d2m, v)\n",
    "wbgt_bernard"
   ]
  },
  {
   "cell_type": "code",
   "execution_count": null,
   "metadata": {},
   "outputs": [],
   "source": [
    "fig = plt.figure(figsize=(10, 5))\n",
    "ax = plt.axes(projection=ccrs.PlateCarree())\n",
    "\n",
    "c = plt.contourf(era5.longitude, era5.latitude, wbgt_bernard.sel(time='1995-07-14T12'))\n",
    "\n",
    "ax.coastlines()\n",
    "ax.gridlines(draw_labels=True)\n",
    "\n",
    "cbar = plt.colorbar(c, ax=ax, orientation='horizontal', pad=0.1, shrink=0.8)\n",
    "cbar.set_label('Wet Bulb Globe Temperature (WBGT)')\n",
    "\n",
    "ax.set_title('July 14, 1995 noon - Bernard WBGT method')"
   ]
  },
  {
   "cell_type": "code",
   "execution_count": null,
   "metadata": {},
   "outputs": [],
   "source": [
    "fig = plt.figure(figsize=(10, 5))\n",
    "ax = plt.axes(projection=ccrs.PlateCarree())\n",
    "\n",
    "diff = wbgt_abm.sel(time='1995-07-14T12') - wbgt_bernard.sel(time='1995-07-14T12')\n",
    "c = plt.contourf(era5.longitude, era5.latitude, diff)\n",
    "\n",
    "ax.coastlines()\n",
    "ax.gridlines(draw_labels=True)\n",
    "\n",
    "cbar = plt.colorbar(c, ax=ax, orientation='horizontal', pad=0.1, shrink=0.8)\n",
    "cbar.set_label('Wet Bulb Globe Temperature (WBGT)')\n",
    "\n",
    "ax.set_title('July 14, 1995 noon - WBGT Method Difference(ABM - Bernard)')"
   ]
  }
 ],
 "metadata": {
  "kernelspec": {
   "display_name": "geocat_comp_build",
   "language": "python",
   "name": "python3"
  },
  "language_info": {
   "codemirror_mode": {
    "name": "ipython",
    "version": 3
   },
   "file_extension": ".py",
   "mimetype": "text/x-python",
   "name": "python",
   "nbconvert_exporter": "python",
   "pygments_lexer": "ipython3",
   "version": "3.12.2"
  }
 },
 "nbformat": 4,
 "nbformat_minor": 2
}
