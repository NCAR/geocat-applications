{
 "cells": [
  {
   "cell_type": "markdown",
   "id": "e6eddaf181eacfd3",
   "metadata": {},
   "source": [
    "# General Applied Math"
   ]
  },
  {
   "cell_type": "markdown",
   "id": "e6be6389ef38b00b",
   "metadata": {},
   "source": [
    "```{warning} This is not meant to be a standalone notebook.\n",
    "This notebook is part of the process we have for adding entries to the NCL Index and is not meant to be used as tutorial or example code.\n",
    "```"
   ]
  },
  {
   "cell_type": "markdown",
   "id": "536ffded4355d9c6",
   "metadata": {},
   "source": [
    "## Functions covered\n",
    "\n",
    "- [abs](https://www.ncl.ucar.edu/Document/Functions/Built-in/abs.shtml)\n",
    "- [avg](https://www.ncl.ucar.edu/Document/Functions/Built-in/avg.shtml)\n",
    "- [cumsum](https://www.ncl.ucar.edu/Document/Functions/Built-in/cumsum.shtml)\n",
    "- [decimalPlaces](https://www.ncl.ucar.edu/Document/Functions/Contributed/decimalPlaces.shtml)\n",
    "- [get_d2r](https://www.ncl.ucar.edu/Document/Functions/Contributed/get_d2r.shtml)\n",
    "- [get_r2d](https://www.ncl.ucar.edu/Document/Functions/Contributed/get_r2d.shtml)\n",
    "- [get_pi](https://www.ncl.ucar.edu/Document/Functions/Contributed/get_pi.shtml)\n",
    "- [log](https://www.ncl.ucar.edu/Document/Functions/Built-in/log.shtml)\n",
    "- [log10](https://www.ncl.ucar.edu/Document/Functions/Built-in/log10.shtml)\n",
    "- [mod](https://www.ncl.ucar.edu/Document/Functions/Contributed/mod.shtml)\n",
    "- [product](https://www.ncl.ucar.edu/Document/Functions/Contributed/mod.shtml)\n",
    "- [sum](https://www.ncl.ucar.edu/Document/Functions/Built-in/sum.shtml)"
   ]
  },
  {
   "cell_type": "markdown",
   "id": "4a129c971c083695",
   "metadata": {},
   "source": [
    "## NCL code\n",
    "<!---\n",
    "Edit the below cell to link to the ncl code included for comparison in this notebook. \n",
    "\n",
    "It may not be visible in your IDE or local editor, but it will be visible in generated documentation (locally, on PR previews, and the live webpage).\n",
    "-->"
   ]
  },
  {
   "cell_type": "markdown",
   "id": "3d70616a8934f0fb",
   "metadata": {},
   "source": [
    "```{literalinclude} ../ncl_raw/general_applied_math.ncl\n",
    "```"
   ]
  },
  {
   "cell_type": "markdown",
   "id": "d918dec004b6456b",
   "metadata": {},
   "source": [
    "## Python Functionality\n",
    "<!---\n",
    "Show the python code that replicates the NCL functionality. Don't worry about providing narrative, just provide enough explanation that somebody with the knowledge level of another developer could follow along.\n",
    "-->"
   ]
  },
  {
   "cell_type": "code",
   "execution_count": null,
   "id": "09c30857-d2d2-48fd-a0f1-25662e8b1f88",
   "metadata": {},
   "outputs": [],
   "source": [
    "import math\n",
    "import numpy as np\n",
    "\n",
    "results = {}\n",
    "\n",
    "# abs\n",
    "f = -5\n",
    "abs_f = abs(f)\n",
    "results[\"abs\"] = abs_f\n",
    "\n",
    "# avg\n",
    "f = [[1, 2, 3], [4, 5, 6]]\n",
    "avg_f = np.mean(f)\n",
    "results[\"avg\"] = avg_f\n",
    "\n",
    "# cumsum\n",
    "f = [1, 2, 3, 4, 5]\n",
    "cumsum_f = np.cumsum(f, axis=0)\n",
    "results[\"cumsum\"] = cumsum_f\n",
    "\n",
    "# decimalPlaces\n",
    "f = 12.345678\n",
    "decimalPlaces_f = round(f, 2)\n",
    "results[\"decimalPlaces\"] = decimalPlaces_f\n",
    "\n",
    "# get_d2r\n",
    "d2r = math.pi / 180\n",
    "results[\"get_d2r\"] = d2r\n",
    "\n",
    "# get_r2d\n",
    "r2d = 180 / math.pi\n",
    "results[\"get_r2d\"] = r2d\n",
    "\n",
    "# get_pi\n",
    "pi = math.pi\n",
    "results[\"get_pi\"] = pi\n",
    "\n",
    "# log\n",
    "f = 3.6\n",
    "log_f = math.log(f)\n",
    "results[\"log\"] = log_f\n",
    "\n",
    "# log10\n",
    "f = 3.4\n",
    "log10_f = math.log10(f)\n",
    "results[\"log10\"] = log10_f\n",
    "\n",
    "# mod\n",
    "mod = 17 % 3\n",
    "results[\"mod\"] = mod\n",
    "\n",
    "# product\n",
    "f = [1, 3, 4, 6]\n",
    "prod_f = math.prod(f)\n",
    "results[\"product\"] = prod_f\n",
    "\n",
    "# sum\n",
    "f = [1, 3, 4, 6]\n",
    "sum_f = np.sum(f)\n",
    "results[\"sum\"] = sum_f"
   ]
  },
  {
   "cell_type": "markdown",
   "id": "3237a0bffc6827fc",
   "metadata": {},
   "source": [
    "## Comparison"
   ]
  },
  {
   "cell_type": "code",
   "execution_count": null,
   "id": "1fe6a51d83a36148",
   "metadata": {},
   "outputs": [],
   "source": [
    "ncl_results = {\n",
    "    \"abs\": 5,\n",
    "    \"avg\": 3.5,\n",
    "    \"cumsum\": np.array([1, 3, 6, 10, 15]),\n",
    "    \"decimalPlaces\": 12.35,\n",
    "    \"get_d2r\": 0.0174532925199433,\n",
    "    \"get_r2d\": 57.29577951308232,\n",
    "    \"get_pi\": 3.141592653589793,\n",
    "    \"log\": 1.280934,\n",
    "    \"log10\": 0.5314789,\n",
    "    \"mod\": 2,\n",
    "    \"product\": 72,\n",
    "    \"sum\": 14,\n",
    "}\n",
    "\n",
    "for c in ncl_results.keys() & results.keys():\n",
    "    print(f\"{c}: \\n\\tpython:\\t{results[c]}\\n\\tncl:\\t{ncl_results[c]}\\n\")\n",
    "    if isinstance(ncl_results[c], np.ndarray):\n",
    "        assert (results[c] == ncl_results[c]).any()\n",
    "    else:\n",
    "        assert math.isclose(\n",
    "            results[c], results[c], rel_tol=1e-6\n",
    "        )  # within 6 decimal points"
   ]
  },
  {
   "cell_type": "markdown",
   "id": "65dcdceb-bf9b-4805-b614-b9c504928d1c",
   "metadata": {},
   "source": [
    "## Differences"
   ]
  },
  {
   "cell_type": "code",
   "execution_count": null,
   "id": "0a11f72b-dc97-4b73-985e-e76844ea9422",
   "metadata": {},
   "outputs": [],
   "source": [
    "for c in ncl_results.keys() & results.keys():\n",
    "    print(f\"{c}:\")\n",
    "    print(f\"\\t{results[c] - ncl_results[c]}\")"
   ]
  }
 ],
 "metadata": {
  "kernelspec": {
   "display_name": "Python 3 (ipykernel)",
   "language": "python",
   "name": "python3"
  },
  "language_info": {
   "codemirror_mode": {
    "name": "ipython",
    "version": 3
   },
   "file_extension": ".py",
   "mimetype": "text/x-python",
   "name": "python",
   "nbconvert_exporter": "python",
   "pygments_lexer": "ipython3",
   "version": "3.11.8"
  }
 },
 "nbformat": 4,
 "nbformat_minor": 5
}
