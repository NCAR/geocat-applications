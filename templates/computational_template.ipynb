{
 "cells": [
  {
   "cell_type": "markdown",
   "metadata": {},
   "source": [
    "# Computational Notebook Template\n",
    "This template is designed to be the main page of content for a specific topic added to geocat-applications. \n",
    "\n",
    "It should start with a header describing the type of functionality the notebook demonstrates and should be the only use of the top level header (`#`) in the notebook."
   ]
  },
  {
   "cell_type": "markdown",
   "metadata": {},
   "source": [
    "## Overview\n",
    "When possible, lead with a short intro paragraph that covers the content and scope of the materials in the notebook"
   ]
  },
  {
   "metadata": {},
   "cell_type": "markdown",
   "source": [
    "## Grab and Go\n",
    "\n",
    "Where possible, provide a code section that can be copied and pasted to use the base-level functionality described in the notebook.\n",
    "    \n",
    "```python   \n",
    "# Python code\n",
    "```"
   ]
  },
  {
   "cell_type": "markdown",
   "metadata": {},
   "source": [
    "## Content\n",
    "In the content sections, provide sections on topics such as:\n",
    "- working through a geoscience-specific problem\n",
    "- explaining the concepts behind the functionality\n",
    "- introducing other examples in the python ecosystem that cover similar topics\n"
   ]
  },
  {
   "cell_type": "markdown",
   "metadata": {},
   "source": [
    "Then link to the corresponding computational notebook that demonstrates the functionality in python. If one does not exist, create one."
   ]
  },
  {
   "cell_type": "markdown",
   "metadata": {},
   "source": [
    "Include the same summary section of the computational notebook, highlighting if any altercations have been made to match the NCL functionality more closely"
   ]
  }
 ],
 "metadata": {
  "language_info": {
   "name": "python"
  }
 },
 "nbformat": 4,
 "nbformat_minor": 2
}
